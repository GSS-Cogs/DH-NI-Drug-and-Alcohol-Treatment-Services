{
 "cells": [
  {
   "cell_type": "markdown",
   "metadata": {},
   "source": [
    "Census of Drug and Alcohol Treatment Services in Northern Ireland"
   ]
  },
  {
   "cell_type": "code",
   "execution_count": 1,
   "metadata": {},
   "outputs": [],
   "source": [
    "from gssutils import *\n",
    "# scraper = Scraper('https://www.health-ni.gov.uk/publications/census-drug-and-alcohol-treatment-services-northern-ireland-2017')\n",
    "# scraper"
   ]
  },
  {
   "cell_type": "code",
   "execution_count": 2,
   "metadata": {
    "collapsed": true
   },
   "outputs": [],
   "source": [
    "next_table = pd.DataFrame()"
   ]
  },
  {
   "cell_type": "code",
   "execution_count": 3,
   "metadata": {
    "collapsed": true
   },
   "outputs": [],
   "source": [
    "%%capture\n",
    "%run \"Treatment Services by Age and Gender.ipynb\"\n",
    "next_table = pd.concat([next_table, new_table])\n",
    "\n",
    "%run\"Treatment Services by Residential status(Age).ipynb\"\n",
    "next_table = pd.concat([next_table, new_table])\n",
    "\n",
    "%run \"Treatment Services by Residential Status(sex).ipynb\"\n",
    "next_table = pd.concat([next_table, new_table])\n",
    "\n",
    "%run \"Treatment Services by Service Type(Age).ipynb\"\n",
    "next_table = pd.concat([next_table, new_table])\n",
    "\n",
    "%run \"Treatment Services by Service Type(sex).ipynb\"\n",
    "next_table = pd.concat([next_table, new_table])\n",
    "\n",
    "%run\"Treatment Services by Trust(Age).ipynb\"\n",
    "next_table = pd.concat([next_table, new_table])\n",
    "\n",
    "%run \"Treatment Services by Trust(sex).ipynb\"\n",
    "next_table = pd.concat([next_table, new_table])\n",
    "\n",
    "%run \"Treatment Services by Comparison table.ipynb\"\n",
    "next_table = pd.concat([next_table, new_table])"
   ]
  },
  {
   "cell_type": "code",
   "execution_count": 4,
   "metadata": {},
   "outputs": [
    {
     "data": {
      "text/plain": [
       "Period            854\n",
       "Category          854\n",
       "Age               854\n",
       "Sex               854\n",
       "Treatment Type    847\n",
       "Measure Type      854\n",
       "Value             854\n",
       "Unit              854\n",
       "dtype: int64"
      ]
     },
     "execution_count": 4,
     "metadata": {},
     "output_type": "execute_result"
    }
   ],
   "source": [
    "next_table.count()"
   ]
  },
  {
   "cell_type": "code",
   "execution_count": 5,
   "metadata": {
    "collapsed": true
   },
   "outputs": [],
   "source": [
    "new_table['Treatment Type'].fillna('Total', inplace = True)"
   ]
  },
  {
   "cell_type": "code",
   "execution_count": 6,
   "metadata": {},
   "outputs": [],
   "source": [
    "out = Path('out')\n",
    "out.mkdir(exist_ok=True)\n",
    "next_table.to_csv(out / 'alcoholtreatment.csv', index = False)"
   ]
  },
  {
   "cell_type": "code",
   "execution_count": null,
   "metadata": {
    "collapsed": true
   },
   "outputs": [],
   "source": []
  }
 ],
 "metadata": {
  "kernelspec": {
   "display_name": "Python 3",
   "language": "python",
   "name": "python3"
  },
  "language_info": {
   "codemirror_mode": {
    "name": "ipython",
    "version": 3
   },
   "file_extension": ".py",
   "mimetype": "text/x-python",
   "name": "python",
   "nbconvert_exporter": "python",
   "pygments_lexer": "ipython3",
   "version": "3.6.3"
  }
 },
 "nbformat": 4,
 "nbformat_minor": 2
}

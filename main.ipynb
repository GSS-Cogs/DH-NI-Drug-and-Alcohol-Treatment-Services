{
 "cells": [
  {
   "cell_type": "markdown",
   "metadata": {},
   "source": [
    "Census of Drug and Alcohol Treatment Services in Northern Ireland"
   ]
  },
  {
   "cell_type": "code",
   "execution_count": 78,
   "metadata": {},
   "outputs": [
    {
     "data": {
      "text/markdown": [
       "## Census of drug and alcohol treatment services in Northern Ireland 2017\n",
       "\n",
       "### Distributions\n",
       "\n",
       "1. Drug and Alcohol Census 2017 ([application/pdf](https://www.health-ni.gov.uk/sites/default/files/publications/health/drug-alcohol-census-2017.pdf))\n",
       "1. Data from Census of Drug and Alcohol Treatment Services ([MS Excel Spreadsheet](https://www.health-ni.gov.uk/sites/default/files/publications/dhssps/data-census-drug-alcohol-treatment-services.xlsx))\n",
       "1. Pre-release Access List Drug and Alcohol Census ([application/pdf](https://www.health-ni.gov.uk/sites/default/files/publications/dhssps/pre-release-drug-alcohol-census.pdf))\n"
      ],
      "text/plain": [
       "<gssutils.scrape.Scraper at 0x11f6cf358>"
      ]
     },
     "execution_count": 78,
     "metadata": {},
     "output_type": "execute_result"
    }
   ],
   "source": [
    "from gssutils import *\n",
    "scraper = Scraper('https://www.health-ni.gov.uk/publications/census-drug-and-alcohol-treatment-services-northern-ireland-2017')\n",
    "scraper"
   ]
  },
  {
   "cell_type": "code",
   "execution_count": 79,
   "metadata": {},
   "outputs": [
    {
     "data": {
      "text/plain": [
       "{'Contents & Notes to tables': {<B6 'Breakdown by Age and Gender'>, <A4 'Contents'>, <A16 ''>, <B4 ''>, <A19 3.0>, <B9 'Breakdown by Trust'>, <B1 ''>, <A8 'Table 3'>, <B17 'A dashed line (-) represents a cell count of less than three and a * represents a cell that has been masked. This is in order to avoid issues involving personal disclosure, where it may be possible to identify an individual from the data provided.  '>, <A6 'Table 1'>, <B2 ''>, <A14 ''>, <A9 'Table 4'>, <A15 'Notes to Tables'>, <A13 ''>, <B15 ''>, <A12 ''>, <B16 ''>, <B7 'Breakdown by Service Type'>, <A18 2.0>, <A11 ''>, <B13 ''>, <A1 'Census of Drug and Alcohol Treatment Services in Northern Ireland:'>, <A17 1.0>, <B18 'All percentages are rounded to the nearest percentage point.'>, <B14 ''>, <B11 ''>, <A5 ''>, <B8 'Breakdown by Residential Status'>, <B10 'Comparison Table'>, <A10 'Table 5'>, <B12 ''>, <B19 'Hospital Information System (HIS) figures relate to the number of emergency admissions to HSC hospitals for only drug-related conditions, only alcohol-related conditions or both drug and alcohol-related conditions, excluding admissions under specialties for mental health and learning disabilities.\\xa0 These figures are as at 1st September 2016.'>, <A3 ''>, <B5 ''>, <A7 'Table 2'>, <B3 ''>, <A2 '1 March 2017'>},\n",
       " 'Table 1': {<M2 ''>, <D1 ''>, <B12 34.6>, <B5 95.0>, <D3 ''>, <J8 60.8>, <B8 32.6>, <H6 810.0>, <M5 5969.0>, <J6 1567.0>, <J11 38.3>, <B9 67.4>, <C2 ''>, <C1 ''>, <L2 ''>, <D7 72.0>, <C3 ''>, <H9 23.7>, <K10 34.1>, <F3 '18 and over'>, <A1 'Table 1 – Breakdown by Age and Gender'>, <K2 ''>, <I11 100.0>, <J4 'Alcohol Only'>, <I10 100.0>, <B2 ''>, <I9 32.1>, <A5 'Total'>, <M3 'Overall Total'>, <D11 42.0>, <A4 ''>, <F11 43.1>, <A2 ''>, <H1 ''>, <L10 22.7>, <J1 ''>, <M7 1874.0>, <H3 ''>, <J2 ''>, <F10 47.2>, <M6 4095.0>, <G2 ''>, <I3 ''>, <L4 'Drugs & Alcohol'>, <C12 26.5>, <I4 'Total'>, <I1 ''>, <M9 31.4>, <H10 20.2>, <G8 71.3>, <J9 39.2>, <E11 100.0>, <L5 1356.0>, <F2 ''>, <F5 2482.0>, <C7 49.0>, <M8 68.6>, <F7 946.0>, <L8 76.1>, <J3 'Treatment Type'>, <K4 'Drugs Only'>, <F6 1536.0>, <F12 56.0>, <A6 'Male'>, <C10 45.4>, <E2 ''>, <A8 'Male (%)'>, <H5 1062.0>, <E6 528.0>, <M11 100.0>, <H11 22.7>, <E5 713.0>, <J12 53.9>, <K8 73.5>, <M1 ''>, <D2 ''>, <A12 '% of all Females'>, <H8 76.3>, <B11 5.9>, <L12 17.3>, <E7 185.0>, <D6 222.0>, <G6 1221.0>, <K7 540.0>, <C11 52.1>, <C4 'Drugs Only'>, <L1 ''>, <I5 5256.0>, <I6 3567.0>, <H12 14.9>, <L3 ''>, <C8 84.9>, <G7 491.0>, <C5 324.0>, <D9 24.5>, <L6 1032.0>, <B6 31.0>, <J7 1010.0>, <I12 100.0>, <D5 294.0>, <B1 ''>, <K1 ''>, <K11 36.5>, <H7 252.0>, <K3 ''>, <D10 41.2>, <A3 'Gender'>, <D4 'Drugs & Alcohol'>, <K5 2036.0>, <D8 75.5>, <E9 25.9>, <G12 29.1>, <H2 ''>, <B4 'Alcohol Only'>, <L9 23.9>, <I7 1689.0>, <D12 38.9>, <G4 'Drugs Only'>, <K6 1496.0>, <G9 28.7>, <L11 25.2>, <G1 ''>, <I2 ''>, <G10 32.6>, <G3 ''>, <A10 '% of Total'>, <F9 38.1>, <B3 'Under 18 '>, <C9 15.1>, <E12 100.0>, <F1 ''>, <E10 100.0>, <K9 26.5>, <B10 13.3>, <A11 '% of all Males '>, <A9 'Female (%)'>, <E8 74.1>, <E3 ''>, <H4 'Drugs & Alcohol'>, <E4 'Total'>, <K12 28.8>, <M12 100.0>, <J10 43.2>, <E1 ''>, <F4 'Alcohol Only'>, <I8 67.9>, <A7 'Female'>, <M10 100.0>, <J5 2577.0>, <B7 64.0>, <G11 34.2>, <M4 ''>, <G5 1712.0>, <F8 61.9>, <C6 275.0>, <L7 324.0>},\n",
       " 'Table 2': {<D5 1032.0>, <D15 294.0>, <F16 '*'>, <B12 ''>, <M2 ''>, <K17 724.0>, <J1 ''>, <I19 '*'>, <E14 'Total'>, <F18 '*'>, <G4 'Total'>, <D1 ''>, <B19 '*'>, <M13 'Overall Total'>, <J20 33.1>, <D12 ''>, <L4 '18 and over'>, <E10 81.8>, <I6 387.0>, <L15 1356.0>, <I3 ''>, <I17 1606.0>, <K20 35.6>, <G10 36.7>, <H12 ''>, <G18 '*'>, <G3 ''>, <B14 'Alcohol Only'>, <G21 '*'>, <A9 'Statutory (%)'>, <C15 324.0>, <B8 5.0>, <C20 90.7>, <E7 432.0>, <G8 172.0>, <E21 '-'>, <J15 2577.0>, <L2 ''>, <C9 61.8>, <G12 ''>, <K10 80.0>, <M16 3600.0>, <C18 ''>, <I11 0.0>, <F1 ''>, <A13 'Service Type'>, <C19 '*'>, <F12 ''>, <A2 ''>, <K19 64.4>, <M19 60.3>, <F14 'Alcohol Only'>, <I9 71.7>, <D10 42.3>, <D20 68.7>, <G9 59.1>, <J10 53.1>, <E12 ''>, <G14 'Drugs Only'>, <M3 ''>, <D3 ''>, <M21 3.1>, <L13 ''>, <M7 685.0>, <J9 43.5>, <H3 'Female  '>, <G11 4.2>, <I12 ''>, <J19 66.7>, <J21 0.2>, <I1 ''>, <B21 '-'>, <M15 5969.0>, <D21 ''>, <K4 'Under 18s'>, <D14 'Drugs & Alcohol'>, <C1 ''>, <I7 153.0>, <K12 ''>, <G2 ''>, <B20 88.4>, <E19 '*'>, <D11 16.2>, <B9 68.2>, <B18 '-'>, <C21 ''>, <L20 44.9>, <I10 28.3>, <C16 '*'>, <L1 ''>, <C5 1496.0>, <E4 'Under 18s'>, <J16 1719.0>, <D18 ''>, <C11 0.0>, <J6 141.0>, <E17 580.0>, <K9 18.9>, <D17 202.0>, <B2 ''>, <C6 925.0>, <J17 853.0>, <H9 64.4>, <J14 'Alcohol Only'>, <A8 'Prison'>, <B5 1567.0>, <L6 1143.0>, <L16 569.0>, <C14 'Drugs Only'>, <M14 ''>, <I14 'Total'>, <D19 '*'>, <F15 2482.0>, <B17 84.0>, <E20 81.3>, <A5 'Total'>, <M20 36.6>, <F13 '18 and over'>, <B15 95.0>, <J2 ''>, <H15 1062.0>, <K18 0.0>, <D7 437.0>, <A6 'Statutory'>, <F11 4.8>, <A18 'Prison'>, <E2 ''>, <E6 96.0>, <L5 1689.0>, <H1 ''>, <A7 'Non-statutory'>, <D9 41.5>, <E8 0.0>, <G5 4095.0>, <B10 31.5>, <E13 ''>, <H14 'Drugs & Alcohol'>, <M5 1874.0>, <F7 1069.0>, <M4 'Total'>, <L12 ''>, <B4 'Alcohol Only'>, <M1 ''>, <H4 'Alcohol Only'>, <F6 2326.0>, <A11 'Prison (%)'>, <D13 ''>, <K16 1312.0>, <L18 178.0>, <G6 2422.0>, <F19 '*'>, <F20 31.0>, <K13 ''>, <H7 360.0>, <H6 650.0>, <J8 11.0>, <K8 11.0>, <C10 38.2>, <H20 38.3>, <M9 62.9>, <A19 'Statutory (%)'>, <H11 0.0>, <C3 ''>, <K11 0.6>, <I2 ''>, <J12 ''>, <I4 'Drugs Only'>, <K5 185.0>, <H13 ''>, <F9 65.2>, <B1 ''>, <C13 ''>, <G15 1712.0>, <G19 '*'>, <F21 '*'>, <D6 428.0>, <H5 1010.0>, <H17 407.0>, <A21 'Prison (%)'>, <J5 324.0>, <K7 148.0>, <C17 294.0>, <F8 172.0>, <L3 ''>, <F10 30.0>, <A17 'Non-statutory'>, <D4 'Drugs & Alcohol'>, <I21 '*'>, <F2 ''>, <M12 ''>, <E3 ''>, <M11 0.6>, <A1 'Table 2 – Breakdown by Service Type'>, <K1 ''>, <F17 769.0>, <C12 ''>, <C4 'Drugs Only'>, <D2 ''>, <C7 571.0>, <J3 ''>, <E11 0.0>, <L11 ''>, <I13 ''>, <L14 'Drugs & Alcohol'>, <B3 'Male'>, <L9 67.7>, <E5 528.0>, <A4 ''>, <B7 493.0>, <H18 '*'>, <G17 430.0>, <L10 31.8>, <K15 2036.0>, <J7 172.0>, <K21 0.0>, <D8 167.0>, <A14 ''>, <H8 0.0>, <B6 1069.0>, <A3 'Service Type'>, <A15 'Total'>, <A12 ''>, <H16 '*'>, <G1 ''>, <M10 36.6>, <A16 'Statutory'>, <E18 '-'>, <G20 25.1>, <K6 35.0>, <J13 'Treatment Type'>, <L8 ''>, <B13 'Under 18 '>, <K14 'Drugs Only'>, <C8 0.0>, <L17 609.0>, <M17 2186.0>, <I18 '*'>, <F3 ''>, <E9 18.2>, <L19 42.0>, <C2 ''>, <D16 '*'>, <I16 '*'>, <K3 ''>, <J4 'Drugs & Alcohol'>, <I5 540.0>, <H10 35.6>, <J11 3.4>, <K2 ''>, <A20 'Non-statutory (%)'>, <I20 30.6>, <M6 1178.0>, <J18 5.0>, <F4 '18 and over'>, <L7 537.0>, <H21 '*'>, <L21 13.1>, <B16 '*'>, <I15 5256.0>, <A10 'Non-statutory (%)'>, <E15 713.0>, <E16 '*'>, <G13 ''>, <H19 '*'>, <F5 3567.0>, <I8 0.0>, <M18 183.0>, <B11 0.3>, <E1 ''>, <G7 1501.0>, <M8 11.0>, <H2 ''>, <G16 '*'>},\n",
       " 'Table 3': {<H16 '*'>, <A11 'Mixed (%)'>, <G1 ''>, <K6 83.0>, <E12 ''>, <M3 ''>, <E15 713.0>, <G3 ''>, <C19 ''>, <L8 ''>, <I7 523.0>, <I18 '*'>, <K18 45.0>, <J21 4.5>, <F17 2203.0>, <M18 211.0>, <L2 ''>, <H10 90.0>, <B8 71.0>, <H2 ''>, <B16 '-'>, <G16 '*'>, <L18 51.0>, <I16 '*'>, <C6 22.0>, <K3 ''>, <J4 'Drugs & Alcohol'>, <I5 540.0>, <H11 4.4>, <F12 ''>, <J7 296.0>, <B11 4.5>, <M2 ''>, <B6 108.0>, <K7 181.0>, <D8 44.0>, <D19 ''>, <E9 0.0>, <M11 3.4>, <E19 '-'>, <E14 'Total'>, <K21 2.2>, <J10 91.4>, <F18 '*'>, <C7 1441.0>, <M16 417.0>, <H21 '*'>, <L21 3.8>, <G14 'Drugs Only'>, <D12 ''>, <J8 7.0>, <C5 1496.0>, <L15 1356.0>, <K17 1964.0>, <J20 89.1>, <K8 63.0>, <H3 'Female  '>, <M8 63.0>, <I12 ''>, <F5 3567.0>, <L20 79.6>, <B20 98.9>, <B14 'Alcohol Only'>, <G21 '*'>, <A9 'Residential (%)'>, <E18 '*'>, <H6 57.0>, <A1 'Table 3 – Breakdown by Residential Status'>, <L7 1547.0>, <K19 1.3>, <G12 ''>, <D11 4.3>, <F20 88.8>, <A2 ''>, <G4 'Total'>, <M6 83.0>, <J9 6.5>, <C11 2.2>, <I11 2.2>, <E4 'Under 18s'>, <H12 ''>, <G5 4095.0>, <G18 '*'>, <B17 94.0>, <M5 1874.0>, <K9 4.4>, <M19 7.0>, <L13 ''>, <B19 '-'>, <B2 ''>, <B10 88.6>, <I20 88.6>, <J14 'Alcohol Only'>, <A16 'Residential'>, <K4 'Under 18s'>, <E10 95.5>, <J6 21.0>, <H7 909.0>, <L9 ''>, <D14 'Drugs & Alcohol'>, <F13 '18 and over'>, <C1 ''>, <D7 784.0>, <G20 96.0>, <K20 96.5>, <K12 ''>, <M20 89.5>, <C3 ''>, <B21 '*'>, <I2 ''>, <E2 ''>, <C13 ''>, <L5 1689.0>, <G8 148.0>, <C21 ''>, <D9 19.8>, <H5 1010.0>, <D3 ''>, <I10 96.9>, <M21 3.5>, <L12 ''>, <B4 'Alcohol Only'>, <H17 810.0>, <H4 'Alcohol Only'>, <D13 ''>, <L19 16.6>, <I1 ''>, <B9 6.9>, <L6 ''>, <M15 5969.0>, <F2 ''>, <D21 ''>, <C16 ''>, <E17 685.0>, <F9 9.4>, <E8 24.0>, <C14 'Drugs Only'>, <M14 ''>, <G2 ''>, <K1 ''>, <M7 1728.0>, <G10 88.2>, <B7 1388.0>, <G6 334.0>, <C12 ''>, <C4 'Drugs Only'>, <B15 95.0>, <I4 'Drugs Only'>, <J2 ''>, <K5 185.0>, <F21 '*'>, <A21 'Mixed (%)'>, <E5 528.0>, <H9 5.6>, <D16 ''>, <L1 ''>, <H1 ''>, <L3 ''>, <C9 1.5>, <F10 87.2>, <D18 ''>, <I21 '*'>, <M17 5341.0>, <K16 27.0>, <M4 'Total'>, <E21 '*'>, <K11 3.4>, <M1 ''>, <F19 '*'>, <G11 3.6>, <B5 1567.0>, <A7 'Non-residential '>, <M9 4.4>, <I14 'Total'>, <F15 2482.0>, <K10 97.8>, <A5 'Total'>, <J13 'Treatment Type'>, <K14 'Drugs Only'>, <B13 'Under 18 '>, <E16 '-'>, <H15 1062.0>, <J18 115.0>, <I13 ''>, <L14 'Drugs & Alcohol'>, <B3 'Male'>, <A4 ''>, <L10 91.6>, <H18 '*'>, <G15 1712.0>, <C10 96.3>, <D10 76.0>, <G7 3613.0>, <F6 334.0>, <L16 225.0>, <E13 ''>, <H14 'Drugs & Alcohol'>, <C20 99.1>, <C17 321.0>, <E20 96.1>, <A8 'Mixed'>, <A13 'Residential Status'>, <D4 'Drugs & Alcohol'>, <A20 'Non-residential (%)'>, <M10 92.2>, <H8 44.0>, <G13 ''>, <A17 'Non-residential '>, <I9 0.9>, <H19 '*'>, <F8 124.0>, <K13 ''>, <H20 76.3>, <B18 '*'>, <A10 'Non-residential (%)'>, <C2 ''>, <D5 1032.0>, <J12 ''>, <D15 294.0>, <F16 '*'>, <H13 ''>, <B1 ''>, <G19 '*'>, <G17 1643.0>, <J19 6.4>, <F7 3109.0>, <J11 2.2>, <J5 324.0>, <A14 ''>, <F4 '18 and over'>, <D1 ''>, <G9 8.2>, <M13 'Overall Total'>, <A15 'Total'>, <J16 165.0>, <D17 270.0>, <A18 'Mixed'>, <A12 ''>, <I15 5256.0>, <M12 ''>, <I3 ''>, <E3 ''>, <C8 33.0>, <D6 204.0>, <E11 4.5>, <I17 4656.0>, <D20 91.8>, <E1 ''>, <C15 324.0>, <F11 3.5>, <D2 ''>, <J3 ''>, <L11 ''>, <J15 2577.0>, <F3 ''>, <E7 504.0>, <B12 ''>, <L17 1080.0>, <C18 ''>, <J1 ''>, <I19 '*'>, <I6 5.0>, <F1 ''>, <K15 2036.0>, <I8 12.0>, <A6 'Residential'>, <J17 2297.0>, <A3 'Residential Status'>, <A19 'Residential (%)'>, <F14 'Alcohol Only'>, <K2 ''>, <L4 '18 and over'>, <E6 0.0>},\n",
       " 'Table 4': {<L10 398.0>, <A11 'Prison'>, <B15 12.6>, <I12 6.0>, <E17 21.6>, <D35 16.3>, <E19 0.0>, <J31 18.0>, <D14 6.4>, <D33 12.9>, <J18 3.4>, <J34 21.7>, <D10 200.0>, <A18 'Prison (%)'>, <J21 'Treatment Type'>, <E31 45.2>, <F13 23.3>, <G14 17.5>, <M17 23.2>, <L25 85.0>, <J33 13.6>, <L31 28.4>, <D25 52.0>, <M19 2.7>, <C12 3.0>, <B9 334.0>, <K12 51.0>, <L4 '18 and over'>, <D24 128.0>, <J36 0.2>, <H35 23.4>, <E29 '-'>, <D32 17.7>, <A25 'Northern'>, <A14 'Northern (%)'>, <A34 'Southern (%)'>, <G13 26.0>, <C19 0.2>, <G36 '*'>, <K16 1.6>, <I26 719.0>, <E37 '*'>, <K9 3.0>, <M5 1874.0>, <F11 172.0>, <L2 ''>, <M4 'Total'>, <E22 'Total'>, <A19 'Emergency admissions (HIS)  (%)'>, <D31 43.5>, <M30 158.0>, <G30 '*'>, <I19 1.1>, <H10 267.0>, <B21 'Under 18 '>, <C27 7.0>, <H9 225.0>, <H15 15.0>, <F15 13.0>, <H25 33.0>, <M32 17.1>, <H18 0.0>, <M15 15.3>, <G18 4.2>, <M12 51.0>, <I32 18.0>, <L18 ''>, <K32 24.3>, <M9 349.0>, <F17 18.5>, <G25 479.0>, <J14 5.9>, <E33 17.1>, <F28 588.0>, <C4 'Drugs Only'>, <D18 16.2>, <L1 ''>, <I23 5256.0>, <C22 'Drugs Only'>, <A28 'Western'>, <K15 16.2>, <C32 4.9>, <D20 ''>, <A5 'Total'>, <F36 '*'>, <D9 189.0>, <L5 1689.0>, <F6 830.0>, <K20 ''>, <G20 ''>, <A13 'Belfast (%)'>, <I30 '*'>, <H37 '*'>, <K36 0.0>, <G1 ''>, <A15 'South Eastern (%)'>, <A29 'Prison'>, <K1 ''>, <D36 ''>, <M13 23.2>, <H29 '*'>, <A31 'Belfast (%)'>, <I37 '*'>, <L36 13.1>, <J17 29.9>, <D19 0.5>, <M2 ''>, <L6 346.0>, <D15 10.9>, <K17 20.0>, <C7 357.0>, <M11 11.0>, <C25 16.0>, <A3 'Trust'>, <D2 ''>, <J13 28.7>, <I29 '*'>, <F34 22.4>, <M20 ''>, <K25 495.0>, <M24 1498.0>, <J1 ''>, <B36 '-'>, <F1 ''>, <K2 ''>, <E25 77.0>, <E6 233.0>, <C15 16.2>, <H8 152.0>, <C24 155.0>, <A26 'South Eastern'>, <G27 252.0>, <M3 ''>, <A22 ''>, <E24 322.0>, <J26 350.0>, <F35 23.7>, <C35 23.1>, <D1 ''>, <A35 'Western (%)'>, <K22 'Drugs Only'>, <G6 1063.0>, <A16 'Southern (%)'>, <F19 3.0>, <J8 49.0>, <K23 2036.0>, <L32 6.3>, <M33 14.1>, <G8 554.0>, <I1 ''>, <A17 'Western (%)'>, <D16 18.3>, <J25 443.0>, <E15 17.4>, <E13 44.1>, <C20 ''>, <H21 ''>, <J32 17.2>, <C36 ''>, <B6 288.0>, <I28 1057.0>, <K7 21.0>, <G26 260.0>, <G5 4095.0>, <L24 385.0>, <F31 17.1>, <E7 56.0>, <B2 ''>, <G23 1712.0>, <C1 ''>, <J10 97.0>, <I2 ''>, <B33 15.8>, <B16 21.3>, <B20 ''>, <A10 'Western'>, <A21 'Trust'>, <L13 20.5>, <L27 240.0>, <D17 19.4>, <B37 '*'>, <G31 28.9>, <G21 ''>, <I20 ''>, <E20 ''>, <F32 17.5>, <C8 243.0>, <K5 185.0>, <E11 0.0>, <B1 ''>, <G35 12.9>, <H27 214.0>, <K21 ''>, <J5 324.0>, <B11 5.0>, <M8 287.0>, <B5 1567.0>, <D37 ''>, <D7 66.0>, <J27 559.0>, <K11 11.0>, <D30 ''>, <L7 285.0>, <L9 346.0>, <K29 0.0>, <C10 224.0>, <B19 6.3>, <B3 'Male'>, <I22 'Total'>, <I36 '*'>, <H31 24.2>, <F10 659.0>, <L28 297.0>, <C13 32.3>, <C26 69.0>, <L35 21.9>, <H11 0.0>, <E26 122.0>, <B30 '*'>, <E30 '*'>, <L37 0.7>, <J37 5.4>, <M16 18.6>, <L14 16.9>, <G29 '*'>, <H7 149.0>, <G16 17.3>, <J29 5.0>, <F27 556.0>, <H22 'Drugs & Alcohol'>, <A4 ''>, <L15 15.2>, <E10 114.0>, <D27 26.0>, <K27 259.0>, <M35 20.2>, <G11 172.0>, <A2 ''>, <L22 'Drugs & Alcohol'>, <C17 15.0>, <F14 18.5>, <H33 11.7>, <H2 ''>, <A7 'Northern'>, <J4 'Drugs & Alcohol'>, <I5 540.0>, <J9 51.0>, <C29 ''>, <I34 19.4>, <A20 ''>, <J24 464.0>, <C9 186.0>, <B14 18.8>, <B24 39.0>, <F37 '*'>, <A32 'Northern (%)'>, <G17 18.9>, <C21 ''>, <M25 1023.0>, <K35 14.5>, <E1 ''>, <C37 ''>, <E16 6.3>, <K26 329.0>, <K19 2.7>, <F29 '*'>, <K30 9.0>, <E32 10.8>, <I14 25.6>, <L29 178.0>, <G2 ''>, <I7 138.0>, <M29 183.0>, <M14 16.3>, <H30 '*'>, <D6 292.0>, <G15 13.5>, <K34 12.7>, <B13 18.4>, <E14 10.6>, <H19 4.1>, <K31 31.9>, <E35 21.2>, <M37 2.6>, <I35 20.1>, <M28 1208.0>, <L30 9.0>, <F24 425.0>, <B31 41.1>, <E28 151.0>, <H3 'Female  '>, <G28 220.0>, <M34 17.7>, <B4 'Alcohol Only'>, <D4 'Drugs & Alcohol'>, <G22 'Drugs Only'>, <F16 19.0>, <K24 649.0>, <A9 'Southern'>, <C31 47.8>, <K14 11.4>, <M10 435.0>, <I4 'Drugs Only'>, <I15 15.9>, <M22 ''>, <M7 306.0>, <A24 'Belfast'>, <D28 48.0>, <D22 'Drugs & Alcohol'>, <A36 'Prison (%)'>, <C34 2.2>, <J20 ''>, <G10 773.0>, <I6 166.0>, <L21 ''>, <H12 41.0>, <I24 1176.0>, <B12 99.0>, <L23 1356.0>, <E9 33.0>, <J3 ''>, <J35 23.9>, <F3 ''>, <G12 107.0>, <F12 107.0>, <L12 ''>, <H4 'Alcohol Only'>, <G33 15.2>, <B35 29.5>, <H20 ''>, <J15 15.1>, <B23 95.0>, <L20 ''>, <A27 'Southern'>, <C2 ''>, <D5 1032.0>, <A12 'Emergency admissions (HIS)'>, <L3 ''>, <B32 9.5>, <H13 17.4>, <F4 '18 and over'>, <I33 13.7>, <K18 0.6>, <G37 '*'>, <I3 ''>, <L11 ''>, <I16 13.5>, <E21 ''>, <B26 15.0>, <G24 494.0>, <A37 'Emergency admissions (HIS) (%)'>, <C18 0.0>, <M23 5969.0>, <I11 0.0>, <J16 15.7>, <F25 434.0>, <G4 'Total'>, <K33 16.2>, <G32 28.0>, <L19 ''>, <I21 ''>, <F8 462.0>, <F18 4.8>, <J12 4.0>, <F9 676.0>, <F7 661.0>, <E12 0.0>, <I17 13.1>, <G3 ''>, <F21 '18 and over'>, <H26 124.0>, <K28 295.0>, <B7 294.0>, <K3 ''>, <F22 'Alcohol Only'>, <A23 'Total'>, <J28 616.0>, <K4 'Under 18s'>, <B27 3.0>, <J6 93.0>, <K37 0.4>, <A30 'Emergency admissions (HIS)'>, <D34 8.8>, <B34 3.2>, <D29 ''>, <H16 22.3>, <E34 5.0>, <I25 946.0>, <L26 162.0>, <D21 ''>, <H28 249.0>, <M6 435.0>, <H32 3.1>, <M31 25.1>, <B22 'Alcohol Only'>, <M36 3.1>, <E23 713.0>, <F23 2482.0>, <L33 11.9>, <A1 'Table 4 – Breakdown by Trust'>, <E4 'Under 18s'>, <H23 1062.0>, <D26 38.0>, <C28 75.0>, <K13 48.1>, <E36 '-'>, <M1 ''>, <M27 1058.0>, <L17 23.6>, <B8 198.0>, <C14 23.9>, <B29 '-'>, <C5 1496.0>, <D3 ''>, <J7 19.0>, <H5 1010.0>, <G9 709.0>, <H34 20.2>, <A6 'Belfast'>, <J23 2577.0>, <F2 ''>, <B18 0.3>, <H17 26.4>, <K10 37.0>, <J2 ''>, <G7 717.0>, <I8 86.0>, <J30 140.0>, <A8 'South Eastern'>, <G34 14.7>, <E27 36.0>, <H1 ''>, <E5 528.0>, <C30 ''>, <C11 0.0>, <L16 20.5>, <F20 ''>, <K6 89.0>, <E8 92.0>, <C16 12.4>, <G19 2.6>, <F33 13.5>, <B28 28.0>, <I31 22.4>, <K8 30.0>, <C3 ''>, <L8 257.0>, <B25 9.0>, <E2 ''>, <C23 324.0>, <C6 483.0>, <D8 113.0>, <F30 '*'>, <H24 257.0>, <D23 294.0>, <M18 0.6>, <H6 176.0>, <B10 349.0>, <M21 'Overall Total'>, <I18 0.0>, <D11 167.0>, <E18 0.0>, <H36 '*'>, <J22 'Alcohol Only'>, <H14 14.8>, <J19 1.2>, <E3 ''>, <I27 1022.0>, <I9 73.0>, <F26 335.0>, <I10 71.0>, <D12 5.0>, <C33 21.3>, <F5 3567.0>, <D13 28.3>, <M26 841.0>, <J11 11.0>, <I13 30.7>, <B17 22.3>, <A33 'South Eastern (%)'>, <L34 17.7>},\n",
       " 'Table 5': {<K3 ''>, <G31 2.9>, <C11 15.2>, <F7 ''>, <J31 158.0>, <H7 ''>, <H5 'Headcount'>, <A25 'Belfast'>, <F24 ''>, <C5 '%'>, <D7 ''>, <J29 1208.0>, <A30 'Prison'>, <J14 2577.0>, <G9 31.3>, <A1 'Table 5 – Comparison Table'>, <I24 ''>, <D8 4244.0>, <G11 6.7>, <B2 ''>, <K30 3.1>, <E4 ''>, <K24 ''>, <I31 1.5>, <D26 1349.0>, <A5 ''>, <A28 'Southern'>, <E13 ''>, <E8 72.6>, <D18 1606.0>, <C1 ''>, <C14 62.3>, <H4 2014.0>, <K8 68.6>, <D17 ''>, <B23 5467.0>, <K28 17.7>, <H8 5377.0>, <F9 1850.0>, <J6 5969.0>, <H9 3176.0>, <G23 97.6>, <K7 ''>, <A9 'Female  '>, <G21 ''>, <F15 1514.0>, <B21 ''>, <K5 '%'>, <A22 'Residential'>, <C9 34.0>, <E2 ''>, <D20 205.0>, <A29 'Western'>, <I9 37.1>, <F23 5775.0>, <E30 3.5>, <G14 52.6>, <E31 3.1>, <F5 'Headcount'>, <K25 25.1>, <C3 ''>, <B16 989.0>, <F4 2012.0>, <E6 100.0>, <H11 862.0>, <D10 ''>, <J10 ''>, <C15 20.0>, <K26 17.1>, <F31 172.0>, <J16 1356.0>, <F3 '1st March '>, <I8 62.9>, <K1 ''>, <H26 888.0>, <H28 1937.0>, <D2 ''>, <E29 13.6>, <A21 'Residential Status'>, <I13 ''>, <B4 2007.0>, <E16 20.9>, <H14 3891.0>, <E24 ''>, <I21 ''>, <A15 'Drugs Only'>, <F8 4066.0>, <A18 'Statutory'>, <C19 64.2>, <C24 ''>, <F19 3827.0>, <I25 28.4>, <F1 ''>, <A2 ''>, <H31 129.0>, <J9 1874.0>, <D21 ''>, <E25 21.8>, <I4 ''>, <G2 ''>, <B28 ''>, <K29 20.2>, <G16 21.8>, <D3 '1st March '>, <J19 2186.0>, <C7 ''>, <D15 1294.0>, <H3 '1st September'>, <G12 93.3>, <C20 4.6>, <K20 3.1>, <E7 ''>, <H24 ''>, <B11 847.0>, <D5 'Headcount'>, <F10 ''>, <A23 'Non-residential / Mixed'>, <G18 32.2>, <K13 ''>, <E27 21.4>, <E22 2.3>, <I2 ''>, <B6 5583.0>, <K15 34.1>, <G4 ''>, <I22 5.3>, <B26 ''>, <A19 'Non-statutory'>, <B1 ''>, <C30 4.6>, <I17 ''>, <C10 ''>, <D4 2010.0>, <I10 ''>, <A26 'Northern'>, <J27 841.0>, <J23 5552.0>, <H1 ''>, <K16 22.7>, <F21 ''>, <C12 84.8>, <C18 31.2>, <J3 '1st March '>, <D12 5202.0>, <C16 17.7>, <E23 97.7>, <H27 1582.0>, <I30 3.7>, <H15 2617.0>, <A10 'Age'>, <J12 5256.0>, <A24 'Trust'>, <D19 4035.0>, <D28 789.0>, <B24 ''>, <D29 797.0>, <E3 ''>, <J30 183.0>, <E14 56.9>, <I27 18.5>, <F22 141.0>, <A4 ''>, <D16 1224.0>, <J1 ''>, <B5 'Headcount'>, <C27 ''>, <H10 ''>, <C4 ''>, <F12 5518.0>, <E5 '%'>, <F29 1015.0>, <D31 182.0>, <D27 1252.0>, <K23 93.0>, <B8 3686.0>, <K2 ''>, <I29 15.0>, <K9 31.4>, <G24 ''>, <G13 ''>, <B13 ''>, <I20 3.7>, <E1 ''>, <K17 ''>, <F25 1536.0>, <I11 10.1>, <J20 183.0>, <E28 13.5>, <C29 ''>, <G19 64.7>, <G27 11.4>, <I15 30.6>, <J18 3600.0>, <J24 ''>, <H21 ''>, <C21 ''>, <C8 66.0>, <H19 4594.0>, <J7 ''>, <B9 1897.0>, <F17 ''>, <I19 53.7>, <J5 'Headcount'>, <K4 ''>, <D22 133.0>, <B22 116.0>, <C6 100.0>, <B27 ''>, <B3 '1st March '>, <F11 398.0>, <E26 23.1>, <K19 36.6>, <G6 100.0>, <G7 ''>, <A13 'Treatment type'>, <D6 5846.0>, <B18 1741.0>, <B19 3585.0>, <H6 8553.0>, <G5 '%'>, <I6 100.0>, <F2 ''>, <G15 25.6>, <E18 27.5>, <E9 27.4>, <F27 675.0>, <I14 45.5>, <K21 ''>, <K22 7.0>, <H18 3646.0>, <D13 ''>, <D14 3328.0>, <G8 68.7>, <G1 ''>, <B15 1118.0>, <K11 11.9>, <J8 4095.0>, <C2 ''>, <F20 184.0>, <C17 ''>, <A11 'Under 18 '>, <C26 ''>, <G20 3.1>, <I5 '%'>, <G22 2.4>, <C25 92.9>, <J28 1058.0>, <H17 ''>, <H23 8101.0>, <D23 5713.0>, <K18 60.3>, <K31 2.6>, <D24 ''>, <G3 ''>, <B7 ''>, <D30 205.0>, <I26 10.4>, <F26 1094.0>, <A6 'Total'>, <G28 21.0>, <B10 ''>, <A16 'Drugs & Alcohol'>, <B14 3476.0>, <K6 100.0>, <G25 26.0>, <H2 ''>, <C28 ''>, <I1 ''>, <H30 313.0>, <B12 4736.0>, <F13 ''>, <G29 17.2>, <I16 23.9>, <A27 'South Eastern'>, <I18 42.6>, <D1 ''>, <J17 ''>, <J22 417.0>, <B20 257.0>, <H25 2425.0>, <J26 1023.0>, <G30 3.1>, <J15 2036.0>, <C31 2.5>, <K10 ''>, <A7 'Gender'>, <J4 2017.0>, <K12 88.1>, <G26 18.5>, <I7 ''>, <A31 'Emergency admissions (HIS)'>, <B29 ''>, <E11 11.0>, <I28 22.6>, <E17 ''>, <E10 ''>, <H16 2045.0>, <F6 5916.0>, <H20 313.0>, <D11 644.0>, <C23 97.9>, <D9 1602.0>, <F18 1905.0>, <F14 3111.0>, <B30 257.0>, <K14 43.2>, <E19 69.0>, <A3 ''>, <J2 ''>, <A8 'Male'>, <F16 1291.0>, <D25 1272.0>, <E20 3.5>, <A17 'Service type'>, <B31 141.0>, <J11 713.0>, <H13 ''>, <C13 ''>, <F30 184.0>, <H29 1279.0>, <F28 1240.0>, <J13 ''>, <H22 452.0>, <E12 89.0>, <A12 '18 and over'>, <J25 1498.0>, <I12 89.9>, <E15 22.1>, <B25 5185.0>, <J21 ''>, <B17 ''>, <A20 'Prison'>, <A14 'Alcohol Only'>, <C22 2.1>, <I3 ''>, <G17 ''>, <G10 ''>, <I23 94.7>, <K27 14.1>, <H12 7691.0>, <E21 ''>},\n",
       " 'Metadata': {<A16 'Quality Issues'>, <A7 'Reporting period'>, <B13 ''>, <B26 'No conditions apply'>, <A24 'Constraints'>, <A3 'Identification'>, <A17 ''>, <B8 ''>, <B4 'Census of Drug and Alcohol Treatment Services in Northern Ireland: 1 March 2017 (Tables)'>, <A14 'National Statistics Data'>, <B19 'Department of Health, Public Health Information & Research Branch'>, <B14 'No'>, <B7 'Snapshot'>, <B17 ''>, <B12 ''>, <A6 'Year of Data'>, <B9 ''>, <B10 'Health and Social Care'>, <A26 'Use Constraints'>, <A2 ''>, <B18 ''>, <B3 ''>, <B21 'Resource Provider'>, <A9 'Classification'>, <A21 'Responsible Party Role'>, <B20 'PHIRB@health-ni.gov.uk'>, <A23 ''>, <A19 'Organisation Name'>, <B22 '028 9052 2523'>, <A25 'Limitations on Public Access'>, <B1 ''>, <A1 'Metadata'>, <A11 'Keyword'>, <B11 'Drug Alcohol Misuse Treatment'>, <A22 'Telephone Number'>, <B15 'All data with cell sizes less than 3 has been masked to avoid the disclosure of any personal information.'>, <A13 'Quality  and Validity'>, <A5 'Abstract'>, <B23 ''>, <A4 'Dataset Title'>, <B2 ''>, <B5 'This bulletin summarises the number of people in treatment for problem drug and/or alcohol misuse and relates to a snapshot of those in treatment on 1 March 2017. '>, <B6 '1 March 2017 (with 2007, 2010, 2012 and 2014 comparisons)'>, <B24 ''>, <B25 'No restriction on public access'>, <A10 'National Statistics Theme'>, <A12 ''>, <A20 'Email Address'>, <A8 ''>, <A18 'Organisation'>, <A15 'Disclosure Control Methods'>, <B16 'These figures only relate to those in treatment for drug and/or alcohol misuse from specialist services across Northern Ireland on a representative day. '>}}"
      ]
     },
     "execution_count": 79,
     "metadata": {},
     "output_type": "execute_result"
    }
   ],
   "source": [
    "tabs = {tab.name: tab for tab in scraper.distribution(\n",
    "    title='Data from Census of Drug and Alcohol Treatment Services').as_databaker()}\n",
    "tabs.keys()\n",
    "tabs"
   ]
  },
  {
   "cell_type": "code",
   "execution_count": 80,
   "metadata": {},
   "outputs": [
    {
     "name": "stdout",
     "output_type": "stream",
     "text": [
      "\n",
      "\n",
      "\n",
      "\n",
      "\n",
      "\n",
      "\n",
      "\n"
     ]
    }
   ],
   "source": [
    "tables = []\n",
    "for tab_name, script in [\n",
    "    ('Table 1', 'Treatment Services by Age and Gender.ipynb'),\n",
    "    ('Table 2', 'Treatment Services by Service Type(Age).ipynb'),\n",
    "    ('Table 2', 'Treatment Services by Service Type(sex).ipynb'),\n",
    "    ('Table 3', 'Treatment Services by Residential status(Age).ipynb'),\n",
    "    ('Table 3', 'Treatment Services by Residential Status(sex).ipynb'),\n",
    "    ('Table 4', 'Treatment Services by Trust(Age).ipynb'),\n",
    "    ('Table 4', 'Treatment Services by Trust(sex).ipynb'))\n",
    "]:\n",
    "    tab = tabs[tab_name]\n",
    "    %run \"$script\"\n",
    "    tables.append(new_table)"
   ]
  },
  {
   "cell_type": "code",
   "execution_count": 84,
   "metadata": {},
   "outputs": [],
   "source": [
    "tidy = pd.concat(tables)\n",
    "tidy.count()\n",
    "tables[7].to_csv('testCompareCC.csv', index = False)"
   ]
  },
  {
   "cell_type": "code",
   "execution_count": 11,
   "metadata": {},
   "outputs": [],
   "source": [
    "tidy['Treatment Type'].fillna('Total', inplace = True)"
   ]
  },
  {
   "cell_type": "code",
   "execution_count": 12,
   "metadata": {},
   "outputs": [
    {
     "data": {
      "text/plain": [
       "Period                          724\n",
       "Sex                             724\n",
       "Age                             724\n",
       "Service Type                    724\n",
       "Residential Status              724\n",
       "Treatment Type                  724\n",
       "Health and Social Care Trust    724\n",
       "Measure Type                    724\n",
       "Unit                            724\n",
       "Value                           724\n",
       "dtype: int64"
      ]
     },
     "execution_count": 12,
     "metadata": {},
     "output_type": "execute_result"
    }
   ],
   "source": [
    "tidy.count()"
   ]
  },
  {
   "cell_type": "code",
   "execution_count": 13,
   "metadata": {},
   "outputs": [
    {
     "data": {
      "text/plain": [
       "array(['Alcohol Only', 'Drugs Only', 'Drugs & Alcohol', 'Total',\n",
       "       'Under 18s', '18 and over', 'All'], dtype=object)"
      ]
     },
     "execution_count": 13,
     "metadata": {},
     "output_type": "execute_result"
    }
   ],
   "source": [
    "tidy['Treatment Type'].unique()"
   ]
  },
  {
   "cell_type": "code",
   "execution_count": 14,
   "metadata": {},
   "outputs": [
    {
     "data": {
      "text/html": [
       "<div>\n",
       "<style scoped>\n",
       "    .dataframe tbody tr th:only-of-type {\n",
       "        vertical-align: middle;\n",
       "    }\n",
       "\n",
       "    .dataframe tbody tr th {\n",
       "        vertical-align: top;\n",
       "    }\n",
       "\n",
       "    .dataframe thead th {\n",
       "        text-align: right;\n",
       "    }\n",
       "</style>\n",
       "<table border=\"1\" class=\"dataframe\">\n",
       "  <thead>\n",
       "    <tr style=\"text-align: right;\">\n",
       "      <th></th>\n",
       "      <th>Period</th>\n",
       "      <th>Sex</th>\n",
       "      <th>Age</th>\n",
       "      <th>Service Type</th>\n",
       "      <th>Residential Status</th>\n",
       "      <th>Treatment Type</th>\n",
       "      <th>Health and Social Care Trust</th>\n",
       "      <th>Measure Type</th>\n",
       "      <th>Unit</th>\n",
       "      <th>Value</th>\n",
       "    </tr>\n",
       "  </thead>\n",
       "  <tbody>\n",
       "    <tr>\n",
       "      <th>0</th>\n",
       "      <td>1 March 2017</td>\n",
       "      <td>Persons</td>\n",
       "      <td>Under 18</td>\n",
       "      <td>All</td>\n",
       "      <td>All</td>\n",
       "      <td>Alcohol Only</td>\n",
       "      <td>All</td>\n",
       "      <td>Count</td>\n",
       "      <td>People</td>\n",
       "      <td>95</td>\n",
       "    </tr>\n",
       "    <tr>\n",
       "      <th>1</th>\n",
       "      <td>1 March 2017</td>\n",
       "      <td>Persons</td>\n",
       "      <td>Under 18</td>\n",
       "      <td>All</td>\n",
       "      <td>All</td>\n",
       "      <td>Drugs Only</td>\n",
       "      <td>All</td>\n",
       "      <td>Count</td>\n",
       "      <td>People</td>\n",
       "      <td>324</td>\n",
       "    </tr>\n",
       "    <tr>\n",
       "      <th>2</th>\n",
       "      <td>1 March 2017</td>\n",
       "      <td>Persons</td>\n",
       "      <td>Under 18</td>\n",
       "      <td>All</td>\n",
       "      <td>All</td>\n",
       "      <td>Drugs &amp; Alcohol</td>\n",
       "      <td>All</td>\n",
       "      <td>Count</td>\n",
       "      <td>People</td>\n",
       "      <td>294</td>\n",
       "    </tr>\n",
       "    <tr>\n",
       "      <th>3</th>\n",
       "      <td>1 March 2017</td>\n",
       "      <td>Persons</td>\n",
       "      <td>Under 18</td>\n",
       "      <td>All</td>\n",
       "      <td>All</td>\n",
       "      <td>Total</td>\n",
       "      <td>All</td>\n",
       "      <td>Count</td>\n",
       "      <td>People</td>\n",
       "      <td>713</td>\n",
       "    </tr>\n",
       "    <tr>\n",
       "      <th>4</th>\n",
       "      <td>1 March 2017</td>\n",
       "      <td>Persons</td>\n",
       "      <td>18 and over</td>\n",
       "      <td>All</td>\n",
       "      <td>All</td>\n",
       "      <td>Alcohol Only</td>\n",
       "      <td>All</td>\n",
       "      <td>Count</td>\n",
       "      <td>People</td>\n",
       "      <td>2482</td>\n",
       "    </tr>\n",
       "  </tbody>\n",
       "</table>\n",
       "</div>"
      ],
      "text/plain": [
       "         Period      Sex          Age Service Type Residential Status  \\\n",
       "0  1 March 2017  Persons    Under 18           All                All   \n",
       "1  1 March 2017  Persons    Under 18           All                All   \n",
       "2  1 March 2017  Persons    Under 18           All                All   \n",
       "3  1 March 2017  Persons    Under 18           All                All   \n",
       "4  1 March 2017  Persons  18 and over          All                All   \n",
       "\n",
       "    Treatment Type Health and Social Care Trust Measure Type    Unit Value  \n",
       "0     Alcohol Only                          All        Count  People    95  \n",
       "1       Drugs Only                          All        Count  People   324  \n",
       "2  Drugs & Alcohol                          All        Count  People   294  \n",
       "3            Total                          All        Count  People   713  \n",
       "4     Alcohol Only                          All        Count  People  2482  "
      ]
     },
     "execution_count": 14,
     "metadata": {},
     "output_type": "execute_result"
    }
   ],
   "source": [
    "tidy.head()"
   ]
  },
  {
   "cell_type": "code",
   "execution_count": 15,
   "metadata": {},
   "outputs": [],
   "source": [
    "tidy = tidy[tidy['Treatment Type'] == 'Alcohol Only']"
   ]
  },
  {
   "cell_type": "code",
   "execution_count": 16,
   "metadata": {},
   "outputs": [
    {
     "data": {
      "text/html": [
       "<div>\n",
       "<style scoped>\n",
       "    .dataframe tbody tr th:only-of-type {\n",
       "        vertical-align: middle;\n",
       "    }\n",
       "\n",
       "    .dataframe tbody tr th {\n",
       "        vertical-align: top;\n",
       "    }\n",
       "\n",
       "    .dataframe thead th {\n",
       "        text-align: right;\n",
       "    }\n",
       "</style>\n",
       "<table border=\"1\" class=\"dataframe\">\n",
       "  <thead>\n",
       "    <tr style=\"text-align: right;\">\n",
       "      <th></th>\n",
       "      <th>Period</th>\n",
       "      <th>Sex</th>\n",
       "      <th>Age</th>\n",
       "      <th>Service Type</th>\n",
       "      <th>Residential Status</th>\n",
       "      <th>Treatment Type</th>\n",
       "      <th>Health and Social Care Trust</th>\n",
       "      <th>Measure Type</th>\n",
       "      <th>Unit</th>\n",
       "      <th>Value</th>\n",
       "    </tr>\n",
       "  </thead>\n",
       "  <tbody>\n",
       "    <tr>\n",
       "      <th>0</th>\n",
       "      <td>1 March 2017</td>\n",
       "      <td>Persons</td>\n",
       "      <td>Under 18</td>\n",
       "      <td>All</td>\n",
       "      <td>All</td>\n",
       "      <td>Alcohol Only</td>\n",
       "      <td>All</td>\n",
       "      <td>Count</td>\n",
       "      <td>People</td>\n",
       "      <td>95</td>\n",
       "    </tr>\n",
       "    <tr>\n",
       "      <th>4</th>\n",
       "      <td>1 March 2017</td>\n",
       "      <td>Persons</td>\n",
       "      <td>18 and over</td>\n",
       "      <td>All</td>\n",
       "      <td>All</td>\n",
       "      <td>Alcohol Only</td>\n",
       "      <td>All</td>\n",
       "      <td>Count</td>\n",
       "      <td>People</td>\n",
       "      <td>2482</td>\n",
       "    </tr>\n",
       "    <tr>\n",
       "      <th>8</th>\n",
       "      <td>1 March 2017</td>\n",
       "      <td>Persons</td>\n",
       "      <td>All Ages</td>\n",
       "      <td>All</td>\n",
       "      <td>All</td>\n",
       "      <td>Alcohol Only</td>\n",
       "      <td>All</td>\n",
       "      <td>Count</td>\n",
       "      <td>People</td>\n",
       "      <td>2577</td>\n",
       "    </tr>\n",
       "    <tr>\n",
       "      <th>12</th>\n",
       "      <td>1 March 2017</td>\n",
       "      <td>Male</td>\n",
       "      <td>Under 18</td>\n",
       "      <td>All</td>\n",
       "      <td>All</td>\n",
       "      <td>Alcohol Only</td>\n",
       "      <td>All</td>\n",
       "      <td>Count</td>\n",
       "      <td>People</td>\n",
       "      <td>31</td>\n",
       "    </tr>\n",
       "    <tr>\n",
       "      <th>16</th>\n",
       "      <td>1 March 2017</td>\n",
       "      <td>Male</td>\n",
       "      <td>18 and over</td>\n",
       "      <td>All</td>\n",
       "      <td>All</td>\n",
       "      <td>Alcohol Only</td>\n",
       "      <td>All</td>\n",
       "      <td>Count</td>\n",
       "      <td>People</td>\n",
       "      <td>1536</td>\n",
       "    </tr>\n",
       "  </tbody>\n",
       "</table>\n",
       "</div>"
      ],
      "text/plain": [
       "          Period      Sex          Age Service Type Residential Status  \\\n",
       "0   1 March 2017  Persons    Under 18           All                All   \n",
       "4   1 March 2017  Persons  18 and over          All                All   \n",
       "8   1 March 2017  Persons     All Ages          All                All   \n",
       "12  1 March 2017     Male    Under 18           All                All   \n",
       "16  1 March 2017     Male  18 and over          All                All   \n",
       "\n",
       "   Treatment Type Health and Social Care Trust Measure Type    Unit Value  \n",
       "0    Alcohol Only                          All        Count  People    95  \n",
       "4    Alcohol Only                          All        Count  People  2482  \n",
       "8    Alcohol Only                          All        Count  People  2577  \n",
       "12   Alcohol Only                          All        Count  People    31  \n",
       "16   Alcohol Only                          All        Count  People  1536  "
      ]
     },
     "execution_count": 16,
     "metadata": {},
     "output_type": "execute_result"
    }
   ],
   "source": [
    "tidy.head()"
   ]
  },
  {
   "cell_type": "code",
   "execution_count": 17,
   "metadata": {},
   "outputs": [
    {
     "data": {
      "text/plain": [
       "array(['Persons', 'Male', 'Female', 'Male (%)', 'Female (%)',\n",
       "       '% of Total', '% of all Males ', '% of all Females', 'Female  ',\n",
       "       'All'], dtype=object)"
      ]
     },
     "execution_count": 17,
     "metadata": {},
     "output_type": "execute_result"
    }
   ],
   "source": [
    "tidy['Sex'].unique()"
   ]
  },
  {
   "cell_type": "code",
   "execution_count": 18,
   "metadata": {},
   "outputs": [],
   "source": [
    "tidy.drop(tidy[tidy.Sex.isin(['% of Total', '% of all Males ','% of all Females'])].index, inplace = True)"
   ]
  },
  {
   "cell_type": "code",
   "execution_count": 19,
   "metadata": {},
   "outputs": [
    {
     "data": {
      "text/plain": [
       "array(['Persons', 'Male', 'Female', 'Male (%)', 'Female (%)', 'Female  ',\n",
       "       'All'], dtype=object)"
      ]
     },
     "execution_count": 19,
     "metadata": {},
     "output_type": "execute_result"
    }
   ],
   "source": [
    "tidy['Sex'].unique()"
   ]
  },
  {
   "cell_type": "code",
   "execution_count": 20,
   "metadata": {},
   "outputs": [
    {
     "data": {
      "text/plain": [
       "array(['1 March 2017', '1st March 2007', '1st March 2010',\n",
       "       '1st March 2012', '1st September2014'], dtype=object)"
      ]
     },
     "execution_count": 20,
     "metadata": {},
     "output_type": "execute_result"
    }
   ],
   "source": [
    "tidy['Period'].unique()"
   ]
  },
  {
   "cell_type": "code",
   "execution_count": 21,
   "metadata": {},
   "outputs": [],
   "source": [
    "from datetime import datetime"
   ]
  },
  {
   "cell_type": "code",
   "execution_count": 22,
   "metadata": {},
   "outputs": [],
   "source": [
    "tidy.Period = pd.to_datetime(tidy.Period).dt.strftime('%Y-%m-%d')"
   ]
  },
  {
   "cell_type": "code",
   "execution_count": 23,
   "metadata": {},
   "outputs": [],
   "source": [
    "tidy['Period'] = str('day/') + tidy['Period']"
   ]
  },
  {
   "cell_type": "code",
   "execution_count": 24,
   "metadata": {},
   "outputs": [
    {
     "data": {
      "text/plain": [
       "array(['Under 18 ', '18 and over', 'All Ages', 'All'], dtype=object)"
      ]
     },
     "execution_count": 24,
     "metadata": {},
     "output_type": "execute_result"
    }
   ],
   "source": [
    "tidy['Age'].unique()"
   ]
  },
  {
   "cell_type": "code",
   "execution_count": 25,
   "metadata": {},
   "outputs": [],
   "source": [
    "tidy['Age'] = tidy['Age'].map(\n",
    "    lambda x: {\n",
    "        'Under 18 ' : 'under-18', \n",
    "        '18 and over' : '18-plus',\n",
    "        'All years': 'all' ,\n",
    "        'All': 'all'\n",
    "        }.get(x, x))"
   ]
  },
  {
   "cell_type": "code",
   "execution_count": 26,
   "metadata": {},
   "outputs": [],
   "source": [
    "tidy['Treatment Type'] = 'alcohol'"
   ]
  },
  {
   "cell_type": "code",
   "execution_count": 27,
   "metadata": {},
   "outputs": [],
   "source": [
    "def user_perc(x,y):\n",
    "    \n",
    "    if ( (str(x) == 'Statutory (%)')) | ((str(x) == 'Non-statutory (%)')) | ((str(x) == 'Prison (%)')): \n",
    "        \n",
    "        return 'Percentage'\n",
    "    else:\n",
    "        return y\n",
    "    \n",
    "tidy['Measure Type'] = tidy.apply(lambda row: user_perc(row['Service Type'], row['Measure Type']), axis = 1)\n",
    "\n"
   ]
  },
  {
   "cell_type": "code",
   "execution_count": 28,
   "metadata": {},
   "outputs": [],
   "source": [
    "def user_perc(x,y):\n",
    "    \n",
    "    if ( (str(x) == 'Residential (%)')) | ((str(x) == 'Non-residential (%)')) | ((str(x) == 'Mixed (%)')): \n",
    "        \n",
    "        return 'Percentage'\n",
    "    else:\n",
    "        return y\n",
    "    \n",
    "tidy['Measure Type'] = tidy.apply(lambda row: user_perc(row['Residential Status'], row['Measure Type']), axis = 1)\n",
    "\n"
   ]
  },
  {
   "cell_type": "code",
   "execution_count": 29,
   "metadata": {},
   "outputs": [
    {
     "data": {
      "text/plain": [
       "array(['All', 'Belfast', 'Northern', 'South Eastern', 'Southern',\n",
       "       'Western', 'Northern (%)', 'South Eastern (%)', 'Southern (%)',\n",
       "       'Western (%)', 'Emergency admissions (HIS) (%)',\n",
       "       'Emergency admissions (HIS)', 'Belfast (%)',\n",
       "       'Emergency admissions (HIS)  (%)'], dtype=object)"
      ]
     },
     "execution_count": 29,
     "metadata": {},
     "output_type": "execute_result"
    }
   ],
   "source": [
    "tidy['Health and Social Care Trust'].unique()"
   ]
  },
  {
   "cell_type": "code",
   "execution_count": 30,
   "metadata": {},
   "outputs": [],
   "source": [
    "def user_perc(x,y):\n",
    "    \n",
    "    if ( (str(x) == 'Belfast (%)')) | ((str(x) == 'Northern (%)')) | ((str(x) == 'South Eastern (%)')) | ((str(x) == 'Southern (%)')) | ((str(x) == 'Western (%)')) | ((str(x) == 'Emergency admissions (HIS) (%)')) : \n",
    "        \n",
    "            return 'Percentage'\n",
    "    else:\n",
    "            return y\n",
    "    \n",
    "tidy['Measure Type'] = tidy.apply(lambda row: user_perc(row['Health and Social Care Trust'], row['Measure Type']), axis = 1)"
   ]
  },
  {
   "cell_type": "code",
   "execution_count": 31,
   "metadata": {},
   "outputs": [],
   "source": [
    "def user_perc(x,y):\n",
    "    \n",
    "    if  ((str(x) == 'Emergency admissions (HIS)  (%)')) : \n",
    "        \n",
    "            return 'Percentage'\n",
    "    else:\n",
    "            return y\n",
    "    \n",
    "tidy['Measure Type'] = tidy.apply(lambda row: user_perc(row['Health and Social Care Trust'], row['Measure Type']), axis = 1)"
   ]
  },
  {
   "cell_type": "code",
   "execution_count": 32,
   "metadata": {},
   "outputs": [],
   "source": [
    "tidy['Health and Social Care Trust'] = tidy['Health and Social Care Trust'].str.rstrip(' (%)')"
   ]
  },
  {
   "cell_type": "code",
   "execution_count": 33,
   "metadata": {},
   "outputs": [],
   "source": [
    "tidy['Health and Social Care Trust'] = tidy['Health and Social Care Trust'].str.lower()"
   ]
  },
  {
   "cell_type": "code",
   "execution_count": 34,
   "metadata": {},
   "outputs": [
    {
     "data": {
      "text/plain": [
       "array(['all', 'belfast', 'northern', 'south eastern', 'southern',\n",
       "       'western', 'emergency admissions (his'], dtype=object)"
      ]
     },
     "execution_count": 34,
     "metadata": {},
     "output_type": "execute_result"
    }
   ],
   "source": [
    "tidy['Health and Social Care Trust'].unique()"
   ]
  },
  {
   "cell_type": "code",
   "execution_count": 35,
   "metadata": {},
   "outputs": [],
   "source": [
    "tidy['Health and Social Care Trust'] = tidy['Health and Social Care Trust'].map(\n",
    "    lambda x: {\n",
    "        'south eastern' : 'south-eastern', \n",
    "        'emergency admissions (his)' : 'emergency-admissions',\n",
    "        'emergency admissions (his' : 'emergency-admissions'\n",
    "        }.get(x, x))"
   ]
  },
  {
   "cell_type": "code",
   "execution_count": 36,
   "metadata": {},
   "outputs": [],
   "source": [
    "tidy['Measure Type'] = tidy['Measure Type'].map(\n",
    "    lambda x: {\n",
    "        'Headcount' : 'Count', \n",
    "        'Percentage of Headcount' : 'Percentage',\n",
    "        }.get(x, x))"
   ]
  },
  {
   "cell_type": "code",
   "execution_count": 37,
   "metadata": {},
   "outputs": [
    {
     "data": {
      "text/plain": [
       "array(['Persons', 'Male', 'Female', 'Male (%)', 'Female (%)', 'Female  ',\n",
       "       'All'], dtype=object)"
      ]
     },
     "execution_count": 37,
     "metadata": {},
     "output_type": "execute_result"
    }
   ],
   "source": [
    "tidy['Sex'].unique()"
   ]
  },
  {
   "cell_type": "code",
   "execution_count": 38,
   "metadata": {},
   "outputs": [],
   "source": [
    "def user_perc(x,y):\n",
    "    \n",
    "    if ( (str(x) == 'Male (%)')) | ((str(x) == 'Female (%)')): \n",
    "        \n",
    "        return 'Percentage'\n",
    "    else:\n",
    "        return y\n",
    "    \n",
    "tidy['Measure Type'] = tidy.apply(lambda row: user_perc(row['Sex'], row['Measure Type']), axis = 1)\n",
    "\n"
   ]
  },
  {
   "cell_type": "code",
   "execution_count": 39,
   "metadata": {},
   "outputs": [],
   "source": [
    "tidy['Sex'] = tidy['Sex'].map(\n",
    "    lambda x: {\n",
    "        'Female' : 'F', \n",
    "        'Male' : 'M',\n",
    "        'Persons' : 'T',\n",
    "        'Female  ' : 'F',\n",
    "        'Male (%)' : 'M',\n",
    "        'Female (%)': 'F'\n",
    "        }.get(x, x))"
   ]
  },
  {
   "cell_type": "code",
   "execution_count": 40,
   "metadata": {},
   "outputs": [],
   "source": [
    "tidy['Sex'] = tidy['Sex'].str.rstrip('(%)')"
   ]
  },
  {
   "cell_type": "code",
   "execution_count": 41,
   "metadata": {},
   "outputs": [
    {
     "data": {
      "text/plain": [
       "array(['All', 'Statutory', 'Non-statutory', 'Prison', 'Statutory (%)',\n",
       "       'Non-statutory (%)', 'Prison (%)'], dtype=object)"
      ]
     },
     "execution_count": 41,
     "metadata": {},
     "output_type": "execute_result"
    }
   ],
   "source": [
    "tidy['Service Type'].unique()"
   ]
  },
  {
   "cell_type": "code",
   "execution_count": 42,
   "metadata": {},
   "outputs": [],
   "source": [
    "tidy['Service Type'] = tidy['Service Type'].map(\n",
    "    lambda x: {\n",
    "        'Total' : 'all',\n",
    "        'total' : 'all'\n",
    "        }.get(x, x))"
   ]
  },
  {
   "cell_type": "code",
   "execution_count": 43,
   "metadata": {},
   "outputs": [],
   "source": [
    "tidy['Service Type'] = tidy['Service Type'].str.rstrip(' (%)')"
   ]
  },
  {
   "cell_type": "code",
   "execution_count": 44,
   "metadata": {},
   "outputs": [],
   "source": [
    "tidy['Service Type'] = tidy['Service Type'].str.lower()"
   ]
  },
  {
   "cell_type": "code",
   "execution_count": 45,
   "metadata": {},
   "outputs": [],
   "source": [
    "tidy['Residential Status'] = tidy['Residential Status'].str.rstrip(' (%)')"
   ]
  },
  {
   "cell_type": "code",
   "execution_count": 46,
   "metadata": {},
   "outputs": [],
   "source": [
    "tidy['Residential Status'] = tidy['Residential Status'].str.lower()"
   ]
  },
  {
   "cell_type": "code",
   "execution_count": 47,
   "metadata": {},
   "outputs": [],
   "source": [
    "tidy['Health and Social Care Trust'] = tidy['Health and Social Care Trust'].map(\n",
    "    lambda x: {\n",
    "        'total' : 'all' \n",
    "        }.get(x, x))"
   ]
  },
  {
   "cell_type": "code",
   "execution_count": 48,
   "metadata": {},
   "outputs": [],
   "source": [
    "tidy['Residential Status'] = tidy['Residential Status'].map(\n",
    "    lambda x: {\n",
    "        'total' : 'all' \n",
    "        }.get(x, x))"
   ]
  },
  {
   "cell_type": "code",
   "execution_count": 49,
   "metadata": {
    "scrolled": false
   },
   "outputs": [
    {
     "data": {
      "text/html": [
       "<div>\n",
       "<style scoped>\n",
       "    .dataframe tbody tr th:only-of-type {\n",
       "        vertical-align: middle;\n",
       "    }\n",
       "\n",
       "    .dataframe tbody tr th {\n",
       "        vertical-align: top;\n",
       "    }\n",
       "\n",
       "    .dataframe thead th {\n",
       "        text-align: right;\n",
       "    }\n",
       "</style>\n",
       "<table border=\"1\" class=\"dataframe\">\n",
       "  <thead>\n",
       "    <tr style=\"text-align: right;\">\n",
       "      <th></th>\n",
       "      <th>Period</th>\n",
       "      <th>Sex</th>\n",
       "      <th>Age</th>\n",
       "      <th>Service Type</th>\n",
       "      <th>Residential Status</th>\n",
       "      <th>Treatment Type</th>\n",
       "      <th>Health and Social Care Trust</th>\n",
       "      <th>Measure Type</th>\n",
       "      <th>Unit</th>\n",
       "      <th>Value</th>\n",
       "    </tr>\n",
       "  </thead>\n",
       "  <tbody>\n",
       "    <tr>\n",
       "      <th>0</th>\n",
       "      <td>day/2017-03-01</td>\n",
       "      <td>T</td>\n",
       "      <td>under-18</td>\n",
       "      <td>all</td>\n",
       "      <td>all</td>\n",
       "      <td>alcohol</td>\n",
       "      <td>all</td>\n",
       "      <td>Count</td>\n",
       "      <td>People</td>\n",
       "      <td>95</td>\n",
       "    </tr>\n",
       "    <tr>\n",
       "      <th>4</th>\n",
       "      <td>day/2017-03-01</td>\n",
       "      <td>T</td>\n",
       "      <td>18-plus</td>\n",
       "      <td>all</td>\n",
       "      <td>all</td>\n",
       "      <td>alcohol</td>\n",
       "      <td>all</td>\n",
       "      <td>Count</td>\n",
       "      <td>People</td>\n",
       "      <td>2482</td>\n",
       "    </tr>\n",
       "    <tr>\n",
       "      <th>8</th>\n",
       "      <td>day/2017-03-01</td>\n",
       "      <td>T</td>\n",
       "      <td>All Ages</td>\n",
       "      <td>all</td>\n",
       "      <td>all</td>\n",
       "      <td>alcohol</td>\n",
       "      <td>all</td>\n",
       "      <td>Count</td>\n",
       "      <td>People</td>\n",
       "      <td>2577</td>\n",
       "    </tr>\n",
       "    <tr>\n",
       "      <th>12</th>\n",
       "      <td>day/2017-03-01</td>\n",
       "      <td>M</td>\n",
       "      <td>under-18</td>\n",
       "      <td>all</td>\n",
       "      <td>all</td>\n",
       "      <td>alcohol</td>\n",
       "      <td>all</td>\n",
       "      <td>Count</td>\n",
       "      <td>People</td>\n",
       "      <td>31</td>\n",
       "    </tr>\n",
       "    <tr>\n",
       "      <th>16</th>\n",
       "      <td>day/2017-03-01</td>\n",
       "      <td>M</td>\n",
       "      <td>18-plus</td>\n",
       "      <td>all</td>\n",
       "      <td>all</td>\n",
       "      <td>alcohol</td>\n",
       "      <td>all</td>\n",
       "      <td>Count</td>\n",
       "      <td>People</td>\n",
       "      <td>1536</td>\n",
       "    </tr>\n",
       "  </tbody>\n",
       "</table>\n",
       "</div>"
      ],
      "text/plain": [
       "            Period Sex       Age Service Type Residential Status  \\\n",
       "0   day/2017-03-01   T  under-18          all                all   \n",
       "4   day/2017-03-01   T   18-plus          all                all   \n",
       "8   day/2017-03-01   T  All Ages          all                all   \n",
       "12  day/2017-03-01   M  under-18          all                all   \n",
       "16  day/2017-03-01   M   18-plus          all                all   \n",
       "\n",
       "   Treatment Type Health and Social Care Trust Measure Type    Unit Value  \n",
       "0         alcohol                          all        Count  People    95  \n",
       "4         alcohol                          all        Count  People  2482  \n",
       "8         alcohol                          all        Count  People  2577  \n",
       "12        alcohol                          all        Count  People    31  \n",
       "16        alcohol                          all        Count  People  1536  "
      ]
     },
     "execution_count": 49,
     "metadata": {},
     "output_type": "execute_result"
    }
   ],
   "source": [
    "tidy.head()"
   ]
  },
  {
   "cell_type": "code",
   "execution_count": 50,
   "metadata": {},
   "outputs": [],
   "source": [
    "from pathlib import Path\n",
    "out = Path('out')\n",
    "out.mkdir(exist_ok=True)\n",
    "tidy.to_csv(out / 'observations.csv', index = False)"
   ]
  },
  {
   "cell_type": "code",
   "execution_count": 51,
   "metadata": {},
   "outputs": [],
   "source": [
    "tidy[tidy['Measure Type'] != 'Percentage'].to_csv(out / 'observations-no-percentages.csv', index=False)"
   ]
  },
  {
   "cell_type": "markdown",
   "metadata": {},
   "source": [
    "There's a metadata tab in the spreadsheet with abstract and contact details. **Todo: extract these and also figure out what the license should really be.**"
   ]
  },
  {
   "cell_type": "code",
   "execution_count": 52,
   "metadata": {},
   "outputs": [
    {
     "data": {
      "text/html": [
       "<div id=\"injblock1001\">\n",
       "<style>\n",
       "table.ex, table.exkey { border: thin black solid }\n",
       "table.ex td, table.ex tr { border: none }\n",
       "table.ex td:hover { border: thin blue solid }\n",
       "table.ex td.excOBS:hover { border: thin red solid }\n",
       "table.ex td.selected { border: thick red solid }\n",
       "</style>\n",
       "\n",
       "\n",
       "<table class=\"exkey\">\n",
       "<tr><td class=\"xc0\" style=\"background-color:Aqua\">OBS</td><td class=\"xc1\" style=\"background-color:LightGreen\">Property</td><td class=\"xc2\" style=\"background-color:MistyRose\">Heading</td></tr></table>\n",
       "\n",
       "<table class=\"ex\">\n",
       "<caption style=\"text-align:center; padding:0px; caption-side:bottom\">Metadata</caption>\n",
       "<tr><td title=\"0 0\">Metadata</td><td title=\"1 0\"></td></tr>\n",
       "<tr><td title=\"0 1\"></td><td title=\"1 1\"></td></tr>\n",
       "<tr><td style=\"background-color:MistyRose\" title=\"0 2\">Identification</td><td title=\"1 2\"></td></tr>\n",
       "<tr><td style=\"background-color:LightGreen\" title=\"0 3\">Dataset Title</td><td style=\"background-color:Aqua\" title=\"1 3\">Census of Drug and Alcohol Treatment Services in Northern Ireland: 1 March 2017 (Tables)</td></tr>\n",
       "<tr><td style=\"background-color:LightGreen\" title=\"0 4\">Abstract</td><td style=\"background-color:Aqua\" title=\"1 4\">This bulletin summarises the number of people in treatment for problem drug and/or alcohol misuse and relates to a snapshot of those in treatment on 1 March 2017. </td></tr>\n",
       "<tr><td style=\"background-color:LightGreen\" title=\"0 5\">Year of Data</td><td style=\"background-color:Aqua\" title=\"1 5\">1 March 2017 (with 2007, 2010, 2012 and 2014 comparisons)</td></tr>\n",
       "<tr><td style=\"background-color:LightGreen\" title=\"0 6\">Reporting period</td><td style=\"background-color:Aqua\" title=\"1 6\">Snapshot</td></tr>\n",
       "<tr><td title=\"0 7\"></td><td title=\"1 7\"></td></tr>\n",
       "<tr><td style=\"background-color:MistyRose\" title=\"0 8\">Classification</td><td title=\"1 8\"></td></tr>\n",
       "<tr><td style=\"background-color:LightGreen\" title=\"0 9\">National Statistics Theme</td><td style=\"background-color:Aqua\" title=\"1 9\">Health and Social Care</td></tr>\n",
       "<tr><td style=\"background-color:LightGreen\" title=\"0 10\">Keyword</td><td style=\"background-color:Aqua\" title=\"1 10\">Drug Alcohol Misuse Treatment</td></tr>\n",
       "<tr><td title=\"0 11\"></td><td title=\"1 11\"></td></tr>\n",
       "<tr><td style=\"background-color:MistyRose\" title=\"0 12\">Quality  and Validity</td><td title=\"1 12\"></td></tr>\n",
       "<tr><td style=\"background-color:LightGreen\" title=\"0 13\">National Statistics Data</td><td style=\"background-color:Aqua\" title=\"1 13\">No</td></tr>\n",
       "<tr><td style=\"background-color:LightGreen\" title=\"0 14\">Disclosure Control Methods</td><td style=\"background-color:Aqua\" title=\"1 14\">All data with cell sizes less than 3 has been masked to avoid the disclosure of any personal information.</td></tr>\n",
       "<tr><td style=\"background-color:LightGreen\" title=\"0 15\">Quality Issues</td><td style=\"background-color:Aqua\" title=\"1 15\">These figures only relate to those in treatment for drug and/or alcohol misuse from specialist services across Northern Ireland on a representative day. </td></tr>\n",
       "<tr><td title=\"0 16\"></td><td title=\"1 16\"></td></tr>\n",
       "<tr><td style=\"background-color:MistyRose\" title=\"0 17\">Organisation</td><td title=\"1 17\"></td></tr>\n",
       "<tr><td style=\"background-color:LightGreen\" title=\"0 18\">Organisation Name</td><td style=\"background-color:Aqua\" title=\"1 18\">Department of Health, Public Health Information & Research Branch</td></tr>\n",
       "<tr><td style=\"background-color:LightGreen\" title=\"0 19\">Email Address</td><td style=\"background-color:Aqua\" title=\"1 19\">PHIRB@health-ni.gov.uk</td></tr>\n",
       "<tr><td style=\"background-color:LightGreen\" title=\"0 20\">Responsible Party Role</td><td style=\"background-color:Aqua\" title=\"1 20\">Resource Provider</td></tr>\n",
       "<tr><td style=\"background-color:LightGreen\" title=\"0 21\">Telephone Number</td><td style=\"background-color:Aqua\" title=\"1 21\">028 9052 2523</td></tr>\n",
       "<tr><td title=\"0 22\"></td><td title=\"1 22\"></td></tr>\n",
       "<tr><td style=\"background-color:MistyRose\" title=\"0 23\">Constraints</td><td title=\"1 23\"></td></tr>\n",
       "<tr><td style=\"background-color:LightGreen\" title=\"0 24\">Limitations on Public Access</td><td style=\"background-color:Aqua\" title=\"1 24\">No restriction on public access</td></tr>\n",
       "<tr><td style=\"background-color:LightGreen\" title=\"0 25\">Use Constraints</td><td style=\"background-color:Aqua\" title=\"1 25\">No conditions apply</td></tr>\n",
       "</table>\n",
       "\n",
       "</div>\n",
       "\n",
       "<script>\n",
       "var jslookup = {\"1 21\":[0,21,0,17],\"1 25\":[0,25,0,23],\"1 10\":[0,10,0,8],\"1 24\":[0,24,0,23],\"1 15\":[0,15,0,12],\"1 3\":[0,3,0,2],\"1 18\":[0,18,0,17],\"1 20\":[0,20,0,17],\"1 14\":[0,14,0,12],\"1 13\":[0,13,0,12],\"1 6\":[0,6,0,2],\"1 19\":[0,19,0,17],\"1 4\":[0,4,0,2],\"1 9\":[0,9,0,8],\"1 5\":[0,5,0,2]}; \n",
       "var jdividNUM = \"injblock1001\"; \n",
       "var Dclickedcell = null; \n",
       "function clickedcell() \n",
       "{ \n",
       "    Dclickedcell = this; \n",
       "    console.log(\"jjjj\", this); \n",
       "    var rgc = new RegExp('(^|\\b)' + \"selected\".split(' ').join('|') + '(\\b|$)', 'gi'); \n",
       "    Array.prototype.forEach.call(document.querySelectorAll(\"div#\"+jdividNUM+\" table.ex td.selected\"), function(el, i) { \n",
       "        if (el.classList)  el.classList.remove(\"selected\");\n",
       "        else  el.className = el.className.replace(rgc, ' ');\n",
       "    }); \n",
       "    if (this.classList)  this.classList.add(\"selected\");\n",
       "    else this.className += ' ' + \"selected\";\n",
       "\n",
       "    var dimpairs = jslookup[this.title]; \n",
       "    if (dimpairs !== undefined) {\n",
       "        for (var i = 1; i < dimpairs.length; i += 2) {\n",
       "            var row = document.querySelectorAll(\"div#\"+jdividNUM+\" table.ex tr\")[dimpairs[i]]; \n",
       "            var el = row.querySelectorAll(\"td\")[dimpairs[i-1]]; \n",
       "            if (el.classList)  el.classList.add(\"selected\");\n",
       "            else el.className += ' ' + \"selected\";\n",
       "        }\n",
       "    }\n",
       "}\n",
       "Array.prototype.forEach.call(document.querySelectorAll(\"div#\"+jdividNUM+\" table.ex td\"), function(item, i) { item.onclick=clickedcell; }); \n",
       "</script>\n"
      ],
      "text/plain": [
       "<IPython.core.display.HTML object>"
      ]
     },
     "metadata": {},
     "output_type": "display_data"
    }
   ],
   "source": [
    "md_tab = tabs['Metadata']\n",
    "md_heading = md_tab.filter('Metadata')\n",
    "md_heading.assert_one()\n",
    "properties = md_heading.fill(DOWN).is_not_whitespace()\n",
    "values = properties.fill(RIGHT).is_not_whitespace()\n",
    "headings = properties - values.fill(LEFT)\n",
    "properties = properties - headings\n",
    "cs = ConversionSegment(values, [\n",
    "    HDim(properties, \"Property\", DIRECTLY, LEFT),\n",
    "    HDim(headings, \"Heading\", CLOSEST, UP)\n",
    "], includecellxy=True)\n",
    "savepreviewhtml(cs)"
   ]
  },
  {
   "cell_type": "code",
   "execution_count": 53,
   "metadata": {},
   "outputs": [
    {
     "name": "stdout",
     "output_type": "stream",
     "text": [
      "\n"
     ]
    }
   ],
   "source": [
    "from gssutils.metadata import THEME\n",
    "\n",
    "for i, row in cs.topandas().iterrows():\n",
    "    v = md_tab.get_at(row.__x, row.__y).value.strip()\n",
    "    if row.Property == 'Abstract':\n",
    "        scraper.dataset.description = v\n",
    "    elif row.Property == 'National Statistics Theme':\n",
    "        scraper.dataset.theme = THEME[pathify(v)]\n",
    "    elif row.Property == 'Keyword':\n",
    "        scraper.dataset.keyword = map(lambda x: x.strip(), v.split(' '))\n",
    "    elif row.Property == 'Email Address':\n",
    "        scraper.dataset.contactEmail = f'mailto:{v}'"
   ]
  },
  {
   "cell_type": "code",
   "execution_count": 55,
   "metadata": {},
   "outputs": [],
   "source": [
    "scraper.dataset.family = 'health'\n",
    "scraper.dataset.license = 'http://www.nationalarchives.gov.uk/doc/open-government-licence/version/3/'\n",
    "\n",
    "with open(out / 'dataset.trig', 'wb') as metadata:\n",
    "    metadata.write(scraper.generate_trig())"
   ]
  }
 ],
 "metadata": {
  "kernelspec": {
   "display_name": "Python 3",
   "language": "python",
   "name": "python3"
  },
  "language_info": {
   "codemirror_mode": {
    "name": "ipython",
    "version": 3
   },
   "file_extension": ".py",
   "mimetype": "text/x-python",
   "name": "python",
   "nbconvert_exporter": "python",
   "pygments_lexer": "ipython3",
   "version": "3.7.3"
  }
 },
 "nbformat": 4,
 "nbformat_minor": 2
}

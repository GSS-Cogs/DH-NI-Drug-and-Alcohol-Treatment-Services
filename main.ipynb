{
 "cells": [
  {
   "cell_type": "markdown",
   "metadata": {},
   "source": [
    "Census of Drug and Alcohol Treatment Services in Northern Ireland"
   ]
  },
  {
   "cell_type": "code",
   "execution_count": 1,
   "metadata": {},
   "outputs": [
    {
     "data": {
      "text/markdown": [
       "## Census of drug and alcohol treatment services in Northern Ireland 2017\n",
       "\n",
       "### Distributions\n",
       "\n",
       "1. Drug and Alcohol Census 2017 ([application/pdf](https://www.health-ni.gov.uk/sites/default/files/publications/health/drug-alcohol-census-2017.pdf))\n",
       "1. Data from Census of Drug and Alcohol Treatment Services ([MS Excel Spreadsheet](https://www.health-ni.gov.uk/sites/default/files/publications/dhssps/data-census-drug-alcohol-treatment-services.xlsx))\n",
       "1. Pre-release Access List Drug and Alcohol Census ([application/pdf](https://www.health-ni.gov.uk/sites/default/files/publications/dhssps/pre-release-drug-alcohol-census.pdf))\n"
      ],
      "text/plain": [
       "<gssutils.scrape.Scraper at 0x288b6e6e4a8>"
      ]
     },
     "execution_count": 1,
     "metadata": {},
     "output_type": "execute_result"
    }
   ],
   "source": [
    "from gssutils import *\n",
    "scraper = Scraper('https://www.health-ni.gov.uk/publications/census-drug-and-alcohol-treatment-services-northern-ireland-2017')\n",
    "scraper"
   ]
  },
  {
   "cell_type": "code",
   "execution_count": 2,
   "metadata": {},
   "outputs": [
    {
     "data": {
      "text/plain": [
       "dict_keys(['Contents & Notes to tables', 'Table 1', 'Table 2', 'Table 3', 'Table 4', 'Table 5', 'Metadata'])"
      ]
     },
     "execution_count": 2,
     "metadata": {},
     "output_type": "execute_result"
    }
   ],
   "source": [
    "tabs = {tab.name: tab for tab in scraper.distribution(\n",
    "    title='Data from Census of Drug and Alcohol Treatment Services').as_databaker()}\n",
    "tabs.keys()"
   ]
  },
  {
   "cell_type": "code",
   "execution_count": 3,
   "metadata": {},
   "outputs": [
    {
     "name": "stdout",
     "output_type": "stream",
     "text": [
      "\n",
      "\n",
      "\n",
      "\n",
      "\n",
      "\n",
      "\n",
      "\n"
     ]
    }
   ],
   "source": [
    "tables = []\n",
    "for tab_name, script in [\n",
    "    ('Table 1', 'Treatment Services by Age and Gender.ipynb'),\n",
    "    ('Table 2', 'Treatment Services by Service Type(Age).ipynb'),\n",
    "    ('Table 2', 'Treatment Services by Service Type(sex).ipynb'),\n",
    "    ('Table 3', 'Treatment Services by Residential status(Age).ipynb'),\n",
    "    ('Table 3', 'Treatment Services by Residential Status(sex).ipynb'),\n",
    "    ('Table 4', 'Treatment Services by Trust(Age).ipynb'),\n",
    "    ('Table 4', 'Treatment Services by Trust(sex).ipynb'),\n",
    "    ('Table 5', 'Treatment Services by Comparison table.ipynb')\n",
    "]:\n",
    "    tab = tabs[tab_name]\n",
    "    %run \"$script\"\n",
    "    tables.append(new_table)"
   ]
  },
  {
   "cell_type": "code",
   "execution_count": 4,
   "metadata": {},
   "outputs": [
    {
     "data": {
      "text/plain": [
       "Period            834\n",
       "Category          834\n",
       "Age               834\n",
       "Sex               834\n",
       "Treatment Type    827\n",
       "Measure Type      834\n",
       "Value             834\n",
       "Unit              834\n",
       "dtype: int64"
      ]
     },
     "execution_count": 4,
     "metadata": {},
     "output_type": "execute_result"
    }
   ],
   "source": [
    "tidy = pd.concat(tables)\n",
    "tidy.count()"
   ]
  },
  {
   "cell_type": "code",
   "execution_count": 5,
   "metadata": {
    "collapsed": true
   },
   "outputs": [],
   "source": [
    "tidy['Treatment Type'].fillna('Total', inplace = True)"
   ]
  },
  {
   "cell_type": "code",
   "execution_count": 6,
   "metadata": {},
   "outputs": [
    {
     "data": {
      "text/plain": [
       "Period            834\n",
       "Category          834\n",
       "Age               834\n",
       "Sex               834\n",
       "Treatment Type    834\n",
       "Measure Type      834\n",
       "Value             834\n",
       "Unit              834\n",
       "dtype: int64"
      ]
     },
     "execution_count": 6,
     "metadata": {},
     "output_type": "execute_result"
    }
   ],
   "source": [
    "tidy.count()"
   ]
  },
  {
   "cell_type": "code",
   "execution_count": 7,
   "metadata": {},
   "outputs": [
    {
     "data": {
      "text/plain": [
       "array(['Alcohol Only', 'Drugs Only', 'Drugs & Alcohol', 'Total', 'All',\n",
       "       'Under 18s', '18 and over', 'Male', 'Female  ', 'Under 18 ',\n",
       "       'Statutory', 'Non-statutory', 'Prison', 'Residential',\n",
       "       'Non-residential / Mixed', 'Belfast', 'Northern', 'South Eastern',\n",
       "       'Southern', 'Western', 'Emergency admissions (HIS)'], dtype=object)"
      ]
     },
     "execution_count": 7,
     "metadata": {},
     "output_type": "execute_result"
    }
   ],
   "source": [
    "tidy['Treatment Type'].unique()"
   ]
  },
  {
   "cell_type": "code",
   "execution_count": 8,
   "metadata": {},
   "outputs": [
    {
     "data": {
      "text/html": [
       "<div>\n",
       "<style scoped>\n",
       "    .dataframe tbody tr th:only-of-type {\n",
       "        vertical-align: middle;\n",
       "    }\n",
       "\n",
       "    .dataframe tbody tr th {\n",
       "        vertical-align: top;\n",
       "    }\n",
       "\n",
       "    .dataframe thead th {\n",
       "        text-align: right;\n",
       "    }\n",
       "</style>\n",
       "<table border=\"1\" class=\"dataframe\">\n",
       "  <thead>\n",
       "    <tr style=\"text-align: right;\">\n",
       "      <th></th>\n",
       "      <th>Period</th>\n",
       "      <th>Category</th>\n",
       "      <th>Age</th>\n",
       "      <th>Sex</th>\n",
       "      <th>Treatment Type</th>\n",
       "      <th>Measure Type</th>\n",
       "      <th>Value</th>\n",
       "      <th>Unit</th>\n",
       "    </tr>\n",
       "  </thead>\n",
       "  <tbody>\n",
       "    <tr>\n",
       "      <th>0</th>\n",
       "      <td>1 March 2017</td>\n",
       "      <td>All</td>\n",
       "      <td>Under 18</td>\n",
       "      <td>Persons</td>\n",
       "      <td>Alcohol Only</td>\n",
       "      <td>Count</td>\n",
       "      <td>95</td>\n",
       "      <td>People</td>\n",
       "    </tr>\n",
       "    <tr>\n",
       "      <th>1</th>\n",
       "      <td>1 March 2017</td>\n",
       "      <td>All</td>\n",
       "      <td>Under 18</td>\n",
       "      <td>Persons</td>\n",
       "      <td>Drugs Only</td>\n",
       "      <td>Count</td>\n",
       "      <td>324</td>\n",
       "      <td>People</td>\n",
       "    </tr>\n",
       "    <tr>\n",
       "      <th>2</th>\n",
       "      <td>1 March 2017</td>\n",
       "      <td>All</td>\n",
       "      <td>Under 18</td>\n",
       "      <td>Persons</td>\n",
       "      <td>Drugs &amp; Alcohol</td>\n",
       "      <td>Count</td>\n",
       "      <td>294</td>\n",
       "      <td>People</td>\n",
       "    </tr>\n",
       "    <tr>\n",
       "      <th>3</th>\n",
       "      <td>1 March 2017</td>\n",
       "      <td>All</td>\n",
       "      <td>Under 18</td>\n",
       "      <td>Persons</td>\n",
       "      <td>Total</td>\n",
       "      <td>Count</td>\n",
       "      <td>713</td>\n",
       "      <td>People</td>\n",
       "    </tr>\n",
       "    <tr>\n",
       "      <th>4</th>\n",
       "      <td>1 March 2017</td>\n",
       "      <td>All</td>\n",
       "      <td>18 and over</td>\n",
       "      <td>Persons</td>\n",
       "      <td>Alcohol Only</td>\n",
       "      <td>Count</td>\n",
       "      <td>2482</td>\n",
       "      <td>People</td>\n",
       "    </tr>\n",
       "  </tbody>\n",
       "</table>\n",
       "</div>"
      ],
      "text/plain": [
       "         Period Category          Age      Sex   Treatment Type Measure Type  \\\n",
       "0  1 March 2017      All    Under 18   Persons     Alcohol Only        Count   \n",
       "1  1 March 2017      All    Under 18   Persons       Drugs Only        Count   \n",
       "2  1 March 2017      All    Under 18   Persons  Drugs & Alcohol        Count   \n",
       "3  1 March 2017      All    Under 18   Persons            Total        Count   \n",
       "4  1 March 2017      All  18 and over  Persons     Alcohol Only        Count   \n",
       "\n",
       "  Value    Unit  \n",
       "0    95  People  \n",
       "1   324  People  \n",
       "2   294  People  \n",
       "3   713  People  \n",
       "4  2482  People  "
      ]
     },
     "execution_count": 8,
     "metadata": {},
     "output_type": "execute_result"
    }
   ],
   "source": [
    "tidy.head()"
   ]
  },
  {
   "cell_type": "code",
   "execution_count": 9,
   "metadata": {
    "collapsed": true
   },
   "outputs": [],
   "source": [
    "tidy = tidy[tidy['Treatment Type'] == 'Alcohol Only']"
   ]
  },
  {
   "cell_type": "code",
   "execution_count": 10,
   "metadata": {},
   "outputs": [
    {
     "data": {
      "text/html": [
       "<div>\n",
       "<style scoped>\n",
       "    .dataframe tbody tr th:only-of-type {\n",
       "        vertical-align: middle;\n",
       "    }\n",
       "\n",
       "    .dataframe tbody tr th {\n",
       "        vertical-align: top;\n",
       "    }\n",
       "\n",
       "    .dataframe thead th {\n",
       "        text-align: right;\n",
       "    }\n",
       "</style>\n",
       "<table border=\"1\" class=\"dataframe\">\n",
       "  <thead>\n",
       "    <tr style=\"text-align: right;\">\n",
       "      <th></th>\n",
       "      <th>Period</th>\n",
       "      <th>Category</th>\n",
       "      <th>Age</th>\n",
       "      <th>Sex</th>\n",
       "      <th>Treatment Type</th>\n",
       "      <th>Measure Type</th>\n",
       "      <th>Value</th>\n",
       "      <th>Unit</th>\n",
       "    </tr>\n",
       "  </thead>\n",
       "  <tbody>\n",
       "    <tr>\n",
       "      <th>0</th>\n",
       "      <td>1 March 2017</td>\n",
       "      <td>All</td>\n",
       "      <td>Under 18</td>\n",
       "      <td>Persons</td>\n",
       "      <td>Alcohol Only</td>\n",
       "      <td>Count</td>\n",
       "      <td>95</td>\n",
       "      <td>People</td>\n",
       "    </tr>\n",
       "    <tr>\n",
       "      <th>4</th>\n",
       "      <td>1 March 2017</td>\n",
       "      <td>All</td>\n",
       "      <td>18 and over</td>\n",
       "      <td>Persons</td>\n",
       "      <td>Alcohol Only</td>\n",
       "      <td>Count</td>\n",
       "      <td>2482</td>\n",
       "      <td>People</td>\n",
       "    </tr>\n",
       "    <tr>\n",
       "      <th>8</th>\n",
       "      <td>1 March 2017</td>\n",
       "      <td>All</td>\n",
       "      <td>All years</td>\n",
       "      <td>Persons</td>\n",
       "      <td>Alcohol Only</td>\n",
       "      <td>Count</td>\n",
       "      <td>2577</td>\n",
       "      <td>People</td>\n",
       "    </tr>\n",
       "    <tr>\n",
       "      <th>12</th>\n",
       "      <td>1 March 2017</td>\n",
       "      <td>All</td>\n",
       "      <td>Under 18</td>\n",
       "      <td>Male</td>\n",
       "      <td>Alcohol Only</td>\n",
       "      <td>Count</td>\n",
       "      <td>31</td>\n",
       "      <td>People</td>\n",
       "    </tr>\n",
       "    <tr>\n",
       "      <th>16</th>\n",
       "      <td>1 March 2017</td>\n",
       "      <td>All</td>\n",
       "      <td>18 and over</td>\n",
       "      <td>Male</td>\n",
       "      <td>Alcohol Only</td>\n",
       "      <td>Count</td>\n",
       "      <td>1536</td>\n",
       "      <td>People</td>\n",
       "    </tr>\n",
       "  </tbody>\n",
       "</table>\n",
       "</div>"
      ],
      "text/plain": [
       "          Period Category          Age      Sex Treatment Type Measure Type  \\\n",
       "0   1 March 2017      All    Under 18   Persons   Alcohol Only        Count   \n",
       "4   1 March 2017      All  18 and over  Persons   Alcohol Only        Count   \n",
       "8   1 March 2017      All    All years  Persons   Alcohol Only        Count   \n",
       "12  1 March 2017      All    Under 18      Male   Alcohol Only        Count   \n",
       "16  1 March 2017      All  18 and over     Male   Alcohol Only        Count   \n",
       "\n",
       "   Value    Unit  \n",
       "0     95  People  \n",
       "4   2482  People  \n",
       "8   2577  People  \n",
       "12    31  People  \n",
       "16  1536  People  "
      ]
     },
     "execution_count": 10,
     "metadata": {},
     "output_type": "execute_result"
    }
   ],
   "source": [
    "tidy.head()"
   ]
  },
  {
   "cell_type": "code",
   "execution_count": 11,
   "metadata": {},
   "outputs": [
    {
     "data": {
      "text/plain": [
       "array(['Persons', 'Male', 'Female', 'Male (%)', 'Female (%)',\n",
       "       '% of Total', '% of all Males ', '% of all Females', 'Female  '],\n",
       "      dtype=object)"
      ]
     },
     "execution_count": 11,
     "metadata": {},
     "output_type": "execute_result"
    }
   ],
   "source": [
    "tidy['Sex'].unique()"
   ]
  },
  {
   "cell_type": "code",
   "execution_count": 12,
   "metadata": {
    "collapsed": true
   },
   "outputs": [],
   "source": [
    "tidy.drop(tidy[tidy.Sex.isin(['% of Total', '% of all Males ','% of all Females'])].index, inplace = True)"
   ]
  },
  {
   "cell_type": "code",
   "execution_count": 13,
   "metadata": {},
   "outputs": [
    {
     "data": {
      "text/plain": [
       "array(['Persons', 'Male', 'Female', 'Male (%)', 'Female (%)', 'Female  '],\n",
       "      dtype=object)"
      ]
     },
     "execution_count": 13,
     "metadata": {},
     "output_type": "execute_result"
    }
   ],
   "source": [
    "tidy['Sex'].unique()"
   ]
  },
  {
   "cell_type": "code",
   "execution_count": 14,
   "metadata": {},
   "outputs": [
    {
     "data": {
      "text/plain": [
       "array(['1 March 2017', '1st March 2007', '1st March 2010',\n",
       "       '1st March 2012', '1st September2014', '1st March 2017'],\n",
       "      dtype=object)"
      ]
     },
     "execution_count": 14,
     "metadata": {},
     "output_type": "execute_result"
    }
   ],
   "source": [
    "tidy['Period'].unique()"
   ]
  },
  {
   "cell_type": "code",
   "execution_count": 15,
   "metadata": {
    "collapsed": true
   },
   "outputs": [],
   "source": [
    "from datetime import datetime"
   ]
  },
  {
   "cell_type": "code",
   "execution_count": 16,
   "metadata": {
    "collapsed": true
   },
   "outputs": [],
   "source": [
    "tidy.Period = pd.to_datetime(tidy.Period).dt.strftime('%d-%b-%y')"
   ]
  },
  {
   "cell_type": "code",
   "execution_count": 17,
   "metadata": {
    "collapsed": true
   },
   "outputs": [],
   "source": [
    "tidy['Period'] = str('day/') + tidy['Period']"
   ]
  },
  {
   "cell_type": "code",
   "execution_count": 18,
   "metadata": {},
   "outputs": [
    {
     "data": {
      "text/plain": [
       "array(['Under 18 ', '18 and over', 'All years', 'All'], dtype=object)"
      ]
     },
     "execution_count": 18,
     "metadata": {},
     "output_type": "execute_result"
    }
   ],
   "source": [
    "tidy['Age'].unique()"
   ]
  },
  {
   "cell_type": "code",
   "execution_count": 19,
   "metadata": {
    "collapsed": true
   },
   "outputs": [],
   "source": [
    "tidy['Age'] = tidy['Age'].map(\n",
    "    lambda x: {\n",
    "        'Under 18 ' : 'under-18', \n",
    "        '18 and over' : '18-plus',\n",
    "        'All years': 'all' ,\n",
    "        'All': 'all'\n",
    "        }.get(x, x))"
   ]
  },
  {
   "cell_type": "code",
   "execution_count": 20,
   "metadata": {
    "collapsed": true
   },
   "outputs": [],
   "source": [
    "tidy['Treatment Type'] = 'alcohol'"
   ]
  },
  {
   "cell_type": "code",
   "execution_count": 21,
   "metadata": {
    "collapsed": true
   },
   "outputs": [],
   "source": [
    "tidy['Category'] = tidy['Category'].str.lower()"
   ]
  },
  {
   "cell_type": "code",
   "execution_count": 22,
   "metadata": {},
   "outputs": [
    {
     "data": {
      "text/plain": [
       "array(['all', 'total', 'statutory', 'non-statutory', 'prison',\n",
       "       'statutory (%)', 'non-statutory (%)', 'prison (%)', 'residential',\n",
       "       'non-residential ', 'mixed', 'residential (%)',\n",
       "       'non-residential (%)', 'mixed (%)', 'belfast', 'northern',\n",
       "       'south eastern', 'southern', 'belfast (%)', 'northern (%)',\n",
       "       'south eastern (%)', 'southern (%)', 'western (%)',\n",
       "       'emergency admissions (his) (%)', 'western',\n",
       "       'emergency admissions (his)', 'emergency admissions (his)  (%)',\n",
       "       'treatment type'], dtype=object)"
      ]
     },
     "execution_count": 22,
     "metadata": {},
     "output_type": "execute_result"
    }
   ],
   "source": [
    "tidy['Category'].unique()"
   ]
  },
  {
   "cell_type": "code",
   "execution_count": 23,
   "metadata": {
    "collapsed": true
   },
   "outputs": [],
   "source": [
    "tidy['Category'] = tidy['Category'].map(\n",
    "    lambda x: {\n",
    "        'south eastern' : 'south-eastern', \n",
    "        'emergency admissions (his)' : 'emergency-admissions'\n",
    "        }.get(x, x))"
   ]
  },
  {
   "cell_type": "code",
   "execution_count": 24,
   "metadata": {
    "collapsed": true
   },
   "outputs": [],
   "source": [
    "tidy['Category'] = tidy['Category'].map(\n",
    "    lambda x: {\n",
    "        'Headcount' : 'Count', \n",
    "        'Percentage of Headcount' : 'Percentage',\n",
    "        }.get(x, x))"
   ]
  },
  {
   "cell_type": "code",
   "execution_count": 25,
   "metadata": {
    "collapsed": true
   },
   "outputs": [],
   "source": [
    "tidy['Measure Type'] = tidy['Measure Type'].map(\n",
    "    lambda x: {\n",
    "        'Headcount' : 'Count', \n",
    "        'Percentage of Headcount' : 'Percentage',\n",
    "        }.get(x, x))"
   ]
  },
  {
   "cell_type": "code",
   "execution_count": 26,
   "metadata": {
    "scrolled": false
   },
   "outputs": [
    {
     "data": {
      "text/html": [
       "<div>\n",
       "<style scoped>\n",
       "    .dataframe tbody tr th:only-of-type {\n",
       "        vertical-align: middle;\n",
       "    }\n",
       "\n",
       "    .dataframe tbody tr th {\n",
       "        vertical-align: top;\n",
       "    }\n",
       "\n",
       "    .dataframe thead th {\n",
       "        text-align: right;\n",
       "    }\n",
       "</style>\n",
       "<table border=\"1\" class=\"dataframe\">\n",
       "  <thead>\n",
       "    <tr style=\"text-align: right;\">\n",
       "      <th></th>\n",
       "      <th>Period</th>\n",
       "      <th>Category</th>\n",
       "      <th>Age</th>\n",
       "      <th>Sex</th>\n",
       "      <th>Treatment Type</th>\n",
       "      <th>Measure Type</th>\n",
       "      <th>Value</th>\n",
       "      <th>Unit</th>\n",
       "    </tr>\n",
       "  </thead>\n",
       "  <tbody>\n",
       "    <tr>\n",
       "      <th>0</th>\n",
       "      <td>day/01-Mar-17</td>\n",
       "      <td>all</td>\n",
       "      <td>under-18</td>\n",
       "      <td>Persons</td>\n",
       "      <td>alcohol</td>\n",
       "      <td>Count</td>\n",
       "      <td>95</td>\n",
       "      <td>People</td>\n",
       "    </tr>\n",
       "    <tr>\n",
       "      <th>4</th>\n",
       "      <td>day/01-Mar-17</td>\n",
       "      <td>all</td>\n",
       "      <td>18-plus</td>\n",
       "      <td>Persons</td>\n",
       "      <td>alcohol</td>\n",
       "      <td>Count</td>\n",
       "      <td>2482</td>\n",
       "      <td>People</td>\n",
       "    </tr>\n",
       "    <tr>\n",
       "      <th>8</th>\n",
       "      <td>day/01-Mar-17</td>\n",
       "      <td>all</td>\n",
       "      <td>all</td>\n",
       "      <td>Persons</td>\n",
       "      <td>alcohol</td>\n",
       "      <td>Count</td>\n",
       "      <td>2577</td>\n",
       "      <td>People</td>\n",
       "    </tr>\n",
       "    <tr>\n",
       "      <th>12</th>\n",
       "      <td>day/01-Mar-17</td>\n",
       "      <td>all</td>\n",
       "      <td>under-18</td>\n",
       "      <td>Male</td>\n",
       "      <td>alcohol</td>\n",
       "      <td>Count</td>\n",
       "      <td>31</td>\n",
       "      <td>People</td>\n",
       "    </tr>\n",
       "    <tr>\n",
       "      <th>16</th>\n",
       "      <td>day/01-Mar-17</td>\n",
       "      <td>all</td>\n",
       "      <td>18-plus</td>\n",
       "      <td>Male</td>\n",
       "      <td>alcohol</td>\n",
       "      <td>Count</td>\n",
       "      <td>1536</td>\n",
       "      <td>People</td>\n",
       "    </tr>\n",
       "  </tbody>\n",
       "</table>\n",
       "</div>"
      ],
      "text/plain": [
       "           Period Category       Age      Sex Treatment Type Measure Type  \\\n",
       "0   day/01-Mar-17      all  under-18  Persons        alcohol        Count   \n",
       "4   day/01-Mar-17      all   18-plus  Persons        alcohol        Count   \n",
       "8   day/01-Mar-17      all       all  Persons        alcohol        Count   \n",
       "12  day/01-Mar-17      all  under-18     Male        alcohol        Count   \n",
       "16  day/01-Mar-17      all   18-plus     Male        alcohol        Count   \n",
       "\n",
       "   Value    Unit  \n",
       "0     95  People  \n",
       "4   2482  People  \n",
       "8   2577  People  \n",
       "12    31  People  \n",
       "16  1536  People  "
      ]
     },
     "execution_count": 26,
     "metadata": {},
     "output_type": "execute_result"
    }
   ],
   "source": [
    "tidy.head()"
   ]
  },
  {
   "cell_type": "code",
   "execution_count": 27,
   "metadata": {},
   "outputs": [],
   "source": [
    "from pathlib import Path\n",
    "out = Path('out')\n",
    "out.mkdir(exist_ok=True)\n",
    "tidy.to_csv(out / 'observations.csv', index = False)"
   ]
  },
  {
   "cell_type": "markdown",
   "metadata": {},
   "source": [
    "There's a metadata tab in the spreadsheet with abstract and contact details. **Todo: extract these and also figure out what the license should really be.**"
   ]
  },
  {
   "cell_type": "code",
   "execution_count": 28,
   "metadata": {
    "collapsed": true
   },
   "outputs": [],
   "source": [
    "scraper.dataset.family = 'health'\n",
    "scraper.dataset.license = 'http://www.nationalarchives.gov.uk/doc/open-government-licence/version/3/'\n",
    "\n",
    "with open(out / 'dataset.trig', 'wb') as metadata:\n",
    "    metadata.write(scraper.generate_trig())"
   ]
  },
  {
   "cell_type": "code",
   "execution_count": null,
   "metadata": {
    "collapsed": true
   },
   "outputs": [],
   "source": []
  }
 ],
 "metadata": {
  "kernelspec": {
   "display_name": "Python 3",
   "language": "python",
   "name": "python3"
  },
  "language_info": {
   "codemirror_mode": {
    "name": "ipython",
    "version": 3
   },
   "file_extension": ".py",
   "mimetype": "text/x-python",
   "name": "python",
   "nbconvert_exporter": "python",
   "pygments_lexer": "ipython3",
   "version": "3.6.3"
  }
 },
 "nbformat": 4,
 "nbformat_minor": 2
}

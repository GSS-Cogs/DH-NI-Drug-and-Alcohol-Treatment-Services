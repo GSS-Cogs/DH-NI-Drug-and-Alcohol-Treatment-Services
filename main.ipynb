{
 "cells": [
  {
   "cell_type": "markdown",
   "metadata": {},
   "source": [
    "Census of Drug and Alcohol Treatment Services in Northern Ireland"
   ]
  },
  {
   "cell_type": "code",
   "execution_count": 1,
   "metadata": {},
   "outputs": [
    {
     "data": {
      "text/markdown": [
       "## Census of drug and alcohol treatment services in Northern Ireland 2017\n",
       "\n",
       "### Distributions\n",
       "\n",
       "1. Drug and Alcohol Census 2017 ([application/pdf](https://www.health-ni.gov.uk/sites/default/files/publications/health/drug-alcohol-census-2017.pdf))\n",
       "1. Data from Census of Drug and Alcohol Treatment Services ([MS Excel Spreadsheet](https://www.health-ni.gov.uk/sites/default/files/publications/dhssps/data-census-drug-alcohol-treatment-services.xlsx))\n",
       "1. Pre-release Access List Drug and Alcohol Census ([application/pdf](https://www.health-ni.gov.uk/sites/default/files/publications/dhssps/pre-release-drug-alcohol-census.pdf))\n"
      ],
      "text/plain": [
       "<gssutils.scrape.Scraper at 0x7f19586019b0>"
      ]
     },
     "execution_count": 1,
     "metadata": {},
     "output_type": "execute_result"
    }
   ],
   "source": [
    "from gssutils import *\n",
    "scraper = Scraper('https://www.health-ni.gov.uk/publications/census-drug-and-alcohol-treatment-services-northern-ireland-2017')\n",
    "scraper"
   ]
  },
  {
   "cell_type": "code",
   "execution_count": 2,
   "metadata": {},
   "outputs": [
    {
     "data": {
      "text/plain": [
       "dict_keys(['Contents & Notes to tables', 'Table 1', 'Table 2', 'Table 3', 'Table 4', 'Table 5', 'Metadata'])"
      ]
     },
     "execution_count": 2,
     "metadata": {},
     "output_type": "execute_result"
    }
   ],
   "source": [
    "tabs = {tab.name: tab for tab in scraper.distribution(\n",
    "    title='Data from Census of Drug and Alcohol Treatment Services').as_databaker()}\n",
    "tabs.keys()"
   ]
  },
  {
   "cell_type": "code",
   "execution_count": 3,
   "metadata": {},
   "outputs": [
    {
     "name": "stdout",
     "output_type": "stream",
     "text": [
      "\n",
      "\n",
      "\n",
      "\n",
      "\n",
      "\n",
      "\n",
      "\n"
     ]
    }
   ],
   "source": [
    "tables = []\n",
    "for tab_name, script in [\n",
    "    ('Table 1', 'Treatment Services by Age and Gender.ipynb'),\n",
    "    ('Table 2', 'Treatment Services by Service Type(Age).ipynb'),\n",
    "    ('Table 2', 'Treatment Services by Service Type(sex).ipynb'),\n",
    "    ('Table 3', 'Treatment Services by Residential status(Age).ipynb'),\n",
    "    ('Table 3', 'Treatment Services by Residential Status(sex).ipynb'),\n",
    "    ('Table 4', 'Treatment Services by Trust(Age).ipynb'),\n",
    "    ('Table 4', 'Treatment Services by Trust(sex).ipynb'),\n",
    "    ('Table 5', 'Treatment Services by Comparison table.ipynb')\n",
    "]:\n",
    "    tab = tabs[tab_name]\n",
    "    %run \"$script\"\n",
    "    tables.append(new_table)"
   ]
  },
  {
   "cell_type": "code",
   "execution_count": 4,
   "metadata": {},
   "outputs": [
    {
     "data": {
      "text/plain": [
       "Period                          724\n",
       "Sex                             724\n",
       "Age                             724\n",
       "Service Type                    724\n",
       "Residential Status              724\n",
       "Treatment Type                  724\n",
       "Health and Social Care Trust    724\n",
       "Measure Type                    724\n",
       "Unit                            724\n",
       "Value                           724\n",
       "dtype: int64"
      ]
     },
     "execution_count": 4,
     "metadata": {},
     "output_type": "execute_result"
    }
   ],
   "source": [
    "tidy = pd.concat(tables)\n",
    "tidy.count()"
   ]
  },
  {
   "cell_type": "code",
   "execution_count": 5,
   "metadata": {},
   "outputs": [],
   "source": [
    "tidy['Treatment Type'].fillna('Total', inplace = True)"
   ]
  },
  {
   "cell_type": "code",
   "execution_count": 6,
   "metadata": {},
   "outputs": [
    {
     "data": {
      "text/plain": [
       "Period                          724\n",
       "Sex                             724\n",
       "Age                             724\n",
       "Service Type                    724\n",
       "Residential Status              724\n",
       "Treatment Type                  724\n",
       "Health and Social Care Trust    724\n",
       "Measure Type                    724\n",
       "Unit                            724\n",
       "Value                           724\n",
       "dtype: int64"
      ]
     },
     "execution_count": 6,
     "metadata": {},
     "output_type": "execute_result"
    }
   ],
   "source": [
    "tidy.count()"
   ]
  },
  {
   "cell_type": "code",
   "execution_count": 7,
   "metadata": {},
   "outputs": [
    {
     "data": {
      "text/plain": [
       "array(['Alcohol Only', 'Drugs Only', 'Drugs & Alcohol', 'Total', 'All',\n",
       "       'Under 18s', '18 and over', 'Male', 'Female  ', 'Under 18 ',\n",
       "       'Statutory', 'Non-statutory', 'Prison', 'Residential',\n",
       "       'Non-residential / Mixed', 'Belfast', 'Northern', 'South Eastern',\n",
       "       'Southern', 'Western', 'Emergency admissions (HIS)'], dtype=object)"
      ]
     },
     "execution_count": 7,
     "metadata": {},
     "output_type": "execute_result"
    }
   ],
   "source": [
    "tidy['Treatment Type'].unique()"
   ]
  },
  {
   "cell_type": "code",
   "execution_count": 8,
   "metadata": {},
   "outputs": [
    {
     "data": {
      "text/html": [
       "<div>\n",
       "<style scoped>\n",
       "    .dataframe tbody tr th:only-of-type {\n",
       "        vertical-align: middle;\n",
       "    }\n",
       "\n",
       "    .dataframe tbody tr th {\n",
       "        vertical-align: top;\n",
       "    }\n",
       "\n",
       "    .dataframe thead th {\n",
       "        text-align: right;\n",
       "    }\n",
       "</style>\n",
       "<table border=\"1\" class=\"dataframe\">\n",
       "  <thead>\n",
       "    <tr style=\"text-align: right;\">\n",
       "      <th></th>\n",
       "      <th>Period</th>\n",
       "      <th>Sex</th>\n",
       "      <th>Age</th>\n",
       "      <th>Service Type</th>\n",
       "      <th>Residential Status</th>\n",
       "      <th>Treatment Type</th>\n",
       "      <th>Health and Social Care Trust</th>\n",
       "      <th>Measure Type</th>\n",
       "      <th>Unit</th>\n",
       "      <th>Value</th>\n",
       "    </tr>\n",
       "  </thead>\n",
       "  <tbody>\n",
       "    <tr>\n",
       "      <th>0</th>\n",
       "      <td>1 March 2017</td>\n",
       "      <td>Persons</td>\n",
       "      <td>Under 18</td>\n",
       "      <td>All</td>\n",
       "      <td>All</td>\n",
       "      <td>Alcohol Only</td>\n",
       "      <td>All</td>\n",
       "      <td>Count</td>\n",
       "      <td>People</td>\n",
       "      <td>95</td>\n",
       "    </tr>\n",
       "    <tr>\n",
       "      <th>1</th>\n",
       "      <td>1 March 2017</td>\n",
       "      <td>Persons</td>\n",
       "      <td>Under 18</td>\n",
       "      <td>All</td>\n",
       "      <td>All</td>\n",
       "      <td>Drugs Only</td>\n",
       "      <td>All</td>\n",
       "      <td>Count</td>\n",
       "      <td>People</td>\n",
       "      <td>324</td>\n",
       "    </tr>\n",
       "    <tr>\n",
       "      <th>2</th>\n",
       "      <td>1 March 2017</td>\n",
       "      <td>Persons</td>\n",
       "      <td>Under 18</td>\n",
       "      <td>All</td>\n",
       "      <td>All</td>\n",
       "      <td>Drugs &amp; Alcohol</td>\n",
       "      <td>All</td>\n",
       "      <td>Count</td>\n",
       "      <td>People</td>\n",
       "      <td>294</td>\n",
       "    </tr>\n",
       "    <tr>\n",
       "      <th>3</th>\n",
       "      <td>1 March 2017</td>\n",
       "      <td>Persons</td>\n",
       "      <td>Under 18</td>\n",
       "      <td>All</td>\n",
       "      <td>All</td>\n",
       "      <td>Total</td>\n",
       "      <td>All</td>\n",
       "      <td>Count</td>\n",
       "      <td>People</td>\n",
       "      <td>713</td>\n",
       "    </tr>\n",
       "    <tr>\n",
       "      <th>4</th>\n",
       "      <td>1 March 2017</td>\n",
       "      <td>Persons</td>\n",
       "      <td>18 and over</td>\n",
       "      <td>All</td>\n",
       "      <td>All</td>\n",
       "      <td>Alcohol Only</td>\n",
       "      <td>All</td>\n",
       "      <td>Count</td>\n",
       "      <td>People</td>\n",
       "      <td>2482</td>\n",
       "    </tr>\n",
       "  </tbody>\n",
       "</table>\n",
       "</div>"
      ],
      "text/plain": [
       "         Period      Sex          Age Service Type Residential Status  \\\n",
       "0  1 March 2017  Persons    Under 18           All                All   \n",
       "1  1 March 2017  Persons    Under 18           All                All   \n",
       "2  1 March 2017  Persons    Under 18           All                All   \n",
       "3  1 March 2017  Persons    Under 18           All                All   \n",
       "4  1 March 2017  Persons  18 and over          All                All   \n",
       "\n",
       "    Treatment Type Health and Social Care Trust Measure Type    Unit Value  \n",
       "0     Alcohol Only                          All        Count  People    95  \n",
       "1       Drugs Only                          All        Count  People   324  \n",
       "2  Drugs & Alcohol                          All        Count  People   294  \n",
       "3            Total                          All        Count  People   713  \n",
       "4     Alcohol Only                          All        Count  People  2482  "
      ]
     },
     "execution_count": 8,
     "metadata": {},
     "output_type": "execute_result"
    }
   ],
   "source": [
    "tidy.head()"
   ]
  },
  {
   "cell_type": "code",
   "execution_count": 9,
   "metadata": {},
   "outputs": [],
   "source": [
    "tidy = tidy[tidy['Treatment Type'] == 'Alcohol Only']"
   ]
  },
  {
   "cell_type": "code",
   "execution_count": 10,
   "metadata": {},
   "outputs": [
    {
     "data": {
      "text/html": [
       "<div>\n",
       "<style scoped>\n",
       "    .dataframe tbody tr th:only-of-type {\n",
       "        vertical-align: middle;\n",
       "    }\n",
       "\n",
       "    .dataframe tbody tr th {\n",
       "        vertical-align: top;\n",
       "    }\n",
       "\n",
       "    .dataframe thead th {\n",
       "        text-align: right;\n",
       "    }\n",
       "</style>\n",
       "<table border=\"1\" class=\"dataframe\">\n",
       "  <thead>\n",
       "    <tr style=\"text-align: right;\">\n",
       "      <th></th>\n",
       "      <th>Period</th>\n",
       "      <th>Sex</th>\n",
       "      <th>Age</th>\n",
       "      <th>Service Type</th>\n",
       "      <th>Residential Status</th>\n",
       "      <th>Treatment Type</th>\n",
       "      <th>Health and Social Care Trust</th>\n",
       "      <th>Measure Type</th>\n",
       "      <th>Unit</th>\n",
       "      <th>Value</th>\n",
       "    </tr>\n",
       "  </thead>\n",
       "  <tbody>\n",
       "    <tr>\n",
       "      <th>0</th>\n",
       "      <td>1 March 2017</td>\n",
       "      <td>Persons</td>\n",
       "      <td>Under 18</td>\n",
       "      <td>All</td>\n",
       "      <td>All</td>\n",
       "      <td>Alcohol Only</td>\n",
       "      <td>All</td>\n",
       "      <td>Count</td>\n",
       "      <td>People</td>\n",
       "      <td>95</td>\n",
       "    </tr>\n",
       "    <tr>\n",
       "      <th>4</th>\n",
       "      <td>1 March 2017</td>\n",
       "      <td>Persons</td>\n",
       "      <td>18 and over</td>\n",
       "      <td>All</td>\n",
       "      <td>All</td>\n",
       "      <td>Alcohol Only</td>\n",
       "      <td>All</td>\n",
       "      <td>Count</td>\n",
       "      <td>People</td>\n",
       "      <td>2482</td>\n",
       "    </tr>\n",
       "    <tr>\n",
       "      <th>8</th>\n",
       "      <td>1 March 2017</td>\n",
       "      <td>Persons</td>\n",
       "      <td>All years</td>\n",
       "      <td>All</td>\n",
       "      <td>All</td>\n",
       "      <td>Alcohol Only</td>\n",
       "      <td>All</td>\n",
       "      <td>Count</td>\n",
       "      <td>People</td>\n",
       "      <td>2577</td>\n",
       "    </tr>\n",
       "    <tr>\n",
       "      <th>12</th>\n",
       "      <td>1 March 2017</td>\n",
       "      <td>Male</td>\n",
       "      <td>Under 18</td>\n",
       "      <td>All</td>\n",
       "      <td>All</td>\n",
       "      <td>Alcohol Only</td>\n",
       "      <td>All</td>\n",
       "      <td>Count</td>\n",
       "      <td>People</td>\n",
       "      <td>31</td>\n",
       "    </tr>\n",
       "    <tr>\n",
       "      <th>16</th>\n",
       "      <td>1 March 2017</td>\n",
       "      <td>Male</td>\n",
       "      <td>18 and over</td>\n",
       "      <td>All</td>\n",
       "      <td>All</td>\n",
       "      <td>Alcohol Only</td>\n",
       "      <td>All</td>\n",
       "      <td>Count</td>\n",
       "      <td>People</td>\n",
       "      <td>1536</td>\n",
       "    </tr>\n",
       "  </tbody>\n",
       "</table>\n",
       "</div>"
      ],
      "text/plain": [
       "          Period      Sex          Age Service Type Residential Status  \\\n",
       "0   1 March 2017  Persons    Under 18           All                All   \n",
       "4   1 March 2017  Persons  18 and over          All                All   \n",
       "8   1 March 2017  Persons    All years          All                All   \n",
       "12  1 March 2017     Male    Under 18           All                All   \n",
       "16  1 March 2017     Male  18 and over          All                All   \n",
       "\n",
       "   Treatment Type Health and Social Care Trust Measure Type    Unit Value  \n",
       "0    Alcohol Only                          All        Count  People    95  \n",
       "4    Alcohol Only                          All        Count  People  2482  \n",
       "8    Alcohol Only                          All        Count  People  2577  \n",
       "12   Alcohol Only                          All        Count  People    31  \n",
       "16   Alcohol Only                          All        Count  People  1536  "
      ]
     },
     "execution_count": 10,
     "metadata": {},
     "output_type": "execute_result"
    }
   ],
   "source": [
    "tidy.head()"
   ]
  },
  {
   "cell_type": "code",
   "execution_count": 11,
   "metadata": {},
   "outputs": [
    {
     "data": {
      "text/plain": [
       "array(['Persons', 'Male', 'Female', 'Male (%)', 'Female (%)',\n",
       "       '% of Total', '% of all Males ', '% of all Females', 'Female  '],\n",
       "      dtype=object)"
      ]
     },
     "execution_count": 11,
     "metadata": {},
     "output_type": "execute_result"
    }
   ],
   "source": [
    "tidy['Sex'].unique()"
   ]
  },
  {
   "cell_type": "code",
   "execution_count": 12,
   "metadata": {},
   "outputs": [],
   "source": [
    "tidy.drop(tidy[tidy.Sex.isin(['% of Total', '% of all Males ','% of all Females'])].index, inplace = True)"
   ]
  },
  {
   "cell_type": "code",
   "execution_count": 13,
   "metadata": {},
   "outputs": [
    {
     "data": {
      "text/plain": [
       "array(['Persons', 'Male', 'Female', 'Male (%)', 'Female (%)', 'Female  '],\n",
       "      dtype=object)"
      ]
     },
     "execution_count": 13,
     "metadata": {},
     "output_type": "execute_result"
    }
   ],
   "source": [
    "tidy['Sex'].unique()"
   ]
  },
  {
   "cell_type": "code",
   "execution_count": 14,
   "metadata": {},
   "outputs": [
    {
     "data": {
      "text/plain": [
       "array(['1 March 2017', '1st March 2007', '1st March 2010',\n",
       "       '1st March 2012', '1st September2014'], dtype=object)"
      ]
     },
     "execution_count": 14,
     "metadata": {},
     "output_type": "execute_result"
    }
   ],
   "source": [
    "tidy['Period'].unique()"
   ]
  },
  {
   "cell_type": "code",
   "execution_count": 15,
   "metadata": {},
   "outputs": [],
   "source": [
    "from datetime import datetime"
   ]
  },
  {
   "cell_type": "code",
   "execution_count": 16,
   "metadata": {},
   "outputs": [],
   "source": [
    "tidy.Period = pd.to_datetime(tidy.Period).dt.strftime('%Y-%m-%d')"
   ]
  },
  {
   "cell_type": "code",
   "execution_count": 17,
   "metadata": {},
   "outputs": [],
   "source": [
    "tidy['Period'] = str('day/') + tidy['Period']"
   ]
  },
  {
   "cell_type": "code",
   "execution_count": 18,
   "metadata": {},
   "outputs": [
    {
     "data": {
      "text/plain": [
       "array(['Under 18 ', '18 and over', 'All years', 'All'], dtype=object)"
      ]
     },
     "execution_count": 18,
     "metadata": {},
     "output_type": "execute_result"
    }
   ],
   "source": [
    "tidy['Age'].unique()"
   ]
  },
  {
   "cell_type": "code",
   "execution_count": 19,
   "metadata": {},
   "outputs": [],
   "source": [
    "tidy['Age'] = tidy['Age'].map(\n",
    "    lambda x: {\n",
    "        'Under 18 ' : 'under-18', \n",
    "        '18 and over' : '18-plus',\n",
    "        'All years': 'all' ,\n",
    "        'All': 'all'\n",
    "        }.get(x, x))"
   ]
  },
  {
   "cell_type": "code",
   "execution_count": 20,
   "metadata": {},
   "outputs": [],
   "source": [
    "tidy['Treatment Type'] = 'alcohol'"
   ]
  },
  {
   "cell_type": "code",
   "execution_count": 21,
   "metadata": {},
   "outputs": [],
   "source": [
    "def user_perc(x,y):\n",
    "    \n",
    "    if ( (str(x) == 'Statutory (%)')) | ((str(x) == 'Non-statutory (%)')) | ((str(x) == 'Prison (%)')): \n",
    "        \n",
    "        return 'Percentage'\n",
    "    else:\n",
    "        return y\n",
    "    \n",
    "tidy['Measure Type'] = tidy.apply(lambda row: user_perc(row['Service Type'], row['Measure Type']), axis = 1)\n",
    "\n"
   ]
  },
  {
   "cell_type": "code",
   "execution_count": 22,
   "metadata": {},
   "outputs": [],
   "source": [
    "def user_perc(x,y):\n",
    "    \n",
    "    if ( (str(x) == 'Residential (%)')) | ((str(x) == 'Non-residential (%)')) | ((str(x) == 'Mixed (%)')): \n",
    "        \n",
    "        return 'Percentage'\n",
    "    else:\n",
    "        return y\n",
    "    \n",
    "tidy['Measure Type'] = tidy.apply(lambda row: user_perc(row['Residential Status'], row['Measure Type']), axis = 1)\n",
    "\n"
   ]
  },
  {
   "cell_type": "code",
   "execution_count": 23,
   "metadata": {},
   "outputs": [
    {
     "data": {
      "text/plain": [
       "array(['All', 'Belfast', 'Northern', 'South Eastern', 'Southern',\n",
       "       'Western', 'Northern (%)', 'South Eastern (%)', 'Southern (%)',\n",
       "       'Western (%)', 'Emergency admissions (HIS) (%)',\n",
       "       'Emergency admissions (HIS)', 'Belfast (%)',\n",
       "       'Emergency admissions (HIS)  (%)'], dtype=object)"
      ]
     },
     "execution_count": 23,
     "metadata": {},
     "output_type": "execute_result"
    }
   ],
   "source": [
    "tidy['Health and Social Care Trust'].unique()"
   ]
  },
  {
   "cell_type": "code",
   "execution_count": 24,
   "metadata": {},
   "outputs": [],
   "source": [
    "def user_perc(x,y):\n",
    "    \n",
    "    if ( (str(x) == 'Belfast (%)')) | ((str(x) == 'Northern (%)')) | ((str(x) == 'South Eastern (%)')) | ((str(x) == 'Southern (%)')) | ((str(x) == 'Western (%)')) | ((str(x) == 'Emergency admissions (HIS) (%)')) : \n",
    "        \n",
    "            return 'Percentage'\n",
    "    else:\n",
    "            return y\n",
    "    \n",
    "tidy['Measure Type'] = tidy.apply(lambda row: user_perc(row['Health and Social Care Trust'], row['Measure Type']), axis = 1)"
   ]
  },
  {
   "cell_type": "code",
   "execution_count": 25,
   "metadata": {},
   "outputs": [],
   "source": [
    "def user_perc(x,y):\n",
    "    \n",
    "    if  ((str(x) == 'Emergency admissions (HIS)  (%)')) : \n",
    "        \n",
    "            return 'Percentage'\n",
    "    else:\n",
    "            return y\n",
    "    \n",
    "tidy['Measure Type'] = tidy.apply(lambda row: user_perc(row['Health and Social Care Trust'], row['Measure Type']), axis = 1)"
   ]
  },
  {
   "cell_type": "code",
   "execution_count": 26,
   "metadata": {},
   "outputs": [],
   "source": [
    "tidy['Health and Social Care Trust'] = tidy['Health and Social Care Trust'].str.rstrip(' (%)')"
   ]
  },
  {
   "cell_type": "code",
   "execution_count": 27,
   "metadata": {},
   "outputs": [],
   "source": [
    "tidy['Health and Social Care Trust'] = tidy['Health and Social Care Trust'].str.lower()"
   ]
  },
  {
   "cell_type": "code",
   "execution_count": 28,
   "metadata": {},
   "outputs": [
    {
     "data": {
      "text/plain": [
       "array(['all', 'belfast', 'northern', 'south eastern', 'southern',\n",
       "       'western', 'emergency admissions (his'], dtype=object)"
      ]
     },
     "execution_count": 28,
     "metadata": {},
     "output_type": "execute_result"
    }
   ],
   "source": [
    "tidy['Health and Social Care Trust'].unique()"
   ]
  },
  {
   "cell_type": "code",
   "execution_count": 29,
   "metadata": {},
   "outputs": [],
   "source": [
    "tidy['Health and Social Care Trust'] = tidy['Health and Social Care Trust'].map(\n",
    "    lambda x: {\n",
    "        'south eastern' : 'south-eastern', \n",
    "        'emergency admissions (his)' : 'emergency-admissions',\n",
    "        'emergency admissions (his' : 'emergency-admissions'\n",
    "        }.get(x, x))"
   ]
  },
  {
   "cell_type": "code",
   "execution_count": 30,
   "metadata": {},
   "outputs": [],
   "source": [
    "tidy['Measure Type'] = tidy['Measure Type'].map(\n",
    "    lambda x: {\n",
    "        'Headcount' : 'Count', \n",
    "        'Percentage of Headcount' : 'Percentage',\n",
    "        }.get(x, x))"
   ]
  },
  {
   "cell_type": "code",
   "execution_count": 31,
   "metadata": {},
   "outputs": [
    {
     "data": {
      "text/plain": [
       "array(['Persons', 'Male', 'Female', 'Male (%)', 'Female (%)', 'Female  '],\n",
       "      dtype=object)"
      ]
     },
     "execution_count": 31,
     "metadata": {},
     "output_type": "execute_result"
    }
   ],
   "source": [
    "tidy['Sex'].unique()"
   ]
  },
  {
   "cell_type": "code",
   "execution_count": 32,
   "metadata": {},
   "outputs": [],
   "source": [
    "def user_perc(x,y):\n",
    "    \n",
    "    if ( (str(x) == 'Male (%)')) | ((str(x) == 'Female (%)')): \n",
    "        \n",
    "        return 'Percentage'\n",
    "    else:\n",
    "        return y\n",
    "    \n",
    "tidy['Measure Type'] = tidy.apply(lambda row: user_perc(row['Sex'], row['Measure Type']), axis = 1)\n",
    "\n"
   ]
  },
  {
   "cell_type": "code",
   "execution_count": 33,
   "metadata": {},
   "outputs": [],
   "source": [
    "tidy['Sex'] = tidy['Sex'].map(\n",
    "    lambda x: {\n",
    "        'Female' : 'F', \n",
    "        'Male' : 'M',\n",
    "        'Persons' : 'T',\n",
    "        'Female  ' : 'F',\n",
    "        'Male (%)' : 'M',\n",
    "        'Female (%)': 'F'\n",
    "        }.get(x, x))"
   ]
  },
  {
   "cell_type": "code",
   "execution_count": 34,
   "metadata": {},
   "outputs": [],
   "source": [
    "tidy['Sex'] = tidy['Sex'].str.rstrip('(%)')"
   ]
  },
  {
   "cell_type": "code",
   "execution_count": 35,
   "metadata": {},
   "outputs": [
    {
     "data": {
      "text/plain": [
       "array(['All', 'Statutory', 'Non-statutory', 'Prison', 'Statutory (%)',\n",
       "       'Non-statutory (%)', 'Prison (%)'], dtype=object)"
      ]
     },
     "execution_count": 35,
     "metadata": {},
     "output_type": "execute_result"
    }
   ],
   "source": [
    "tidy['Service Type'].unique()"
   ]
  },
  {
   "cell_type": "code",
   "execution_count": 36,
   "metadata": {},
   "outputs": [],
   "source": [
    "tidy['Service Type'] = tidy['Service Type'].map(\n",
    "    lambda x: {\n",
    "        'Total' : 'all',\n",
    "        'total' : 'all'\n",
    "        }.get(x, x))"
   ]
  },
  {
   "cell_type": "code",
   "execution_count": 37,
   "metadata": {},
   "outputs": [],
   "source": [
    "tidy['Service Type'] = tidy['Service Type'].str.rstrip(' (%)')"
   ]
  },
  {
   "cell_type": "code",
   "execution_count": 38,
   "metadata": {},
   "outputs": [],
   "source": [
    "tidy['Service Type'] = tidy['Service Type'].str.lower()"
   ]
  },
  {
   "cell_type": "code",
   "execution_count": 39,
   "metadata": {},
   "outputs": [],
   "source": [
    "tidy['Residential Status'] = tidy['Residential Status'].str.rstrip(' (%)')"
   ]
  },
  {
   "cell_type": "code",
   "execution_count": 40,
   "metadata": {},
   "outputs": [],
   "source": [
    "tidy['Residential Status'] = tidy['Residential Status'].str.lower()"
   ]
  },
  {
   "cell_type": "code",
   "execution_count": 41,
   "metadata": {},
   "outputs": [],
   "source": [
    "tidy['Health and Social Care Trust'] = tidy['Health and Social Care Trust'].map(\n",
    "    lambda x: {\n",
    "        'total' : 'all' \n",
    "        }.get(x, x))"
   ]
  },
  {
   "cell_type": "code",
   "execution_count": 42,
   "metadata": {},
   "outputs": [],
   "source": [
    "tidy['Residential Status'] = tidy['Residential Status'].map(\n",
    "    lambda x: {\n",
    "        'total' : 'all' \n",
    "        }.get(x, x))"
   ]
  },
  {
   "cell_type": "code",
   "execution_count": 43,
   "metadata": {
    "scrolled": false
   },
   "outputs": [
    {
     "data": {
      "text/html": [
       "<div>\n",
       "<style scoped>\n",
       "    .dataframe tbody tr th:only-of-type {\n",
       "        vertical-align: middle;\n",
       "    }\n",
       "\n",
       "    .dataframe tbody tr th {\n",
       "        vertical-align: top;\n",
       "    }\n",
       "\n",
       "    .dataframe thead th {\n",
       "        text-align: right;\n",
       "    }\n",
       "</style>\n",
       "<table border=\"1\" class=\"dataframe\">\n",
       "  <thead>\n",
       "    <tr style=\"text-align: right;\">\n",
       "      <th></th>\n",
       "      <th>Period</th>\n",
       "      <th>Sex</th>\n",
       "      <th>Age</th>\n",
       "      <th>Service Type</th>\n",
       "      <th>Residential Status</th>\n",
       "      <th>Treatment Type</th>\n",
       "      <th>Health and Social Care Trust</th>\n",
       "      <th>Measure Type</th>\n",
       "      <th>Unit</th>\n",
       "      <th>Value</th>\n",
       "    </tr>\n",
       "  </thead>\n",
       "  <tbody>\n",
       "    <tr>\n",
       "      <th>0</th>\n",
       "      <td>day/2017-03-01</td>\n",
       "      <td>T</td>\n",
       "      <td>under-18</td>\n",
       "      <td>all</td>\n",
       "      <td>all</td>\n",
       "      <td>alcohol</td>\n",
       "      <td>all</td>\n",
       "      <td>Count</td>\n",
       "      <td>People</td>\n",
       "      <td>95</td>\n",
       "    </tr>\n",
       "    <tr>\n",
       "      <th>4</th>\n",
       "      <td>day/2017-03-01</td>\n",
       "      <td>T</td>\n",
       "      <td>18-plus</td>\n",
       "      <td>all</td>\n",
       "      <td>all</td>\n",
       "      <td>alcohol</td>\n",
       "      <td>all</td>\n",
       "      <td>Count</td>\n",
       "      <td>People</td>\n",
       "      <td>2482</td>\n",
       "    </tr>\n",
       "    <tr>\n",
       "      <th>8</th>\n",
       "      <td>day/2017-03-01</td>\n",
       "      <td>T</td>\n",
       "      <td>all</td>\n",
       "      <td>all</td>\n",
       "      <td>all</td>\n",
       "      <td>alcohol</td>\n",
       "      <td>all</td>\n",
       "      <td>Count</td>\n",
       "      <td>People</td>\n",
       "      <td>2577</td>\n",
       "    </tr>\n",
       "    <tr>\n",
       "      <th>12</th>\n",
       "      <td>day/2017-03-01</td>\n",
       "      <td>M</td>\n",
       "      <td>under-18</td>\n",
       "      <td>all</td>\n",
       "      <td>all</td>\n",
       "      <td>alcohol</td>\n",
       "      <td>all</td>\n",
       "      <td>Count</td>\n",
       "      <td>People</td>\n",
       "      <td>31</td>\n",
       "    </tr>\n",
       "    <tr>\n",
       "      <th>16</th>\n",
       "      <td>day/2017-03-01</td>\n",
       "      <td>M</td>\n",
       "      <td>18-plus</td>\n",
       "      <td>all</td>\n",
       "      <td>all</td>\n",
       "      <td>alcohol</td>\n",
       "      <td>all</td>\n",
       "      <td>Count</td>\n",
       "      <td>People</td>\n",
       "      <td>1536</td>\n",
       "    </tr>\n",
       "  </tbody>\n",
       "</table>\n",
       "</div>"
      ],
      "text/plain": [
       "            Period Sex       Age Service Type Residential Status  \\\n",
       "0   day/2017-03-01   T  under-18          all                all   \n",
       "4   day/2017-03-01   T   18-plus          all                all   \n",
       "8   day/2017-03-01   T       all          all                all   \n",
       "12  day/2017-03-01   M  under-18          all                all   \n",
       "16  day/2017-03-01   M   18-plus          all                all   \n",
       "\n",
       "   Treatment Type Health and Social Care Trust Measure Type    Unit Value  \n",
       "0         alcohol                          all        Count  People    95  \n",
       "4         alcohol                          all        Count  People  2482  \n",
       "8         alcohol                          all        Count  People  2577  \n",
       "12        alcohol                          all        Count  People    31  \n",
       "16        alcohol                          all        Count  People  1536  "
      ]
     },
     "execution_count": 43,
     "metadata": {},
     "output_type": "execute_result"
    }
   ],
   "source": [
    "tidy.head()"
   ]
  },
  {
   "cell_type": "code",
   "execution_count": 44,
   "metadata": {},
   "outputs": [],
   "source": [
    "from pathlib import Path\n",
    "out = Path('out')\n",
    "out.mkdir(exist_ok=True)\n",
    "tidy.to_csv(out / 'observations.csv', index = False)"
   ]
  },
  {
   "cell_type": "code",
   "execution_count": 45,
   "metadata": {},
   "outputs": [],
   "source": [
    "tidy[tidy['Measure Type'] != 'Percentage'].to_csv(out / 'observations-no-percentages.csv')"
   ]
  },
  {
   "cell_type": "markdown",
   "metadata": {},
   "source": [
    "There's a metadata tab in the spreadsheet with abstract and contact details. **Todo: extract these and also figure out what the license should really be.**"
   ]
  },
  {
   "cell_type": "code",
   "execution_count": 46,
   "metadata": {},
   "outputs": [
    {
     "data": {
      "text/html": [
       "<div id=\"injblock1001\">\n",
       "<style>\n",
       "table.ex, table.exkey { border: thin black solid }\n",
       "table.ex td, table.ex tr { border: none }\n",
       "table.ex td:hover { border: thin blue solid }\n",
       "table.ex td.excOBS:hover { border: thin red solid }\n",
       "table.ex td.selected { border: thick red solid }\n",
       "</style>\n",
       "\n",
       "\n",
       "<table class=\"exkey\">\n",
       "<tr><td class=\"xc0\" style=\"background-color:Aqua\">OBS</td><td class=\"xc1\" style=\"background-color:LightGreen\">Property</td><td class=\"xc2\" style=\"background-color:MistyRose\">Heading</td></tr></table>\n",
       "\n",
       "<table class=\"ex\">\n",
       "<caption style=\"text-align:center; padding:0px; caption-side:bottom\">Metadata</caption>\n",
       "<tr><td title=\"0 0\">Metadata</td><td title=\"1 0\"></td></tr>\n",
       "<tr><td title=\"0 1\"></td><td title=\"1 1\"></td></tr>\n",
       "<tr><td style=\"background-color:MistyRose\" title=\"0 2\">Identification</td><td title=\"1 2\"></td></tr>\n",
       "<tr><td style=\"background-color:LightGreen\" title=\"0 3\">Dataset Title</td><td style=\"background-color:Aqua\" title=\"1 3\">Census of Drug and Alcohol Treatment Services in Northern Ireland: 1 March 2017 (Tables)</td></tr>\n",
       "<tr><td style=\"background-color:LightGreen\" title=\"0 4\">Abstract</td><td style=\"background-color:Aqua\" title=\"1 4\">This bulletin summarises the number of people in treatment for problem drug and/or alcohol misuse and relates to a snapshot of those in treatment on 1 March 2017. </td></tr>\n",
       "<tr><td style=\"background-color:LightGreen\" title=\"0 5\">Year of Data</td><td style=\"background-color:Aqua\" title=\"1 5\">1 March 2017 (with 2007, 2010, 2012 and 2014 comparisons)</td></tr>\n",
       "<tr><td style=\"background-color:LightGreen\" title=\"0 6\">Reporting period</td><td style=\"background-color:Aqua\" title=\"1 6\">Snapshot</td></tr>\n",
       "<tr><td title=\"0 7\"></td><td title=\"1 7\"></td></tr>\n",
       "<tr><td style=\"background-color:MistyRose\" title=\"0 8\">Classification</td><td title=\"1 8\"></td></tr>\n",
       "<tr><td style=\"background-color:LightGreen\" title=\"0 9\">National Statistics Theme</td><td style=\"background-color:Aqua\" title=\"1 9\">Health and Social Care</td></tr>\n",
       "<tr><td style=\"background-color:LightGreen\" title=\"0 10\">Keyword</td><td style=\"background-color:Aqua\" title=\"1 10\">Drug Alcohol Misuse Treatment</td></tr>\n",
       "<tr><td title=\"0 11\"></td><td title=\"1 11\"></td></tr>\n",
       "<tr><td style=\"background-color:MistyRose\" title=\"0 12\">Quality  and Validity</td><td title=\"1 12\"></td></tr>\n",
       "<tr><td style=\"background-color:LightGreen\" title=\"0 13\">National Statistics Data</td><td style=\"background-color:Aqua\" title=\"1 13\">No</td></tr>\n",
       "<tr><td style=\"background-color:LightGreen\" title=\"0 14\">Disclosure Control Methods</td><td style=\"background-color:Aqua\" title=\"1 14\">All data with cell sizes less than 3 has been masked to avoid the disclosure of any personal information.</td></tr>\n",
       "<tr><td style=\"background-color:LightGreen\" title=\"0 15\">Quality Issues</td><td style=\"background-color:Aqua\" title=\"1 15\">These figures only relate to those in treatment for drug and/or alcohol misuse from specialist services across Northern Ireland on a representative day. </td></tr>\n",
       "<tr><td title=\"0 16\"></td><td title=\"1 16\"></td></tr>\n",
       "<tr><td style=\"background-color:MistyRose\" title=\"0 17\">Organisation</td><td title=\"1 17\"></td></tr>\n",
       "<tr><td style=\"background-color:LightGreen\" title=\"0 18\">Organisation Name</td><td style=\"background-color:Aqua\" title=\"1 18\">Department of Health, Public Health Information & Research Branch</td></tr>\n",
       "<tr><td style=\"background-color:LightGreen\" title=\"0 19\">Email Address</td><td style=\"background-color:Aqua\" title=\"1 19\">PHIRB@health-ni.gov.uk</td></tr>\n",
       "<tr><td style=\"background-color:LightGreen\" title=\"0 20\">Responsible Party Role</td><td style=\"background-color:Aqua\" title=\"1 20\">Resource Provider</td></tr>\n",
       "<tr><td style=\"background-color:LightGreen\" title=\"0 21\">Telephone Number</td><td style=\"background-color:Aqua\" title=\"1 21\">028 9052 2523</td></tr>\n",
       "<tr><td title=\"0 22\"></td><td title=\"1 22\"></td></tr>\n",
       "<tr><td style=\"background-color:MistyRose\" title=\"0 23\">Constraints</td><td title=\"1 23\"></td></tr>\n",
       "<tr><td style=\"background-color:LightGreen\" title=\"0 24\">Limitations on Public Access</td><td style=\"background-color:Aqua\" title=\"1 24\">No restriction on public access</td></tr>\n",
       "<tr><td style=\"background-color:LightGreen\" title=\"0 25\">Use Constraints</td><td style=\"background-color:Aqua\" title=\"1 25\">No conditions apply</td></tr>\n",
       "</table>\n",
       "\n",
       "</div>\n",
       "\n",
       "<script>\n",
       "var jslookup = {\"1 15\":[0,15,0,12],\"1 18\":[0,18,0,17],\"1 3\":[0,3,0,2],\"1 13\":[0,13,0,12],\"1 19\":[0,19,0,17],\"1 25\":[0,25,0,23],\"1 4\":[0,4,0,2],\"1 20\":[0,20,0,17],\"1 9\":[0,9,0,8],\"1 10\":[0,10,0,8],\"1 21\":[0,21,0,17],\"1 5\":[0,5,0,2],\"1 14\":[0,14,0,12],\"1 6\":[0,6,0,2],\"1 24\":[0,24,0,23]}; \n",
       "var jdividNUM = \"injblock1001\"; \n",
       "var Dclickedcell = null; \n",
       "function clickedcell() \n",
       "{ \n",
       "    Dclickedcell = this; \n",
       "    console.log(\"jjjj\", this); \n",
       "    var rgc = new RegExp('(^|\\b)' + \"selected\".split(' ').join('|') + '(\\b|$)', 'gi'); \n",
       "    Array.prototype.forEach.call(document.querySelectorAll(\"div#\"+jdividNUM+\" table.ex td.selected\"), function(el, i) { \n",
       "        if (el.classList)  el.classList.remove(\"selected\");\n",
       "        else  el.className = el.className.replace(rgc, ' ');\n",
       "    }); \n",
       "    if (this.classList)  this.classList.add(\"selected\");\n",
       "    else this.className += ' ' + \"selected\";\n",
       "\n",
       "    var dimpairs = jslookup[this.title]; \n",
       "    if (dimpairs !== undefined) {\n",
       "        for (var i = 1; i < dimpairs.length; i += 2) {\n",
       "            var row = document.querySelectorAll(\"div#\"+jdividNUM+\" table.ex tr\")[dimpairs[i]]; \n",
       "            var el = row.querySelectorAll(\"td\")[dimpairs[i-1]]; \n",
       "            if (el.classList)  el.classList.add(\"selected\");\n",
       "            else el.className += ' ' + \"selected\";\n",
       "        }\n",
       "    }\n",
       "}\n",
       "Array.prototype.forEach.call(document.querySelectorAll(\"div#\"+jdividNUM+\" table.ex td\"), function(item, i) { item.onclick=clickedcell; }); \n",
       "</script>\n"
      ],
      "text/plain": [
       "<IPython.core.display.HTML object>"
      ]
     },
     "metadata": {},
     "output_type": "display_data"
    }
   ],
   "source": [
    "md_tab = tabs['Metadata']\n",
    "md_heading = md_tab.filter('Metadata')\n",
    "md_heading.assert_one()\n",
    "properties = md_heading.fill(DOWN).is_not_whitespace()\n",
    "values = properties.fill(RIGHT).is_not_whitespace()\n",
    "headings = properties - values.fill(LEFT)\n",
    "properties = properties - headings\n",
    "cs = ConversionSegment(values, [\n",
    "    HDim(properties, \"Property\", DIRECTLY, LEFT),\n",
    "    HDim(headings, \"Heading\", CLOSEST, UP)\n",
    "], includecellxy=True)\n",
    "savepreviewhtml(cs)"
   ]
  },
  {
   "cell_type": "code",
   "execution_count": 47,
   "metadata": {},
   "outputs": [
    {
     "name": "stdout",
     "output_type": "stream",
     "text": [
      "\n"
     ]
    }
   ],
   "source": [
    "from gssutils.metadata import THEME\n",
    "\n",
    "for i, row in cs.topandas().iterrows():\n",
    "    v = md_tab.get_at(row.__x, row.__y).value.strip()\n",
    "    if row.Property == 'Abstract':\n",
    "        scraper.dataset.description = v\n",
    "    elif row.Property == 'National Statistics Theme':\n",
    "        scraper.dataset.theme = THEME[pathify(v)]\n",
    "    elif row.Property == 'Keyword':\n",
    "        scraper.dataset.keyword = map(lambda x: x.strip(), v.split(' '))\n",
    "    elif row.Property == 'Email Address':\n",
    "        scraper.dataset.contactEmail = f'mailto:{v}'"
   ]
  },
  {
   "cell_type": "code",
   "execution_count": 48,
   "metadata": {},
   "outputs": [],
   "source": [
    "scraper.dataset.family = 'health'\n",
    "scraper.dataset.license = 'http://www.nationalarchives.gov.uk/doc/open-government-licence/version/3/'\n",
    "\n",
    "with open(out / 'dataset.trig', 'wb') as metadata:\n",
    "    metadata.write(scraper.generate_trig())"
   ]
  },
  {
   "cell_type": "code",
   "execution_count": null,
   "metadata": {},
   "outputs": [],
   "source": []
  }
 ],
 "metadata": {
  "kernelspec": {
   "display_name": "Python 3",
   "language": "python",
   "name": "python3"
  },
  "language_info": {
   "codemirror_mode": {
    "name": "ipython",
    "version": 3
   },
   "file_extension": ".py",
   "mimetype": "text/x-python",
   "name": "python",
   "nbconvert_exporter": "python",
   "pygments_lexer": "ipython3",
   "version": "3.7.1"
  }
 },
 "nbformat": 4,
 "nbformat_minor": 2
}

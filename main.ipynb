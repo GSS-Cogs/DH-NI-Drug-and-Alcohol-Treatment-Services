{
 "cells": [
  {
   "cell_type": "markdown",
   "metadata": {},
   "source": [
    "Census of Drug and Alcohol Treatment Services in Northern Ireland"
   ]
  },
  {
   "cell_type": "code",
   "execution_count": 148,
   "metadata": {},
   "outputs": [
    {
     "data": {
      "text/markdown": [
       "## Census of drug and alcohol treatment services in Northern Ireland 2017\n",
       "\n",
       "### Distributions\n",
       "\n",
       "1. Drug and Alcohol Census 2017 ([application/pdf](https://www.health-ni.gov.uk/sites/default/files/publications/health/drug-alcohol-census-2017.pdf))\n",
       "1. Data from Census of Drug and Alcohol Treatment Services ([MS Excel Spreadsheet](https://www.health-ni.gov.uk/sites/default/files/publications/dhssps/data-census-drug-alcohol-treatment-services.xlsx))\n",
       "1. Pre-release Access List Drug and Alcohol Census ([application/pdf](https://www.health-ni.gov.uk/sites/default/files/publications/dhssps/pre-release-drug-alcohol-census.pdf))\n"
      ],
      "text/plain": [
       "<gssutils.scrape.Scraper at 0x115502550>"
      ]
     },
     "execution_count": 148,
     "metadata": {},
     "output_type": "execute_result"
    }
   ],
   "source": [
    "from gssutils import *\n",
    "scraper = Scraper('https://www.health-ni.gov.uk/publications/census-drug-and-alcohol-treatment-services-northern-ireland-2017')\n",
    "scraper"
   ]
  },
  {
   "cell_type": "code",
   "execution_count": 149,
   "metadata": {},
   "outputs": [
    {
     "data": {
      "text/plain": [
       "{'Contents & Notes to tables': {<A2 '1 March 2017'>, <A11 ''>, <B13 ''>, <A18 2.0>, <A17 1.0>, <B14 ''>, <B11 ''>, <A5 ''>, <B17 'A dashed line (-) represents a cell count of less than three and a * represents a cell that has been masked. This is in order to avoid issues involving personal disclosure, where it may be possible to identify an individual from the data provided.  '>, <B9 'Breakdown by Trust'>, <B12 ''>, <A3 ''>, <B5 ''>, <A9 'Table 4'>, <B3 ''>, <A10 'Table 5'>, <B19 'Hospital Information System (HIS) figures relate to the number of emergency admissions to HSC hospitals for only drug-related conditions, only alcohol-related conditions or both drug and alcohol-related conditions, excluding admissions under specialties for mental health and learning disabilities.\\xa0 These figures are as at 1st September 2016.'>, <A15 'Notes to Tables'>, <B8 'Breakdown by Residential Status'>, <B10 'Comparison Table'>, <A16 ''>, <B4 ''>, <A8 'Table 3'>, <A19 3.0>, <B1 ''>, <B18 'All percentages are rounded to the nearest percentage point.'>, <A1 'Census of Drug and Alcohol Treatment Services in Northern Ireland:'>, <A4 'Contents'>, <A6 'Table 1'>, <A7 'Table 2'>, <A14 ''>, <B2 ''>, <A13 ''>, <B15 ''>, <B7 'Breakdown by Service Type'>, <A12 ''>, <B16 ''>, <B6 'Breakdown by Age and Gender'>},\n",
       " 'Table 1': {<B4 'Alcohol Only'>, <L6 1032.0>, <I12 100.0>, <D5 294.0>, <E8 74.1>, <B2 ''>, <I9 32.1>, <E3 ''>, <K12 28.8>, <M12 100.0>, <D10 41.2>, <E1 ''>, <M10 100.0>, <A2 ''>, <B7 64.0>, <L10 22.7>, <H4 'Drugs & Alcohol'>, <J1 ''>, <F8 61.9>, <D12 38.9>, <D1 ''>, <K8 73.5>, <D3 ''>, <J3 'Treatment Type'>, <K6 1496.0>, <I3 ''>, <H8 76.3>, <B11 5.9>, <L12 17.3>, <G1 ''>, <I1 ''>, <G3 ''>, <C1 ''>, <G8 71.3>, <C9 15.1>, <L2 ''>, <H9 23.7>, <C3 ''>, <J9 39.2>, <E11 100.0>, <F1 ''>, <F5 2482.0>, <C5 324.0>, <C7 49.0>, <M8 68.6>, <B6 31.0>, <J7 1010.0>, <F7 946.0>, <K2 ''>, <A10 '% of Total'>, <K11 36.5>, <K4 'Drugs Only'>, <H7 252.0>, <H5 1062.0>, <E6 528.0>, <D11 42.0>, <E9 25.9>, <G11 34.2>, <H2 ''>, <L9 23.9>, <M4 ''>, <I7 1689.0>, <J2 ''>, <E5 713.0>, <C6 275.0>, <M2 ''>, <B12 34.6>, <L4 'Drugs & Alcohol'>, <M6 4095.0>, <J8 60.8>, <D6 222.0>, <G6 1221.0>, <G10 32.6>, <C11 52.1>, <A12 '% of all Females'>, <H12 14.9>, <L5 1356.0>, <A8 'Male (%)'>, <D9 24.5>, <A7 'Female'>, <K9 26.5>, <L8 76.1>, <I11 100.0>, <B1 ''>, <A9 'Female (%)'>, <F12 56.0>, <C10 45.4>, <E2 ''>, <M11 100.0>, <I8 67.9>, <K5 2036.0>, <J4 'Alcohol Only'>, <G4 'Drugs Only'>, <F11 43.1>, <G12 29.1>, <M7 1874.0>, <G5 1712.0>, <A11 '% of all Males '>, <A1 'Table 1 – Breakdown by Age and Gender'>, <L7 324.0>, <I4 'Total'>, <D2 ''>, <A6 'Male'>, <G2 ''>, <G9 28.7>, <L11 25.2>, <C12 26.5>, <I2 ''>, <M3 'Overall Total'>, <J6 1567.0>, <J11 38.3>, <B9 67.4>, <M9 31.4>, <L1 ''>, <A5 'Total'>, <F4 'Alcohol Only'>, <D7 72.0>, <I6 3567.0>, <E12 100.0>, <L3 ''>, <C8 84.9>, <E4 'Total'>, <E10 100.0>, <F2 ''>, <B10 13.3>, <K1 ''>, <I10 100.0>, <A3 'Gender'>, <F6 1536.0>, <K3 ''>, <J10 43.2>, <D4 'Drugs & Alcohol'>, <A4 ''>, <D8 75.5>, <J5 2577.0>, <H1 ''>, <F3 '18 and over'>, <H11 22.7>, <H3 ''>, <C4 'Drugs Only'>, <J12 53.9>, <M1 ''>, <B5 95.0>, <F10 47.2>, <B8 32.6>, <E7 185.0>, <H6 810.0>, <K7 540.0>, <M5 5969.0>, <C2 ''>, <F9 38.1>, <H10 20.2>, <I5 5256.0>, <B3 'Under 18 '>, <K10 34.1>, <G7 491.0>},\n",
       " 'Table 2': {<I14 'Total'>, <J4 'Drugs & Alcohol'>, <K7 148.0>, <C17 294.0>, <D19 '*'>, <L3 ''>, <D18 ''>, <C11 0.0>, <J6 141.0>, <E17 580.0>, <F2 ''>, <F13 '18 and over'>, <A20 'Non-statutory (%)'>, <D17 202.0>, <J17 853.0>, <M13 'Overall Total'>, <B5 1567.0>, <L6 1143.0>, <M14 ''>, <K1 ''>, <F15 2482.0>, <B17 84.0>, <C12 ''>, <K14 'Drugs Only'>, <B15 95.0>, <C7 571.0>, <J2 ''>, <L1 ''>, <E11 0.0>, <H15 1062.0>, <I13 ''>, <A17 'Non-statutory'>, <L9 67.7>, <A10 'Non-statutory (%)'>, <E5 528.0>, <A4 ''>, <B7 493.0>, <E16 '*'>, <L10 31.8>, <K21 0.0>, <E6 96.0>, <H1 ''>, <G4 'Total'>, <H14 'Drugs & Alcohol'>, <H8 0.0>, <B6 1069.0>, <F14 'Alcohol Only'>, <E13 ''>, <A18 'Prison'>, <H19 '*'>, <B13 'Under 18 '>, <M10 36.6>, <M1 ''>, <L18 178.0>, <F6 2326.0>, <I18 '*'>, <C19 '*'>, <F20 31.0>, <G6 2422.0>, <G20 25.1>, <K13 ''>, <H20 38.3>, <H6 650.0>, <K8 11.0>, <C8 0.0>, <A21 'Prison (%)'>, <A7 'Non-statutory'>, <E9 18.2>, <H11 0.0>, <I4 'Drugs Only'>, <C2 ''>, <H18 '*'>, <H3 'Female  '>, <J12 ''>, <G15 1712.0>, <H13 ''>, <A8 'Prison'>, <B1 ''>, <A16 'Statutory'>, <E21 '-'>, <D6 428.0>, <H17 407.0>, <E18 '-'>, <J5 324.0>, <B4 'Alcohol Only'>, <F8 172.0>, <F10 30.0>, <I15 5256.0>, <M12 ''>, <G13 ''>, <E3 ''>, <M11 0.6>, <I16 '*'>, <I8 0.0>, <G19 '*'>, <B19 '*'>, <E1 ''>, <M8 11.0>, <J11 3.4>, <B14 'Alcohol Only'>, <F17 769.0>, <D5 1032.0>, <D2 ''>, <D15 294.0>, <J3 ''>, <L11 ''>, <A15 'Total'>, <B12 ''>, <J1 ''>, <G17 430.0>, <L4 '18 and over'>, <K15 2036.0>, <J7 172.0>, <D8 167.0>, <A14 ''>, <D1 ''>, <J20 33.1>, <G18 '*'>, <A12 ''>, <E10 81.8>, <I6 387.0>, <I21 '*'>, <I3 ''>, <I17 1606.0>, <K20 35.6>, <G10 36.7>, <G1 ''>, <H21 '*'>, <G3 ''>, <A1 'Table 2 – Breakdown by Service Type'>, <C15 324.0>, <K6 35.0>, <B8 5.0>, <L8 ''>, <C20 90.7>, <M17 2186.0>, <G8 172.0>, <L17 609.0>, <C14 'Drugs Only'>, <F3 ''>, <L2 ''>, <J15 2577.0>, <L19 42.0>, <K10 80.0>, <M16 3600.0>, <C18 ''>, <F1 ''>, <K3 ''>, <I5 540.0>, <F12 ''>, <D4 'Drugs & Alcohol'>, <H10 35.6>, <E19 '*'>, <M19 60.3>, <I9 71.7>, <B16 '*'>, <K2 ''>, <I20 30.6>, <D10 42.3>, <M6 1178.0>, <J18 5.0>, <A19 'Statutory (%)'>, <L7 537.0>, <G9 59.1>, <J10 53.1>, <E12 ''>, <L21 13.1>, <A11 'Prison (%)'>, <M3 ''>, <E15 713.0>, <C4 'Drugs Only'>, <J9 43.5>, <G11 4.2>, <I12 ''>, <C16 '*'>, <F5 3567.0>, <E4 'Under 18s'>, <M18 183.0>, <F4 '18 and over'>, <B11 0.3>, <G7 1501.0>, <M4 'Total'>, <H2 ''>, <A9 'Statutory (%)'>, <E14 'Total'>, <H4 'Alcohol Only'>, <I7 153.0>, <L14 'Drugs & Alcohol'>, <K18 0.0>, <B20 88.4>, <M2 ''>, <K17 724.0>, <D11 16.2>, <B9 68.2>, <I19 '*'>, <B18 '-'>, <H16 '*'>, <I10 28.3>, <D12 ''>, <C5 1496.0>, <L15 1356.0>, <B3 'Male'>, <J16 1719.0>, <H12 ''>, <K9 18.9>, <B2 ''>, <C6 925.0>, <H9 64.4>, <E7 432.0>, <J14 'Alcohol Only'>, <L16 569.0>, <F18 '*'>, <E20 81.3>, <C9 61.8>, <G12 ''>, <M20 36.6>, <I11 0.0>, <K19 64.4>, <A2 ''>, <D7 437.0>, <F11 4.8>, <E2 ''>, <L5 1689.0>, <D9 41.5>, <E8 0.0>, <G14 'Drugs Only'>, <F19 '*'>, <G5 4095.0>, <D20 68.7>, <B10 31.5>, <M5 1874.0>, <D3 ''>, <A6 'Statutory'>, <F7 1069.0>, <L13 ''>, <M7 685.0>, <L12 ''>, <J19 66.7>, <F21 '*'>, <J21 0.2>, <M21 3.1>, <D13 ''>, <K16 1312.0>, <I1 ''>, <M15 5969.0>, <F16 '*'>, <D16 '*'>, <D21 ''>, <H7 360.0>, <C10 38.2>, <J8 11.0>, <C1 ''>, <D14 'Drugs & Alcohol'>, <M9 62.9>, <K12 ''>, <A13 'Service Type'>, <G2 ''>, <C3 ''>, <K11 0.6>, <I2 ''>, <G21 '*'>, <A3 'Service Type'>, <G16 '*'>, <K5 185.0>, <B21 '-'>, <F9 65.2>, <K4 'Under 18s'>, <C13 ''>, <J13 'Treatment Type'>, <C21 ''>, <L20 44.9>, <H5 1010.0>, <A5 'Total'>},\n",
       " 'Table 3': {<G7 3613.0>, <L16 225.0>, <J19 6.4>, <L7 1547.0>, <K19 1.3>, <E10 95.5>, <B4 'Alcohol Only'>, <G9 8.2>, <M10 92.2>, <G13 ''>, <I9 0.9>, <H20 76.3>, <G19 '*'>, <E2 ''>, <L5 1689.0>, <B14 'Alcohol Only'>, <G14 'Drugs Only'>, <G5 4095.0>, <D9 19.8>, <J3 ''>, <M5 1874.0>, <D3 ''>, <K9 4.4>, <I10 96.9>, <E7 504.0>, <B12 ''>, <L12 ''>, <L13 ''>, <M21 3.5>, <J1 ''>, <D13 ''>, <I6 5.0>, <J17 2297.0>, <K15 2036.0>, <L6 ''>, <A14 ''>, <J6 21.0>, <L9 ''>, <D14 'Drugs & Alcohol'>, <G18 '*'>, <K20 96.5>, <C1 ''>, <A12 ''>, <K12 ''>, <G2 ''>, <I3 ''>, <A7 'Non-residential '>, <C3 ''>, <G10 88.2>, <A20 'Non-residential (%)'>, <A17 'Non-residential '>, <D6 204.0>, <K5 185.0>, <E11 4.5>, <I17 4656.0>, <C13 ''>, <D20 91.8>, <H21 '*'>, <C15 324.0>, <B19 '-'>, <F11 3.5>, <D16 ''>, <A5 'Total'>, <L1 ''>, <C14 'Drugs Only'>, <J15 2577.0>, <I14 'Total'>, <L17 1080.0>, <C18 ''>, <L3 ''>, <C9 1.5>, <F10 87.2>, <I8 12.0>, <H11 4.4>, <F2 ''>, <F13 '18 and over'>, <A19 'Residential (%)'>, <C16 ''>, <B6 108.0>, <D8 44.0>, <E17 685.0>, <D19 ''>, <M11 3.4>, <G11 3.6>, <M13 'Overall Total'>, <E8 24.0>, <K21 2.2>, <M14 ''>, <C7 1441.0>, <K1 ''>, <M7 1728.0>, <L21 3.8>, <G6 334.0>, <C12 ''>, <J2 ''>, <J8 7.0>, <E15 713.0>, <C4 'Drugs Only'>, <A9 'Residential (%)'>, <C19 ''>, <I12 ''>, <E4 'Under 18s'>, <I7 523.0>, <C10 96.3>, <G4 'Total'>, <F6 334.0>, <M4 'Total'>, <H2 ''>, <E14 'Total'>, <F14 'Alcohol Only'>, <H4 'Alcohol Only'>, <C6 22.0>, <E13 ''>, <E16 '-'>, <C17 321.0>, <C20 99.1>, <E20 96.1>, <K7 181.0>, <M1 ''>, <J10 91.4>, <H8 44.0>, <I19 '*'>, <M16 417.0>, <C5 1496.0>, <K17 1964.0>, <B3 'Male'>, <I11 2.2>, <J18 115.0>, <I4 'Drugs Only'>, <H12 ''>, <B17 94.0>, <D10 76.0>, <A13 'Residential Status'>, <M19 7.0>, <B2 ''>, <B10 88.6>, <E19 '-'>, <A3 'Residential Status'>, <F18 '*'>, <J14 'Alcohol Only'>, <J5 324.0>, <G12 ''>, <H7 909.0>, <D7 784.0>, <G20 96.0>, <I15 5256.0>, <A2 ''>, <M20 89.5>, <M12 ''>, <A1 'Table 3 – Breakdown by Residential Status'>, <M6 83.0>, <E3 ''>, <C8 33.0>, <I16 '*'>, <C11 2.2>, <E1 ''>, <A16 'Residential'>, <G8 148.0>, <F19 '*'>, <D5 1032.0>, <D2 ''>, <D15 294.0>, <B16 '-'>, <L11 ''>, <A15 'Total'>, <G17 1643.0>, <F21 '*'>, <I20 88.6>, <H17 810.0>, <F7 3109.0>, <L19 16.6>, <L4 '18 and over'>, <I1 ''>, <J11 2.2>, <M15 5969.0>, <F16 '*'>, <D21 ''>, <D1 ''>, <F9 9.4>, <J16 165.0>, <D17 270.0>, <J12 ''>, <I21 '*'>, <A6 'Residential'>, <B7 1388.0>, <G1 ''>, <I2 ''>, <K6 83.0>, <G21 '*'>, <G16 '*'>, <E18 '*'>, <K4 'Under 18s'>, <G3 ''>, <J13 'Treatment Type'>, <A18 'Mixed'>, <C21 ''>, <L8 ''>, <K18 45.0>, <H5 1010.0>, <J21 4.5>, <F3 ''>, <L2 ''>, <J4 'Drugs & Alcohol'>, <H10 90.0>, <D18 ''>, <F1 ''>, <K3 ''>, <I5 540.0>, <B9 6.9>, <F12 ''>, <B21 '*'>, <D4 'Drugs & Alcohol'>, <J7 296.0>, <B11 4.5>, <B5 1567.0>, <K2 ''>, <M9 4.4>, <E6 0.0>, <A21 'Mixed (%)'>, <E21 '*'>, <F15 2482.0>, <A8 'Mixed'>, <K14 'Drugs Only'>, <E12 ''>, <B15 95.0>, <H15 1062.0>, <M3 ''>, <I13 ''>, <A10 'Non-residential (%)'>, <E5 528.0>, <A4 ''>, <H9 5.6>, <L10 91.6>, <F5 3567.0>, <F4 '18 and over'>, <B18 '*'>, <F17 2203.0>, <H1 ''>, <A11 'Mixed (%)'>, <H14 'Drugs & Alcohol'>, <M18 211.0>, <B8 71.0>, <L18 51.0>, <H6 57.0>, <M17 5341.0>, <H19 '*'>, <L14 'Drugs & Alcohol'>, <B13 'Under 18 '>, <K16 27.0>, <M2 ''>, <K11 3.4>, <E9 0.0>, <I18 '*'>, <D11 4.3>, <F20 88.8>, <K10 97.8>, <J9 6.5>, <F8 124.0>, <K13 ''>, <H16 '*'>, <D12 ''>, <L15 1356.0>, <J20 89.1>, <H18 '*'>, <K8 63.0>, <C2 ''>, <M8 63.0>, <H3 'Female  '>, <L20 79.6>, <G15 1712.0>, <H13 ''>, <B1 ''>, <B20 98.9>},\n",
       " 'Table 4': {<L18 ''>, <H11 0.0>, <L36 13.1>, <M29 183.0>, <J17 29.9>, <J28 616.0>, <A6 'Belfast'>, <M36 3.1>, <K15 16.2>, <C25 16.0>, <D26 38.0>, <C28 75.0>, <M37 2.6>, <I37 '*'>, <K13 48.1>, <A13 'Belfast (%)'>, <J1 ''>, <F1 ''>, <E28 151.0>, <G6 1063.0>, <G28 220.0>, <D3 ''>, <D23 294.0>, <J4 'Drugs & Alcohol'>, <E23 713.0>, <H6 176.0>, <I1 ''>, <H2 ''>, <K10 37.0>, <A24 'Belfast'>, <J2 ''>, <G7 717.0>, <C36 ''>, <D15 10.9>, <C11 0.0>, <L16 20.5>, <A17 'Western (%)'>, <J20 ''>, <C33 21.3>, <F20 ''>, <F5 3567.0>, <H36 '*'>, <D13 28.3>, <A31 'Belfast (%)'>, <E36 '-'>, <B29 '-'>, <B18 0.3>, <K30 9.0>, <B25 9.0>, <J32 17.2>, <I12 6.0>, <B6 288.0>, <D35 16.3>, <E6 233.0>, <I28 1057.0>, <K7 21.0>, <G26 260.0>, <G5 4095.0>, <J21 'Treatment Type'>, <L24 385.0>, <L27 240.0>, <H20 ''>, <G29 '*'>, <M18 0.6>, <K6 89.0>, <A25 'Northern'>, <H3 'Female  '>, <A22 ''>, <E24 322.0>, <B1 ''>, <I35 20.1>, <I2 ''>, <E2 ''>, <E31 45.2>, <F13 23.3>, <G14 17.5>, <C6 483.0>, <A34 'Southern (%)'>, <F19 3.0>, <K29 0.0>, <C22 'Drugs Only'>, <B26 15.0>, <M19 2.7>, <C18 0.0>, <K5 185.0>, <D16 18.3>, <G35 12.9>, <E15 17.4>, <M10 435.0>, <H27 214.0>, <I15 15.9>, <K21 ''>, <E12 0.0>, <I17 13.1>, <L10 398.0>, <B15 12.6>, <E17 21.6>, <E19 0.0>, <A10 'Western'>, <D31 43.5>, <M30 158.0>, <J27 559.0>, <D30 ''>, <A32 'Northern (%)'>, <L7 285.0>, <K37 0.4>, <D33 12.9>, <D34 8.8>, <C27 7.0>, <B34 3.2>, <H9 225.0>, <I13 30.7>, <J18 3.4>, <L22 'Drugs & Alcohol'>, <F10 659.0>, <C26 69.0>, <E34 5.0>, <B4 'Alcohol Only'>, <G33 15.2>, <H30 '*'>, <L26 162.0>, <L25 85.0>, <L15 15.2>, <D27 26.0>, <D17 19.4>, <M35 20.2>, <L20 ''>, <A2 ''>, <L4 '18 and over'>, <K12 51.0>, <H13 17.4>, <A28 'Western'>, <B11 5.0>, <J29 5.0>, <A14 'Northern (%)'>, <D9 189.0>, <A30 'Emergency admissions (HIS)'>, <J33 13.6>, <K27 259.0>, <B36 '-'>, <F37 '*'>, <C12 3.0>, <C21 ''>, <H5 1010.0>, <J16 15.7>, <F25 434.0>, <J36 0.2>, <G1 ''>, <F15 13.0>, <H25 33.0>, <K26 329.0>, <C13 32.3>, <F7 661.0>, <C29 ''>, <L29 178.0>, <L2 ''>, <K32 24.3>, <J30 140.0>, <H4 'Alcohol Only'>, <E29 '-'>, <J14 5.9>, <D19 0.5>, <E33 17.1>, <M2 ''>, <M16 18.6>, <G36 '*'>, <D22 'Drugs & Alcohol'>, <M25 1023.0>, <B13 18.4>, <H15 15.0>, <C16 12.4>, <F4 '18 and over'>, <C32 4.9>, <F34 22.4>, <E32 10.8>, <I30 '*'>, <F28 588.0>, <H24 257.0>, <B3 'Male'>, <G15 13.5>, <K34 12.7>, <A21 'Trust'>, <B10 349.0>, <M28 1208.0>, <F29 '*'>, <H14 14.8>, <A20 ''>, <F24 425.0>, <M7 306.0>, <F21 '18 and over'>, <G22 'Drugs Only'>, <E37 '*'>, <L5 1689.0>, <K17 20.0>, <E30 '*'>, <F36 '*'>, <G17 18.9>, <L32 6.3>, <M33 14.1>, <G9 709.0>, <H12 41.0>, <I24 1176.0>, <I36 '*'>, <F16 19.0>, <J23 2577.0>, <D2 ''>, <J13 28.7>, <K1 ''>, <B17 22.3>, <I14 25.6>, <C20 ''>, <I8 86.0>, <G34 14.7>, <H1 ''>, <C15 16.2>, <H8 152.0>, <D6 292.0>, <G10 773.0>, <I6 166.0>, <L21 ''>, <E8 92.0>, <L23 1356.0>, <G19 2.6>, <F33 13.5>, <B33 15.8>, <M20 ''>, <K25 495.0>, <F35 23.7>, <K18 0.6>, <B35 29.5>, <F30 '*'>, <M17 23.2>, <J8 49.0>, <A8 'South Eastern'>, <G21 ''>, <C2 ''>, <D5 1032.0>, <I11 0.0>, <D24 128.0>, <J26 350.0>, <H35 23.4>, <E13 44.1>, <D32 17.7>, <C35 23.1>, <J5 324.0>, <D1 ''>, <M22 ''>, <I33 13.7>, <J19 1.2>, <I3 ''>, <E3 ''>, <A1 'Table 4 – Breakdown by Trust'>, <F31 17.1>, <F26 335.0>, <L9 346.0>, <K23 2036.0>, <I19 1.1>, <G8 554.0>, <C1 ''>, <C10 224.0>, <B30 '*'>, <B12 99.0>, <M23 5969.0>, <E9 33.0>, <J11 11.0>, <J35 23.9>, <J25 443.0>, <B16 21.3>, <L12 ''>, <L35 21.9>, <G3 ''>, <D21 ''>, <H28 249.0>, <K28 295.0>, <H32 3.1>, <E7 56.0>, <G31 28.9>, <J37 5.4>, <I20 ''>, <E20 ''>, <J10 97.0>, <D29 ''>, <J34 21.7>, <H16 22.3>, <D10 200.0>, <M8 287.0>, <F27 556.0>, <L31 28.4>, <F6 830.0>, <K20 ''>, <G20 ''>, <G11 172.0>, <B19 6.3>, <F32 17.5>, <F23 2482.0>, <K33 16.2>, <H23 1062.0>, <L19 ''>, <A23 'Total'>, <D36 ''>, <K16 1.6>, <H26 124.0>, <M27 1058.0>, <D7 66.0>, <E27 36.0>, <B7 294.0>, <L17 23.6>, <E22 'Total'>, <C14 23.9>, <L6 346.0>, <L14 16.9>, <B22 'Alcohol Only'>, <H34 20.2>, <C37 ''>, <F2 ''>, <K8 30.0>, <M24 1498.0>, <G18 4.2>, <G2 ''>, <M6 435.0>, <C23 324.0>, <E10 114.0>, <M14 16.3>, <D8 113.0>, <E5 528.0>, <M31 25.1>, <C30 ''>, <L1 ''>, <A5 'Total'>, <C24 155.0>, <I23 5256.0>, <I22 'Total'>, <M3 ''>, <A3 'Trust'>, <L33 11.9>, <H33 11.7>, <B28 28.0>, <D11 167.0>, <I5 540.0>, <J9 51.0>, <L30 9.0>, <A4 ''>, <B8 198.0>, <I29 '*'>, <I27 1022.0>, <I9 73.0>, <C5 1496.0>, <D12 5.0>, <C17 15.0>, <K35 14.5>, <F14 18.5>, <K24 649.0>, <C31 47.8>, <H17 26.4>, <G30 '*'>, <H21 ''>, <A26 'South Eastern'>, <C9 186.0>, <B24 39.0>, <H37 '*'>, <J31 18.0>, <B2 ''>, <A7 'Northern'>, <G23 1712.0>, <A37 'Emergency admissions (HIS) (%)'>, <D14 6.4>, <E1 ''>, <E14 10.6>, <J3 ''>, <K19 2.7>, <I31 22.4>, <F3 ''>, <C3 ''>, <A18 'Prison (%)'>, <L8 257.0>, <I7 138.0>, <A15 'South Eastern (%)'>, <K2 ''>, <E25 77.0>, <A16 'Southern (%)'>, <D25 52.0>, <E4 'Under 18s'>, <G27 252.0>, <B37 '*'>, <A9 'Southern'>, <H19 4.1>, <K31 31.9>, <E35 21.2>, <E11 0.0>, <K14 11.4>, <I18 0.0>, <E18 0.0>, <J22 'Alcohol Only'>, <A11 'Prison'>, <I26 719.0>, <D28 48.0>, <K9 3.0>, <F11 172.0>, <B31 41.1>, <M34 17.7>, <I10 71.0>, <A36 'Prison (%)'>, <H22 'Drugs & Alcohol'>, <M26 841.0>, <F22 'Alcohol Only'>, <B9 334.0>, <A12 'Emergency admissions (HIS)'>, <H29 '*'>, <G12 107.0>, <F9 676.0>, <K22 'Drugs Only'>, <G13 26.0>, <C19 0.2>, <H18 0.0>, <L34 17.7>, <G37 '*'>, <M5 1874.0>, <I32 18.0>, <E26 122.0>, <L37 0.7>, <C34 2.2>, <H10 267.0>, <D18 16.2>, <J6 93.0>, <A29 'Prison'>, <H7 149.0>, <K4 'Under 18s'>, <G16 17.3>, <F12 107.0>, <I25 946.0>, <B20 ''>, <A33 'South Eastern (%)'>, <M9 349.0>, <F17 18.5>, <G25 479.0>, <L13 20.5>, <L11 ''>, <J15 15.1>, <B23 95.0>, <B21 'Under 18 '>, <G24 494.0>, <C8 243.0>, <G32 28.0>, <L3 ''>, <I21 ''>, <B32 9.5>, <F8 462.0>, <F18 4.8>, <D20 ''>, <M1 ''>, <B5 1567.0>, <D37 ''>, <I34 19.4>, <A27 'Southern'>, <K3 ''>, <J24 464.0>, <K11 11.0>, <D4 'Drugs & Alcohol'>, <B14 18.8>, <M21 'Overall Total'>, <I4 'Drugs Only'>, <I16 13.5>, <E21 ''>, <B27 3.0>, <G4 'Total'>, <J7 19.0>, <K36 0.0>, <A35 'Western (%)'>, <C7 357.0>, <H31 24.2>, <M11 11.0>, <C4 'Drugs Only'>, <E16 6.3>, <A19 'Emergency admissions (HIS)  (%)'>, <L28 297.0>, <J12 4.0>, <M4 'Total'>, <M32 17.1>, <M15 15.3>, <M13 23.2>, <M12 51.0>},\n",
       " 'Table 5': {<H31 129.0>, <E26 23.1>, <J21 ''>, <E25 21.8>, <E13 ''>, <C18 31.2>, <B28 ''>, <K29 20.2>, <F30 184.0>, <A21 'Residential Status'>, <C1 ''>, <B18 1741.0>, <A10 'Age'>, <J13 ''>, <E12 89.0>, <B23 5467.0>, <A16 'Drugs & Alcohol'>, <H12 7691.0>, <K20 3.1>, <G28 21.0>, <H9 3176.0>, <E9 27.4>, <F27 675.0>, <H30 313.0>, <H18 3646.0>, <D5 'Headcount'>, <H4 2014.0>, <H7 ''>, <D16 1224.0>, <I18 42.6>, <I3 ''>, <B20 257.0>, <H8 5377.0>, <F9 1850.0>, <J6 5969.0>, <J14 2577.0>, <F4 2012.0>, <E6 100.0>, <C17 ''>, <E2 ''>, <D8 4244.0>, <I29 15.0>, <K24 ''>, <A25 'Belfast'>, <E10 ''>, <E31 3.1>, <D2 ''>, <D23 5713.0>, <B16 989.0>, <K31 2.6>, <E8 72.6>, <H5 'Headcount'>, <D9 1602.0>, <I24 ''>, <G11 6.7>, <B7 ''>, <D10 ''>, <H21 ''>, <J12 5256.0>, <K28 17.7>, <K1 ''>, <D26 1349.0>, <A5 ''>, <F17 ''>, <I19 53.7>, <H2 ''>, <D3 '1st March '>, <A15 'Drugs Only'>, <A17 'Service type'>, <H10 ''>, <F8 4066.0>, <I5 '%'>, <J26 1023.0>, <C19 64.2>, <J11 713.0>, <J15 2036.0>, <F19 3827.0>, <H29 1279.0>, <F1 ''>, <H6 8553.0>, <B8 3686.0>, <H11 862.0>, <E5 '%'>, <A31 'Emergency admissions (HIS)'>, <I9 37.1>, <E7 ''>, <F23 5775.0>, <I28 22.6>, <K17 ''>, <H26 888.0>, <G19 64.7>, <D13 ''>, <D14 3328.0>, <G18 32.2>, <B15 1118.0>, <F18 1905.0>, <A6 'Total'>, <G12 93.3>, <J8 4095.0>, <I21 ''>, <E22 2.3>, <H24 ''>, <F3 '1st March '>, <J7 ''>, <I13 ''>, <H14 3891.0>, <A2 ''>, <A9 'Female  '>, <F24 ''>, <J27 841.0>, <G22 2.4>, <J28 1058.0>, <G4 ''>, <J9 1874.0>, <D21 ''>, <C30 4.6>, <H13 ''>, <G7 ''>, <A7 'Gender'>, <B3 '1st March '>, <H15 2617.0>, <E4 ''>, <I26 10.4>, <F26 1094.0>, <E18 27.5>, <B14 3476.0>, <C12 84.8>, <B17 ''>, <E14 56.9>, <A8 'Male'>, <J19 2186.0>, <C22 2.1>, <C7 ''>, <C4 ''>, <H25 2425.0>, <A1 'Table 5 – Comparison Table'>, <K7 ''>, <K15 34.1>, <I22 5.3>, <B1 ''>, <G21 ''>, <J31 158.0>, <I10 ''>, <D31 182.0>, <E17 ''>, <G14 52.6>, <F25 1536.0>, <I2 ''>, <B6 5583.0>, <I11 10.1>, <D27 1252.0>, <H23 8101.0>, <D24 ''>, <I15 30.6>, <H27 1582.0>, <A18 'Statutory'>, <D19 4035.0>, <E1 ''>, <D28 789.0>, <B24 ''>, <J3 '1st March '>, <B4 2007.0>, <E16 20.9>, <K6 100.0>, <C28 ''>, <D12 5202.0>, <C16 17.7>, <A20 'Prison'>, <E20 3.5>, <K8 68.6>, <J17 ''>, <F29 1015.0>, <C13 ''>, <B5 'Headcount'>, <C31 2.5>, <K4 ''>, <D22 133.0>, <K23 93.0>, <I27 18.5>, <A4 ''>, <C9 34.0>, <D20 205.0>, <J1 ''>, <I7 ''>, <F12 5518.0>, <B25 5185.0>, <G6 100.0>, <I20 3.7>, <G2 ''>, <A28 'Southern'>, <G16 21.8>, <H16 2045.0>, <E28 13.5>, <D6 5846.0>, <A13 'Treatment type'>, <B19 3585.0>, <D11 644.0>, <D15 1294.0>, <G8 68.7>, <J18 3600.0>, <F2 ''>, <K27 14.1>, <G15 25.6>, <C21 ''>, <K9 31.4>, <G13 ''>, <F5 'Headcount'>, <B11 847.0>, <J16 1356.0>, <F10 ''>, <J20 183.0>, <C29 ''>, <K22 7.0>, <J24 ''>, <D25 1272.0>, <C6 100.0>, <B27 ''>, <H17 ''>, <C8 66.0>, <H19 4594.0>, <G5 '%'>, <G9 31.3>, <A14 'Alcohol Only'>, <C10 ''>, <A23 'Non-residential / Mixed'>, <H22 452.0>, <J5 'Headcount'>, <I31 1.5>, <C25 92.9>, <F11 398.0>, <B10 ''>, <F21 ''>, <K19 36.6>, <A22 'Residential'>, <K18 60.3>, <I4 ''>, <E23 97.7>, <G3 ''>, <G10 ''>, <C20 4.6>, <C5 '%'>, <G30 3.1>, <D29 797.0>, <E3 ''>, <A30 'Prison'>, <I12 89.9>, <K5 '%'>, <K21 ''>, <F22 141.0>, <B12 4736.0>, <H3 '1st September'>, <F13 ''>, <G29 17.2>, <C26 ''>, <D1 ''>, <E30 3.5>, <A12 '18 and over'>, <K13 ''>, <E27 21.4>, <C2 ''>, <B26 ''>, <F20 184.0>, <C3 ''>, <J4 2017.0>, <A27 'South Eastern'>, <C23 97.9>, <I17 ''>, <K2 ''>, <B2 ''>, <K12 88.1>, <G26 18.5>, <K30 3.1>, <G24 ''>, <A11 'Under 18 '>, <K14 43.2>, <E11 11.0>, <I8 62.9>, <H1 ''>, <K16 22.7>, <J2 ''>, <A26 'Northern'>, <H20 313.0>, <D18 1606.0>, <E24 ''>, <I1 ''>, <F16 1291.0>, <I30 3.7>, <B30 257.0>, <I16 23.9>, <C14 62.3>, <D17 ''>, <D30 205.0>, <G23 97.6>, <J30 183.0>, <G25 26.0>, <F15 1514.0>, <B21 ''>, <B22 116.0>, <J22 417.0>, <C27 ''>, <B29 ''>, <K10 ''>, <K25 25.1>, <I6 100.0>, <G17 ''>, <J25 1498.0>, <F14 3111.0>, <J10 ''>, <C15 20.0>, <K26 17.1>, <F31 172.0>, <K3 ''>, <B13 ''>, <A3 ''>, <H28 1937.0>, <I14 45.5>, <E29 13.6>, <F6 5916.0>, <G27 11.4>, <A29 'Western'>, <G1 ''>, <K11 11.9>, <I23 94.7>, <E21 ''>, <G31 2.9>, <J29 1208.0>, <E19 69.0>, <C11 15.2>, <B31 141.0>, <F7 ''>, <C24 ''>, <I25 28.4>, <B9 1897.0>, <D4 2010.0>, <A19 'Non-statutory'>, <F28 1240.0>, <G20 3.1>, <J23 5552.0>, <D7 ''>, <E15 22.1>, <A24 'Trust'>},\n",
       " 'Metadata': {<B7 'Snapshot'>, <A21 'Responsible Party Role'>, <B14 'No'>, <A24 'Constraints'>, <A4 'Dataset Title'>, <A19 'Organisation Name'>, <A23 ''>, <A5 'Abstract'>, <B10 'Health and Social Care'>, <B1 ''>, <A18 'Organisation'>, <B25 'No restriction on public access'>, <B16 'These figures only relate to those in treatment for drug and/or alcohol misuse from specialist services across Northern Ireland on a representative day. '>, <B2 ''>, <A1 'Metadata'>, <A25 'Limitations on Public Access'>, <B20 'PHIRB@health-ni.gov.uk'>, <B4 'Census of Drug and Alcohol Treatment Services in Northern Ireland: 1 March 2017 (Tables)'>, <A11 'Keyword'>, <B23 ''>, <A7 'Reporting period'>, <B11 'Drug Alcohol Misuse Treatment'>, <B24 ''>, <A10 'National Statistics Theme'>, <A12 ''>, <A22 'Telephone Number'>, <A8 ''>, <B21 'Resource Provider'>, <B22 '028 9052 2523'>, <A26 'Use Constraints'>, <A3 'Identification'>, <B15 'All data with cell sizes less than 3 has been masked to avoid the disclosure of any personal information.'>, <A6 'Year of Data'>, <B13 ''>, <A17 ''>, <A15 'Disclosure Control Methods'>, <A14 'National Statistics Data'>, <A20 'Email Address'>, <B12 ''>, <A16 'Quality Issues'>, <B8 ''>, <B9 ''>, <B19 'Department of Health, Public Health Information & Research Branch'>, <A9 'Classification'>, <B17 ''>, <B18 ''>, <B3 ''>, <B6 '1 March 2017 (with 2007, 2010, 2012 and 2014 comparisons)'>, <A13 'Quality  and Validity'>, <B5 'This bulletin summarises the number of people in treatment for problem drug and/or alcohol misuse and relates to a snapshot of those in treatment on 1 March 2017. '>, <B26 'No conditions apply'>, <A2 ''>}}"
      ]
     },
     "execution_count": 149,
     "metadata": {},
     "output_type": "execute_result"
    }
   ],
   "source": [
    "tabs = {tab.name: tab for tab in scraper.distribution(\n",
    "    title='Data from Census of Drug and Alcohol Treatment Services').as_databaker()}\n",
    "tabs.keys()\n",
    "tabs"
   ]
  },
  {
   "cell_type": "code",
   "execution_count": 102,
   "metadata": {},
   "outputs": [
    {
     "name": "stdout",
     "output_type": "stream",
     "text": [
      "\n",
      "\n",
      "\n",
      "\n",
      "\n",
      "\n",
      "\n",
      "\n"
     ]
    }
   ],
   "source": [
    "tables = []\n",
    "for tab_name, script in [\n",
    "    ('Table 1', 'Treatment Services by Age and Gender.ipynb'),\n",
    "    ('Table 2', 'Treatment Services by Service Type(Age).ipynb'),\n",
    "    ('Table 2', 'Treatment Services by Service Type(sex).ipynb'),\n",
    "    ('Table 3', 'Treatment Services by Residential status(Age).ipynb'),\n",
    "    ('Table 3', 'Treatment Services by Residential Status(sex).ipynb'),\n",
    "    ('Table 4', 'Treatment Services by Trust(Age).ipynb'),\n",
    "    ('Table 4', 'Treatment Services by Trust(sex).ipynb'),\n",
    "    ('Table 5', 'Treatment Services by Comparison table.ipynb')\n",
    "]:\n",
    "    tab = tabs[tab_name]\n",
    "    %run \"$script\"\n",
    "    tables.append(new_table)"
   ]
  },
  {
   "cell_type": "code",
   "execution_count": 103,
   "metadata": {},
   "outputs": [
    {
     "data": {
      "text/plain": [
       "Period                          724\n",
       "Sex                             724\n",
       "Age                             724\n",
       "Service Type                    724\n",
       "Residential Status              724\n",
       "Treatment Type                  724\n",
       "Health and Social Care Trust    724\n",
       "Measure Type                    724\n",
       "Unit                            724\n",
       "Value                           724\n",
       "dtype: int64"
      ]
     },
     "execution_count": 103,
     "metadata": {},
     "output_type": "execute_result"
    }
   ],
   "source": [
    "tidy = pd.concat(tables)\n",
    "tidy.count()"
   ]
  },
  {
   "cell_type": "code",
   "execution_count": 104,
   "metadata": {},
   "outputs": [],
   "source": [
    "tidy['Treatment Type'].fillna('Total', inplace = True)"
   ]
  },
  {
   "cell_type": "code",
   "execution_count": 105,
   "metadata": {},
   "outputs": [
    {
     "data": {
      "text/plain": [
       "Period                          724\n",
       "Sex                             724\n",
       "Age                             724\n",
       "Service Type                    724\n",
       "Residential Status              724\n",
       "Treatment Type                  724\n",
       "Health and Social Care Trust    724\n",
       "Measure Type                    724\n",
       "Unit                            724\n",
       "Value                           724\n",
       "dtype: int64"
      ]
     },
     "execution_count": 105,
     "metadata": {},
     "output_type": "execute_result"
    }
   ],
   "source": [
    "tidy.count()"
   ]
  },
  {
   "cell_type": "code",
   "execution_count": 106,
   "metadata": {},
   "outputs": [
    {
     "data": {
      "text/plain": [
       "array(['Alcohol Only', 'Drugs Only', 'Drugs & Alcohol', 'Total', 'All',\n",
       "       'Under 18s', '18 and over', 'Male', 'Female  ', 'Under 18 ',\n",
       "       'Statutory', 'Non-statutory', 'Prison', 'Residential',\n",
       "       'Non-residential / Mixed', 'Belfast', 'Northern', 'South Eastern',\n",
       "       'Southern', 'Western', 'Emergency admissions (HIS)'], dtype=object)"
      ]
     },
     "execution_count": 106,
     "metadata": {},
     "output_type": "execute_result"
    }
   ],
   "source": [
    "tidy['Treatment Type'].unique()"
   ]
  },
  {
   "cell_type": "code",
   "execution_count": 107,
   "metadata": {},
   "outputs": [
    {
     "data": {
      "text/html": [
       "<div>\n",
       "<style scoped>\n",
       "    .dataframe tbody tr th:only-of-type {\n",
       "        vertical-align: middle;\n",
       "    }\n",
       "\n",
       "    .dataframe tbody tr th {\n",
       "        vertical-align: top;\n",
       "    }\n",
       "\n",
       "    .dataframe thead th {\n",
       "        text-align: right;\n",
       "    }\n",
       "</style>\n",
       "<table border=\"1\" class=\"dataframe\">\n",
       "  <thead>\n",
       "    <tr style=\"text-align: right;\">\n",
       "      <th></th>\n",
       "      <th>Period</th>\n",
       "      <th>Sex</th>\n",
       "      <th>Age</th>\n",
       "      <th>Service Type</th>\n",
       "      <th>Residential Status</th>\n",
       "      <th>Treatment Type</th>\n",
       "      <th>Health and Social Care Trust</th>\n",
       "      <th>Measure Type</th>\n",
       "      <th>Unit</th>\n",
       "      <th>Value</th>\n",
       "    </tr>\n",
       "  </thead>\n",
       "  <tbody>\n",
       "    <tr>\n",
       "      <th>0</th>\n",
       "      <td>1 March 2017</td>\n",
       "      <td>Persons</td>\n",
       "      <td>Under 18</td>\n",
       "      <td>All</td>\n",
       "      <td>All</td>\n",
       "      <td>Alcohol Only</td>\n",
       "      <td>All</td>\n",
       "      <td>Count</td>\n",
       "      <td>People</td>\n",
       "      <td>95</td>\n",
       "    </tr>\n",
       "    <tr>\n",
       "      <th>1</th>\n",
       "      <td>1 March 2017</td>\n",
       "      <td>Persons</td>\n",
       "      <td>Under 18</td>\n",
       "      <td>All</td>\n",
       "      <td>All</td>\n",
       "      <td>Drugs Only</td>\n",
       "      <td>All</td>\n",
       "      <td>Count</td>\n",
       "      <td>People</td>\n",
       "      <td>324</td>\n",
       "    </tr>\n",
       "    <tr>\n",
       "      <th>2</th>\n",
       "      <td>1 March 2017</td>\n",
       "      <td>Persons</td>\n",
       "      <td>Under 18</td>\n",
       "      <td>All</td>\n",
       "      <td>All</td>\n",
       "      <td>Drugs &amp; Alcohol</td>\n",
       "      <td>All</td>\n",
       "      <td>Count</td>\n",
       "      <td>People</td>\n",
       "      <td>294</td>\n",
       "    </tr>\n",
       "    <tr>\n",
       "      <th>3</th>\n",
       "      <td>1 March 2017</td>\n",
       "      <td>Persons</td>\n",
       "      <td>Under 18</td>\n",
       "      <td>All</td>\n",
       "      <td>All</td>\n",
       "      <td>Total</td>\n",
       "      <td>All</td>\n",
       "      <td>Count</td>\n",
       "      <td>People</td>\n",
       "      <td>713</td>\n",
       "    </tr>\n",
       "    <tr>\n",
       "      <th>4</th>\n",
       "      <td>1 March 2017</td>\n",
       "      <td>Persons</td>\n",
       "      <td>18 and over</td>\n",
       "      <td>All</td>\n",
       "      <td>All</td>\n",
       "      <td>Alcohol Only</td>\n",
       "      <td>All</td>\n",
       "      <td>Count</td>\n",
       "      <td>People</td>\n",
       "      <td>2482</td>\n",
       "    </tr>\n",
       "  </tbody>\n",
       "</table>\n",
       "</div>"
      ],
      "text/plain": [
       "         Period      Sex          Age Service Type Residential Status  \\\n",
       "0  1 March 2017  Persons    Under 18           All                All   \n",
       "1  1 March 2017  Persons    Under 18           All                All   \n",
       "2  1 March 2017  Persons    Under 18           All                All   \n",
       "3  1 March 2017  Persons    Under 18           All                All   \n",
       "4  1 March 2017  Persons  18 and over          All                All   \n",
       "\n",
       "    Treatment Type Health and Social Care Trust Measure Type    Unit Value  \n",
       "0     Alcohol Only                          All        Count  People    95  \n",
       "1       Drugs Only                          All        Count  People   324  \n",
       "2  Drugs & Alcohol                          All        Count  People   294  \n",
       "3            Total                          All        Count  People   713  \n",
       "4     Alcohol Only                          All        Count  People  2482  "
      ]
     },
     "execution_count": 107,
     "metadata": {},
     "output_type": "execute_result"
    }
   ],
   "source": [
    "tidy.head()"
   ]
  },
  {
   "cell_type": "code",
   "execution_count": 108,
   "metadata": {},
   "outputs": [],
   "source": [
    "tidy = tidy[tidy['Treatment Type'] == 'Alcohol Only']"
   ]
  },
  {
   "cell_type": "code",
   "execution_count": 109,
   "metadata": {},
   "outputs": [
    {
     "data": {
      "text/html": [
       "<div>\n",
       "<style scoped>\n",
       "    .dataframe tbody tr th:only-of-type {\n",
       "        vertical-align: middle;\n",
       "    }\n",
       "\n",
       "    .dataframe tbody tr th {\n",
       "        vertical-align: top;\n",
       "    }\n",
       "\n",
       "    .dataframe thead th {\n",
       "        text-align: right;\n",
       "    }\n",
       "</style>\n",
       "<table border=\"1\" class=\"dataframe\">\n",
       "  <thead>\n",
       "    <tr style=\"text-align: right;\">\n",
       "      <th></th>\n",
       "      <th>Period</th>\n",
       "      <th>Sex</th>\n",
       "      <th>Age</th>\n",
       "      <th>Service Type</th>\n",
       "      <th>Residential Status</th>\n",
       "      <th>Treatment Type</th>\n",
       "      <th>Health and Social Care Trust</th>\n",
       "      <th>Measure Type</th>\n",
       "      <th>Unit</th>\n",
       "      <th>Value</th>\n",
       "    </tr>\n",
       "  </thead>\n",
       "  <tbody>\n",
       "    <tr>\n",
       "      <th>0</th>\n",
       "      <td>1 March 2017</td>\n",
       "      <td>Persons</td>\n",
       "      <td>Under 18</td>\n",
       "      <td>All</td>\n",
       "      <td>All</td>\n",
       "      <td>Alcohol Only</td>\n",
       "      <td>All</td>\n",
       "      <td>Count</td>\n",
       "      <td>People</td>\n",
       "      <td>95</td>\n",
       "    </tr>\n",
       "    <tr>\n",
       "      <th>4</th>\n",
       "      <td>1 March 2017</td>\n",
       "      <td>Persons</td>\n",
       "      <td>18 and over</td>\n",
       "      <td>All</td>\n",
       "      <td>All</td>\n",
       "      <td>Alcohol Only</td>\n",
       "      <td>All</td>\n",
       "      <td>Count</td>\n",
       "      <td>People</td>\n",
       "      <td>2482</td>\n",
       "    </tr>\n",
       "    <tr>\n",
       "      <th>8</th>\n",
       "      <td>1 March 2017</td>\n",
       "      <td>Persons</td>\n",
       "      <td>All years</td>\n",
       "      <td>All</td>\n",
       "      <td>All</td>\n",
       "      <td>Alcohol Only</td>\n",
       "      <td>All</td>\n",
       "      <td>Count</td>\n",
       "      <td>People</td>\n",
       "      <td>2577</td>\n",
       "    </tr>\n",
       "    <tr>\n",
       "      <th>12</th>\n",
       "      <td>1 March 2017</td>\n",
       "      <td>Male</td>\n",
       "      <td>Under 18</td>\n",
       "      <td>All</td>\n",
       "      <td>All</td>\n",
       "      <td>Alcohol Only</td>\n",
       "      <td>All</td>\n",
       "      <td>Count</td>\n",
       "      <td>People</td>\n",
       "      <td>31</td>\n",
       "    </tr>\n",
       "    <tr>\n",
       "      <th>16</th>\n",
       "      <td>1 March 2017</td>\n",
       "      <td>Male</td>\n",
       "      <td>18 and over</td>\n",
       "      <td>All</td>\n",
       "      <td>All</td>\n",
       "      <td>Alcohol Only</td>\n",
       "      <td>All</td>\n",
       "      <td>Count</td>\n",
       "      <td>People</td>\n",
       "      <td>1536</td>\n",
       "    </tr>\n",
       "  </tbody>\n",
       "</table>\n",
       "</div>"
      ],
      "text/plain": [
       "          Period      Sex          Age Service Type Residential Status  \\\n",
       "0   1 March 2017  Persons    Under 18           All                All   \n",
       "4   1 March 2017  Persons  18 and over          All                All   \n",
       "8   1 March 2017  Persons    All years          All                All   \n",
       "12  1 March 2017     Male    Under 18           All                All   \n",
       "16  1 March 2017     Male  18 and over          All                All   \n",
       "\n",
       "   Treatment Type Health and Social Care Trust Measure Type    Unit Value  \n",
       "0    Alcohol Only                          All        Count  People    95  \n",
       "4    Alcohol Only                          All        Count  People  2482  \n",
       "8    Alcohol Only                          All        Count  People  2577  \n",
       "12   Alcohol Only                          All        Count  People    31  \n",
       "16   Alcohol Only                          All        Count  People  1536  "
      ]
     },
     "execution_count": 109,
     "metadata": {},
     "output_type": "execute_result"
    }
   ],
   "source": [
    "tidy.head()"
   ]
  },
  {
   "cell_type": "code",
   "execution_count": 110,
   "metadata": {},
   "outputs": [
    {
     "data": {
      "text/plain": [
       "array(['Persons', 'Male', 'Female', 'Male (%)', 'Female (%)',\n",
       "       '% of Total', '% of all Males ', '% of all Females', 'Female  '],\n",
       "      dtype=object)"
      ]
     },
     "execution_count": 110,
     "metadata": {},
     "output_type": "execute_result"
    }
   ],
   "source": [
    "tidy['Sex'].unique()"
   ]
  },
  {
   "cell_type": "code",
   "execution_count": 111,
   "metadata": {},
   "outputs": [],
   "source": [
    "tidy.drop(tidy[tidy.Sex.isin(['% of Total', '% of all Males ','% of all Females'])].index, inplace = True)"
   ]
  },
  {
   "cell_type": "code",
   "execution_count": 112,
   "metadata": {},
   "outputs": [
    {
     "data": {
      "text/plain": [
       "array(['Persons', 'Male', 'Female', 'Male (%)', 'Female (%)', 'Female  '],\n",
       "      dtype=object)"
      ]
     },
     "execution_count": 112,
     "metadata": {},
     "output_type": "execute_result"
    }
   ],
   "source": [
    "tidy['Sex'].unique()"
   ]
  },
  {
   "cell_type": "code",
   "execution_count": 113,
   "metadata": {},
   "outputs": [
    {
     "data": {
      "text/plain": [
       "array(['1 March 2017', '1st March 2007', '1st March 2010',\n",
       "       '1st March 2012', '1st September2014'], dtype=object)"
      ]
     },
     "execution_count": 113,
     "metadata": {},
     "output_type": "execute_result"
    }
   ],
   "source": [
    "tidy['Period'].unique()"
   ]
  },
  {
   "cell_type": "code",
   "execution_count": 114,
   "metadata": {},
   "outputs": [],
   "source": [
    "from datetime import datetime"
   ]
  },
  {
   "cell_type": "code",
   "execution_count": 115,
   "metadata": {},
   "outputs": [],
   "source": [
    "tidy.Period = pd.to_datetime(tidy.Period).dt.strftime('%Y-%m-%d')"
   ]
  },
  {
   "cell_type": "code",
   "execution_count": 116,
   "metadata": {},
   "outputs": [],
   "source": [
    "tidy['Period'] = str('day/') + tidy['Period']"
   ]
  },
  {
   "cell_type": "code",
   "execution_count": 117,
   "metadata": {},
   "outputs": [
    {
     "data": {
      "text/plain": [
       "array(['Under 18 ', '18 and over', 'All years', 'All'], dtype=object)"
      ]
     },
     "execution_count": 117,
     "metadata": {},
     "output_type": "execute_result"
    }
   ],
   "source": [
    "tidy['Age'].unique()"
   ]
  },
  {
   "cell_type": "code",
   "execution_count": 118,
   "metadata": {},
   "outputs": [],
   "source": [
    "tidy['Age'] = tidy['Age'].map(\n",
    "    lambda x: {\n",
    "        'Under 18 ' : 'under-18', \n",
    "        '18 and over' : '18-plus',\n",
    "        'All years': 'all' ,\n",
    "        'All': 'all'\n",
    "        }.get(x, x))"
   ]
  },
  {
   "cell_type": "code",
   "execution_count": 119,
   "metadata": {},
   "outputs": [],
   "source": [
    "tidy['Treatment Type'] = 'alcohol'"
   ]
  },
  {
   "cell_type": "code",
   "execution_count": 120,
   "metadata": {},
   "outputs": [],
   "source": [
    "def user_perc(x,y):\n",
    "    \n",
    "    if ( (str(x) == 'Statutory (%)')) | ((str(x) == 'Non-statutory (%)')) | ((str(x) == 'Prison (%)')): \n",
    "        \n",
    "        return 'Percentage'\n",
    "    else:\n",
    "        return y\n",
    "    \n",
    "tidy['Measure Type'] = tidy.apply(lambda row: user_perc(row['Service Type'], row['Measure Type']), axis = 1)\n",
    "\n"
   ]
  },
  {
   "cell_type": "code",
   "execution_count": 121,
   "metadata": {},
   "outputs": [],
   "source": [
    "def user_perc(x,y):\n",
    "    \n",
    "    if ( (str(x) == 'Residential (%)')) | ((str(x) == 'Non-residential (%)')) | ((str(x) == 'Mixed (%)')): \n",
    "        \n",
    "        return 'Percentage'\n",
    "    else:\n",
    "        return y\n",
    "    \n",
    "tidy['Measure Type'] = tidy.apply(lambda row: user_perc(row['Residential Status'], row['Measure Type']), axis = 1)\n",
    "\n"
   ]
  },
  {
   "cell_type": "code",
   "execution_count": 122,
   "metadata": {},
   "outputs": [
    {
     "data": {
      "text/plain": [
       "array(['All', 'Belfast', 'Northern', 'South Eastern', 'Southern',\n",
       "       'Western', 'Northern (%)', 'South Eastern (%)', 'Southern (%)',\n",
       "       'Western (%)', 'Emergency admissions (HIS) (%)',\n",
       "       'Emergency admissions (HIS)', 'Belfast (%)',\n",
       "       'Emergency admissions (HIS)  (%)'], dtype=object)"
      ]
     },
     "execution_count": 122,
     "metadata": {},
     "output_type": "execute_result"
    }
   ],
   "source": [
    "tidy['Health and Social Care Trust'].unique()"
   ]
  },
  {
   "cell_type": "code",
   "execution_count": 123,
   "metadata": {},
   "outputs": [],
   "source": [
    "def user_perc(x,y):\n",
    "    \n",
    "    if ( (str(x) == 'Belfast (%)')) | ((str(x) == 'Northern (%)')) | ((str(x) == 'South Eastern (%)')) | ((str(x) == 'Southern (%)')) | ((str(x) == 'Western (%)')) | ((str(x) == 'Emergency admissions (HIS) (%)')) : \n",
    "        \n",
    "            return 'Percentage'\n",
    "    else:\n",
    "            return y\n",
    "    \n",
    "tidy['Measure Type'] = tidy.apply(lambda row: user_perc(row['Health and Social Care Trust'], row['Measure Type']), axis = 1)"
   ]
  },
  {
   "cell_type": "code",
   "execution_count": 124,
   "metadata": {},
   "outputs": [],
   "source": [
    "def user_perc(x,y):\n",
    "    \n",
    "    if  ((str(x) == 'Emergency admissions (HIS)  (%)')) : \n",
    "        \n",
    "            return 'Percentage'\n",
    "    else:\n",
    "            return y\n",
    "    \n",
    "tidy['Measure Type'] = tidy.apply(lambda row: user_perc(row['Health and Social Care Trust'], row['Measure Type']), axis = 1)"
   ]
  },
  {
   "cell_type": "code",
   "execution_count": 125,
   "metadata": {},
   "outputs": [],
   "source": [
    "tidy['Health and Social Care Trust'] = tidy['Health and Social Care Trust'].str.rstrip(' (%)')"
   ]
  },
  {
   "cell_type": "code",
   "execution_count": 126,
   "metadata": {},
   "outputs": [],
   "source": [
    "tidy['Health and Social Care Trust'] = tidy['Health and Social Care Trust'].str.lower()"
   ]
  },
  {
   "cell_type": "code",
   "execution_count": 127,
   "metadata": {},
   "outputs": [
    {
     "data": {
      "text/plain": [
       "array(['all', 'belfast', 'northern', 'south eastern', 'southern',\n",
       "       'western', 'emergency admissions (his'], dtype=object)"
      ]
     },
     "execution_count": 127,
     "metadata": {},
     "output_type": "execute_result"
    }
   ],
   "source": [
    "tidy['Health and Social Care Trust'].unique()"
   ]
  },
  {
   "cell_type": "code",
   "execution_count": 128,
   "metadata": {},
   "outputs": [],
   "source": [
    "tidy['Health and Social Care Trust'] = tidy['Health and Social Care Trust'].map(\n",
    "    lambda x: {\n",
    "        'south eastern' : 'south-eastern', \n",
    "        'emergency admissions (his)' : 'emergency-admissions',\n",
    "        'emergency admissions (his' : 'emergency-admissions'\n",
    "        }.get(x, x))"
   ]
  },
  {
   "cell_type": "code",
   "execution_count": 129,
   "metadata": {},
   "outputs": [],
   "source": [
    "tidy['Measure Type'] = tidy['Measure Type'].map(\n",
    "    lambda x: {\n",
    "        'Headcount' : 'Count', \n",
    "        'Percentage of Headcount' : 'Percentage',\n",
    "        }.get(x, x))"
   ]
  },
  {
   "cell_type": "code",
   "execution_count": 130,
   "metadata": {},
   "outputs": [
    {
     "data": {
      "text/plain": [
       "array(['Persons', 'Male', 'Female', 'Male (%)', 'Female (%)', 'Female  '],\n",
       "      dtype=object)"
      ]
     },
     "execution_count": 130,
     "metadata": {},
     "output_type": "execute_result"
    }
   ],
   "source": [
    "tidy['Sex'].unique()"
   ]
  },
  {
   "cell_type": "code",
   "execution_count": 131,
   "metadata": {},
   "outputs": [],
   "source": [
    "def user_perc(x,y):\n",
    "    \n",
    "    if ( (str(x) == 'Male (%)')) | ((str(x) == 'Female (%)')): \n",
    "        \n",
    "        return 'Percentage'\n",
    "    else:\n",
    "        return y\n",
    "    \n",
    "tidy['Measure Type'] = tidy.apply(lambda row: user_perc(row['Sex'], row['Measure Type']), axis = 1)\n",
    "\n"
   ]
  },
  {
   "cell_type": "code",
   "execution_count": 132,
   "metadata": {},
   "outputs": [],
   "source": [
    "tidy['Sex'] = tidy['Sex'].map(\n",
    "    lambda x: {\n",
    "        'Female' : 'F', \n",
    "        'Male' : 'M',\n",
    "        'Persons' : 'T',\n",
    "        'Female  ' : 'F',\n",
    "        'Male (%)' : 'M',\n",
    "        'Female (%)': 'F'\n",
    "        }.get(x, x))"
   ]
  },
  {
   "cell_type": "code",
   "execution_count": 133,
   "metadata": {},
   "outputs": [],
   "source": [
    "tidy['Sex'] = tidy['Sex'].str.rstrip('(%)')"
   ]
  },
  {
   "cell_type": "code",
   "execution_count": 134,
   "metadata": {},
   "outputs": [
    {
     "data": {
      "text/plain": [
       "array(['All', 'Statutory', 'Non-statutory', 'Prison', 'Statutory (%)',\n",
       "       'Non-statutory (%)', 'Prison (%)'], dtype=object)"
      ]
     },
     "execution_count": 134,
     "metadata": {},
     "output_type": "execute_result"
    }
   ],
   "source": [
    "tidy['Service Type'].unique()"
   ]
  },
  {
   "cell_type": "code",
   "execution_count": 135,
   "metadata": {},
   "outputs": [],
   "source": [
    "tidy['Service Type'] = tidy['Service Type'].map(\n",
    "    lambda x: {\n",
    "        'Total' : 'all',\n",
    "        'total' : 'all'\n",
    "        }.get(x, x))"
   ]
  },
  {
   "cell_type": "code",
   "execution_count": 136,
   "metadata": {},
   "outputs": [],
   "source": [
    "tidy['Service Type'] = tidy['Service Type'].str.rstrip(' (%)')"
   ]
  },
  {
   "cell_type": "code",
   "execution_count": 137,
   "metadata": {},
   "outputs": [],
   "source": [
    "tidy['Service Type'] = tidy['Service Type'].str.lower()"
   ]
  },
  {
   "cell_type": "code",
   "execution_count": 138,
   "metadata": {},
   "outputs": [],
   "source": [
    "tidy['Residential Status'] = tidy['Residential Status'].str.rstrip(' (%)')"
   ]
  },
  {
   "cell_type": "code",
   "execution_count": 139,
   "metadata": {},
   "outputs": [],
   "source": [
    "tidy['Residential Status'] = tidy['Residential Status'].str.lower()"
   ]
  },
  {
   "cell_type": "code",
   "execution_count": 140,
   "metadata": {},
   "outputs": [],
   "source": [
    "tidy['Health and Social Care Trust'] = tidy['Health and Social Care Trust'].map(\n",
    "    lambda x: {\n",
    "        'total' : 'all' \n",
    "        }.get(x, x))"
   ]
  },
  {
   "cell_type": "code",
   "execution_count": 141,
   "metadata": {},
   "outputs": [],
   "source": [
    "tidy['Residential Status'] = tidy['Residential Status'].map(\n",
    "    lambda x: {\n",
    "        'total' : 'all' \n",
    "        }.get(x, x))"
   ]
  },
  {
   "cell_type": "code",
   "execution_count": 142,
   "metadata": {
    "scrolled": false
   },
   "outputs": [
    {
     "data": {
      "text/html": [
       "<div>\n",
       "<style scoped>\n",
       "    .dataframe tbody tr th:only-of-type {\n",
       "        vertical-align: middle;\n",
       "    }\n",
       "\n",
       "    .dataframe tbody tr th {\n",
       "        vertical-align: top;\n",
       "    }\n",
       "\n",
       "    .dataframe thead th {\n",
       "        text-align: right;\n",
       "    }\n",
       "</style>\n",
       "<table border=\"1\" class=\"dataframe\">\n",
       "  <thead>\n",
       "    <tr style=\"text-align: right;\">\n",
       "      <th></th>\n",
       "      <th>Period</th>\n",
       "      <th>Sex</th>\n",
       "      <th>Age</th>\n",
       "      <th>Service Type</th>\n",
       "      <th>Residential Status</th>\n",
       "      <th>Treatment Type</th>\n",
       "      <th>Health and Social Care Trust</th>\n",
       "      <th>Measure Type</th>\n",
       "      <th>Unit</th>\n",
       "      <th>Value</th>\n",
       "    </tr>\n",
       "  </thead>\n",
       "  <tbody>\n",
       "    <tr>\n",
       "      <th>0</th>\n",
       "      <td>day/2017-03-01</td>\n",
       "      <td>T</td>\n",
       "      <td>under-18</td>\n",
       "      <td>all</td>\n",
       "      <td>all</td>\n",
       "      <td>alcohol</td>\n",
       "      <td>all</td>\n",
       "      <td>Count</td>\n",
       "      <td>People</td>\n",
       "      <td>95</td>\n",
       "    </tr>\n",
       "    <tr>\n",
       "      <th>4</th>\n",
       "      <td>day/2017-03-01</td>\n",
       "      <td>T</td>\n",
       "      <td>18-plus</td>\n",
       "      <td>all</td>\n",
       "      <td>all</td>\n",
       "      <td>alcohol</td>\n",
       "      <td>all</td>\n",
       "      <td>Count</td>\n",
       "      <td>People</td>\n",
       "      <td>2482</td>\n",
       "    </tr>\n",
       "    <tr>\n",
       "      <th>8</th>\n",
       "      <td>day/2017-03-01</td>\n",
       "      <td>T</td>\n",
       "      <td>all</td>\n",
       "      <td>all</td>\n",
       "      <td>all</td>\n",
       "      <td>alcohol</td>\n",
       "      <td>all</td>\n",
       "      <td>Count</td>\n",
       "      <td>People</td>\n",
       "      <td>2577</td>\n",
       "    </tr>\n",
       "    <tr>\n",
       "      <th>12</th>\n",
       "      <td>day/2017-03-01</td>\n",
       "      <td>M</td>\n",
       "      <td>under-18</td>\n",
       "      <td>all</td>\n",
       "      <td>all</td>\n",
       "      <td>alcohol</td>\n",
       "      <td>all</td>\n",
       "      <td>Count</td>\n",
       "      <td>People</td>\n",
       "      <td>31</td>\n",
       "    </tr>\n",
       "    <tr>\n",
       "      <th>16</th>\n",
       "      <td>day/2017-03-01</td>\n",
       "      <td>M</td>\n",
       "      <td>18-plus</td>\n",
       "      <td>all</td>\n",
       "      <td>all</td>\n",
       "      <td>alcohol</td>\n",
       "      <td>all</td>\n",
       "      <td>Count</td>\n",
       "      <td>People</td>\n",
       "      <td>1536</td>\n",
       "    </tr>\n",
       "  </tbody>\n",
       "</table>\n",
       "</div>"
      ],
      "text/plain": [
       "            Period Sex       Age Service Type Residential Status  \\\n",
       "0   day/2017-03-01   T  under-18          all                all   \n",
       "4   day/2017-03-01   T   18-plus          all                all   \n",
       "8   day/2017-03-01   T       all          all                all   \n",
       "12  day/2017-03-01   M  under-18          all                all   \n",
       "16  day/2017-03-01   M   18-plus          all                all   \n",
       "\n",
       "   Treatment Type Health and Social Care Trust Measure Type    Unit Value  \n",
       "0         alcohol                          all        Count  People    95  \n",
       "4         alcohol                          all        Count  People  2482  \n",
       "8         alcohol                          all        Count  People  2577  \n",
       "12        alcohol                          all        Count  People    31  \n",
       "16        alcohol                          all        Count  People  1536  "
      ]
     },
     "execution_count": 142,
     "metadata": {},
     "output_type": "execute_result"
    }
   ],
   "source": [
    "tidy.head()"
   ]
  },
  {
   "cell_type": "code",
   "execution_count": 143,
   "metadata": {},
   "outputs": [],
   "source": [
    "from pathlib import Path\n",
    "out = Path('out')\n",
    "out.mkdir(exist_ok=True)\n",
    "tidy.to_csv(out / 'observations.csv', index = False)"
   ]
  },
  {
   "cell_type": "code",
   "execution_count": 144,
   "metadata": {},
   "outputs": [],
   "source": [
    "tidy[tidy['Measure Type'] != 'Percentage'].to_csv(out / 'observations-no-percentages.csv', index=False)"
   ]
  },
  {
   "cell_type": "markdown",
   "metadata": {},
   "source": [
    "There's a metadata tab in the spreadsheet with abstract and contact details. **Todo: extract these and also figure out what the license should really be.**"
   ]
  },
  {
   "cell_type": "code",
   "execution_count": 145,
   "metadata": {},
   "outputs": [
    {
     "data": {
      "text/html": [
       "<div id=\"injblock1003\">\n",
       "<style>\n",
       "table.ex, table.exkey { border: thin black solid }\n",
       "table.ex td, table.ex tr { border: none }\n",
       "table.ex td:hover { border: thin blue solid }\n",
       "table.ex td.excOBS:hover { border: thin red solid }\n",
       "table.ex td.selected { border: thick red solid }\n",
       "</style>\n",
       "\n",
       "\n",
       "<table class=\"exkey\">\n",
       "<tr><td class=\"xc0\" style=\"background-color:Aqua\">OBS</td><td class=\"xc1\" style=\"background-color:LightGreen\">Property</td><td class=\"xc2\" style=\"background-color:MistyRose\">Heading</td></tr></table>\n",
       "\n",
       "<table class=\"ex\">\n",
       "<caption style=\"text-align:center; padding:0px; caption-side:bottom\">Metadata</caption>\n",
       "<tr><td title=\"0 0\">Metadata</td><td title=\"1 0\"></td></tr>\n",
       "<tr><td title=\"0 1\"></td><td title=\"1 1\"></td></tr>\n",
       "<tr><td style=\"background-color:MistyRose\" title=\"0 2\">Identification</td><td title=\"1 2\"></td></tr>\n",
       "<tr><td style=\"background-color:LightGreen\" title=\"0 3\">Dataset Title</td><td style=\"background-color:Aqua\" title=\"1 3\">Census of Drug and Alcohol Treatment Services in Northern Ireland: 1 March 2017 (Tables)</td></tr>\n",
       "<tr><td style=\"background-color:LightGreen\" title=\"0 4\">Abstract</td><td style=\"background-color:Aqua\" title=\"1 4\">This bulletin summarises the number of people in treatment for problem drug and/or alcohol misuse and relates to a snapshot of those in treatment on 1 March 2017. </td></tr>\n",
       "<tr><td style=\"background-color:LightGreen\" title=\"0 5\">Year of Data</td><td style=\"background-color:Aqua\" title=\"1 5\">1 March 2017 (with 2007, 2010, 2012 and 2014 comparisons)</td></tr>\n",
       "<tr><td style=\"background-color:LightGreen\" title=\"0 6\">Reporting period</td><td style=\"background-color:Aqua\" title=\"1 6\">Snapshot</td></tr>\n",
       "<tr><td title=\"0 7\"></td><td title=\"1 7\"></td></tr>\n",
       "<tr><td style=\"background-color:MistyRose\" title=\"0 8\">Classification</td><td title=\"1 8\"></td></tr>\n",
       "<tr><td style=\"background-color:LightGreen\" title=\"0 9\">National Statistics Theme</td><td style=\"background-color:Aqua\" title=\"1 9\">Health and Social Care</td></tr>\n",
       "<tr><td style=\"background-color:LightGreen\" title=\"0 10\">Keyword</td><td style=\"background-color:Aqua\" title=\"1 10\">Drug Alcohol Misuse Treatment</td></tr>\n",
       "<tr><td title=\"0 11\"></td><td title=\"1 11\"></td></tr>\n",
       "<tr><td style=\"background-color:MistyRose\" title=\"0 12\">Quality  and Validity</td><td title=\"1 12\"></td></tr>\n",
       "<tr><td style=\"background-color:LightGreen\" title=\"0 13\">National Statistics Data</td><td style=\"background-color:Aqua\" title=\"1 13\">No</td></tr>\n",
       "<tr><td style=\"background-color:LightGreen\" title=\"0 14\">Disclosure Control Methods</td><td style=\"background-color:Aqua\" title=\"1 14\">All data with cell sizes less than 3 has been masked to avoid the disclosure of any personal information.</td></tr>\n",
       "<tr><td style=\"background-color:LightGreen\" title=\"0 15\">Quality Issues</td><td style=\"background-color:Aqua\" title=\"1 15\">These figures only relate to those in treatment for drug and/or alcohol misuse from specialist services across Northern Ireland on a representative day. </td></tr>\n",
       "<tr><td title=\"0 16\"></td><td title=\"1 16\"></td></tr>\n",
       "<tr><td style=\"background-color:MistyRose\" title=\"0 17\">Organisation</td><td title=\"1 17\"></td></tr>\n",
       "<tr><td style=\"background-color:LightGreen\" title=\"0 18\">Organisation Name</td><td style=\"background-color:Aqua\" title=\"1 18\">Department of Health, Public Health Information & Research Branch</td></tr>\n",
       "<tr><td style=\"background-color:LightGreen\" title=\"0 19\">Email Address</td><td style=\"background-color:Aqua\" title=\"1 19\">PHIRB@health-ni.gov.uk</td></tr>\n",
       "<tr><td style=\"background-color:LightGreen\" title=\"0 20\">Responsible Party Role</td><td style=\"background-color:Aqua\" title=\"1 20\">Resource Provider</td></tr>\n",
       "<tr><td style=\"background-color:LightGreen\" title=\"0 21\">Telephone Number</td><td style=\"background-color:Aqua\" title=\"1 21\">028 9052 2523</td></tr>\n",
       "<tr><td title=\"0 22\"></td><td title=\"1 22\"></td></tr>\n",
       "<tr><td style=\"background-color:MistyRose\" title=\"0 23\">Constraints</td><td title=\"1 23\"></td></tr>\n",
       "<tr><td style=\"background-color:LightGreen\" title=\"0 24\">Limitations on Public Access</td><td style=\"background-color:Aqua\" title=\"1 24\">No restriction on public access</td></tr>\n",
       "<tr><td style=\"background-color:LightGreen\" title=\"0 25\">Use Constraints</td><td style=\"background-color:Aqua\" title=\"1 25\">No conditions apply</td></tr>\n",
       "</table>\n",
       "\n",
       "</div>\n",
       "\n",
       "<script>\n",
       "var jslookup = {\"1 13\":[0,13,0,12],\"1 14\":[0,14,0,12],\"1 21\":[0,21,0,17],\"1 20\":[0,20,0,17],\"1 5\":[0,5,0,2],\"1 4\":[0,4,0,2],\"1 18\":[0,18,0,17],\"1 19\":[0,19,0,17],\"1 3\":[0,3,0,2],\"1 9\":[0,9,0,8],\"1 24\":[0,24,0,23],\"1 10\":[0,10,0,8],\"1 15\":[0,15,0,12],\"1 6\":[0,6,0,2],\"1 25\":[0,25,0,23]}; \n",
       "var jdividNUM = \"injblock1003\"; \n",
       "var Dclickedcell = null; \n",
       "function clickedcell() \n",
       "{ \n",
       "    Dclickedcell = this; \n",
       "    console.log(\"jjjj\", this); \n",
       "    var rgc = new RegExp('(^|\\b)' + \"selected\".split(' ').join('|') + '(\\b|$)', 'gi'); \n",
       "    Array.prototype.forEach.call(document.querySelectorAll(\"div#\"+jdividNUM+\" table.ex td.selected\"), function(el, i) { \n",
       "        if (el.classList)  el.classList.remove(\"selected\");\n",
       "        else  el.className = el.className.replace(rgc, ' ');\n",
       "    }); \n",
       "    if (this.classList)  this.classList.add(\"selected\");\n",
       "    else this.className += ' ' + \"selected\";\n",
       "\n",
       "    var dimpairs = jslookup[this.title]; \n",
       "    if (dimpairs !== undefined) {\n",
       "        for (var i = 1; i < dimpairs.length; i += 2) {\n",
       "            var row = document.querySelectorAll(\"div#\"+jdividNUM+\" table.ex tr\")[dimpairs[i]]; \n",
       "            var el = row.querySelectorAll(\"td\")[dimpairs[i-1]]; \n",
       "            if (el.classList)  el.classList.add(\"selected\");\n",
       "            else el.className += ' ' + \"selected\";\n",
       "        }\n",
       "    }\n",
       "}\n",
       "Array.prototype.forEach.call(document.querySelectorAll(\"div#\"+jdividNUM+\" table.ex td\"), function(item, i) { item.onclick=clickedcell; }); \n",
       "</script>\n"
      ],
      "text/plain": [
       "<IPython.core.display.HTML object>"
      ]
     },
     "metadata": {},
     "output_type": "display_data"
    }
   ],
   "source": [
    "md_tab = tabs['Metadata']\n",
    "md_heading = md_tab.filter('Metadata')\n",
    "md_heading.assert_one()\n",
    "properties = md_heading.fill(DOWN).is_not_whitespace()\n",
    "values = properties.fill(RIGHT).is_not_whitespace()\n",
    "headings = properties - values.fill(LEFT)\n",
    "properties = properties - headings\n",
    "cs = ConversionSegment(values, [\n",
    "    HDim(properties, \"Property\", DIRECTLY, LEFT),\n",
    "    HDim(headings, \"Heading\", CLOSEST, UP)\n",
    "], includecellxy=True)\n",
    "savepreviewhtml(cs)"
   ]
  },
  {
   "cell_type": "code",
   "execution_count": 146,
   "metadata": {},
   "outputs": [
    {
     "name": "stdout",
     "output_type": "stream",
     "text": [
      "\n"
     ]
    }
   ],
   "source": [
    "from gssutils.metadata import THEME\n",
    "\n",
    "for i, row in cs.topandas().iterrows():\n",
    "    v = md_tab.get_at(row.__x, row.__y).value.strip()\n",
    "    if row.Property == 'Abstract':\n",
    "        scraper.dataset.description = v\n",
    "    elif row.Property == 'National Statistics Theme':\n",
    "        scraper.dataset.theme = THEME[pathify(v)]\n",
    "    elif row.Property == 'Keyword':\n",
    "        scraper.dataset.keyword = map(lambda x: x.strip(), v.split(' '))\n",
    "    elif row.Property == 'Email Address':\n",
    "        scraper.dataset.contactEmail = f'mailto:{v}'"
   ]
  },
  {
   "cell_type": "code",
   "execution_count": 147,
   "metadata": {},
   "outputs": [],
   "source": [
    "scraper.dataset.family = 'health'\n",
    "scraper.dataset.license = 'http://www.nationalarchives.gov.uk/doc/open-government-licence/version/3/'\n",
    "\n",
    "with open(out / 'dataset.trig', 'wb') as metadata:\n",
    "    metadata.write(scraper.generate_trig())"
   ]
  },
  {
   "cell_type": "code",
   "execution_count": null,
   "metadata": {},
   "outputs": [],
   "source": []
  }
 ],
 "metadata": {
  "kernelspec": {
   "display_name": "Python 3",
   "language": "python",
   "name": "python3"
  },
  "language_info": {
   "codemirror_mode": {
    "name": "ipython",
    "version": 3
   },
   "file_extension": ".py",
   "mimetype": "text/x-python",
   "name": "python",
   "nbconvert_exporter": "python",
   "pygments_lexer": "ipython3",
   "version": "3.7.3"
  }
 },
 "nbformat": 4,
 "nbformat_minor": 2
}

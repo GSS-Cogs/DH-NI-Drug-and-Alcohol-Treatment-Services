{
 "cells": [
  {
   "cell_type": "markdown",
   "metadata": {},
   "source": [
    "Census of Drug and Alcohol Treatment Services in Northern Ireland"
   ]
  },
  {
   "cell_type": "code",
   "execution_count": 149,
   "metadata": {},
   "outputs": [
    {
     "data": {
      "text/markdown": [
       "## Census of drug and alcohol treatment services in Northern Ireland 2017\n",
       "\n",
       "### Distributions\n",
       "\n",
       "1. Drug and Alcohol Census 2017 ([application/pdf](https://www.health-ni.gov.uk/sites/default/files/publications/health/drug-alcohol-census-2017.pdf))\n",
       "1. Data from Census of Drug and Alcohol Treatment Services ([MS Excel Spreadsheet](https://www.health-ni.gov.uk/sites/default/files/publications/dhssps/data-census-drug-alcohol-treatment-services.xlsx))\n",
       "1. Pre-release Access List Drug and Alcohol Census ([application/pdf](https://www.health-ni.gov.uk/sites/default/files/publications/dhssps/pre-release-drug-alcohol-census.pdf))\n"
      ],
      "text/plain": [
       "<gssutils.scrape.Scraper at 0x12482e160>"
      ]
     },
     "execution_count": 149,
     "metadata": {},
     "output_type": "execute_result"
    }
   ],
   "source": [
    "from gssutils import *\n",
    "scraper = Scraper('https://www.health-ni.gov.uk/publications/census-drug-and-alcohol-treatment-services-northern-ireland-2017')\n",
    "scraper"
   ]
  },
  {
   "cell_type": "code",
   "execution_count": 150,
   "metadata": {},
   "outputs": [
    {
     "data": {
      "text/plain": [
       "{'Contents & Notes to tables': {<B6 'Breakdown by Age and Gender'>, <B12 ''>, <A14 ''>, <B8 'Breakdown by Residential Status'>, <A13 ''>, <A12 ''>, <B10 'Comparison Table'>, <A9 'Table 4'>, <A18 2.0>, <A11 ''>, <B17 'A dashed line (-) represents a cell count of less than three and a * represents a cell that has been masked. This is in order to avoid issues involving personal disclosure, where it may be possible to identify an individual from the data provided.  '>, <B4 ''>, <B9 'Breakdown by Trust'>, <B18 'All percentages are rounded to the nearest percentage point.'>, <A6 'Table 1'>, <A19 3.0>, <B1 ''>, <A10 'Table 5'>, <A4 'Contents'>, <B2 ''>, <B15 ''>, <A3 ''>, <B5 ''>, <A8 'Table 3'>, <A2 '1 March 2017'>, <B16 ''>, <B3 ''>, <A7 'Table 2'>, <B13 ''>, <A15 'Notes to Tables'>, <A17 1.0>, <B19 'Hospital Information System (HIS) figures relate to the number of emergency admissions to HSC hospitals for only drug-related conditions, only alcohol-related conditions or both drug and alcohol-related conditions, excluding admissions under specialties for mental health and learning disabilities.\\xa0 These figures are as at 1st September 2016.'>, <B14 ''>, <A16 ''>, <B11 ''>, <A5 ''>, <B7 'Breakdown by Service Type'>, <A1 'Census of Drug and Alcohol Treatment Services in Northern Ireland:'>},\n",
       " 'Table 1': {<A4 ''>, <F9 38.1>, <H10 20.2>, <D8 75.5>, <C9 15.1>, <J1 ''>, <F1 ''>, <F5 2482.0>, <C7 49.0>, <M8 68.6>, <A9 'Female (%)'>, <D12 38.9>, <F7 946.0>, <F10 47.2>, <K6 1496.0>, <E8 74.1>, <G1 ''>, <K4 'Drugs Only'>, <I1 ''>, <M12 100.0>, <H5 1062.0>, <G3 ''>, <E6 528.0>, <M10 100.0>, <G8 71.3>, <B7 64.0>, <A1 'Table 1 – Breakdown by Age and Gender'>, <J9 39.2>, <M4 ''>, <E11 100.0>, <F8 61.9>, <C6 275.0>, <M2 ''>, <D1 ''>, <K8 73.5>, <B12 34.6>, <D4 'Drugs & Alcohol'>, <H8 76.3>, <B11 5.9>, <J8 60.8>, <L12 17.3>, <E3 ''>, <G6 1221.0>, <D6 222.0>, <K12 28.8>, <E1 ''>, <J3 'Treatment Type'>, <C1 ''>, <G11 34.2>, <C3 ''>, <A12 '% of all Females'>, <H12 14.9>, <E5 713.0>, <D9 24.5>, <K2 ''>, <D3 ''>, <J4 'Alcohol Only'>, <A10 '% of Total'>, <K11 36.5>, <C11 52.1>, <K5 2036.0>, <F11 43.1>, <E9 25.9>, <L2 ''>, <H9 23.7>, <I4 'Total'>, <H2 ''>, <L9 23.9>, <A5 'Total'>, <I7 1689.0>, <J2 ''>, <C5 324.0>, <B6 31.0>, <J7 1010.0>, <I11 100.0>, <B1 ''>, <M6 4095.0>, <G9 28.7>, <L11 25.2>, <I2 ''>, <H7 252.0>, <D11 42.0>, <M9 31.4>, <G12 29.1>, <M7 1874.0>, <F2 ''>, <K9 26.5>, <G2 ''>, <C12 26.5>, <C10 45.4>, <G10 32.6>, <J10 43.2>, <M11 100.0>, <F4 'Alcohol Only'>, <B3 'Under 18 '>, <J5 2577.0>, <C4 'Drugs Only'>, <A3 'Gender'>, <E12 100.0>, <H11 22.7>, <L5 1356.0>, <E10 100.0>, <J12 53.9>, <M1 ''>, <E4 'Total'>, <B10 13.3>, <L8 76.1>, <F3 '18 and over'>, <F6 1536.0>, <F12 56.0>, <E7 185.0>, <H6 810.0>, <E2 ''>, <M5 5969.0>, <J6 1567.0>, <J11 38.3>, <B9 67.4>, <I8 67.9>, <L4 'Drugs & Alcohol'>, <I6 3567.0>, <H4 'Drugs & Alcohol'>, <G5 1712.0>, <K10 34.1>, <L7 324.0>, <L6 1032.0>, <D2 ''>, <D5 294.0>, <B5 95.0>, <K1 ''>, <I10 100.0>, <B8 32.6>, <K7 540.0>, <D10 41.2>, <A11 '% of all Males '>, <C2 ''>, <M3 'Overall Total'>, <L1 ''>, <A2 ''>, <I5 5256.0>, <H1 ''>, <A7 'Female'>, <D7 72.0>, <L10 22.7>, <L3 ''>, <B4 'Alcohol Only'>, <C8 84.9>, <H3 ''>, <A6 'Male'>, <G7 491.0>, <G4 'Drugs Only'>, <I12 100.0>, <I3 ''>, <B2 ''>, <I9 32.1>, <K3 ''>, <A8 'Male (%)'>},\n",
       " 'Table 2': {<G10 36.7>, <G1 ''>, <G9 59.1>, <J10 53.1>, <E12 ''>, <H14 'Drugs & Alcohol'>, <L21 13.1>, <M3 ''>, <E15 713.0>, <G3 ''>, <A9 'Statutory (%)'>, <C16 '*'>, <I16 '*'>, <J9 43.5>, <G11 4.2>, <B8 5.0>, <L8 ''>, <M17 2186.0>, <M18 183.0>, <G7 1501.0>, <L2 ''>, <C19 '*'>, <H2 ''>, <H4 'Alcohol Only'>, <L4 '18 and over'>, <I7 153.0>, <K3 ''>, <I5 540.0>, <F12 ''>, <K14 'Drugs Only'>, <D19 '*'>, <H10 35.6>, <B20 88.4>, <M2 ''>, <A19 'Statutory (%)'>, <F14 'Alcohol Only'>, <D11 16.2>, <I9 71.7>, <D10 42.3>, <M6 1178.0>, <J18 5.0>, <L7 537.0>, <A15 'Total'>, <D12 ''>, <C5 1496.0>, <L15 1356.0>, <A8 'Prison'>, <I12 ''>, <A13 'Service Type'>, <F5 3567.0>, <D14 'Drugs & Alcohol'>, <B11 0.3>, <K9 18.9>, <A10 'Non-statutory (%)'>, <E20 81.3>, <A16 'Statutory'>, <C9 61.8>, <G12 ''>, <M20 36.6>, <M13 'Overall Total'>, <K17 724.0>, <H19 '*'>, <A21 'Prison (%)'>, <I11 0.0>, <B9 68.2>, <A2 ''>, <D7 437.0>, <B18 '-'>, <I10 28.3>, <A17 'Non-statutory'>, <D9 41.5>, <J16 1719.0>, <H12 ''>, <G5 4095.0>, <I21 '*'>, <B10 31.5>, <H16 '*'>, <M5 1874.0>, <F7 1069.0>, <A1 'Table 2 – Breakdown by Service Type'>, <L13 ''>, <M7 685.0>, <B2 ''>, <C6 925.0>, <B14 'Alcohol Only'>, <G18 '*'>, <J19 66.7>, <H9 64.4>, <E7 432.0>, <K16 1312.0>, <L16 569.0>, <F18 '*'>, <A3 'Service Type'>, <H7 360.0>, <C10 38.2>, <C1 ''>, <K19 64.4>, <K12 ''>, <G16 '*'>, <C3 ''>, <F11 4.8>, <K11 0.6>, <I2 ''>, <E2 ''>, <A11 'Prison (%)'>, <F9 65.2>, <C13 ''>, <L5 1689.0>, <G21 '*'>, <I18 '*'>, <E8 0.0>, <C21 ''>, <D20 68.7>, <H5 1010.0>, <D3 ''>, <M21 3.1>, <L12 ''>, <F16 '*'>, <D13 ''>, <J14 'Alcohol Only'>, <F21 '*'>, <I1 ''>, <J6 141.0>, <M15 5969.0>, <F2 ''>, <L14 'Drugs & Alcohol'>, <D21 ''>, <D17 202.0>, <E18 '-'>, <A18 'Prison'>, <J8 11.0>, <L6 1143.0>, <E4 'Under 18s'>, <M9 62.9>, <M14 ''>, <G2 ''>, <K1 ''>, <E10 81.8>, <C12 ''>, <B15 95.0>, <K5 185.0>, <J2 ''>, <E11 0.0>, <J21 0.2>, <E5 528.0>, <B7 493.0>, <L20 44.9>, <L10 31.8>, <D4 'Drugs & Alcohol'>, <L1 ''>, <K21 0.0>, <H1 ''>, <B3 'Male'>, <K7 148.0>, <B6 1069.0>, <C17 294.0>, <L3 ''>, <B4 'Alcohol Only'>, <F4 '18 and over'>, <D18 ''>, <C11 0.0>, <E16 '*'>, <E17 580.0>, <H3 'Female  '>, <M10 36.6>, <M1 ''>, <J17 853.0>, <F6 2326.0>, <L18 178.0>, <B5 1567.0>, <F20 31.0>, <G6 2422.0>, <F15 2482.0>, <B17 84.0>, <K4 'Under 18s'>, <C7 571.0>, <H15 1062.0>, <K18 0.0>, <I13 ''>, <L9 67.7>, <B16 '*'>, <A4 ''>, <G15 1712.0>, <E6 96.0>, <H8 0.0>, <E13 ''>, <C14 'Drugs Only'>, <B19 '*'>, <H18 '*'>, <A7 'Non-statutory'>, <G20 25.1>, <G13 ''>, <K13 ''>, <H20 38.3>, <H6 650.0>, <A5 'Total'>, <I8 0.0>, <C8 0.0>, <C4 'Drugs Only'>, <K8 11.0>, <I14 'Total'>, <A20 'Non-statutory (%)'>, <G19 '*'>, <E9 18.2>, <H11 0.0>, <C2 ''>, <F17 769.0>, <B21 '-'>, <D5 1032.0>, <J12 ''>, <D15 294.0>, <H13 ''>, <B1 ''>, <G17 430.0>, <D6 428.0>, <H17 407.0>, <J7 172.0>, <J5 324.0>, <A14 ''>, <H21 '*'>, <D1 ''>, <F8 172.0>, <F10 30.0>, <J20 33.1>, <A12 ''>, <G14 'Drugs Only'>, <I15 5256.0>, <F19 '*'>, <M12 ''>, <I3 ''>, <I17 1606.0>, <K20 35.6>, <F13 '18 and over'>, <E3 ''>, <M11 0.6>, <J4 'Drugs & Alcohol'>, <G4 'Total'>, <E1 ''>, <M4 'Total'>, <M8 11.0>, <J11 3.4>, <C15 324.0>, <K6 35.0>, <I19 '*'>, <C20 90.7>, <D2 ''>, <G8 172.0>, <L17 609.0>, <J3 ''>, <J13 'Treatment Type'>, <L11 ''>, <J15 2577.0>, <F3 ''>, <B12 ''>, <A6 'Statutory'>, <E19 '*'>, <K10 80.0>, <M16 3600.0>, <J1 ''>, <C18 ''>, <D16 '*'>, <L19 42.0>, <F1 ''>, <K15 2036.0>, <E21 '-'>, <D8 167.0>, <M19 60.3>, <B13 'Under 18 '>, <E14 'Total'>, <K2 ''>, <I4 'Drugs Only'>, <I20 30.6>, <I6 387.0>},\n",
       " 'Table 3': {<A11 'Mixed (%)'>, <G13 ''>, <I9 0.9>, <J9 6.5>, <F8 124.0>, <K13 ''>, <H20 76.3>, <A5 'Total'>, <B19 '-'>, <I14 'Total'>, <G19 '*'>, <C2 ''>, <G5 4095.0>, <J12 ''>, <I21 '*'>, <H13 ''>, <M5 1874.0>, <B1 ''>, <K9 4.4>, <L13 ''>, <B14 'Alcohol Only'>, <A10 'Non-residential (%)'>, <J19 6.4>, <A14 ''>, <E10 95.5>, <J6 21.0>, <G9 8.2>, <L9 ''>, <K20 96.5>, <C1 ''>, <A12 ''>, <K12 ''>, <F19 '*'>, <I3 ''>, <A3 'Residential Status'>, <C3 ''>, <F13 '18 and over'>, <D6 204.0>, <E2 ''>, <J4 'Drugs & Alcohol'>, <E11 4.5>, <C13 ''>, <I17 4656.0>, <L5 1689.0>, <D20 91.8>, <I18 '*'>, <C15 324.0>, <F11 3.5>, <D9 19.8>, <J3 ''>, <J13 'Treatment Type'>, <D3 ''>, <I10 96.9>, <J15 2577.0>, <E7 504.0>, <B12 ''>, <L12 ''>, <A16 'Residential'>, <L17 1080.0>, <J1 ''>, <C18 ''>, <D13 ''>, <I6 5.0>, <J14 'Alcohol Only'>, <K15 2036.0>, <I8 12.0>, <L6 ''>, <J17 2297.0>, <F2 ''>, <L14 'Drugs & Alcohol'>, <C16 ''>, <E17 685.0>, <B13 'Under 18 '>, <E4 'Under 18s'>, <I4 'Drugs Only'>, <E8 24.0>, <C4 'Drugs Only'>, <G2 ''>, <K1 ''>, <M7 1728.0>, <G10 88.2>, <M14 ''>, <G6 334.0>, <C12 ''>, <K5 185.0>, <J2 ''>, <A1 'Table 3 – Breakdown by Residential Status'>, <E15 713.0>, <A17 'Non-residential '>, <C19 ''>, <D16 ''>, <I7 523.0>, <D4 'Drugs & Alcohol'>, <A9 'Residential (%)'>, <L1 ''>, <E19 '-'>, <H2 ''>, <L3 ''>, <B4 'Alcohol Only'>, <C9 1.5>, <L4 '18 and over'>, <C6 22.0>, <F10 87.2>, <K14 'Drugs Only'>, <A18 'Mixed'>, <H11 4.4>, <D19 ''>, <B6 108.0>, <K7 181.0>, <H3 'Female  '>, <D8 44.0>, <M1 ''>, <M11 3.4>, <F14 'Alcohol Only'>, <G11 3.6>, <E21 '*'>, <K21 2.2>, <J10 91.4>, <C7 1441.0>, <M16 417.0>, <B18 '*'>, <L21 3.8>, <A15 'Total'>, <J8 7.0>, <C5 1496.0>, <K17 1964.0>, <J18 115.0>, <I12 ''>, <A21 'Mixed (%)'>, <C10 96.3>, <D10 76.0>, <F6 334.0>, <E13 ''>, <C20 99.1>, <C17 321.0>, <E20 96.1>, <C14 'Drugs Only'>, <G12 ''>, <H18 '*'>, <B16 '-'>, <A2 ''>, <H8 44.0>, <M6 83.0>, <A7 'Non-residential '>, <C11 2.2>, <I11 2.2>, <H12 ''>, <D5 1032.0>, <D15 294.0>, <H16 '*'>, <B17 94.0>, <M19 7.0>, <G18 '*'>, <G17 1643.0>, <E16 '-'>, <B2 ''>, <B10 88.6>, <I20 88.6>, <F7 3109.0>, <M21 3.5>, <J11 2.2>, <J5 324.0>, <F18 '*'>, <H21 '*'>, <D1 ''>, <H7 909.0>, <J16 165.0>, <D17 270.0>, <D7 784.0>, <G20 96.0>, <G14 'Drugs Only'>, <I15 5256.0>, <M20 89.5>, <M12 ''>, <G16 '*'>, <E3 ''>, <I2 ''>, <C8 33.0>, <G4 'Total'>, <G21 '*'>, <E1 ''>, <M4 'Total'>, <G8 148.0>, <E18 '*'>, <I19 '*'>, <C21 ''>, <D2 ''>, <H5 1010.0>, <A19 'Residential (%)'>, <L11 ''>, <F3 ''>, <F16 '*'>, <H17 810.0>, <L19 16.6>, <F21 '*'>, <F1 ''>, <I1 ''>, <B9 6.9>, <M15 5969.0>, <D21 ''>, <F9 9.4>, <E14 'Total'>, <K2 ''>, <E6 0.0>, <B7 1388.0>, <G1 ''>, <K6 83.0>, <E12 ''>, <B15 95.0>, <H14 'Drugs & Alcohol'>, <M3 ''>, <G3 ''>, <I16 '*'>, <E5 528.0>, <H9 5.6>, <L8 ''>, <K18 45.0>, <A6 'Residential'>, <J21 4.5>, <F17 2203.0>, <H1 ''>, <L2 ''>, <B3 'Male'>, <H10 90.0>, <B8 71.0>, <L18 51.0>, <M18 211.0>, <F4 '18 and over'>, <H4 'Alcohol Only'>, <D18 ''>, <K3 ''>, <I5 540.0>, <F12 ''>, <M17 5341.0>, <K16 27.0>, <J7 296.0>, <B11 4.5>, <M2 ''>, <A20 'Non-residential (%)'>, <B21 '*'>, <K11 3.4>, <E9 0.0>, <A8 'Mixed'>, <B5 1567.0>, <M9 4.4>, <F15 2482.0>, <K10 97.8>, <K4 'Under 18s'>, <D12 ''>, <H15 1062.0>, <L15 1356.0>, <I13 ''>, <J20 89.1>, <K8 63.0>, <A4 ''>, <M8 63.0>, <L10 91.6>, <F5 3567.0>, <D14 'Drugs & Alcohol'>, <L20 79.6>, <G15 1712.0>, <B20 98.9>, <G7 3613.0>, <L16 225.0>, <A13 'Residential Status'>, <H6 57.0>, <L7 1547.0>, <K19 1.3>, <M13 'Overall Total'>, <H19 '*'>, <D11 4.3>, <F20 88.8>, <M10 92.2>},\n",
       " 'Table 4': {<E34 5.0>, <B16 21.3>, <H16 22.3>, <L12 ''>, <B37 '*'>, <F29 '*'>, <D34 8.8>, <H18 0.0>, <B34 3.2>, <F12 107.0>, <C1 ''>, <E7 56.0>, <E26 122.0>, <E9 33.0>, <F10 659.0>, <B15 12.6>, <A12 'Emergency admissions (HIS)'>, <E17 21.6>, <C26 69.0>, <J35 23.9>, <H10 267.0>, <I37 '*'>, <D28 48.0>, <F9 676.0>, <D16 18.3>, <L9 346.0>, <C19 0.2>, <E15 17.4>, <I11 0.0>, <C10 224.0>, <M5 1874.0>, <I10 71.0>, <B36 '-'>, <H35 23.4>, <M23 5969.0>, <D32 17.7>, <A28 'Western'>, <K14 11.4>, <E18 0.0>, <M19 2.7>, <I3 ''>, <A32 'Northern (%)'>, <K5 185.0>, <D25 52.0>, <F35 23.7>, <G14 17.5>, <M34 17.7>, <J26 350.0>, <M18 0.6>, <I35 20.1>, <E2 ''>, <E14 10.6>, <E6 233.0>, <B33 15.8>, <I31 22.4>, <K6 89.0>, <E30 '*'>, <I7 138.0>, <D2 ''>, <J13 28.7>, <L23 1356.0>, <J32 17.2>, <I14 25.6>, <B21 'Under 18 '>, <B6 288.0>, <J20 ''>, <I8 86.0>, <G34 14.7>, <K7 21.0>, <G26 260.0>, <K19 2.7>, <G17 18.9>, <H21 ''>, <K10 37.0>, <A14 'Northern (%)'>, <I27 1022.0>, <G4 'Total'>, <D12 5.0>, <A17 'Western (%)'>, <I30 '*'>, <J23 2577.0>, <K1 ''>, <H14 14.8>, <I5 540.0>, <J9 51.0>, <C31 47.8>, <H30 '*'>, <B8 198.0>, <D22 'Drugs & Alcohol'>, <H2 ''>, <B10 349.0>, <E28 151.0>, <H33 11.7>, <G28 220.0>, <C17 15.0>, <F14 18.5>, <D23 294.0>, <F24 425.0>, <C23 324.0>, <D8 113.0>, <C32 4.9>, <C24 155.0>, <F1 ''>, <J4 'Drugs & Alcohol'>, <K8 30.0>, <A19 'Emergency admissions (HIS)  (%)'>, <A6 'Belfast'>, <M24 1498.0>, <B28 28.0>, <F28 588.0>, <A13 'Belfast (%)'>, <M14 16.3>, <L18 ''>, <E5 528.0>, <L14 16.9>, <C30 ''>, <L29 178.0>, <J30 140.0>, <C7 357.0>, <M2 ''>, <H22 'Drugs & Alcohol'>, <E16 6.3>, <B7 294.0>, <G37 '*'>, <M25 1023.0>, <M13 23.2>, <C13 32.3>, <B14 18.8>, <F7 661.0>, <L2 ''>, <G32 28.0>, <J7 19.0>, <I21 ''>, <M27 1058.0>, <G29 '*'>, <G20 ''>, <B5 1567.0>, <J16 15.7>, <L17 23.6>, <F25 434.0>, <D37 ''>, <J36 0.2>, <K4 'Under 18s'>, <G24 494.0>, <M8 287.0>, <D9 189.0>, <A24 'Belfast'>, <M35 20.2>, <A2 ''>, <K27 259.0>, <B32 9.5>, <L31 28.4>, <E20 ''>, <A34 'Southern (%)'>, <J29 5.0>, <L22 'Drugs & Alcohol'>, <D10 200.0>, <M21 'Overall Total'>, <D21 ''>, <G16 17.3>, <H28 249.0>, <J18 3.4>, <I25 946.0>, <L4 '18 and over'>, <J37 5.4>, <M9 349.0>, <F17 18.5>, <G25 479.0>, <D29 ''>, <G33 15.2>, <G12 107.0>, <A15 'South Eastern (%)'>, <F31 17.1>, <K37 0.4>, <C27 7.0>, <L34 17.7>, <H9 225.0>, <A35 'Western (%)'>, <H37 '*'>, <B12 99.0>, <G36 '*'>, <E12 0.0>, <J11 11.0>, <I17 13.1>, <C34 2.2>, <J25 443.0>, <D31 43.5>, <C22 'Drugs Only'>, <A27 'Southern'>, <A30 'Emergency admissions (HIS)'>, <M30 158.0>, <L7 285.0>, <F4 '18 and over'>, <I26 719.0>, <K9 3.0>, <F11 172.0>, <F26 335.0>, <G13 26.0>, <A10 'Western'>, <K23 2036.0>, <M10 435.0>, <G8 554.0>, <I15 15.9>, <A37 'Emergency admissions (HIS) (%)'>, <D24 128.0>, <A23 'Total'>, <A7 'Northern'>, <F19 3.0>, <J5 324.0>, <B9 334.0>, <I18 0.0>, <I33 13.7>, <E4 'Under 18s'>, <B29 '-'>, <B1 ''>, <J21 'Treatment Type'>, <G21 ''>, <B31 41.1>, <E31 45.2>, <F13 23.3>, <D5 1032.0>, <G27 252.0>, <L27 240.0>, <H8 152.0>, <B25 9.0>, <I2 ''>, <D14 6.4>, <G19 2.6>, <F33 13.5>, <M20 ''>, <K25 495.0>, <F3 ''>, <H12 41.0>, <I24 1176.0>, <G10 773.0>, <K30 9.0>, <I6 166.0>, <L21 ''>, <C36 ''>, <B17 22.3>, <C20 ''>, <E1 ''>, <C33 21.3>, <K17 20.0>, <H17 26.4>, <F5 3567.0>, <D13 28.3>, <A36 'Prison (%)'>, <I9 73.0>, <G9 709.0>, <C9 186.0>, <B24 39.0>, <D3 ''>, <A20 ''>, <K24 649.0>, <D11 167.0>, <K22 'Drugs Only'>, <L33 11.9>, <M28 1208.0>, <A9 'Southern'>, <H24 257.0>, <E23 713.0>, <E10 114.0>, <M37 2.6>, <A4 ''>, <H3 'Female  '>, <M31 25.1>, <G15 13.5>, <K34 12.7>, <H29 '*'>, <G22 'Drugs Only'>, <J1 ''>, <I23 5256.0>, <I36 '*'>, <A1 'Table 4 – Breakdown by Trust'>, <E33 17.1>, <B30 '*'>, <M16 18.6>, <G2 ''>, <C25 16.0>, <M32 17.1>, <A33 'South Eastern (%)'>, <M15 15.3>, <K26 329.0>, <M12 51.0>, <J22 'Alcohol Only'>, <H11 0.0>, <B27 3.0>, <J28 616.0>, <C37 ''>, <A3 'Trust'>, <D19 0.5>, <F2 ''>, <A11 'Prison'>, <H26 124.0>, <C21 ''>, <H5 1010.0>, <L28 297.0>, <I34 19.4>, <J24 464.0>, <E36 '-'>, <K33 16.2>, <L19 ''>, <C29 ''>, <K16 1.6>, <K36 0.0>, <K12 51.0>, <F6 830.0>, <C12 3.0>, <D7 66.0>, <K20 ''>, <M1 ''>, <G11 172.0>, <L11 ''>, <B11 5.0>, <F23 2482.0>, <L15 15.2>, <F30 '*'>, <D27 26.0>, <H23 1062.0>, <C8 243.0>, <J33 13.6>, <L3 ''>, <G31 28.9>, <I20 ''>, <A8 'South Eastern'>, <D18 16.2>, <G30 '*'>, <L13 20.5>, <L26 162.0>, <J34 21.7>, <J15 15.1>, <B23 95.0>, <A25 'Northern'>, <F22 'Alcohol Only'>, <H7 149.0>, <D33 12.9>, <I32 18.0>, <A5 'Total'>, <L37 0.7>, <L10 398.0>, <J10 97.0>, <E19 0.0>, <A21 'Trust'>, <J6 93.0>, <L35 21.9>, <F36 '*'>, <G3 ''>, <K28 295.0>, <I19 1.1>, <I13 30.7>, <C4 'Drugs Only'>, <E13 44.1>, <M26 841.0>, <E37 '*'>, <K29 0.0>, <M22 ''>, <B22 'Alcohol Only'>, <B26 15.0>, <J19 1.2>, <J27 559.0>, <D30 ''>, <H36 '*'>, <J8 49.0>, <C18 0.0>, <E3 ''>, <E29 '-'>, <G35 12.9>, <H27 214.0>, <K21 ''>, <A16 'Southern (%)'>, <C35 23.1>, <K18 0.6>, <E11 0.0>, <D1 ''>, <M17 23.2>, <A22 ''>, <E24 322.0>, <C2 ''>, <C6 483.0>, <A29 'Prison'>, <H20 ''>, <C3 ''>, <A18 'Prison (%)'>, <H19 4.1>, <C15 16.2>, <L8 257.0>, <K31 31.9>, <E35 21.2>, <B35 29.5>, <I29 '*'>, <D6 292.0>, <K2 ''>, <E25 77.0>, <J31 18.0>, <E8 92.0>, <B2 ''>, <G23 1712.0>, <C11 0.0>, <L16 20.5>, <I12 6.0>, <D35 16.3>, <I28 1057.0>, <F20 ''>, <G5 4095.0>, <L24 385.0>, <J3 ''>, <F21 '18 and over'>, <H1 ''>, <J2 ''>, <G7 717.0>, <B18 0.3>, <K35 14.5>, <D15 10.9>, <M7 306.0>, <I1 ''>, <L32 6.3>, <M33 14.1>, <C5 1496.0>, <E22 'Total'>, <F16 19.0>, <G6 1063.0>, <H4 'Alcohol Only'>, <H6 176.0>, <D26 38.0>, <C28 75.0>, <L5 1689.0>, <L30 9.0>, <K13 48.1>, <M3 ''>, <I22 'Total'>, <M36 3.1>, <I4 'Drugs Only'>, <K15 16.2>, <B3 'Male'>, <M6 435.0>, <B13 18.4>, <C16 12.4>, <M29 183.0>, <L1 ''>, <K32 24.3>, <F34 22.4>, <B4 'Alcohol Only'>, <E32 10.8>, <J14 5.9>, <M11 11.0>, <E27 36.0>, <G18 4.2>, <L6 346.0>, <F15 13.0>, <H25 33.0>, <K3 ''>, <H15 15.0>, <L36 13.1>, <J17 29.9>, <H34 20.2>, <D36 ''>, <F8 462.0>, <F18 4.8>, <H31 24.2>, <J12 4.0>, <B19 6.3>, <A31 'Belfast (%)'>, <C14 23.9>, <G1 ''>, <K11 11.0>, <I16 13.5>, <E21 ''>, <F37 '*'>, <D20 ''>, <D4 'Drugs & Alcohol'>, <H13 17.4>, <F32 17.5>, <L25 85.0>, <M4 'Total'>, <D17 19.4>, <A26 'South Eastern'>, <L20 ''>, <F27 556.0>, <H32 3.1>, <B20 ''>},\n",
       " 'Table 5': {<H17 ''>, <K5 '%'>, <H13 ''>, <C25 92.9>, <B4 2007.0>, <E16 20.9>, <J29 1208.0>, <G9 31.3>, <A18 'Statutory'>, <B2 ''>, <D25 1272.0>, <D8 4244.0>, <K30 3.1>, <C11 15.2>, <J14 2577.0>, <F7 ''>, <G14 52.6>, <D13 ''>, <C17 ''>, <D27 1252.0>, <E28 13.5>, <D14 3328.0>, <D11 644.0>, <G12 93.3>, <K9 31.4>, <G30 3.1>, <H3 '1st September'>, <B29 ''>, <A15 'Drugs Only'>, <H9 3176.0>, <B19 3585.0>, <K25 25.1>, <B12 4736.0>, <F13 ''>, <G29 17.2>, <G5 '%'>, <G10 ''>, <H30 313.0>, <C20 4.6>, <B23 5467.0>, <C27 ''>, <H4 2014.0>, <G28 21.0>, <H10 ''>, <J26 1023.0>, <K10 ''>, <J15 2036.0>, <C12 84.8>, <E4 ''>, <D19 4035.0>, <F16 1291.0>, <H22 452.0>, <K8 68.6>, <D28 789.0>, <B24 ''>, <K6 100.0>, <B31 141.0>, <D2 ''>, <B3 '1st March '>, <C24 ''>, <C10 ''>, <D12 5202.0>, <C16 17.7>, <I25 28.4>, <B9 1897.0>, <D9 1602.0>, <H1 ''>, <D10 ''>, <K16 22.7>, <I21 ''>, <E5 '%'>, <E10 ''>, <A8 'Male'>, <E17 ''>, <B16 989.0>, <I13 ''>, <H14 3891.0>, <F10 ''>, <F18 1905.0>, <K22 7.0>, <C26 ''>, <G17 ''>, <D31 182.0>, <I20 3.7>, <G13 ''>, <K13 ''>, <H16 2045.0>, <A22 'Residential'>, <F3 '1st March '>, <A25 'Belfast'>, <C2 ''>, <I5 '%'>, <F22 141.0>, <A6 'Total'>, <I6 100.0>, <D1 ''>, <H6 8553.0>, <H18 3646.0>, <J25 1498.0>, <I3 ''>, <K20 3.1>, <E9 27.4>, <J11 713.0>, <E18 27.5>, <H29 1279.0>, <F1 ''>, <C13 ''>, <B17 ''>, <C5 '%'>, <K4 ''>, <D22 133.0>, <I1 ''>, <E20 3.5>, <G3 ''>, <C14 62.3>, <B5 'Headcount'>, <D17 ''>, <J23 5552.0>, <F11 398.0>, <J2 ''>, <K19 36.6>, <E24 ''>, <E8 72.6>, <D4 2010.0>, <A12 '18 and over'>, <G20 3.1>, <B30 257.0>, <B7 ''>, <J3 '1st March '>, <K24 ''>, <F24 ''>, <E22 2.3>, <D23 5713.0>, <H23 8101.0>, <I10 ''>, <G8 68.7>, <A9 'Female  '>, <K27 14.1>, <A17 'Service type'>, <J10 ''>, <C15 20.0>, <B11 847.0>, <I2 ''>, <B6 5583.0>, <K26 17.1>, <F31 172.0>, <E27 21.4>, <B13 ''>, <F20 184.0>, <A20 'Prison'>, <J5 'Headcount'>, <E14 56.9>, <B8 3686.0>, <I18 42.6>, <H12 7691.0>, <H8 5377.0>, <F9 1850.0>, <I9 37.1>, <F23 5775.0>, <B14 3476.0>, <F27 675.0>, <F29 1015.0>, <B10 ''>, <C31 2.5>, <E23 97.7>, <I27 18.5>, <A4 ''>, <J17 ''>, <I16 23.9>, <I31 1.5>, <F21 ''>, <H31 129.0>, <A28 'Southern'>, <K18 60.3>, <E26 23.1>, <D18 1606.0>, <I30 3.7>, <A2 ''>, <H21 ''>, <D30 205.0>, <I15 30.6>, <D7 ''>, <A1 'Table 5 – Comparison Table'>, <F25 1536.0>, <I11 10.1>, <J7 ''>, <K31 2.6>, <E1 ''>, <I24 ''>, <G11 6.7>, <C3 ''>, <J18 3600.0>, <C21 ''>, <K2 ''>, <J24 ''>, <F14 3111.0>, <E30 3.5>, <G1 ''>, <K12 88.1>, <G26 18.5>, <J16 1356.0>, <I23 94.7>, <J20 183.0>, <E7 ''>, <C29 ''>, <J4 2017.0>, <D5 'Headcount'>, <F6 5916.0>, <D16 1224.0>, <A11 'Under 18 '>, <B20 257.0>, <J6 5969.0>, <G6 100.0>, <J19 2186.0>, <E13 ''>, <C7 ''>, <B22 116.0>, <I12 89.9>, <E15 22.1>, <D3 '1st March '>, <K28 17.7>, <I4 ''>, <E25 21.8>, <F30 184.0>, <F28 1240.0>, <A30 'Prison'>, <H27 1582.0>, <A24 'Trust'>, <K1 ''>, <G4 ''>, <C30 4.6>, <D24 ''>, <A10 'Age'>, <F4 2012.0>, <I17 ''>, <K3 ''>, <K11 11.9>, <E21 ''>, <B26 ''>, <G31 2.9>, <I14 45.5>, <A31 'Emergency admissions (HIS)'>, <K17 ''>, <A16 'Drugs & Alcohol'>, <A21 'Residential Status'>, <H7 ''>, <G21 ''>, <H25 2425.0>, <I7 ''>, <H5 'Headcount'>, <D29 797.0>, <E3 ''>, <A29 'Western'>, <C22 2.1>, <C9 34.0>, <C1 ''>, <F15 1514.0>, <B21 ''>, <J1 ''>, <F5 'Headcount'>, <J22 417.0>, <G23 97.6>, <A27 'South Eastern'>, <C18 31.2>, <J30 183.0>, <F8 4066.0>, <J9 1874.0>, <D21 ''>, <G25 26.0>, <A13 'Treatment type'>, <H2 ''>, <J27 841.0>, <J12 5256.0>, <G22 2.4>, <J28 1058.0>, <D26 1349.0>, <C6 100.0>, <B27 ''>, <A5 ''>, <K14 43.2>, <I8 62.9>, <A19 'Non-statutory'>, <C23 97.9>, <H20 313.0>, <E6 100.0>, <G24 ''>, <G18 32.2>, <C8 66.0>, <H19 4594.0>, <I29 15.0>, <E11 11.0>, <A3 ''>, <B15 1118.0>, <J8 4095.0>, <E19 69.0>, <H28 1937.0>, <E29 13.6>, <G27 11.4>, <H24 ''>, <A7 'Gender'>, <H26 888.0>, <E31 3.1>, <K15 34.1>, <I22 5.3>, <B1 ''>, <G19 64.7>, <A14 'Alcohol Only'>, <E2 ''>, <H11 862.0>, <J31 158.0>, <C4 ''>, <D15 1294.0>, <I28 22.6>, <F2 ''>, <B25 5185.0>, <G15 25.6>, <K7 ''>, <G2 ''>, <G16 21.8>, <K23 93.0>, <D6 5846.0>, <K21 ''>, <D20 205.0>, <F12 5518.0>, <H15 2617.0>, <A23 'Non-residential / Mixed'>, <J21 ''>, <I26 10.4>, <F26 1094.0>, <A26 'Northern'>, <B28 ''>, <K29 20.2>, <C19 64.2>, <F17 ''>, <I19 53.7>, <F19 3827.0>, <B18 1741.0>, <G7 ''>, <J13 ''>, <E12 89.0>, <C28 ''>},\n",
       " 'Metadata': {<B2 ''>, <B8 ''>, <A19 'Organisation Name'>, <A11 'Keyword'>, <B14 'No'>, <A16 'Quality Issues'>, <B23 ''>, <B3 ''>, <B24 ''>, <A14 'National Statistics Data'>, <A25 'Limitations on Public Access'>, <B16 'These figures only relate to those in treatment for drug and/or alcohol misuse from specialist services across Northern Ireland on a representative day. '>, <A24 'Constraints'>, <A2 ''>, <A8 ''>, <A13 'Quality  and Validity'>, <A18 'Organisation'>, <B19 'Department of Health, Public Health Information & Research Branch'>, <B10 'Health and Social Care'>, <A20 'Email Address'>, <B13 ''>, <A23 ''>, <B26 'No conditions apply'>, <A21 'Responsible Party Role'>, <A6 'Year of Data'>, <B11 'Drug Alcohol Misuse Treatment'>, <A15 'Disclosure Control Methods'>, <A1 'Metadata'>, <B12 ''>, <B5 'This bulletin summarises the number of people in treatment for problem drug and/or alcohol misuse and relates to a snapshot of those in treatment on 1 March 2017. '>, <B9 ''>, <A5 'Abstract'>, <B20 'PHIRB@health-ni.gov.uk'>, <B6 '1 March 2017 (with 2007, 2010, 2012 and 2014 comparisons)'>, <B17 ''>, <B21 'Resource Provider'>, <A26 'Use Constraints'>, <B18 ''>, <B22 '028 9052 2523'>, <B25 'No restriction on public access'>, <B7 'Snapshot'>, <A12 ''>, <A9 'Classification'>, <B15 'All data with cell sizes less than 3 has been masked to avoid the disclosure of any personal information.'>, <B4 'Census of Drug and Alcohol Treatment Services in Northern Ireland: 1 March 2017 (Tables)'>, <A10 'National Statistics Theme'>, <A3 'Identification'>, <A17 ''>, <A4 'Dataset Title'>, <A7 'Reporting period'>, <A22 'Telephone Number'>, <B1 ''>}}"
      ]
     },
     "execution_count": 150,
     "metadata": {},
     "output_type": "execute_result"
    }
   ],
   "source": [
    "tabs = {tab.name: tab for tab in scraper.distribution(\n",
    "    title='Data from Census of Drug and Alcohol Treatment Services').as_databaker()}\n",
    "tabs.keys()\n",
    "tabs"
   ]
  },
  {
   "cell_type": "code",
   "execution_count": 151,
   "metadata": {},
   "outputs": [
    {
     "name": "stdout",
     "output_type": "stream",
     "text": [
      "\n",
      "\n",
      "\n",
      "\n",
      "\n",
      "\n",
      "\n",
      "\n"
     ]
    }
   ],
   "source": [
    "tables = []\n",
    "for tab_name, script in [\n",
    "    ('Table 1', 'Treatment Services by Age and Gender.ipynb'),\n",
    "    ('Table 2', 'Treatment Services by Service Type(Age).ipynb'),\n",
    "    ('Table 2', 'Treatment Services by Service Type(sex).ipynb'),\n",
    "    ('Table 3', 'Treatment Services by Residential status(Age).ipynb'),\n",
    "    ('Table 3', 'Treatment Services by Residential Status(sex).ipynb'),\n",
    "    ('Table 4', 'Treatment Services by Trust(Age).ipynb'),\n",
    "    ('Table 4', 'Treatment Services by Trust(sex).ipynb'),\n",
    "    ('Table 5', 'Treatment Services by Comparison table.ipynb')\n",
    "]:\n",
    "    tab = tabs[tab_name]\n",
    "    %run \"$script\"\n",
    "    tables.append(new_table)"
   ]
  },
  {
   "cell_type": "code",
   "execution_count": 152,
   "metadata": {},
   "outputs": [],
   "source": [
    "tidy = pd.concat(tables)\n",
    "#tidy.to_csv('testCompare.csv', index = False)"
   ]
  },
  {
   "cell_type": "code",
   "execution_count": 153,
   "metadata": {},
   "outputs": [],
   "source": [
    "tidy['Treatment Type'].fillna('Total', inplace = True)"
   ]
  },
  {
   "cell_type": "code",
   "execution_count": 154,
   "metadata": {},
   "outputs": [],
   "source": [
    "#tidy.count()"
   ]
  },
  {
   "cell_type": "code",
   "execution_count": 155,
   "metadata": {},
   "outputs": [],
   "source": [
    "#tidy['Treatment Type'].unique()"
   ]
  },
  {
   "cell_type": "code",
   "execution_count": 156,
   "metadata": {},
   "outputs": [],
   "source": [
    "#tidy.head()"
   ]
  },
  {
   "cell_type": "code",
   "execution_count": 157,
   "metadata": {},
   "outputs": [],
   "source": [
    "#tidy = tidy[tidy['Treatment Type'] == 'Alcohol Only']"
   ]
  },
  {
   "cell_type": "code",
   "execution_count": 158,
   "metadata": {},
   "outputs": [],
   "source": [
    "#tidy.head()"
   ]
  },
  {
   "cell_type": "code",
   "execution_count": 159,
   "metadata": {},
   "outputs": [],
   "source": [
    "#tidy['Sex'].unique()\n",
    "#tidy.to_csv('testCompare.csv', index = False)"
   ]
  },
  {
   "cell_type": "code",
   "execution_count": 160,
   "metadata": {},
   "outputs": [],
   "source": [
    "tidy.drop(tidy[tidy.Sex.isin(['% of Total', '% of all Males ','% of all Females'])].index, inplace = True)"
   ]
  },
  {
   "cell_type": "code",
   "execution_count": 161,
   "metadata": {},
   "outputs": [],
   "source": [
    "#tidy['Sex'].unique()"
   ]
  },
  {
   "cell_type": "code",
   "execution_count": 162,
   "metadata": {},
   "outputs": [],
   "source": [
    "#tidy['Period'].unique()"
   ]
  },
  {
   "cell_type": "code",
   "execution_count": 163,
   "metadata": {},
   "outputs": [],
   "source": [
    "from datetime import datetime"
   ]
  },
  {
   "cell_type": "code",
   "execution_count": 164,
   "metadata": {},
   "outputs": [],
   "source": [
    "tidy.Period = pd.to_datetime(tidy.Period).dt.strftime('%Y-%m-%d')"
   ]
  },
  {
   "cell_type": "code",
   "execution_count": 165,
   "metadata": {},
   "outputs": [],
   "source": [
    "tidy['Period'] = str('day/') + tidy['Period']"
   ]
  },
  {
   "cell_type": "code",
   "execution_count": 166,
   "metadata": {},
   "outputs": [],
   "source": [
    "#tidy['Age'].unique()\n",
    "#tidy.to_csv('testCompare.csv', index = False)"
   ]
  },
  {
   "cell_type": "code",
   "execution_count": 167,
   "metadata": {},
   "outputs": [],
   "source": [
    "tidy['Age'] = tidy['Age'].map(\n",
    "    lambda x: {\n",
    "        'Under 18 ' : 'under-18', \n",
    "        '18 and over' : '18-plus',\n",
    "        'All years': 'all' ,\n",
    "        'All': 'all',\n",
    "        'All Ages': 'all'\n",
    "        }.get(x, x))"
   ]
  },
  {
   "cell_type": "code",
   "execution_count": 168,
   "metadata": {},
   "outputs": [],
   "source": [
    "#tidy['Treatment Type'] = 'alcohol'\n",
    "#tidy.to_csv('testCompare.csv', index = False)"
   ]
  },
  {
   "cell_type": "code",
   "execution_count": 169,
   "metadata": {},
   "outputs": [],
   "source": [
    "def user_perc(x,y):\n",
    "    \n",
    "    if ( (str(x) == 'Statutory (%)')) | ((str(x) == 'Non-statutory (%)')) | ((str(x) == 'Prison (%)')): \n",
    "        \n",
    "        return 'Percentage'\n",
    "    else:\n",
    "        return y\n",
    "    \n",
    "tidy['Measure Type'] = tidy.apply(lambda row: user_perc(row['Service Type'], row['Measure Type']), axis = 1)\n",
    "\n"
   ]
  },
  {
   "cell_type": "code",
   "execution_count": 170,
   "metadata": {},
   "outputs": [],
   "source": [
    "def user_perc(x,y):\n",
    "    \n",
    "    if ( (str(x) == 'Residential (%)')) | ((str(x) == 'Non-residential (%)')) | ((str(x) == 'Mixed (%)')): \n",
    "        \n",
    "        return 'Percentage'\n",
    "    else:\n",
    "        return y\n",
    "    \n",
    "tidy['Measure Type'] = tidy.apply(lambda row: user_perc(row['Residential Status'], row['Measure Type']), axis = 1)\n",
    "\n"
   ]
  },
  {
   "cell_type": "code",
   "execution_count": 171,
   "metadata": {},
   "outputs": [],
   "source": [
    "#tidy['Health and Social Care Trust'].unique()"
   ]
  },
  {
   "cell_type": "code",
   "execution_count": 172,
   "metadata": {},
   "outputs": [],
   "source": [
    "def user_perc(x,y):\n",
    "    \n",
    "    if ( (str(x) == 'Belfast (%)')) | ((str(x) == 'Northern (%)')) | ((str(x) == 'South Eastern (%)')) | ((str(x) == 'Southern (%)')) | ((str(x) == 'Western (%)')) | ((str(x) == 'Emergency admissions (HIS) (%)')) : \n",
    "        \n",
    "            return 'Percentage'\n",
    "    else:\n",
    "            return y\n",
    "    \n",
    "tidy['Measure Type'] = tidy.apply(lambda row: user_perc(row['Health and Social Care Trust'], row['Measure Type']), axis = 1)"
   ]
  },
  {
   "cell_type": "code",
   "execution_count": 173,
   "metadata": {},
   "outputs": [],
   "source": [
    "def user_perc(x,y):\n",
    "    \n",
    "    if  ((str(x) == 'Emergency admissions (HIS)  (%)')) : \n",
    "        \n",
    "            return 'Percentage'\n",
    "    else:\n",
    "            return y\n",
    "    \n",
    "tidy['Measure Type'] = tidy.apply(lambda row: user_perc(row['Health and Social Care Trust'], row['Measure Type']), axis = 1)"
   ]
  },
  {
   "cell_type": "code",
   "execution_count": 174,
   "metadata": {},
   "outputs": [],
   "source": [
    "tidy['Health and Social Care Trust'] = tidy['Health and Social Care Trust'].str.rstrip(' (%)')"
   ]
  },
  {
   "cell_type": "code",
   "execution_count": 175,
   "metadata": {},
   "outputs": [],
   "source": [
    "tidy['Health and Social Care Trust'] = tidy['Health and Social Care Trust'].str.lower()"
   ]
  },
  {
   "cell_type": "code",
   "execution_count": 176,
   "metadata": {},
   "outputs": [],
   "source": [
    "#tidy['Health and Social Care Trust'].unique()"
   ]
  },
  {
   "cell_type": "code",
   "execution_count": 177,
   "metadata": {},
   "outputs": [],
   "source": [
    "tidy['Health and Social Care Trust'] = tidy['Health and Social Care Trust'].map(\n",
    "    lambda x: {\n",
    "        'south eastern' : 'south-eastern', \n",
    "        'emergency admissions (his)' : 'emergency-admissions',\n",
    "        'emergency admissions (his' : 'emergency-admissions'\n",
    "        }.get(x, x))"
   ]
  },
  {
   "cell_type": "code",
   "execution_count": 178,
   "metadata": {},
   "outputs": [],
   "source": [
    "tidy['Measure Type'] = tidy['Measure Type'].map(\n",
    "    lambda x: {\n",
    "        'Headcount' : 'Count', \n",
    "        'Percentage of Headcount' : 'Percentage',\n",
    "        }.get(x, x))"
   ]
  },
  {
   "cell_type": "code",
   "execution_count": 179,
   "metadata": {},
   "outputs": [],
   "source": [
    "#tidy['Sex'].unique()"
   ]
  },
  {
   "cell_type": "code",
   "execution_count": 180,
   "metadata": {},
   "outputs": [],
   "source": [
    "def user_perc(x,y):\n",
    "    \n",
    "    if ( (str(x) == 'Male (%)')) | ((str(x) == 'Female (%)')): \n",
    "        \n",
    "        return 'Percentage'\n",
    "    else:\n",
    "        return y\n",
    "    \n",
    "tidy['Measure Type'] = tidy.apply(lambda row: user_perc(row['Sex'], row['Measure Type']), axis = 1)\n",
    "\n"
   ]
  },
  {
   "cell_type": "code",
   "execution_count": 181,
   "metadata": {},
   "outputs": [],
   "source": [
    "tidy['Sex'] = tidy['Sex'].map(\n",
    "    lambda x: {\n",
    "        'Female' : 'F', \n",
    "        'Male' : 'M',\n",
    "        'Persons' : 'T',\n",
    "        'Female  ' : 'F',\n",
    "        'Male (%)' : 'M',\n",
    "        'Female (%)': 'F'\n",
    "        }.get(x, x))"
   ]
  },
  {
   "cell_type": "code",
   "execution_count": 182,
   "metadata": {},
   "outputs": [],
   "source": [
    "tidy['Sex'] = tidy['Sex'].str.rstrip('(%)')"
   ]
  },
  {
   "cell_type": "code",
   "execution_count": 183,
   "metadata": {},
   "outputs": [
    {
     "data": {
      "text/plain": [
       "array(['all', 'Statutory', 'Non-statutory', 'Prison', 'Statutory (%)',\n",
       "       'Non-statutory (%)', 'Prison (%)', 'All'], dtype=object)"
      ]
     },
     "execution_count": 183,
     "metadata": {},
     "output_type": "execute_result"
    }
   ],
   "source": [
    "tidy['Service Type'].unique()"
   ]
  },
  {
   "cell_type": "code",
   "execution_count": 184,
   "metadata": {},
   "outputs": [],
   "source": [
    "tidy['Service Type'] = tidy['Service Type'].map(\n",
    "    lambda x: {\n",
    "        'Total' : 'all',\n",
    "        'total' : 'all'\n",
    "        }.get(x, x))"
   ]
  },
  {
   "cell_type": "code",
   "execution_count": 185,
   "metadata": {},
   "outputs": [],
   "source": [
    "tidy['Service Type'] = tidy['Service Type'].str.rstrip(' (%)')"
   ]
  },
  {
   "cell_type": "code",
   "execution_count": 186,
   "metadata": {},
   "outputs": [],
   "source": [
    "tidy['Service Type'] = tidy['Service Type'].str.lower()"
   ]
  },
  {
   "cell_type": "code",
   "execution_count": 187,
   "metadata": {},
   "outputs": [],
   "source": [
    "tidy['Residential Status'] = tidy['Residential Status'].str.rstrip(' (%)')"
   ]
  },
  {
   "cell_type": "code",
   "execution_count": 188,
   "metadata": {},
   "outputs": [],
   "source": [
    "tidy['Residential Status'] = tidy['Residential Status'].str.lower()"
   ]
  },
  {
   "cell_type": "code",
   "execution_count": 189,
   "metadata": {},
   "outputs": [],
   "source": [
    "tidy['Health and Social Care Trust'] = tidy['Health and Social Care Trust'].map(\n",
    "    lambda x: {\n",
    "        'total' : 'all' \n",
    "        }.get(x, x))"
   ]
  },
  {
   "cell_type": "code",
   "execution_count": 190,
   "metadata": {},
   "outputs": [],
   "source": [
    "tidy['Residential Status'] = tidy['Residential Status'].map(\n",
    "    lambda x: {\n",
    "        'total' : 'all' \n",
    "        }.get(x, x))"
   ]
  },
  {
   "cell_type": "code",
   "execution_count": 191,
   "metadata": {
    "scrolled": false
   },
   "outputs": [],
   "source": [
    "#tidy.head()"
   ]
  },
  {
   "cell_type": "code",
   "execution_count": 192,
   "metadata": {},
   "outputs": [],
   "source": [
    "from pathlib import Path\n",
    "out = Path('out')\n",
    "out.mkdir(exist_ok=True)\n",
    "tidy.to_csv(out / 'observations.csv', index = False)\n",
    "#tidy.to_csv('testCompare.csv', index = False)\n",
    "#tidy['Treatment Type'].unique()"
   ]
  },
  {
   "cell_type": "code",
   "execution_count": 193,
   "metadata": {},
   "outputs": [],
   "source": [
    "tidy[tidy['Measure Type'] != 'Percentage'].to_csv(out / 'observations-no-percentages.csv', index=False)"
   ]
  },
  {
   "cell_type": "markdown",
   "metadata": {},
   "source": [
    "There's a metadata tab in the spreadsheet with abstract and contact details. **Todo: extract these and also figure out what the license should really be.**"
   ]
  },
  {
   "cell_type": "code",
   "execution_count": 194,
   "metadata": {},
   "outputs": [],
   "source": [
    "md_tab = tabs['Metadata']\n",
    "md_heading = md_tab.filter('Metadata')\n",
    "md_heading.assert_one()\n",
    "properties = md_heading.fill(DOWN).is_not_whitespace()\n",
    "values = properties.fill(RIGHT).is_not_whitespace()\n",
    "headings = properties - values.fill(LEFT)\n",
    "properties = properties - headings\n",
    "cs = ConversionSegment(values, [\n",
    "    HDim(properties, \"Property\", DIRECTLY, LEFT),\n",
    "    HDim(headings, \"Heading\", CLOSEST, UP)\n",
    "], includecellxy=True)\n",
    "#savepreviewhtml(cs)"
   ]
  },
  {
   "cell_type": "code",
   "execution_count": 195,
   "metadata": {},
   "outputs": [
    {
     "name": "stdout",
     "output_type": "stream",
     "text": [
      "\n"
     ]
    }
   ],
   "source": [
    "from gssutils.metadata import THEME\n",
    "\n",
    "for i, row in cs.topandas().iterrows():\n",
    "    v = md_tab.get_at(row.__x, row.__y).value.strip()\n",
    "    if row.Property == 'Abstract':\n",
    "        scraper.dataset.description = v\n",
    "    elif row.Property == 'National Statistics Theme':\n",
    "        scraper.dataset.theme = THEME[pathify(v)]\n",
    "    elif row.Property == 'Keyword':\n",
    "        scraper.dataset.keyword = map(lambda x: x.strip(), v.split(' '))\n",
    "    elif row.Property == 'Email Address':\n",
    "        scraper.dataset.contactEmail = f'mailto:{v}'"
   ]
  },
  {
   "cell_type": "code",
   "execution_count": 196,
   "metadata": {},
   "outputs": [],
   "source": [
    "scraper.dataset.family = 'health'\n",
    "scraper.dataset.license = 'http://www.nationalarchives.gov.uk/doc/open-government-licence/version/3/'\n",
    "\n",
    "with open(out / 'dataset.trig', 'wb') as metadata:\n",
    "    metadata.write(scraper.generate_trig())"
   ]
  },
  {
   "cell_type": "code",
   "execution_count": 197,
   "metadata": {},
   "outputs": [],
   "source": [
    "tidy.to_csv('testCompare.csv', index = False)"
   ]
  }
 ],
 "metadata": {
  "kernelspec": {
   "display_name": "Python 3",
   "language": "python",
   "name": "python3"
  },
  "language_info": {
   "codemirror_mode": {
    "name": "ipython",
    "version": 3
   },
   "file_extension": ".py",
   "mimetype": "text/x-python",
   "name": "python",
   "nbconvert_exporter": "python",
   "pygments_lexer": "ipython3",
   "version": "3.7.3"
  }
 },
 "nbformat": 4,
 "nbformat_minor": 2
}

{
 "cells": [
  {
   "cell_type": "markdown",
   "metadata": {},
   "source": [
    "Census of Drug and Alcohol Treatment Services in Northern Ireland"
   ]
  },
  {
   "cell_type": "code",
   "execution_count": 1,
   "metadata": {},
   "outputs": [
    {
     "data": {
      "text/markdown": [
       "## Census of drug and alcohol treatment services in Northern Ireland 2017\n",
       "\n",
       "### Distributions\n",
       "\n",
       "1. Drug and Alcohol Census 2017 ([application/pdf](https://www.health-ni.gov.uk/sites/default/files/publications/health/drug-alcohol-census-2017.pdf))\n",
       "1. Data from Census of Drug and Alcohol Treatment Services ([MS Excel Spreadsheet](https://www.health-ni.gov.uk/sites/default/files/publications/dhssps/data-census-drug-alcohol-treatment-services.xlsx))\n",
       "1. Pre-release Access List Drug and Alcohol Census ([application/pdf](https://www.health-ni.gov.uk/sites/default/files/publications/dhssps/pre-release-drug-alcohol-census.pdf))\n"
      ],
      "text/plain": [
       "<gssutils.scrape.Scraper at 0x1107abef0>"
      ]
     },
     "execution_count": 1,
     "metadata": {},
     "output_type": "execute_result"
    }
   ],
   "source": [
    "from gssutils import *\n",
    "scraper = Scraper('https://www.health-ni.gov.uk/publications/census-drug-and-alcohol-treatment-services-northern-ireland-2017')\n",
    "scraper"
   ]
  },
  {
   "cell_type": "code",
   "execution_count": 2,
   "metadata": {},
   "outputs": [
    {
     "data": {
      "text/plain": [
       "{'Contents & Notes to tables': {<B18 'All percentages are rounded to the nearest percentage point.'>, <A6 'Table 1'>, <A16 ''>, <B4 ''>, <A19 3.0>, <B1 ''>, <B8 'Breakdown by Residential Status'>, <B6 'Breakdown by Age and Gender'>, <A15 'Notes to Tables'>, <A14 ''>, <B2 ''>, <A13 ''>, <A9 'Table 4'>, <A10 'Table 5'>, <B15 ''>, <A12 ''>, <B16 ''>, <B17 'A dashed line (-) represents a cell count of less than three and a * represents a cell that has been masked. This is in order to avoid issues involving personal disclosure, where it may be possible to identify an individual from the data provided.  '>, <A18 2.0>, <A1 'Census of Drug and Alcohol Treatment Services in Northern Ireland:'>, <A11 ''>, <B13 ''>, <A17 1.0>, <B14 ''>, <B19 'Hospital Information System (HIS) figures relate to the number of emergency admissions to HSC hospitals for only drug-related conditions, only alcohol-related conditions or both drug and alcohol-related conditions, excluding admissions under specialties for mental health and learning disabilities.\\xa0 These figures are as at 1st September 2016.'>, <B11 ''>, <A5 ''>, <A4 'Contents'>, <A2 '1 March 2017'>, <B12 ''>, <A7 'Table 2'>, <A3 ''>, <B5 ''>, <B7 'Breakdown by Service Type'>, <A8 'Table 3'>, <B9 'Breakdown by Trust'>, <B3 ''>, <B10 'Comparison Table'>},\n",
       " 'Table 1': {<K4 'Drugs Only'>, <L5 1356.0>, <J10 43.2>, <K1 ''>, <L10 22.7>, <K8 73.5>, <C11 52.1>, <B7 64.0>, <A9 'Female (%)'>, <D6 222.0>, <G6 1221.0>, <E10 100.0>, <M6 4095.0>, <M2 ''>, <B2 ''>, <I9 32.1>, <L3 ''>, <C8 84.9>, <B12 34.6>, <I7 1689.0>, <L4 'Drugs & Alcohol'>, <A11 '% of all Males '>, <E3 ''>, <M9 31.4>, <I12 100.0>, <E5 713.0>, <J6 1567.0>, <J11 38.3>, <G9 28.7>, <L11 25.2>, <L6 1032.0>, <I2 ''>, <D2 ''>, <H7 252.0>, <A6 'Male'>, <B4 'Alcohol Only'>, <K11 36.5>, <F9 38.1>, <G5 1712.0>, <F7 946.0>, <K7 540.0>, <L7 324.0>, <G12 29.1>, <K5 2036.0>, <F1 ''>, <B5 95.0>, <K2 ''>, <M11 100.0>, <B8 32.6>, <A10 '% of Total'>, <G8 71.3>, <J9 39.2>, <F4 'Alcohol Only'>, <H11 22.7>, <B1 ''>, <G3 ''>, <H1 ''>, <M3 'Overall Total'>, <A12 '% of all Females'>, <J3 'Treatment Type'>, <A8 'Male (%)'>, <K3 ''>, <J5 2577.0>, <H8 76.3>, <B11 5.9>, <F6 1536.0>, <L12 17.3>, <J4 'Alcohol Only'>, <F8 61.9>, <D1 ''>, <B10 13.3>, <J8 60.8>, <I6 3567.0>, <K12 28.8>, <E1 ''>, <E8 74.1>, <B9 67.4>, <D5 294.0>, <M12 100.0>, <G11 34.2>, <K10 34.1>, <F3 '18 and over'>, <G2 ''>, <C12 26.5>, <H5 1062.0>, <A5 'Total'>, <I5 5256.0>, <E6 528.0>, <C5 324.0>, <C2 ''>, <B6 31.0>, <H6 810.0>, <J7 1010.0>, <E11 100.0>, <M5 5969.0>, <F11 43.1>, <L2 ''>, <H9 23.7>, <J12 53.9>, <I8 67.9>, <M1 ''>, <C1 ''>, <H3 ''>, <L8 76.1>, <F12 56.0>, <D8 75.5>, <I11 100.0>, <I3 ''>, <D3 ''>, <D12 38.9>, <C4 'Drugs Only'>, <I10 100.0>, <A4 ''>, <H12 14.9>, <I4 'Total'>, <J1 ''>, <G10 32.6>, <A2 ''>, <F2 ''>, <D7 72.0>, <G4 'Drugs Only'>, <A1 'Table 1 – Breakdown by Age and Gender'>, <M10 100.0>, <J2 ''>, <D10 41.2>, <E12 100.0>, <M4 ''>, <L1 ''>, <C6 275.0>, <E9 25.9>, <H2 ''>, <L9 23.9>, <A3 'Gender'>, <G7 491.0>, <D11 42.0>, <H10 20.2>, <H4 'Drugs & Alcohol'>, <M7 1874.0>, <F5 2482.0>, <C7 49.0>, <M8 68.6>, <C3 ''>, <E7 185.0>, <E2 ''>, <F10 47.2>, <C9 15.1>, <D4 'Drugs & Alcohol'>, <A7 'Female'>, <C10 45.4>, <I1 ''>, <E4 'Total'>, <K9 26.5>, <B3 'Under 18 '>, <K6 1496.0>, <D9 24.5>, <G1 ''>},\n",
       " 'Table 2': {<B20 88.4>, <F8 172.0>, <F10 30.0>, <F5 3567.0>, <D11 16.2>, <C1 ''>, <G15 1712.0>, <B11 0.3>, <G19 '*'>, <K12 ''>, <C3 ''>, <K11 0.6>, <F9 65.2>, <C13 ''>, <M15 5969.0>, <H19 '*'>, <J8 11.0>, <K2 ''>, <A1 'Table 2 – Breakdown by Service Type'>, <D3 ''>, <M9 62.9>, <G21 '*'>, <M21 3.1>, <C4 'Drugs Only'>, <L12 ''>, <K13 ''>, <H20 38.3>, <D13 ''>, <C8 0.0>, <E13 ''>, <A13 'Service Type'>, <E19 '*'>, <M19 60.3>, <D9 41.5>, <C2 ''>, <L8 ''>, <G5 4095.0>, <I11 0.0>, <J14 'Alcohol Only'>, <M5 1874.0>, <A2 ''>, <H1 ''>, <L2 ''>, <A8 'Prison'>, <F21 '*'>, <E7 432.0>, <J2 ''>, <F19 '*'>, <A14 ''>, <B8 5.0>, <B5 1567.0>, <A12 ''>, <M13 'Overall Total'>, <I3 ''>, <I17 1606.0>, <B2 ''>, <B6 1069.0>, <C6 925.0>, <G17 430.0>, <H9 64.4>, <L16 569.0>, <C7 571.0>, <C11 0.0>, <J7 172.0>, <E17 580.0>, <L15 1356.0>, <I13 ''>, <I4 'Drugs Only'>, <A7 'Non-statutory'>, <A4 ''>, <J17 853.0>, <J20 33.1>, <B19 '*'>, <J3 ''>, <B12 ''>, <D19 '*'>, <D16 '*'>, <B18 '-'>, <J1 ''>, <C5 1496.0>, <F2 ''>, <M8 11.0>, <J11 3.4>, <E18 '-'>, <C21 ''>, <H5 1010.0>, <G2 ''>, <G13 ''>, <A9 'Statutory (%)'>, <J4 'Drugs & Alcohol'>, <K5 185.0>, <I1 ''>, <A20 'Non-statutory (%)'>, <E15 713.0>, <G14 'Drugs Only'>, <D21 ''>, <H11 0.0>, <J9 43.5>, <G11 4.2>, <I19 '*'>, <H13 ''>, <I20 30.6>, <L13 ''>, <A19 'Statutory (%)'>, <A6 'Statutory'>, <H6 650.0>, <K8 11.0>, <G9 59.1>, <J10 53.1>, <E12 ''>, <K16 1312.0>, <M3 ''>, <F14 'Alcohol Only'>, <E9 18.2>, <D14 'Drugs & Alcohol'>, <I21 '*'>, <M1 ''>, <L18 178.0>, <M17 2186.0>, <B10 31.5>, <K19 64.4>, <F20 31.0>, <F7 1069.0>, <E2 ''>, <G18 '*'>, <F12 ''>, <L5 1689.0>, <C15 324.0>, <D4 'Drugs & Alcohol'>, <E8 0.0>, <M10 36.6>, <C20 90.7>, <H4 'Alcohol Only'>, <B3 'Male'>, <F15 2482.0>, <B17 84.0>, <F11 4.8>, <K20 35.6>, <G16 '*'>, <D12 ''>, <H15 1062.0>, <K18 0.0>, <D8 167.0>, <E20 81.3>, <L9 67.7>, <D17 202.0>, <H18 '*'>, <M20 36.6>, <D2 ''>, <L6 1143.0>, <E10 81.8>, <L11 ''>, <K9 18.9>, <K1 ''>, <C12 ''>, <C19 '*'>, <I10 28.3>, <L4 '18 and over'>, <J6 141.0>, <K14 'Drugs Only'>, <H16 '*'>, <J16 1719.0>, <K17 724.0>, <L20 44.9>, <D5 1032.0>, <D15 294.0>, <A3 'Service Type'>, <B9 68.2>, <L1 ''>, <I14 'Total'>, <I16 '*'>, <A5 'Total'>, <G7 1501.0>, <E16 '*'>, <M18 183.0>, <C14 'Drugs Only'>, <H2 ''>, <L3 ''>, <I8 0.0>, <D6 428.0>, <I7 153.0>, <H17 407.0>, <L21 13.1>, <J5 324.0>, <H3 'Female  '>, <K4 'Under 18s'>, <J12 ''>, <F18 '*'>, <A15 'Total'>, <B1 ''>, <I15 5256.0>, <M6 1178.0>, <B14 'Alcohol Only'>, <M7 685.0>, <J18 5.0>, <J19 66.7>, <L7 537.0>, <I2 ''>, <H14 'Drugs & Alcohol'>, <F16 '*'>, <J21 0.2>, <I5 540.0>, <K3 ''>, <B4 'Alcohol Only'>, <H10 35.6>, <I12 ''>, <B21 '-'>, <H7 360.0>, <C10 38.2>, <D20 68.7>, <F6 2326.0>, <G4 'Total'>, <I9 71.7>, <L17 609.0>, <G6 2422.0>, <D10 42.3>, <F3 ''>, <B13 'Under 18 '>, <L19 42.0>, <F1 ''>, <E4 'Under 18s'>, <C9 61.8>, <G12 ''>, <K6 35.0>, <G8 172.0>, <G20 25.1>, <E6 96.0>, <J15 2577.0>, <D7 437.0>, <H8 0.0>, <K10 80.0>, <G1 ''>, <F4 '18 and over'>, <F13 '18 and over'>, <M16 3600.0>, <B15 95.0>, <A18 'Prison'>, <K15 2036.0>, <C18 ''>, <E21 '-'>, <G3 ''>, <E5 528.0>, <B7 493.0>, <A11 'Prison (%)'>, <H12 ''>, <L10 31.8>, <E14 'Total'>, <A16 'Statutory'>, <B16 '*'>, <I18 '*'>, <J13 'Treatment Type'>, <M14 ''>, <I6 387.0>, <A21 'Prison (%)'>, <H21 '*'>, <K21 0.0>, <G10 36.7>, <D18 ''>, <E11 0.0>, <M2 ''>, <D1 ''>, <F17 769.0>, <M4 'Total'>, <C16 '*'>, <M12 ''>, <K7 148.0>, <C17 294.0>, <E3 ''>, <M11 0.6>, <A10 'Non-statutory (%)'>, <L14 'Drugs & Alcohol'>, <A17 'Non-statutory'>, <E1 ''>},\n",
       " 'Table 3': {<J12 ''>, <F18 '*'>, <E8 24.0>, <C5 1496.0>, <B1 ''>, <F2 ''>, <C7 1441.0>, <K17 1964.0>, <K21 2.2>, <B6 108.0>, <D8 44.0>, <F16 '*'>, <E17 685.0>, <A19 'Residential (%)'>, <M11 3.4>, <B21 '*'>, <H5 1010.0>, <K3 ''>, <I5 540.0>, <B9 6.9>, <K14 'Drugs Only'>, <J7 296.0>, <B11 4.5>, <G8 148.0>, <H10 90.0>, <G13 ''>, <J4 'Drugs & Alcohol'>, <E2 ''>, <F12 ''>, <M10 92.2>, <L5 1689.0>, <C19 ''>, <D4 'Drugs & Alcohol'>, <H2 ''>, <I7 523.0>, <D7 784.0>, <G20 96.0>, <A11 'Mixed (%)'>, <C17 321.0>, <H3 'Female  '>, <F6 334.0>, <A8 'Mixed'>, <M20 89.5>, <E12 ''>, <L21 3.8>, <M3 ''>, <F14 'Alcohol Only'>, <H18 '*'>, <J6 21.0>, <G1 ''>, <F4 '18 and over'>, <K6 83.0>, <L9 ''>, <K15 2036.0>, <J18 115.0>, <I20 88.6>, <H12 ''>, <B17 94.0>, <M19 7.0>, <I11 2.2>, <F3 ''>, <H16 '*'>, <C15 324.0>, <K11 3.4>, <B18 '*'>, <D18 ''>, <D11 4.3>, <I14 'Total'>, <I17 4656.0>, <B3 'Male'>, <A5 'Total'>, <E4 'Under 18s'>, <G12 ''>, <J9 6.5>, <F11 3.5>, <L3 ''>, <C9 1.5>, <F10 87.2>, <C14 'Drugs Only'>, <G16 '*'>, <M12 ''>, <E3 ''>, <K4 'Under 18s'>, <L7 1547.0>, <C8 33.0>, <B15 95.0>, <L20 79.6>, <K19 1.3>, <A15 'Total'>, <I15 5256.0>, <B20 98.9>, <K1 ''>, <M7 1728.0>, <G9 8.2>, <G6 334.0>, <F5 3567.0>, <C12 ''>, <M14 ''>, <B4 'Alcohol Only'>, <G17 1643.0>, <I12 ''>, <E18 '*'>, <D5 1032.0>, <D15 294.0>, <G4 'Total'>, <J8 7.0>, <M15 5969.0>, <I21 '*'>, <B13 'Under 18 '>, <M2 ''>, <I9 0.9>, <H20 76.3>, <H17 810.0>, <E9 0.0>, <L19 16.6>, <D9 19.8>, <C6 22.0>, <D3 ''>, <I10 96.9>, <M21 3.5>, <B19 '-'>, <K7 181.0>, <F8 124.0>, <K13 ''>, <E13 ''>, <C20 99.1>, <F17 2203.0>, <M18 211.0>, <B14 'Alcohol Only'>, <E20 96.1>, <B8 71.0>, <L18 51.0>, <I2 ''>, <L8 ''>, <H14 'Drugs & Alcohol'>, <C1 ''>, <A17 'Non-residential '>, <G15 1712.0>, <K18 45.0>, <G19 '*'>, <K12 ''>, <G3 ''>, <G7 3613.0>, <L16 225.0>, <F21 '*'>, <K20 96.5>, <A20 'Non-residential (%)'>, <I18 '*'>, <F19 '*'>, <D10 76.0>, <K10 97.8>, <A1 'Table 3 – Breakdown by Residential Status'>, <F1 ''>, <B5 1567.0>, <K2 ''>, <M9 4.4>, <C4 'Drugs Only'>, <E21 '*'>, <M4 'Total'>, <E19 '-'>, <E16 '-'>, <I8 12.0>, <J15 2577.0>, <I4 'Drugs Only'>, <L17 1080.0>, <C18 ''>, <F13 '18 and over'>, <A21 'Mixed (%)'>, <J14 'Alcohol Only'>, <A10 'Non-residential (%)'>, <L14 'Drugs & Alcohol'>, <J3 ''>, <A2 ''>, <E1 ''>, <H1 ''>, <A3 'Residential Status'>, <A7 'Non-residential '>, <E5 528.0>, <H9 5.6>, <E14 'Total'>, <H21 '*'>, <J2 ''>, <J13 'Treatment Type'>, <A14 ''>, <H6 57.0>, <J11 2.2>, <A12 ''>, <G2 ''>, <G10 88.2>, <D1 ''>, <H19 '*'>, <F7 3109.0>, <A18 'Mixed'>, <I1 ''>, <G21 '*'>, <L15 1356.0>, <J20 89.1>, <G14 'Drugs Only'>, <A13 'Residential Status'>, <D21 ''>, <L12 ''>, <F9 9.4>, <I19 '*'>, <D13 ''>, <H13 ''>, <L6 ''>, <J10 91.4>, <C2 ''>, <H11 4.4>, <H8 44.0>, <D19 ''>, <L2 ''>, <C3 ''>, <C21 ''>, <C13 ''>, <J21 4.5>, <E10 95.5>, <E15 713.0>, <B16 '-'>, <B2 ''>, <B10 88.6>, <H7 909.0>, <C10 96.3>, <E6 0.0>, <I13 ''>, <L13 ''>, <F15 2482.0>, <A4 ''>, <L10 91.6>, <G5 4095.0>, <A6 'Residential'>, <I6 5.0>, <G11 3.6>, <H15 1062.0>, <M5 1874.0>, <K9 4.4>, <J17 2297.0>, <E7 504.0>, <B12 ''>, <M6 83.0>, <D14 'Drugs & Alcohol'>, <J1 ''>, <M1 ''>, <D2 ''>, <C11 2.2>, <L11 ''>, <K16 27.0>, <D6 204.0>, <E11 4.5>, <L4 '18 and over'>, <M17 5341.0>, <G18 '*'>, <D20 91.8>, <M13 'Overall Total'>, <F20 88.8>, <I3 ''>, <D16 ''>, <H4 'Alcohol Only'>, <K5 185.0>, <A16 'Residential'>, <L1 ''>, <I16 '*'>, <K8 63.0>, <J16 165.0>, <A9 'Residential (%)'>, <D17 270.0>, <D12 ''>, <J5 324.0>, <C16 ''>, <M16 417.0>, <B7 1388.0>, <M8 63.0>, <J19 6.4>},\n",
       " 'Table 4': {<B26 15.0>, <K3 ''>, <A17 'Western (%)'>, <J26 350.0>, <I34 19.4>, <C18 0.0>, <I11 0.0>, <J16 15.7>, <J24 464.0>, <F25 434.0>, <K33 16.2>, <L19 ''>, <F8 462.0>, <F18 4.8>, <F21 '18 and over'>, <E31 45.2>, <J4 'Drugs & Alcohol'>, <F13 23.3>, <G27 252.0>, <M17 23.2>, <A22 ''>, <E24 322.0>, <F29 '*'>, <L31 28.4>, <D25 52.0>, <F35 23.7>, <I7 138.0>, <D10 200.0>, <H16 22.3>, <J32 17.2>, <B6 288.0>, <D6 292.0>, <J22 'Alcohol Only'>, <A36 'Prison (%)'>, <K7 21.0>, <I25 946.0>, <G26 260.0>, <L25 85.0>, <B3 'Male'>, <K19 2.7>, <L26 162.0>, <E14 10.6>, <E7 56.0>, <A29 'Prison'>, <B2 ''>, <G23 1712.0>, <G30 '*'>, <K30 9.0>, <H32 3.1>, <H10 267.0>, <C20 ''>, <C27 7.0>, <I37 '*'>, <H9 225.0>, <B16 21.3>, <C19 0.2>, <A24 'Belfast'>, <M5 1874.0>, <G9 709.0>, <H18 0.0>, <M21 'Overall Total'>, <D31 43.5>, <C1 ''>, <M30 158.0>, <J21 'Treatment Type'>, <I19 1.1>, <K10 37.0>, <K24 649.0>, <I16 13.5>, <F24 425.0>, <M10 435.0>, <K5 185.0>, <I15 15.9>, <C5 1496.0>, <M22 ''>, <D28 48.0>, <M34 17.7>, <J5 324.0>, <G21 ''>, <B28 28.0>, <F28 588.0>, <K14 11.4>, <E2 ''>, <E11 0.0>, <E5 528.0>, <I23 5256.0>, <C30 ''>, <C23 324.0>, <K15 16.2>, <D8 113.0>, <G22 'Drugs Only'>, <C32 4.9>, <K6 89.0>, <A3 'Trust'>, <M18 0.6>, <F4 '18 and over'>, <C16 12.4>, <G19 2.6>, <F33 13.5>, <H20 ''>, <E4 'Under 18s'>, <K8 30.0>, <H11 0.0>, <C3 ''>, <H29 '*'>, <L23 1356.0>, <L8 257.0>, <M13 23.2>, <F3 ''>, <A1 'Table 4 – Breakdown by Trust'>, <D19 0.5>, <L6 346.0>, <L14 16.9>, <L28 297.0>, <C7 357.0>, <E29 '-'>, <K1 ''>, <C33 21.3>, <D36 ''>, <F5 3567.0>, <D2 ''>, <D13 28.3>, <J13 28.7>, <D15 10.9>, <K27 259.0>, <B32 9.5>, <G11 172.0>, <G32 28.0>, <I21 ''>, <C17 15.0>, <B22 'Alcohol Only'>, <I27 1022.0>, <F14 18.5>, <D12 5.0>, <J29 5.0>, <I5 540.0>, <J9 51.0>, <G24 494.0>, <M35 20.2>, <F1 ''>, <A2 ''>, <J34 21.7>, <D29 ''>, <H33 11.7>, <G36 '*'>, <M3 ''>, <E34 5.0>, <D21 ''>, <H28 249.0>, <M6 435.0>, <A30 'Emergency admissions (HIS)'>, <J6 93.0>, <J18 3.4>, <G2 ''>, <D34 8.8>, <L22 'Drugs & Alcohol'>, <J25 443.0>, <B34 3.2>, <A19 'Emergency admissions (HIS)  (%)'>, <M29 183.0>, <A5 'Total'>, <M25 1023.0>, <G13 26.0>, <K23 2036.0>, <C37 ''>, <G8 554.0>, <F31 17.1>, <L2 ''>, <A27 'Southern'>, <A31 'Belfast (%)'>, <L29 178.0>, <D16 18.3>, <M27 1058.0>, <B9 334.0>, <E15 17.4>, <L17 23.6>, <J36 0.2>, <H35 23.4>, <D32 17.7>, <B31 41.1>, <K16 1.6>, <I26 719.0>, <K9 3.0>, <F11 172.0>, <M1 ''>, <B36 '-'>, <I2 ''>, <C8 243.0>, <B1 ''>, <A10 'Western'>, <M8 287.0>, <A25 'Northern'>, <L13 20.5>, <L27 240.0>, <E8 92.0>, <D17 19.4>, <G10 773.0>, <M9 349.0>, <F17 18.5>, <G25 479.0>, <M4 'Total'>, <I6 166.0>, <L21 ''>, <I31 22.4>, <E20 ''>, <B25 9.0>, <J3 ''>, <H1 ''>, <F30 '*'>, <L12 ''>, <C34 2.2>, <A34 'Southern (%)'>, <J20 ''>, <L35 21.9>, <H12 41.0>, <L7 285.0>, <I22 'Total'>, <I24 1176.0>, <E26 122.0>, <E9 33.0>, <C22 'Drugs Only'>, <J35 23.9>, <G12 107.0>, <H14 14.8>, <K17 20.0>, <G29 '*'>, <J19 1.2>, <E3 ''>, <I33 13.7>, <H6 176.0>, <I9 73.0>, <I10 71.0>, <B10 349.0>, <A18 'Prison (%)'>, <I29 '*'>, <A4 ''>, <D11 167.0>, <D5 1032.0>, <E18 0.0>, <D22 'Drugs & Alcohol'>, <J1 ''>, <B29 '-'>, <C24 155.0>, <C25 16.0>, <F37 '*'>, <F34 22.4>, <M20 ''>, <K25 495.0>, <M24 1498.0>, <E10 114.0>, <J28 616.0>, <K2 ''>, <E25 77.0>, <E6 233.0>, <H8 152.0>, <I12 6.0>, <D35 16.3>, <E1 ''>, <E16 6.3>, <D14 6.4>, <B7 294.0>, <K26 329.0>, <C29 ''>, <B27 3.0>, <I14 25.6>, <C9 186.0>, <B14 18.8>, <C12 3.0>, <B24 39.0>, <G17 18.9>, <H21 ''>, <C21 ''>, <H30 '*'>, <F23 2482.0>, <C36 ''>, <A32 'Northern (%)'>, <H23 1062.0>, <L32 6.3>, <M33 14.1>, <J33 13.6>, <A6 'Belfast'>, <M28 1208.0>, <G4 'Total'>, <K12 51.0>, <B8 198.0>, <L30 9.0>, <A16 'Southern (%)'>, <E23 713.0>, <D3 ''>, <E22 'Total'>, <E28 151.0>, <G28 220.0>, <G15 13.5>, <B20 ''>, <K34 12.7>, <E37 '*'>, <A21 'Trust'>, <J10 97.0>, <K22 'Drugs Only'>, <G31 28.9>, <I20 ''>, <D18 16.2>, <L1 ''>, <H37 '*'>, <G18 4.2>, <I32 18.0>, <F2 ''>, <L18 ''>, <A26 'South Eastern'>, <J27 559.0>, <D30 ''>, <E33 17.1>, <L9 346.0>, <J30 140.0>, <B12 99.0>, <F22 'Alcohol Only'>, <C10 224.0>, <G35 12.9>, <H27 214.0>, <K21 ''>, <H31 24.2>, <K36 0.0>, <C13 32.3>, <D7 66.0>, <G1 ''>, <A37 'Emergency admissions (HIS) (%)'>, <K11 11.0>, <K29 0.0>, <A35 'Western (%)'>, <C2 ''>, <K4 'Under 18s'>, <I18 0.0>, <G20 ''>, <C6 483.0>, <L3 ''>, <H13 17.4>, <B35 29.5>, <A7 'Northern'>, <K18 0.6>, <J15 15.1>, <B23 95.0>, <L20 ''>, <F27 556.0>, <L11 ''>, <A8 'South Eastern'>, <A13 'Belfast (%)'>, <B21 'Under 18 '>, <L4 '18 and over'>, <L15 15.2>, <D27 26.0>, <G16 17.3>, <C15 16.2>, <H22 'Drugs & Alcohol'>, <A12 'Emergency admissions (HIS)'>, <J31 18.0>, <G3 ''>, <K28 295.0>, <G37 '*'>, <I13 30.7>, <D33 12.9>, <B17 22.3>, <B37 '*'>, <K37 0.4>, <I36 '*'>, <I30 '*'>, <L34 17.7>, <L10 398.0>, <F9 676.0>, <H3 'Female  '>, <E19 0.0>, <E12 0.0>, <I17 13.1>, <K35 14.5>, <H2 ''>, <I1 ''>, <A20 ''>, <C35 23.1>, <M19 2.7>, <D1 ''>, <E13 44.1>, <D24 128.0>, <G6 1063.0>, <A14 'Northern (%)'>, <G14 17.5>, <F19 3.0>, <L33 11.9>, <J8 49.0>, <D26 38.0>, <C28 75.0>, <K13 48.1>, <H19 4.1>, <K31 31.9>, <E35 21.2>, <E32 10.8>, <M37 2.6>, <I35 20.1>, <M31 25.1>, <M14 16.3>, <M36 3.1>, <B33 15.8>, <A15 'South Eastern (%)'>, <A33 'South Eastern (%)'>, <B4 'Alcohol Only'>, <A11 'Prison'>, <H15 15.0>, <I28 1057.0>, <G5 4095.0>, <A9 'Southern'>, <L24 385.0>, <B13 18.4>, <H34 20.2>, <M32 17.1>, <M15 15.3>, <M12 51.0>, <K32 24.3>, <B18 0.3>, <J14 5.9>, <C14 23.9>, <I8 86.0>, <G34 14.7>, <E27 36.0>, <J7 19.0>, <F15 13.0>, <H25 33.0>, <H5 1010.0>, <C11 0.0>, <L16 20.5>, <I4 'Drugs Only'>, <F20 ''>, <J23 2577.0>, <B5 1567.0>, <E36 '-'>, <D37 ''>, <D20 ''>, <F16 19.0>, <H17 26.4>, <J2 ''>, <C31 47.8>, <G7 717.0>, <F32 17.5>, <D9 189.0>, <B19 6.3>, <L5 1689.0>, <F6 830.0>, <D4 'Drugs & Alcohol'>, <A23 'Total'>, <K20 ''>, <M7 306.0>, <B11 5.0>, <D23 294.0>, <E30 '*'>, <F12 107.0>, <J37 5.4>, <F36 '*'>, <H24 257.0>, <F10 659.0>, <G33 15.2>, <H7 149.0>, <C26 69.0>, <H36 '*'>, <L37 0.7>, <L36 13.1>, <J11 11.0>, <M16 18.6>, <J17 29.9>, <M2 ''>, <M23 5969.0>, <H4 'Alcohol Only'>, <A28 'Western'>, <B15 12.6>, <J12 4.0>, <E17 21.6>, <F26 335.0>, <M11 11.0>, <I3 ''>, <B30 '*'>, <F7 661.0>, <M26 841.0>, <H26 124.0>, <C4 'Drugs Only'>, <E21 ''>},\n",
       " 'Table 5': {<K9 31.4>, <I8 62.9>, <A20 'Prison'>, <E27 21.4>, <B13 ''>, <D2 ''>, <D26 1349.0>, <J11 713.0>, <A5 ''>, <K17 ''>, <H29 1279.0>, <E28 13.5>, <K22 7.0>, <D18 1606.0>, <K2 ''>, <G1 ''>, <I29 15.0>, <B15 1118.0>, <J8 4095.0>, <I7 ''>, <H1 ''>, <K16 22.7>, <B29 ''>, <C8 66.0>, <H19 4594.0>, <J7 ''>, <F15 1514.0>, <B21 ''>, <G17 ''>, <G20 3.1>, <F18 1905.0>, <H17 ''>, <A3 ''>, <C11 15.2>, <E26 23.1>, <F7 ''>, <K4 ''>, <D22 133.0>, <B22 116.0>, <G3 ''>, <A1 'Table 5 – Comparison Table'>, <H11 862.0>, <G12 93.3>, <I26 10.4>, <F26 1094.0>, <F12 5518.0>, <B11 847.0>, <B31 141.0>, <E9 27.4>, <I13 ''>, <A7 'Gender'>, <B19 3585.0>, <H14 3891.0>, <K23 93.0>, <B12 4736.0>, <F13 ''>, <G29 17.2>, <J13 ''>, <E12 89.0>, <I5 '%'>, <I18 42.6>, <I21 ''>, <H25 2425.0>, <G13 ''>, <G30 3.1>, <J21 ''>, <C2 ''>, <G19 64.7>, <D5 'Headcount'>, <F5 'Headcount'>, <C26 ''>, <K11 11.9>, <I3 ''>, <B23 5467.0>, <F21 ''>, <C18 31.2>, <D23 5713.0>, <G21 ''>, <D24 ''>, <G22 2.4>, <J28 1058.0>, <F11 398.0>, <D29 797.0>, <K19 36.6>, <A8 'Male'>, <A30 'Prison'>, <E3 ''>, <J14 2577.0>, <G7 ''>, <B16 989.0>, <A12 '18 and over'>, <E14 56.9>, <C28 ''>, <I1 ''>, <A11 'Under 18 '>, <D31 182.0>, <A6 'Total'>, <B10 ''>, <K10 ''>, <F27 675.0>, <E8 72.6>, <I17 ''>, <D1 ''>, <J25 1498.0>, <B20 257.0>, <F3 '1st March '>, <E1 ''>, <B25 5185.0>, <A15 'Drugs Only'>, <F20 184.0>, <G23 97.6>, <A28 'Southern'>, <F1 ''>, <D3 '1st March '>, <I15 30.6>, <D11 644.0>, <D12 5202.0>, <C16 17.7>, <K12 88.1>, <G26 18.5>, <I30 3.7>, <I23 94.7>, <J12 5256.0>, <I9 37.1>, <D19 4035.0>, <F23 5775.0>, <E17 ''>, <D28 789.0>, <B24 ''>, <K25 25.1>, <K31 2.6>, <F17 ''>, <I19 53.7>, <I27 18.5>, <D15 1294.0>, <A4 ''>, <B30 257.0>, <E7 ''>, <E5 '%'>, <H10 ''>, <F29 1015.0>, <G6 100.0>, <J16 1356.0>, <J2 ''>, <G9 31.3>, <H28 1937.0>, <E29 13.6>, <H2 ''>, <H6 8553.0>, <I16 23.9>, <H22 452.0>, <E22 2.3>, <I20 3.7>, <K5 '%'>, <C13 ''>, <I14 45.5>, <C24 ''>, <E13 ''>, <A24 'Trust'>, <I25 28.4>, <D13 ''>, <D14 3328.0>, <A2 ''>, <G8 68.7>, <J24 ''>, <A17 'Service type'>, <A16 'Drugs & Alcohol'>, <J23 5552.0>, <A18 'Statutory'>, <H8 5377.0>, <B3 '1st March '>, <F9 1850.0>, <I4 ''>, <F6 5916.0>, <B28 ''>, <K29 20.2>, <J31 158.0>, <F14 3111.0>, <E21 ''>, <G31 2.9>, <G14 52.6>, <K18 60.3>, <F4 2012.0>, <C5 '%'>, <B2 ''>, <D25 1272.0>, <D7 ''>, <K30 3.1>, <K24 ''>, <E18 27.5>, <I2 ''>, <B6 5583.0>, <B26 ''>, <F30 184.0>, <J5 'Headcount'>, <H30 313.0>, <J3 '1st March '>, <I10 ''>, <C14 62.3>, <I12 89.9>, <E15 22.1>, <G24 ''>, <D17 ''>, <K28 17.7>, <F8 4066.0>, <F25 1536.0>, <I11 10.1>, <J4 2017.0>, <C1 ''>, <C22 2.1>, <H27 1582.0>, <C9 34.0>, <G10 ''>, <H12 7691.0>, <J6 5969.0>, <K7 ''>, <H23 8101.0>, <G2 ''>, <G16 21.8>, <H20 313.0>, <J30 183.0>, <D9 1602.0>, <J10 ''>, <C15 20.0>, <K14 43.2>, <K26 17.1>, <D30 205.0>, <F31 172.0>, <H24 ''>, <E31 3.1>, <A21 'Residential Status'>, <C3 ''>, <K6 100.0>, <F10 ''>, <E6 100.0>, <H3 '1st September'>, <I24 ''>, <G11 6.7>, <B8 3686.0>, <G18 32.2>, <E20 3.5>, <F2 ''>, <G15 25.6>, <J22 417.0>, <B5 'Headcount'>, <K1 ''>, <J26 1023.0>, <G4 ''>, <A14 'Alcohol Only'>, <J15 2036.0>, <B4 2007.0>, <E16 20.9>, <C31 2.5>, <C30 4.6>, <J20 183.0>, <C29 ''>, <G27 11.4>, <E24 ''>, <D4 2010.0>, <J17 ''>, <A29 'Western'>, <J18 3600.0>, <K8 68.6>, <C21 ''>, <H31 129.0>, <C19 64.2>, <F19 3827.0>, <I28 22.6>, <J9 1874.0>, <D21 ''>, <H16 2045.0>, <A27 'South Eastern'>, <B9 1897.0>, <H15 2617.0>, <J19 2186.0>, <C7 ''>, <D20 205.0>, <K27 14.1>, <A25 'Belfast'>, <K3 ''>, <C6 100.0>, <C25 92.9>, <B27 ''>, <A26 'Northern'>, <K20 3.1>, <E19 69.0>, <B18 1741.0>, <F24 ''>, <J29 1208.0>, <K13 ''>, <G28 21.0>, <B14 3476.0>, <H26 888.0>, <K15 34.1>, <D27 1252.0>, <A22 'Residential'>, <H13 ''>, <I22 5.3>, <B1 ''>, <K21 ''>, <F28 1240.0>, <H18 3646.0>, <E4 ''>, <A9 'Female  '>, <I31 1.5>, <A31 'Emergency admissions (HIS)'>, <H5 'Headcount'>, <B17 ''>, <C10 ''>, <C17 ''>, <J27 841.0>, <H4 2014.0>, <H21 ''>, <E11 11.0>, <H9 3176.0>, <E10 ''>, <E25 21.8>, <C12 84.8>, <E23 97.7>, <C23 97.9>, <G5 '%'>, <A10 'Age'>, <E2 ''>, <H7 ''>, <B7 ''>, <C20 4.6>, <E30 3.5>, <J1 ''>, <C27 ''>, <D6 5846.0>, <F22 141.0>, <G25 26.0>, <D8 4244.0>, <F16 1291.0>, <A23 'Non-residential / Mixed'>, <I6 100.0>, <D16 1224.0>, <D10 ''>, <C4 ''>, <A13 'Treatment type'>, <A19 'Non-statutory'>},\n",
       " 'Metadata': {<B20 'PHIRB@health-ni.gov.uk'>, <B17 ''>, <B12 ''>, <A19 'Organisation Name'>, <B9 ''>, <B14 'No'>, <A12 ''>, <B7 'Snapshot'>, <B19 'Department of Health, Public Health Information & Research Branch'>, <B18 ''>, <B22 '028 9052 2523'>, <A10 'National Statistics Theme'>, <A16 'Quality Issues'>, <B16 'These figures only relate to those in treatment for drug and/or alcohol misuse from specialist services across Northern Ireland on a representative day. '>, <B4 'Census of Drug and Alcohol Treatment Services in Northern Ireland: 1 March 2017 (Tables)'>, <A24 'Constraints'>, <A14 'National Statistics Data'>, <B1 ''>, <B11 'Drug Alcohol Misuse Treatment'>, <A26 'Use Constraints'>, <A17 ''>, <B8 ''>, <A22 'Telephone Number'>, <A1 'Metadata'>, <A4 'Dataset Title'>, <B6 '1 March 2017 (with 2007, 2010, 2012 and 2014 comparisons)'>, <A18 'Organisation'>, <A15 'Disclosure Control Methods'>, <B23 ''>, <B2 ''>, <B25 'No restriction on public access'>, <B24 ''>, <A2 ''>, <A21 'Responsible Party Role'>, <A8 ''>, <A25 'Limitations on Public Access'>, <B3 ''>, <B5 'This bulletin summarises the number of people in treatment for problem drug and/or alcohol misuse and relates to a snapshot of those in treatment on 1 March 2017. '>, <A5 'Abstract'>, <A9 'Classification'>, <A3 'Identification'>, <A7 'Reporting period'>, <A6 'Year of Data'>, <B13 ''>, <B15 'All data with cell sizes less than 3 has been masked to avoid the disclosure of any personal information.'>, <A23 ''>, <A11 'Keyword'>, <A20 'Email Address'>, <B21 'Resource Provider'>, <B10 'Health and Social Care'>, <A13 'Quality  and Validity'>, <B26 'No conditions apply'>}}"
      ]
     },
     "execution_count": 2,
     "metadata": {},
     "output_type": "execute_result"
    }
   ],
   "source": [
    "tabs = {tab.name: tab for tab in scraper.distribution(\n",
    "    title='Data from Census of Drug and Alcohol Treatment Services').as_databaker()}\n",
    "tabs.keys()\n",
    "tabs"
   ]
  },
  {
   "cell_type": "code",
   "execution_count": 3,
   "metadata": {},
   "outputs": [
    {
     "name": "stdout",
     "output_type": "stream",
     "text": [
      "\n",
      "\n",
      "\n",
      "\n",
      "\n",
      "\n",
      "\n",
      "\n"
     ]
    }
   ],
   "source": [
    "tables = []\n",
    "for tab_name, script in [\n",
    "    ('Table 1', 'Treatment Services by Age and Gender.ipynb'),\n",
    "    ('Table 2', 'Treatment Services by Service Type(Age).ipynb'),\n",
    "    ('Table 2', 'Treatment Services by Service Type(sex).ipynb'),\n",
    "    ('Table 3', 'Treatment Services by Residential status(Age).ipynb'),\n",
    "    ('Table 3', 'Treatment Services by Residential Status(sex).ipynb'),\n",
    "    ('Table 4', 'Treatment Services by Trust(Age).ipynb'),\n",
    "    ('Table 4', 'Treatment Services by Trust(sex).ipynb')#,\n",
    "    #('Table 5', 'Treatment Services by Comparison table.ipynb')\n",
    "]:\n",
    "    tab = tabs[tab_name]\n",
    "    %run \"$script\"\n",
    "    tables.append(new_table)"
   ]
  },
  {
   "cell_type": "code",
   "execution_count": 4,
   "metadata": {},
   "outputs": [
    {
     "data": {
      "text/plain": [
       "Period                          724\n",
       "Sex                             724\n",
       "Age                             724\n",
       "Service Type                    724\n",
       "Residential Status              724\n",
       "Treatment Type                  724\n",
       "Health and Social Care Trust    724\n",
       "Measure Type                    724\n",
       "Unit                            724\n",
       "Value                           724\n",
       "dtype: int64"
      ]
     },
     "execution_count": 4,
     "metadata": {},
     "output_type": "execute_result"
    }
   ],
   "source": [
    "tidy = pd.concat(tables)\n",
    "tidy.count()"
   ]
  },
  {
   "cell_type": "code",
   "execution_count": 5,
   "metadata": {},
   "outputs": [],
   "source": [
    "tidy['Treatment Type'].fillna('Total', inplace = True)"
   ]
  },
  {
   "cell_type": "code",
   "execution_count": 6,
   "metadata": {},
   "outputs": [
    {
     "data": {
      "text/plain": [
       "Period                          724\n",
       "Sex                             724\n",
       "Age                             724\n",
       "Service Type                    724\n",
       "Residential Status              724\n",
       "Treatment Type                  724\n",
       "Health and Social Care Trust    724\n",
       "Measure Type                    724\n",
       "Unit                            724\n",
       "Value                           724\n",
       "dtype: int64"
      ]
     },
     "execution_count": 6,
     "metadata": {},
     "output_type": "execute_result"
    }
   ],
   "source": [
    "tidy.count()"
   ]
  },
  {
   "cell_type": "code",
   "execution_count": 7,
   "metadata": {},
   "outputs": [
    {
     "data": {
      "text/plain": [
       "array(['Alcohol Only', 'Drugs Only', 'Drugs & Alcohol', 'Total',\n",
       "       'Under 18s', '18 and over', 'All', 'Male', 'Female  ', 'Under 18 ',\n",
       "       'Statutory', 'Non-statutory', 'Prison', 'Residential',\n",
       "       'Non-residential / Mixed', 'Belfast', 'Northern', 'South Eastern',\n",
       "       'Southern', 'Western', 'Emergency admissions (HIS)'], dtype=object)"
      ]
     },
     "execution_count": 7,
     "metadata": {},
     "output_type": "execute_result"
    }
   ],
   "source": [
    "tidy['Treatment Type'].unique()"
   ]
  },
  {
   "cell_type": "code",
   "execution_count": 8,
   "metadata": {},
   "outputs": [
    {
     "data": {
      "text/html": [
       "<div>\n",
       "<style scoped>\n",
       "    .dataframe tbody tr th:only-of-type {\n",
       "        vertical-align: middle;\n",
       "    }\n",
       "\n",
       "    .dataframe tbody tr th {\n",
       "        vertical-align: top;\n",
       "    }\n",
       "\n",
       "    .dataframe thead th {\n",
       "        text-align: right;\n",
       "    }\n",
       "</style>\n",
       "<table border=\"1\" class=\"dataframe\">\n",
       "  <thead>\n",
       "    <tr style=\"text-align: right;\">\n",
       "      <th></th>\n",
       "      <th>Period</th>\n",
       "      <th>Sex</th>\n",
       "      <th>Age</th>\n",
       "      <th>Service Type</th>\n",
       "      <th>Residential Status</th>\n",
       "      <th>Treatment Type</th>\n",
       "      <th>Health and Social Care Trust</th>\n",
       "      <th>Measure Type</th>\n",
       "      <th>Unit</th>\n",
       "      <th>Value</th>\n",
       "    </tr>\n",
       "  </thead>\n",
       "  <tbody>\n",
       "    <tr>\n",
       "      <th>0</th>\n",
       "      <td>1 March 2017</td>\n",
       "      <td>Persons</td>\n",
       "      <td>Under 18</td>\n",
       "      <td>All</td>\n",
       "      <td>All</td>\n",
       "      <td>Alcohol Only</td>\n",
       "      <td>All</td>\n",
       "      <td>Count</td>\n",
       "      <td>People</td>\n",
       "      <td>95</td>\n",
       "    </tr>\n",
       "    <tr>\n",
       "      <th>1</th>\n",
       "      <td>1 March 2017</td>\n",
       "      <td>Persons</td>\n",
       "      <td>Under 18</td>\n",
       "      <td>All</td>\n",
       "      <td>All</td>\n",
       "      <td>Drugs Only</td>\n",
       "      <td>All</td>\n",
       "      <td>Count</td>\n",
       "      <td>People</td>\n",
       "      <td>324</td>\n",
       "    </tr>\n",
       "    <tr>\n",
       "      <th>2</th>\n",
       "      <td>1 March 2017</td>\n",
       "      <td>Persons</td>\n",
       "      <td>Under 18</td>\n",
       "      <td>All</td>\n",
       "      <td>All</td>\n",
       "      <td>Drugs &amp; Alcohol</td>\n",
       "      <td>All</td>\n",
       "      <td>Count</td>\n",
       "      <td>People</td>\n",
       "      <td>294</td>\n",
       "    </tr>\n",
       "    <tr>\n",
       "      <th>3</th>\n",
       "      <td>1 March 2017</td>\n",
       "      <td>Persons</td>\n",
       "      <td>Under 18</td>\n",
       "      <td>All</td>\n",
       "      <td>All</td>\n",
       "      <td>Total</td>\n",
       "      <td>All</td>\n",
       "      <td>Count</td>\n",
       "      <td>People</td>\n",
       "      <td>713</td>\n",
       "    </tr>\n",
       "    <tr>\n",
       "      <th>4</th>\n",
       "      <td>1 March 2017</td>\n",
       "      <td>Persons</td>\n",
       "      <td>18 and over</td>\n",
       "      <td>All</td>\n",
       "      <td>All</td>\n",
       "      <td>Alcohol Only</td>\n",
       "      <td>All</td>\n",
       "      <td>Count</td>\n",
       "      <td>People</td>\n",
       "      <td>2482</td>\n",
       "    </tr>\n",
       "  </tbody>\n",
       "</table>\n",
       "</div>"
      ],
      "text/plain": [
       "         Period      Sex          Age Service Type Residential Status  \\\n",
       "0  1 March 2017  Persons    Under 18           All                All   \n",
       "1  1 March 2017  Persons    Under 18           All                All   \n",
       "2  1 March 2017  Persons    Under 18           All                All   \n",
       "3  1 March 2017  Persons    Under 18           All                All   \n",
       "4  1 March 2017  Persons  18 and over          All                All   \n",
       "\n",
       "    Treatment Type Health and Social Care Trust Measure Type    Unit Value  \n",
       "0     Alcohol Only                          All        Count  People    95  \n",
       "1       Drugs Only                          All        Count  People   324  \n",
       "2  Drugs & Alcohol                          All        Count  People   294  \n",
       "3            Total                          All        Count  People   713  \n",
       "4     Alcohol Only                          All        Count  People  2482  "
      ]
     },
     "execution_count": 8,
     "metadata": {},
     "output_type": "execute_result"
    }
   ],
   "source": [
    "tidy.head()"
   ]
  },
  {
   "cell_type": "code",
   "execution_count": 9,
   "metadata": {},
   "outputs": [],
   "source": [
    "tidy = tidy[tidy['Treatment Type'] == 'Alcohol Only']"
   ]
  },
  {
   "cell_type": "code",
   "execution_count": 10,
   "metadata": {},
   "outputs": [
    {
     "data": {
      "text/html": [
       "<div>\n",
       "<style scoped>\n",
       "    .dataframe tbody tr th:only-of-type {\n",
       "        vertical-align: middle;\n",
       "    }\n",
       "\n",
       "    .dataframe tbody tr th {\n",
       "        vertical-align: top;\n",
       "    }\n",
       "\n",
       "    .dataframe thead th {\n",
       "        text-align: right;\n",
       "    }\n",
       "</style>\n",
       "<table border=\"1\" class=\"dataframe\">\n",
       "  <thead>\n",
       "    <tr style=\"text-align: right;\">\n",
       "      <th></th>\n",
       "      <th>Period</th>\n",
       "      <th>Sex</th>\n",
       "      <th>Age</th>\n",
       "      <th>Service Type</th>\n",
       "      <th>Residential Status</th>\n",
       "      <th>Treatment Type</th>\n",
       "      <th>Health and Social Care Trust</th>\n",
       "      <th>Measure Type</th>\n",
       "      <th>Unit</th>\n",
       "      <th>Value</th>\n",
       "    </tr>\n",
       "  </thead>\n",
       "  <tbody>\n",
       "    <tr>\n",
       "      <th>0</th>\n",
       "      <td>1 March 2017</td>\n",
       "      <td>Persons</td>\n",
       "      <td>Under 18</td>\n",
       "      <td>All</td>\n",
       "      <td>All</td>\n",
       "      <td>Alcohol Only</td>\n",
       "      <td>All</td>\n",
       "      <td>Count</td>\n",
       "      <td>People</td>\n",
       "      <td>95</td>\n",
       "    </tr>\n",
       "    <tr>\n",
       "      <th>4</th>\n",
       "      <td>1 March 2017</td>\n",
       "      <td>Persons</td>\n",
       "      <td>18 and over</td>\n",
       "      <td>All</td>\n",
       "      <td>All</td>\n",
       "      <td>Alcohol Only</td>\n",
       "      <td>All</td>\n",
       "      <td>Count</td>\n",
       "      <td>People</td>\n",
       "      <td>2482</td>\n",
       "    </tr>\n",
       "    <tr>\n",
       "      <th>8</th>\n",
       "      <td>1 March 2017</td>\n",
       "      <td>Persons</td>\n",
       "      <td>All Ages</td>\n",
       "      <td>All</td>\n",
       "      <td>All</td>\n",
       "      <td>Alcohol Only</td>\n",
       "      <td>All</td>\n",
       "      <td>Count</td>\n",
       "      <td>People</td>\n",
       "      <td>2577</td>\n",
       "    </tr>\n",
       "    <tr>\n",
       "      <th>12</th>\n",
       "      <td>1 March 2017</td>\n",
       "      <td>Male</td>\n",
       "      <td>Under 18</td>\n",
       "      <td>All</td>\n",
       "      <td>All</td>\n",
       "      <td>Alcohol Only</td>\n",
       "      <td>All</td>\n",
       "      <td>Count</td>\n",
       "      <td>People</td>\n",
       "      <td>31</td>\n",
       "    </tr>\n",
       "    <tr>\n",
       "      <th>16</th>\n",
       "      <td>1 March 2017</td>\n",
       "      <td>Male</td>\n",
       "      <td>18 and over</td>\n",
       "      <td>All</td>\n",
       "      <td>All</td>\n",
       "      <td>Alcohol Only</td>\n",
       "      <td>All</td>\n",
       "      <td>Count</td>\n",
       "      <td>People</td>\n",
       "      <td>1536</td>\n",
       "    </tr>\n",
       "  </tbody>\n",
       "</table>\n",
       "</div>"
      ],
      "text/plain": [
       "          Period      Sex          Age Service Type Residential Status  \\\n",
       "0   1 March 2017  Persons    Under 18           All                All   \n",
       "4   1 March 2017  Persons  18 and over          All                All   \n",
       "8   1 March 2017  Persons     All Ages          All                All   \n",
       "12  1 March 2017     Male    Under 18           All                All   \n",
       "16  1 March 2017     Male  18 and over          All                All   \n",
       "\n",
       "   Treatment Type Health and Social Care Trust Measure Type    Unit Value  \n",
       "0    Alcohol Only                          All        Count  People    95  \n",
       "4    Alcohol Only                          All        Count  People  2482  \n",
       "8    Alcohol Only                          All        Count  People  2577  \n",
       "12   Alcohol Only                          All        Count  People    31  \n",
       "16   Alcohol Only                          All        Count  People  1536  "
      ]
     },
     "execution_count": 10,
     "metadata": {},
     "output_type": "execute_result"
    }
   ],
   "source": [
    "tidy.head()"
   ]
  },
  {
   "cell_type": "code",
   "execution_count": 11,
   "metadata": {},
   "outputs": [
    {
     "data": {
      "text/plain": [
       "array(['Persons', 'Male', 'Female', 'Male (%)', 'Female (%)',\n",
       "       '% of Total', '% of all Males ', '% of all Females', 'Female  '],\n",
       "      dtype=object)"
      ]
     },
     "execution_count": 11,
     "metadata": {},
     "output_type": "execute_result"
    }
   ],
   "source": [
    "tidy['Sex'].unique()"
   ]
  },
  {
   "cell_type": "code",
   "execution_count": 12,
   "metadata": {},
   "outputs": [],
   "source": [
    "tidy.drop(tidy[tidy.Sex.isin(['% of Total', '% of all Males ','% of all Females'])].index, inplace = True)"
   ]
  },
  {
   "cell_type": "code",
   "execution_count": 13,
   "metadata": {},
   "outputs": [
    {
     "data": {
      "text/plain": [
       "array(['Persons', 'Male', 'Female', 'Male (%)', 'Female (%)', 'Female  '],\n",
       "      dtype=object)"
      ]
     },
     "execution_count": 13,
     "metadata": {},
     "output_type": "execute_result"
    }
   ],
   "source": [
    "tidy['Sex'].unique()"
   ]
  },
  {
   "cell_type": "code",
   "execution_count": 14,
   "metadata": {},
   "outputs": [
    {
     "data": {
      "text/plain": [
       "array(['1 March 2017', '1st March 2007', '1st March 2010',\n",
       "       '1st March 2012', '1st September2014'], dtype=object)"
      ]
     },
     "execution_count": 14,
     "metadata": {},
     "output_type": "execute_result"
    }
   ],
   "source": [
    "tidy['Period'].unique()"
   ]
  },
  {
   "cell_type": "code",
   "execution_count": 15,
   "metadata": {},
   "outputs": [],
   "source": [
    "from datetime import datetime"
   ]
  },
  {
   "cell_type": "code",
   "execution_count": 16,
   "metadata": {},
   "outputs": [],
   "source": [
    "tidy.Period = pd.to_datetime(tidy.Period).dt.strftime('%Y-%m-%d')"
   ]
  },
  {
   "cell_type": "code",
   "execution_count": 17,
   "metadata": {},
   "outputs": [],
   "source": [
    "tidy['Period'] = str('day/') + tidy['Period']"
   ]
  },
  {
   "cell_type": "code",
   "execution_count": 18,
   "metadata": {},
   "outputs": [
    {
     "data": {
      "text/plain": [
       "array(['Under 18 ', '18 and over', 'All Ages', 'All', 'All years'],\n",
       "      dtype=object)"
      ]
     },
     "execution_count": 18,
     "metadata": {},
     "output_type": "execute_result"
    }
   ],
   "source": [
    "tidy['Age'].unique()"
   ]
  },
  {
   "cell_type": "code",
   "execution_count": 19,
   "metadata": {},
   "outputs": [],
   "source": [
    "tidy['Age'] = tidy['Age'].map(\n",
    "    lambda x: {\n",
    "        'Under 18 ' : 'under-18', \n",
    "        '18 and over' : '18-plus',\n",
    "        'All years': 'all' ,\n",
    "        'All': 'all'\n",
    "        }.get(x, x))"
   ]
  },
  {
   "cell_type": "code",
   "execution_count": 20,
   "metadata": {},
   "outputs": [],
   "source": [
    "tidy['Treatment Type'] = 'alcohol'"
   ]
  },
  {
   "cell_type": "code",
   "execution_count": 21,
   "metadata": {},
   "outputs": [],
   "source": [
    "def user_perc(x,y):\n",
    "    \n",
    "    if ( (str(x) == 'Statutory (%)')) | ((str(x) == 'Non-statutory (%)')) | ((str(x) == 'Prison (%)')): \n",
    "        \n",
    "        return 'Percentage'\n",
    "    else:\n",
    "        return y\n",
    "    \n",
    "tidy['Measure Type'] = tidy.apply(lambda row: user_perc(row['Service Type'], row['Measure Type']), axis = 1)\n",
    "\n"
   ]
  },
  {
   "cell_type": "code",
   "execution_count": 22,
   "metadata": {},
   "outputs": [],
   "source": [
    "def user_perc(x,y):\n",
    "    \n",
    "    if ( (str(x) == 'Residential (%)')) | ((str(x) == 'Non-residential (%)')) | ((str(x) == 'Mixed (%)')): \n",
    "        \n",
    "        return 'Percentage'\n",
    "    else:\n",
    "        return y\n",
    "    \n",
    "tidy['Measure Type'] = tidy.apply(lambda row: user_perc(row['Residential Status'], row['Measure Type']), axis = 1)\n",
    "\n"
   ]
  },
  {
   "cell_type": "code",
   "execution_count": 23,
   "metadata": {},
   "outputs": [
    {
     "data": {
      "text/plain": [
       "array(['All', 'Belfast', 'Northern', 'South Eastern', 'Southern',\n",
       "       'Western', 'Northern (%)', 'South Eastern (%)', 'Southern (%)',\n",
       "       'Western (%)', 'Emergency admissions (HIS) (%)',\n",
       "       'Emergency admissions (HIS)', 'Belfast (%)',\n",
       "       'Emergency admissions (HIS)  (%)'], dtype=object)"
      ]
     },
     "execution_count": 23,
     "metadata": {},
     "output_type": "execute_result"
    }
   ],
   "source": [
    "tidy['Health and Social Care Trust'].unique()"
   ]
  },
  {
   "cell_type": "code",
   "execution_count": 24,
   "metadata": {},
   "outputs": [],
   "source": [
    "def user_perc(x,y):\n",
    "    \n",
    "    if ( (str(x) == 'Belfast (%)')) | ((str(x) == 'Northern (%)')) | ((str(x) == 'South Eastern (%)')) | ((str(x) == 'Southern (%)')) | ((str(x) == 'Western (%)')) | ((str(x) == 'Emergency admissions (HIS) (%)')) : \n",
    "        \n",
    "            return 'Percentage'\n",
    "    else:\n",
    "            return y\n",
    "    \n",
    "tidy['Measure Type'] = tidy.apply(lambda row: user_perc(row['Health and Social Care Trust'], row['Measure Type']), axis = 1)"
   ]
  },
  {
   "cell_type": "code",
   "execution_count": 25,
   "metadata": {},
   "outputs": [],
   "source": [
    "def user_perc(x,y):\n",
    "    \n",
    "    if  ((str(x) == 'Emergency admissions (HIS)  (%)')) : \n",
    "        \n",
    "            return 'Percentage'\n",
    "    else:\n",
    "            return y\n",
    "    \n",
    "tidy['Measure Type'] = tidy.apply(lambda row: user_perc(row['Health and Social Care Trust'], row['Measure Type']), axis = 1)"
   ]
  },
  {
   "cell_type": "code",
   "execution_count": 26,
   "metadata": {},
   "outputs": [],
   "source": [
    "tidy['Health and Social Care Trust'] = tidy['Health and Social Care Trust'].str.rstrip(' (%)')"
   ]
  },
  {
   "cell_type": "code",
   "execution_count": 27,
   "metadata": {},
   "outputs": [],
   "source": [
    "tidy['Health and Social Care Trust'] = tidy['Health and Social Care Trust'].str.lower()"
   ]
  },
  {
   "cell_type": "code",
   "execution_count": 28,
   "metadata": {},
   "outputs": [
    {
     "data": {
      "text/plain": [
       "array(['all', 'belfast', 'northern', 'south eastern', 'southern',\n",
       "       'western', 'emergency admissions (his'], dtype=object)"
      ]
     },
     "execution_count": 28,
     "metadata": {},
     "output_type": "execute_result"
    }
   ],
   "source": [
    "tidy['Health and Social Care Trust'].unique()"
   ]
  },
  {
   "cell_type": "code",
   "execution_count": 29,
   "metadata": {},
   "outputs": [],
   "source": [
    "tidy['Health and Social Care Trust'] = tidy['Health and Social Care Trust'].map(\n",
    "    lambda x: {\n",
    "        'south eastern' : 'south-eastern', \n",
    "        'emergency admissions (his)' : 'emergency-admissions',\n",
    "        'emergency admissions (his' : 'emergency-admissions'\n",
    "        }.get(x, x))"
   ]
  },
  {
   "cell_type": "code",
   "execution_count": 30,
   "metadata": {},
   "outputs": [],
   "source": [
    "tidy['Measure Type'] = tidy['Measure Type'].map(\n",
    "    lambda x: {\n",
    "        'Headcount' : 'Count', \n",
    "        'Percentage of Headcount' : 'Percentage',\n",
    "        }.get(x, x))"
   ]
  },
  {
   "cell_type": "code",
   "execution_count": 31,
   "metadata": {},
   "outputs": [
    {
     "data": {
      "text/plain": [
       "array(['Persons', 'Male', 'Female', 'Male (%)', 'Female (%)', 'Female  '],\n",
       "      dtype=object)"
      ]
     },
     "execution_count": 31,
     "metadata": {},
     "output_type": "execute_result"
    }
   ],
   "source": [
    "tidy['Sex'].unique()"
   ]
  },
  {
   "cell_type": "code",
   "execution_count": 32,
   "metadata": {},
   "outputs": [],
   "source": [
    "def user_perc(x,y):\n",
    "    \n",
    "    if ( (str(x) == 'Male (%)')) | ((str(x) == 'Female (%)')): \n",
    "        \n",
    "        return 'Percentage'\n",
    "    else:\n",
    "        return y\n",
    "    \n",
    "tidy['Measure Type'] = tidy.apply(lambda row: user_perc(row['Sex'], row['Measure Type']), axis = 1)\n",
    "\n"
   ]
  },
  {
   "cell_type": "code",
   "execution_count": 33,
   "metadata": {},
   "outputs": [],
   "source": [
    "tidy['Sex'] = tidy['Sex'].map(\n",
    "    lambda x: {\n",
    "        'Female' : 'F', \n",
    "        'Male' : 'M',\n",
    "        'Persons' : 'T',\n",
    "        'Female  ' : 'F',\n",
    "        'Male (%)' : 'M',\n",
    "        'Female (%)': 'F'\n",
    "        }.get(x, x))"
   ]
  },
  {
   "cell_type": "code",
   "execution_count": 34,
   "metadata": {},
   "outputs": [],
   "source": [
    "tidy['Sex'] = tidy['Sex'].str.rstrip('(%)')"
   ]
  },
  {
   "cell_type": "code",
   "execution_count": 35,
   "metadata": {},
   "outputs": [
    {
     "data": {
      "text/plain": [
       "array(['All', 'Statutory', 'Non-statutory', 'Prison', 'Statutory (%)',\n",
       "       'Non-statutory (%)', 'Prison (%)'], dtype=object)"
      ]
     },
     "execution_count": 35,
     "metadata": {},
     "output_type": "execute_result"
    }
   ],
   "source": [
    "tidy['Service Type'].unique()"
   ]
  },
  {
   "cell_type": "code",
   "execution_count": 36,
   "metadata": {},
   "outputs": [],
   "source": [
    "tidy['Service Type'] = tidy['Service Type'].map(\n",
    "    lambda x: {\n",
    "        'Total' : 'all',\n",
    "        'total' : 'all'\n",
    "        }.get(x, x))"
   ]
  },
  {
   "cell_type": "code",
   "execution_count": 37,
   "metadata": {},
   "outputs": [],
   "source": [
    "tidy['Service Type'] = tidy['Service Type'].str.rstrip(' (%)')"
   ]
  },
  {
   "cell_type": "code",
   "execution_count": 38,
   "metadata": {},
   "outputs": [],
   "source": [
    "tidy['Service Type'] = tidy['Service Type'].str.lower()"
   ]
  },
  {
   "cell_type": "code",
   "execution_count": 39,
   "metadata": {},
   "outputs": [],
   "source": [
    "tidy['Residential Status'] = tidy['Residential Status'].str.rstrip(' (%)')"
   ]
  },
  {
   "cell_type": "code",
   "execution_count": 40,
   "metadata": {},
   "outputs": [],
   "source": [
    "tidy['Residential Status'] = tidy['Residential Status'].str.lower()"
   ]
  },
  {
   "cell_type": "code",
   "execution_count": 41,
   "metadata": {},
   "outputs": [],
   "source": [
    "tidy['Health and Social Care Trust'] = tidy['Health and Social Care Trust'].map(\n",
    "    lambda x: {\n",
    "        'total' : 'all' \n",
    "        }.get(x, x))"
   ]
  },
  {
   "cell_type": "code",
   "execution_count": 42,
   "metadata": {},
   "outputs": [],
   "source": [
    "tidy['Residential Status'] = tidy['Residential Status'].map(\n",
    "    lambda x: {\n",
    "        'total' : 'all' \n",
    "        }.get(x, x))"
   ]
  },
  {
   "cell_type": "code",
   "execution_count": 43,
   "metadata": {
    "scrolled": false
   },
   "outputs": [
    {
     "data": {
      "text/html": [
       "<div>\n",
       "<style scoped>\n",
       "    .dataframe tbody tr th:only-of-type {\n",
       "        vertical-align: middle;\n",
       "    }\n",
       "\n",
       "    .dataframe tbody tr th {\n",
       "        vertical-align: top;\n",
       "    }\n",
       "\n",
       "    .dataframe thead th {\n",
       "        text-align: right;\n",
       "    }\n",
       "</style>\n",
       "<table border=\"1\" class=\"dataframe\">\n",
       "  <thead>\n",
       "    <tr style=\"text-align: right;\">\n",
       "      <th></th>\n",
       "      <th>Period</th>\n",
       "      <th>Sex</th>\n",
       "      <th>Age</th>\n",
       "      <th>Service Type</th>\n",
       "      <th>Residential Status</th>\n",
       "      <th>Treatment Type</th>\n",
       "      <th>Health and Social Care Trust</th>\n",
       "      <th>Measure Type</th>\n",
       "      <th>Unit</th>\n",
       "      <th>Value</th>\n",
       "    </tr>\n",
       "  </thead>\n",
       "  <tbody>\n",
       "    <tr>\n",
       "      <th>0</th>\n",
       "      <td>day/2017-03-01</td>\n",
       "      <td>T</td>\n",
       "      <td>under-18</td>\n",
       "      <td>all</td>\n",
       "      <td>all</td>\n",
       "      <td>alcohol</td>\n",
       "      <td>all</td>\n",
       "      <td>Count</td>\n",
       "      <td>People</td>\n",
       "      <td>95</td>\n",
       "    </tr>\n",
       "    <tr>\n",
       "      <th>4</th>\n",
       "      <td>day/2017-03-01</td>\n",
       "      <td>T</td>\n",
       "      <td>18-plus</td>\n",
       "      <td>all</td>\n",
       "      <td>all</td>\n",
       "      <td>alcohol</td>\n",
       "      <td>all</td>\n",
       "      <td>Count</td>\n",
       "      <td>People</td>\n",
       "      <td>2482</td>\n",
       "    </tr>\n",
       "    <tr>\n",
       "      <th>8</th>\n",
       "      <td>day/2017-03-01</td>\n",
       "      <td>T</td>\n",
       "      <td>All Ages</td>\n",
       "      <td>all</td>\n",
       "      <td>all</td>\n",
       "      <td>alcohol</td>\n",
       "      <td>all</td>\n",
       "      <td>Count</td>\n",
       "      <td>People</td>\n",
       "      <td>2577</td>\n",
       "    </tr>\n",
       "    <tr>\n",
       "      <th>12</th>\n",
       "      <td>day/2017-03-01</td>\n",
       "      <td>M</td>\n",
       "      <td>under-18</td>\n",
       "      <td>all</td>\n",
       "      <td>all</td>\n",
       "      <td>alcohol</td>\n",
       "      <td>all</td>\n",
       "      <td>Count</td>\n",
       "      <td>People</td>\n",
       "      <td>31</td>\n",
       "    </tr>\n",
       "    <tr>\n",
       "      <th>16</th>\n",
       "      <td>day/2017-03-01</td>\n",
       "      <td>M</td>\n",
       "      <td>18-plus</td>\n",
       "      <td>all</td>\n",
       "      <td>all</td>\n",
       "      <td>alcohol</td>\n",
       "      <td>all</td>\n",
       "      <td>Count</td>\n",
       "      <td>People</td>\n",
       "      <td>1536</td>\n",
       "    </tr>\n",
       "  </tbody>\n",
       "</table>\n",
       "</div>"
      ],
      "text/plain": [
       "            Period Sex       Age Service Type Residential Status  \\\n",
       "0   day/2017-03-01   T  under-18          all                all   \n",
       "4   day/2017-03-01   T   18-plus          all                all   \n",
       "8   day/2017-03-01   T  All Ages          all                all   \n",
       "12  day/2017-03-01   M  under-18          all                all   \n",
       "16  day/2017-03-01   M   18-plus          all                all   \n",
       "\n",
       "   Treatment Type Health and Social Care Trust Measure Type    Unit Value  \n",
       "0         alcohol                          all        Count  People    95  \n",
       "4         alcohol                          all        Count  People  2482  \n",
       "8         alcohol                          all        Count  People  2577  \n",
       "12        alcohol                          all        Count  People    31  \n",
       "16        alcohol                          all        Count  People  1536  "
      ]
     },
     "execution_count": 43,
     "metadata": {},
     "output_type": "execute_result"
    }
   ],
   "source": [
    "tidy.head()"
   ]
  },
  {
   "cell_type": "code",
   "execution_count": 44,
   "metadata": {},
   "outputs": [],
   "source": [
    "from pathlib import Path\n",
    "out = Path('out')\n",
    "out.mkdir(exist_ok=True)\n",
    "tidy.to_csv(out / 'observations.csv', index = False)"
   ]
  },
  {
   "cell_type": "code",
   "execution_count": 45,
   "metadata": {},
   "outputs": [],
   "source": [
    "tidy[tidy['Measure Type'] != 'Percentage'].to_csv(out / 'observations-no-percentages.csv', index=False)"
   ]
  },
  {
   "cell_type": "markdown",
   "metadata": {},
   "source": [
    "There's a metadata tab in the spreadsheet with abstract and contact details. **Todo: extract these and also figure out what the license should really be.**"
   ]
  },
  {
   "cell_type": "code",
   "execution_count": 46,
   "metadata": {},
   "outputs": [
    {
     "data": {
      "text/html": [
       "<div id=\"injblock1001\">\n",
       "<style>\n",
       "table.ex, table.exkey { border: thin black solid }\n",
       "table.ex td, table.ex tr { border: none }\n",
       "table.ex td:hover { border: thin blue solid }\n",
       "table.ex td.excOBS:hover { border: thin red solid }\n",
       "table.ex td.selected { border: thick red solid }\n",
       "</style>\n",
       "\n",
       "\n",
       "<table class=\"exkey\">\n",
       "<tr><td class=\"xc0\" style=\"background-color:Aqua\">OBS</td><td class=\"xc1\" style=\"background-color:LightGreen\">Property</td><td class=\"xc2\" style=\"background-color:MistyRose\">Heading</td></tr></table>\n",
       "\n",
       "<table class=\"ex\">\n",
       "<caption style=\"text-align:center; padding:0px; caption-side:bottom\">Metadata</caption>\n",
       "<tr><td title=\"0 0\">Metadata</td><td title=\"1 0\"></td></tr>\n",
       "<tr><td title=\"0 1\"></td><td title=\"1 1\"></td></tr>\n",
       "<tr><td style=\"background-color:MistyRose\" title=\"0 2\">Identification</td><td title=\"1 2\"></td></tr>\n",
       "<tr><td style=\"background-color:LightGreen\" title=\"0 3\">Dataset Title</td><td style=\"background-color:Aqua\" title=\"1 3\">Census of Drug and Alcohol Treatment Services in Northern Ireland: 1 March 2017 (Tables)</td></tr>\n",
       "<tr><td style=\"background-color:LightGreen\" title=\"0 4\">Abstract</td><td style=\"background-color:Aqua\" title=\"1 4\">This bulletin summarises the number of people in treatment for problem drug and/or alcohol misuse and relates to a snapshot of those in treatment on 1 March 2017. </td></tr>\n",
       "<tr><td style=\"background-color:LightGreen\" title=\"0 5\">Year of Data</td><td style=\"background-color:Aqua\" title=\"1 5\">1 March 2017 (with 2007, 2010, 2012 and 2014 comparisons)</td></tr>\n",
       "<tr><td style=\"background-color:LightGreen\" title=\"0 6\">Reporting period</td><td style=\"background-color:Aqua\" title=\"1 6\">Snapshot</td></tr>\n",
       "<tr><td title=\"0 7\"></td><td title=\"1 7\"></td></tr>\n",
       "<tr><td style=\"background-color:MistyRose\" title=\"0 8\">Classification</td><td title=\"1 8\"></td></tr>\n",
       "<tr><td style=\"background-color:LightGreen\" title=\"0 9\">National Statistics Theme</td><td style=\"background-color:Aqua\" title=\"1 9\">Health and Social Care</td></tr>\n",
       "<tr><td style=\"background-color:LightGreen\" title=\"0 10\">Keyword</td><td style=\"background-color:Aqua\" title=\"1 10\">Drug Alcohol Misuse Treatment</td></tr>\n",
       "<tr><td title=\"0 11\"></td><td title=\"1 11\"></td></tr>\n",
       "<tr><td style=\"background-color:MistyRose\" title=\"0 12\">Quality  and Validity</td><td title=\"1 12\"></td></tr>\n",
       "<tr><td style=\"background-color:LightGreen\" title=\"0 13\">National Statistics Data</td><td style=\"background-color:Aqua\" title=\"1 13\">No</td></tr>\n",
       "<tr><td style=\"background-color:LightGreen\" title=\"0 14\">Disclosure Control Methods</td><td style=\"background-color:Aqua\" title=\"1 14\">All data with cell sizes less than 3 has been masked to avoid the disclosure of any personal information.</td></tr>\n",
       "<tr><td style=\"background-color:LightGreen\" title=\"0 15\">Quality Issues</td><td style=\"background-color:Aqua\" title=\"1 15\">These figures only relate to those in treatment for drug and/or alcohol misuse from specialist services across Northern Ireland on a representative day. </td></tr>\n",
       "<tr><td title=\"0 16\"></td><td title=\"1 16\"></td></tr>\n",
       "<tr><td style=\"background-color:MistyRose\" title=\"0 17\">Organisation</td><td title=\"1 17\"></td></tr>\n",
       "<tr><td style=\"background-color:LightGreen\" title=\"0 18\">Organisation Name</td><td style=\"background-color:Aqua\" title=\"1 18\">Department of Health, Public Health Information & Research Branch</td></tr>\n",
       "<tr><td style=\"background-color:LightGreen\" title=\"0 19\">Email Address</td><td style=\"background-color:Aqua\" title=\"1 19\">PHIRB@health-ni.gov.uk</td></tr>\n",
       "<tr><td style=\"background-color:LightGreen\" title=\"0 20\">Responsible Party Role</td><td style=\"background-color:Aqua\" title=\"1 20\">Resource Provider</td></tr>\n",
       "<tr><td style=\"background-color:LightGreen\" title=\"0 21\">Telephone Number</td><td style=\"background-color:Aqua\" title=\"1 21\">028 9052 2523</td></tr>\n",
       "<tr><td title=\"0 22\"></td><td title=\"1 22\"></td></tr>\n",
       "<tr><td style=\"background-color:MistyRose\" title=\"0 23\">Constraints</td><td title=\"1 23\"></td></tr>\n",
       "<tr><td style=\"background-color:LightGreen\" title=\"0 24\">Limitations on Public Access</td><td style=\"background-color:Aqua\" title=\"1 24\">No restriction on public access</td></tr>\n",
       "<tr><td style=\"background-color:LightGreen\" title=\"0 25\">Use Constraints</td><td style=\"background-color:Aqua\" title=\"1 25\">No conditions apply</td></tr>\n",
       "</table>\n",
       "\n",
       "</div>\n",
       "\n",
       "<script>\n",
       "var jslookup = {\"1 19\":[0,19,0,17],\"1 5\":[0,5,0,2],\"1 15\":[0,15,0,12],\"1 3\":[0,3,0,2],\"1 14\":[0,14,0,12],\"1 24\":[0,24,0,23],\"1 13\":[0,13,0,12],\"1 9\":[0,9,0,8],\"1 20\":[0,20,0,17],\"1 10\":[0,10,0,8],\"1 6\":[0,6,0,2],\"1 18\":[0,18,0,17],\"1 21\":[0,21,0,17],\"1 4\":[0,4,0,2],\"1 25\":[0,25,0,23]}; \n",
       "var jdividNUM = \"injblock1001\"; \n",
       "var Dclickedcell = null; \n",
       "function clickedcell() \n",
       "{ \n",
       "    Dclickedcell = this; \n",
       "    console.log(\"jjjj\", this); \n",
       "    var rgc = new RegExp('(^|\\b)' + \"selected\".split(' ').join('|') + '(\\b|$)', 'gi'); \n",
       "    Array.prototype.forEach.call(document.querySelectorAll(\"div#\"+jdividNUM+\" table.ex td.selected\"), function(el, i) { \n",
       "        if (el.classList)  el.classList.remove(\"selected\");\n",
       "        else  el.className = el.className.replace(rgc, ' ');\n",
       "    }); \n",
       "    if (this.classList)  this.classList.add(\"selected\");\n",
       "    else this.className += ' ' + \"selected\";\n",
       "\n",
       "    var dimpairs = jslookup[this.title]; \n",
       "    if (dimpairs !== undefined) {\n",
       "        for (var i = 1; i < dimpairs.length; i += 2) {\n",
       "            var row = document.querySelectorAll(\"div#\"+jdividNUM+\" table.ex tr\")[dimpairs[i]]; \n",
       "            var el = row.querySelectorAll(\"td\")[dimpairs[i-1]]; \n",
       "            if (el.classList)  el.classList.add(\"selected\");\n",
       "            else el.className += ' ' + \"selected\";\n",
       "        }\n",
       "    }\n",
       "}\n",
       "Array.prototype.forEach.call(document.querySelectorAll(\"div#\"+jdividNUM+\" table.ex td\"), function(item, i) { item.onclick=clickedcell; }); \n",
       "</script>\n"
      ],
      "text/plain": [
       "<IPython.core.display.HTML object>"
      ]
     },
     "metadata": {},
     "output_type": "display_data"
    }
   ],
   "source": [
    "md_tab = tabs['Metadata']\n",
    "md_heading = md_tab.filter('Metadata')\n",
    "md_heading.assert_one()\n",
    "properties = md_heading.fill(DOWN).is_not_whitespace()\n",
    "values = properties.fill(RIGHT).is_not_whitespace()\n",
    "headings = properties - values.fill(LEFT)\n",
    "properties = properties - headings\n",
    "cs = ConversionSegment(values, [\n",
    "    HDim(properties, \"Property\", DIRECTLY, LEFT),\n",
    "    HDim(headings, \"Heading\", CLOSEST, UP)\n",
    "], includecellxy=True)\n",
    "savepreviewhtml(cs)"
   ]
  },
  {
   "cell_type": "code",
   "execution_count": 47,
   "metadata": {},
   "outputs": [
    {
     "name": "stdout",
     "output_type": "stream",
     "text": [
      "\n"
     ]
    }
   ],
   "source": [
    "from gssutils.metadata import THEME\n",
    "\n",
    "for i, row in cs.topandas().iterrows():\n",
    "    v = md_tab.get_at(row.__x, row.__y).value.strip()\n",
    "    if row.Property == 'Abstract':\n",
    "        scraper.dataset.description = v\n",
    "    elif row.Property == 'National Statistics Theme':\n",
    "        scraper.dataset.theme = THEME[pathify(v)]\n",
    "    elif row.Property == 'Keyword':\n",
    "        scraper.dataset.keyword = map(lambda x: x.strip(), v.split(' '))\n",
    "    elif row.Property == 'Email Address':\n",
    "        scraper.dataset.contactEmail = f'mailto:{v}'"
   ]
  },
  {
   "cell_type": "code",
   "execution_count": 48,
   "metadata": {},
   "outputs": [],
   "source": [
    "scraper.dataset.family = 'health'\n",
    "scraper.dataset.license = 'http://www.nationalarchives.gov.uk/doc/open-government-licence/version/3/'\n",
    "\n",
    "with open(out / 'dataset.trig', 'wb') as metadata:\n",
    "    metadata.write(scraper.generate_trig())"
   ]
  },
  {
   "cell_type": "code",
   "execution_count": null,
   "metadata": {},
   "outputs": [],
   "source": []
  }
 ],
 "metadata": {
  "kernelspec": {
   "display_name": "Python 3",
   "language": "python",
   "name": "python3"
  },
  "language_info": {
   "codemirror_mode": {
    "name": "ipython",
    "version": 3
   },
   "file_extension": ".py",
   "mimetype": "text/x-python",
   "name": "python",
   "nbconvert_exporter": "python",
   "pygments_lexer": "ipython3",
   "version": "3.7.3"
  }
 },
 "nbformat": 4,
 "nbformat_minor": 2
}

{
 "cells": [
  {
   "cell_type": "markdown",
   "metadata": {},
   "source": [
    "Census of Drug and Alcohol Treatment Services in Northern Ireland"
   ]
  },
  {
   "cell_type": "code",
   "execution_count": 191,
   "metadata": {},
   "outputs": [
    {
     "data": {
      "text/markdown": [
       "## Census of drug and alcohol treatment services in Northern Ireland 2017\n",
       "\n",
       "### Distributions\n",
       "\n",
       "1. Drug and Alcohol Census 2017 ([application/pdf](https://www.health-ni.gov.uk/sites/default/files/publications/health/drug-alcohol-census-2017.pdf))\n",
       "1. Data from Census of Drug and Alcohol Treatment Services ([MS Excel Spreadsheet](https://www.health-ni.gov.uk/sites/default/files/publications/dhssps/data-census-drug-alcohol-treatment-services.xlsx))\n",
       "1. Pre-release Access List Drug and Alcohol Census ([application/pdf](https://www.health-ni.gov.uk/sites/default/files/publications/dhssps/pre-release-drug-alcohol-census.pdf))\n"
      ],
      "text/plain": [
       "<gssutils.scrape.Scraper at 0x11a72f390>"
      ]
     },
     "execution_count": 191,
     "metadata": {},
     "output_type": "execute_result"
    }
   ],
   "source": [
    "from gssutils import *\n",
    "scraper = Scraper('https://www.health-ni.gov.uk/publications/census-drug-and-alcohol-treatment-services-northern-ireland-2017')\n",
    "scraper"
   ]
  },
  {
   "cell_type": "code",
   "execution_count": 192,
   "metadata": {},
   "outputs": [
    {
     "data": {
      "text/plain": [
       "{'Contents & Notes to tables': {<A4 'Contents'>, <A2 '1 March 2017'>, <A16 ''>, <B4 ''>, <A1 'Census of Drug and Alcohol Treatment Services in Northern Ireland:'>, <A19 3.0>, <B1 ''>, <B19 'Hospital Information System (HIS) figures relate to the number of emergency admissions to HSC hospitals for only drug-related conditions, only alcohol-related conditions or both drug and alcohol-related conditions, excluding admissions under specialties for mental health and learning disabilities.\\xa0 These figures are as at 1st September 2016.'>, <B18 'All percentages are rounded to the nearest percentage point.'>, <A10 'Table 5'>, <A9 'Table 4'>, <B2 ''>, <B7 'Breakdown by Service Type'>, <B9 'Breakdown by Trust'>, <A14 ''>, <A7 'Table 2'>, <A13 ''>, <B6 'Breakdown by Age and Gender'>, <B15 ''>, <B8 'Breakdown by Residential Status'>, <A12 ''>, <B16 ''>, <A8 'Table 3'>, <B10 'Comparison Table'>, <A18 2.0>, <A11 ''>, <B13 ''>, <A17 1.0>, <B14 ''>, <B11 ''>, <A5 ''>, <A6 'Table 1'>, <B12 ''>, <B17 'A dashed line (-) represents a cell count of less than three and a * represents a cell that has been masked. This is in order to avoid issues involving personal disclosure, where it may be possible to identify an individual from the data provided.  '>, <A15 'Notes to Tables'>, <A3 ''>, <B5 ''>, <B3 ''>},\n",
       " 'Table 1': {<M2 ''>, <D1 ''>, <L4 'Drugs & Alcohol'>, <B12 34.6>, <B5 95.0>, <D3 ''>, <J8 60.8>, <B8 32.6>, <H6 810.0>, <M5 5969.0>, <J6 1567.0>, <J11 38.3>, <B9 67.4>, <C2 ''>, <C1 ''>, <L2 ''>, <D7 72.0>, <C3 ''>, <H9 23.7>, <K10 34.1>, <K2 ''>, <I11 100.0>, <I10 100.0>, <B2 ''>, <I9 32.1>, <G4 'Drugs Only'>, <A5 'Total'>, <D11 42.0>, <A4 ''>, <A1 'Table 1 – Breakdown by Age and Gender'>, <M3 'Overall Total'>, <A2 ''>, <B4 'Alcohol Only'>, <H1 ''>, <F11 43.1>, <L10 22.7>, <J1 ''>, <M7 1874.0>, <H3 ''>, <J2 ''>, <A11 '% of all Males '>, <F10 47.2>, <M6 4095.0>, <G2 ''>, <I3 ''>, <C12 26.5>, <I1 ''>, <M9 31.4>, <H10 20.2>, <G8 71.3>, <J9 39.2>, <E11 100.0>, <L5 1356.0>, <F2 ''>, <F5 2482.0>, <H4 'Drugs & Alcohol'>, <C7 49.0>, <M8 68.6>, <C4 'Drugs Only'>, <F7 946.0>, <L8 76.1>, <E4 'Total'>, <F6 1536.0>, <F12 56.0>, <C10 45.4>, <E2 ''>, <F4 'Alcohol Only'>, <H5 1062.0>, <E6 528.0>, <M11 100.0>, <H11 22.7>, <E5 713.0>, <J12 53.9>, <K8 73.5>, <M1 ''>, <D2 ''>, <H8 76.3>, <I4 'Total'>, <B11 5.9>, <L12 17.3>, <E7 185.0>, <D6 222.0>, <G6 1221.0>, <K7 540.0>, <C11 52.1>, <A12 '% of all Females'>, <L1 ''>, <D4 'Drugs & Alcohol'>, <I5 5256.0>, <A7 'Female'>, <I6 3567.0>, <H12 14.9>, <L3 ''>, <C8 84.9>, <A6 'Male'>, <G7 491.0>, <C5 324.0>, <D9 24.5>, <L6 1032.0>, <B6 31.0>, <J7 1010.0>, <I12 100.0>, <D5 294.0>, <B1 ''>, <A3 'Gender'>, <K1 ''>, <K11 36.5>, <H7 252.0>, <K3 ''>, <D10 41.2>, <A9 'Female (%)'>, <K5 2036.0>, <D8 75.5>, <E9 25.9>, <G12 29.1>, <H2 ''>, <L9 23.9>, <I7 1689.0>, <D12 38.9>, <B3 'Under 18 '>, <K6 1496.0>, <G9 28.7>, <L11 25.2>, <G1 ''>, <I2 ''>, <J4 'Alcohol Only'>, <G10 32.6>, <G3 ''>, <F9 38.1>, <C9 15.1>, <E12 100.0>, <F1 ''>, <E10 100.0>, <A10 '% of Total'>, <J3 'Treatment Type'>, <K9 26.5>, <B10 13.3>, <E8 74.1>, <E3 ''>, <K12 28.8>, <M12 100.0>, <J10 43.2>, <E1 ''>, <A8 'Male (%)'>, <I8 67.9>, <M10 100.0>, <K4 'Drugs Only'>, <F3 '18 and over'>, <J5 2577.0>, <B7 64.0>, <G11 34.2>, <M4 ''>, <G5 1712.0>, <F8 61.9>, <C6 275.0>, <L7 324.0>},\n",
       " 'Table 2': {<F3 ''>, <L2 ''>, <L19 42.0>, <K10 80.0>, <M16 3600.0>, <C18 ''>, <F1 ''>, <K3 ''>, <I5 540.0>, <F12 ''>, <H10 35.6>, <I18 '*'>, <M19 60.3>, <A17 'Non-statutory'>, <G18 '*'>, <D16 '*'>, <I9 71.7>, <K2 ''>, <C19 '*'>, <I20 30.6>, <D10 42.3>, <M6 1178.0>, <J14 'Alcohol Only'>, <J18 5.0>, <F4 '18 and over'>, <A1 'Table 2 – Breakdown by Service Type'>, <L7 537.0>, <I14 'Total'>, <G9 59.1>, <J10 53.1>, <E12 ''>, <L21 13.1>, <M3 ''>, <E15 713.0>, <J13 'Treatment Type'>, <F18 '*'>, <L8 ''>, <J9 43.5>, <G11 4.2>, <I12 ''>, <F5 3567.0>, <F21 '*'>, <M18 183.0>, <B11 0.3>, <G7 1501.0>, <B3 'Male'>, <H2 ''>, <I16 '*'>, <I21 '*'>, <I7 153.0>, <J15 2577.0>, <B20 88.4>, <M2 ''>, <K17 724.0>, <D11 16.2>, <B9 68.2>, <C14 'Drugs Only'>, <E21 '-'>, <I10 28.3>, <D12 ''>, <L4 '18 and over'>, <C5 1496.0>, <L15 1356.0>, <B13 'Under 18 '>, <J16 1719.0>, <H12 ''>, <B21 '-'>, <E19 '*'>, <K9 18.9>, <B2 ''>, <C6 925.0>, <H9 64.4>, <E7 432.0>, <L16 569.0>, <E20 81.3>, <C9 61.8>, <G12 ''>, <M20 36.6>, <I11 0.0>, <K19 64.4>, <A2 ''>, <B4 'Alcohol Only'>, <D7 437.0>, <B19 '*'>, <A13 'Service Type'>, <F11 4.8>, <B14 'Alcohol Only'>, <E2 ''>, <A3 'Service Type'>, <L5 1689.0>, <D9 41.5>, <E8 0.0>, <M13 'Overall Total'>, <D20 68.7>, <G5 4095.0>, <B10 31.5>, <M5 1874.0>, <D3 ''>, <F7 1069.0>, <L13 ''>, <M21 3.1>, <M7 685.0>, <L12 ''>, <J19 66.7>, <J21 0.2>, <D13 ''>, <K16 1312.0>, <I1 ''>, <M15 5969.0>, <D21 ''>, <C16 '*'>, <H7 360.0>, <C10 38.2>, <J8 11.0>, <C1 ''>, <A15 'Total'>, <M9 62.9>, <K12 ''>, <G2 ''>, <H21 '*'>, <C3 ''>, <K11 0.6>, <I2 ''>, <K5 185.0>, <H19 '*'>, <F9 65.2>, <A6 'Statutory'>, <C13 ''>, <K4 'Under 18s'>, <M4 'Total'>, <C4 'Drugs Only'>, <C21 ''>, <L20 44.9>, <H5 1010.0>, <L1 ''>, <A7 'Non-statutory'>, <K7 148.0>, <C17 294.0>, <L3 ''>, <G21 '*'>, <D18 ''>, <A5 'Total'>, <J6 141.0>, <C11 0.0>, <E17 580.0>, <F2 ''>, <G19 '*'>, <A10 'Non-statutory (%)'>, <D17 202.0>, <J17 853.0>, <B5 1567.0>, <L6 1143.0>, <L14 'Drugs & Alcohol'>, <M14 ''>, <H18 '*'>, <I19 '*'>, <K1 ''>, <F15 2482.0>, <B17 84.0>, <H16 '*'>, <C12 ''>, <F13 '18 and over'>, <B15 95.0>, <C7 571.0>, <J2 ''>, <H15 1062.0>, <E11 0.0>, <K18 0.0>, <I13 ''>, <L9 67.7>, <E5 528.0>, <A4 ''>, <B7 493.0>, <K14 'Drugs Only'>, <F19 '*'>, <L10 31.8>, <K21 0.0>, <E6 96.0>, <H14 'Drugs & Alcohol'>, <H1 ''>, <G16 '*'>, <H8 0.0>, <B6 1069.0>, <H3 'Female  '>, <E13 ''>, <A8 'Prison'>, <M10 36.6>, <M1 ''>, <E18 '-'>, <F6 2326.0>, <L18 178.0>, <A19 'Statutory (%)'>, <F14 'Alcohol Only'>, <F20 31.0>, <G6 2422.0>, <G20 25.1>, <H4 'Alcohol Only'>, <B16 '*'>, <K13 ''>, <H20 38.3>, <I4 'Drugs Only'>, <H6 650.0>, <K8 11.0>, <C8 0.0>, <A18 'Prison'>, <F16 '*'>, <E9 18.2>, <H11 0.0>, <C2 ''>, <A21 'Prison (%)'>, <D19 '*'>, <J12 ''>, <G15 1712.0>, <H13 ''>, <B1 ''>, <B18 '-'>, <D6 428.0>, <A11 'Prison (%)'>, <E16 '*'>, <H17 407.0>, <J5 324.0>, <F8 172.0>, <F10 30.0>, <I15 5256.0>, <M12 ''>, <G13 ''>, <E3 ''>, <M11 0.6>, <G14 'Drugs Only'>, <I8 0.0>, <E1 ''>, <M8 11.0>, <J11 3.4>, <F17 769.0>, <D5 1032.0>, <D2 ''>, <D15 294.0>, <J3 ''>, <L11 ''>, <B12 ''>, <J1 ''>, <G17 430.0>, <K15 2036.0>, <J7 172.0>, <D8 167.0>, <A14 ''>, <D1 ''>, <J20 33.1>, <A9 'Statutory (%)'>, <A12 ''>, <E10 81.8>, <I6 387.0>, <I3 ''>, <I17 1606.0>, <K20 35.6>, <G10 36.7>, <G1 ''>, <G4 'Total'>, <E14 'Total'>, <A16 'Statutory'>, <G3 ''>, <A20 'Non-statutory (%)'>, <D14 'Drugs & Alcohol'>, <C15 324.0>, <K6 35.0>, <E4 'Under 18s'>, <B8 5.0>, <C20 90.7>, <M17 2186.0>, <G8 172.0>, <L17 609.0>, <D4 'Drugs & Alcohol'>, <J4 'Drugs & Alcohol'>},\n",
       " 'Table 3': {<G9 8.2>, <F5 3567.0>, <C1 ''>, <A15 'Total'>, <G15 1712.0>, <K12 ''>, <G7 3613.0>, <A6 'Residential'>, <L16 225.0>, <C3 ''>, <H6 57.0>, <I16 '*'>, <J8 7.0>, <C13 ''>, <M15 5969.0>, <F18 '*'>, <A11 'Mixed (%)'>, <D9 19.8>, <K2 ''>, <D3 ''>, <I10 96.9>, <H4 'Alcohol Only'>, <A18 'Mixed'>, <M21 3.5>, <L12 ''>, <F8 124.0>, <K13 ''>, <I14 'Total'>, <D13 ''>, <E13 ''>, <I8 12.0>, <L6 ''>, <C20 99.1>, <F16 '*'>, <E20 96.1>, <M13 'Overall Total'>, <C2 ''>, <A7 'Non-residential '>, <L8 ''>, <G5 4095.0>, <G18 '*'>, <K18 45.0>, <M5 1874.0>, <A2 ''>, <B4 'Alcohol Only'>, <H1 ''>, <L2 ''>, <H8 44.0>, <M6 83.0>, <K9 4.4>, <G16 '*'>, <B18 '*'>, <A19 'Residential (%)'>, <B14 'Alcohol Only'>, <J2 ''>, <A9 'Residential (%)'>, <C11 2.2>, <K16 27.0>, <A14 ''>, <E10 95.5>, <E4 'Under 18s'>, <B5 1567.0>, <M9 4.4>, <A12 ''>, <L14 'Drugs & Alcohol'>, <H14 'Drugs & Alcohol'>, <H18 '*'>, <I3 ''>, <A21 'Mixed (%)'>, <B2 ''>, <B10 88.6>, <H16 '*'>, <G4 'Total'>, <F7 3109.0>, <E16 '-'>, <A5 'Total'>, <L15 1356.0>, <I13 ''>, <J20 89.1>, <K8 63.0>, <A4 ''>, <L10 91.6>, <J16 165.0>, <D17 270.0>, <G11 3.6>, <J3 ''>, <J10 91.4>, <I19 '*'>, <E7 504.0>, <B12 ''>, <M16 417.0>, <J1 ''>, <G14 'Drugs Only'>, <I21 '*'>, <L4 '18 and over'>, <C5 1496.0>, <F2 ''>, <K4 'Under 18s'>, <K17 1964.0>, <E17 685.0>, <C4 'Drugs Only'>, <C21 ''>, <H5 1010.0>, <F20 88.8>, <G2 ''>, <G10 88.2>, <G13 ''>, <A10 'Non-residential (%)'>, <A17 'Non-residential '>, <A3 'Residential Status'>, <I1 ''>, <K5 185.0>, <E15 713.0>, <A8 'Mixed'>, <D21 ''>, <C19 ''>, <M4 'Total'>, <F9 9.4>, <I7 523.0>, <F21 '*'>, <H13 ''>, <E6 0.0>, <L13 ''>, <F4 '18 and over'>, <B7 1388.0>, <J19 6.4>, <I4 'Drugs Only'>, <E12 ''>, <M3 ''>, <H11 4.4>, <D19 ''>, <B6 108.0>, <J6 21.0>, <D8 44.0>, <L9 ''>, <M1 ''>, <M11 3.4>, <F14 'Alcohol Only'>, <J21 4.5>, <H10 90.0>, <I20 88.6>, <H3 'Female  '>, <D6 204.0>, <E2 ''>, <E11 4.5>, <M17 5341.0>, <F12 ''>, <D20 91.8>, <L5 1689.0>, <D14 'Drugs & Alcohol'>, <C15 324.0>, <H7 909.0>, <K11 3.4>, <D7 784.0>, <G20 96.0>, <C10 96.3>, <D4 'Drugs & Alcohol'>, <M20 89.5>, <F6 334.0>, <F15 2482.0>, <I6 5.0>, <J17 2297.0>, <D12 ''>, <H15 1062.0>, <B13 'Under 18 '>, <C16 ''>, <M8 63.0>, <F19 '*'>, <D2 ''>, <L20 79.6>, <C14 'Drugs Only'>, <E8 24.0>, <E21 '*'>, <L11 ''>, <B20 98.9>, <K1 ''>, <M7 1728.0>, <G6 334.0>, <C12 ''>, <G21 '*'>, <B9 6.9>, <I11 2.2>, <B16 '-'>, <G19 '*'>, <D16 ''>, <D5 1032.0>, <D15 294.0>, <D11 4.3>, <A20 'Non-residential (%)'>, <L1 ''>, <M10 92.2>, <H21 '*'>, <I9 0.9>, <J9 6.5>, <H2 ''>, <L3 ''>, <C9 1.5>, <F10 87.2>, <H20 76.3>, <C6 22.0>, <H19 '*'>, <J5 324.0>, <A1 'Table 3 – Breakdown by Residential Status'>, <J13 'Treatment Type'>, <K7 181.0>, <J12 ''>, <K21 2.2>, <I15 5256.0>, <B1 ''>, <F17 2203.0>, <C7 1441.0>, <J14 'Alcohol Only'>, <M18 211.0>, <B8 71.0>, <L18 51.0>, <I2 ''>, <L21 3.8>, <I5 540.0>, <K3 ''>, <J18 115.0>, <J7 296.0>, <B11 4.5>, <G8 148.0>, <I18 '*'>, <I12 ''>, <K20 96.5>, <D10 76.0>, <F3 ''>, <K10 97.8>, <H17 810.0>, <L19 16.6>, <F1 ''>, <I17 4656.0>, <B21 '*'>, <C17 321.0>, <G12 ''>, <F11 3.5>, <A13 'Residential Status'>, <J4 'Drugs & Alcohol'>, <J15 2577.0>, <L17 1080.0>, <G1 ''>, <K6 83.0>, <L7 1547.0>, <C18 ''>, <B15 95.0>, <E14 'Total'>, <K15 2036.0>, <K19 1.3>, <G3 ''>, <E5 528.0>, <H9 5.6>, <K14 'Drugs Only'>, <H12 ''>, <B17 94.0>, <M19 7.0>, <M14 ''>, <G17 1643.0>, <B19 '-'>, <F13 '18 and over'>, <D18 ''>, <J11 2.2>, <E19 '-'>, <M2 ''>, <D1 ''>, <E9 0.0>, <M12 ''>, <B3 'Male'>, <A16 'Residential'>, <E3 ''>, <C8 33.0>, <E18 '*'>, <E1 ''>},\n",
       " 'Table 4': {<L7 285.0>, <C3 ''>, <I35 20.1>, <L8 257.0>, <E2 ''>, <L30 9.0>, <F15 13.0>, <H25 33.0>, <K32 24.3>, <B10 349.0>, <J14 5.9>, <C31 47.8>, <K14 11.4>, <D18 16.2>, <E18 0.0>, <L1 ''>, <A13 'Belfast (%)'>, <I23 5256.0>, <M7 306.0>, <H7 149.0>, <C32 4.9>, <J29 5.0>, <A8 'South Eastern'>, <F30 '*'>, <D9 189.0>, <F3 ''>, <K27 259.0>, <D22 'Drugs & Alcohol'>, <C17 15.0>, <G33 15.2>, <F14 18.5>, <G1 ''>, <I4 'Drugs Only'>, <B22 'Alcohol Only'>, <C29 ''>, <I34 19.4>, <F37 '*'>, <J24 464.0>, <C9 186.0>, <B14 18.8>, <M2 ''>, <B24 39.0>, <G37 '*'>, <H13 17.4>, <G17 18.9>, <M25 1023.0>, <K18 0.6>, <M11 11.0>, <M17 23.2>, <D4 'Drugs & Alcohol'>, <L11 ''>, <J33 13.6>, <G24 494.0>, <I7 138.0>, <B9 334.0>, <I11 0.0>, <M29 183.0>, <G30 '*'>, <J16 15.7>, <F25 434.0>, <J36 0.2>, <H35 23.4>, <C15 16.2>, <D32 17.7>, <F18 4.8>, <F8 462.0>, <G13 26.0>, <D6 292.0>, <A17 'Western (%)'>, <F7 661.0>, <G15 13.5>, <K34 12.7>, <G27 252.0>, <L2 ''>, <A32 'Northern (%)'>, <H36 '*'>, <K3 ''>, <I30 '*'>, <H10 267.0>, <F35 23.7>, <J6 93.0>, <L4 '18 and over'>, <B31 41.1>, <K4 'Under 18s'>, <I25 946.0>, <I1 ''>, <A35 'Western (%)'>, <A34 'Southern (%)'>, <L18 ''>, <M9 349.0>, <F17 18.5>, <G25 479.0>, <H32 3.1>, <E13 44.1>, <J21 'Treatment Type'>, <F36 '*'>, <C20 ''>, <M22 ''>, <A27 'Southern'>, <H3 'Female  '>, <C34 2.2>, <D26 38.0>, <C28 75.0>, <J20 ''>, <G10 773.0>, <K13 48.1>, <M1 ''>, <L21 ''>, <I6 166.0>, <C1 ''>, <G36 '*'>, <C22 'Drugs Only'>, <A31 'Belfast (%)'>, <E9 33.0>, <J35 23.9>, <A19 'Emergency admissions (HIS)  (%)'>, <B33 15.8>, <G20 ''>, <A6 'Belfast'>, <B16 21.3>, <L12 ''>, <G9 709.0>, <B35 29.5>, <L13 20.5>, <L27 240.0>, <H20 ''>, <H4 'Alcohol Only'>, <J15 15.1>, <B23 95.0>, <K10 37.0>, <G21 ''>, <M13 23.2>, <E20 ''>, <I8 86.0>, <G34 14.7>, <H37 '*'>, <D5 1032.0>, <E27 36.0>, <H1 ''>, <L6 346.0>, <C11 0.0>, <L16 20.5>, <J5 324.0>, <F20 ''>, <I33 13.7>, <B5 1567.0>, <D37 ''>, <C25 16.0>, <G19 2.6>, <F33 13.5>, <K8 30.0>, <M20 ''>, <K25 495.0>, <M24 1498.0>, <B19 6.3>, <J1 ''>, <C23 324.0>, <D8 113.0>, <E6 233.0>, <L28 297.0>, <C24 155.0>, <D23 294.0>, <M18 0.6>, <E12 0.0>, <H6 176.0>, <I17 13.1>, <B36 '-'>, <I22 'Total'>, <H11 0.0>, <B7 294.0>, <J28 616.0>, <B3 'Male'>, <D11 167.0>, <J37 5.4>, <C35 23.1>, <D1 ''>, <L14 16.9>, <D29 ''>, <I27 1022.0>, <F19 3.0>, <D12 5.0>, <E34 5.0>, <C33 21.3>, <F5 3567.0>, <D13 28.3>, <M6 435.0>, <J11 11.0>, <E10 114.0>, <J25 443.0>, <M31 25.1>, <M35 20.2>, <G11 172.0>, <A2 ''>, <B4 'Alcohol Only'>, <H21 ''>, <E23 713.0>, <A1 'Table 4 – Breakdown by Trust'>, <B30 '*'>, <F23 2482.0>, <E17 21.6>, <B15 12.6>, <I12 6.0>, <D35 16.3>, <F21 '18 and over'>, <I28 1057.0>, <H23 1062.0>, <H33 11.7>, <G5 4095.0>, <L24 385.0>, <A26 'South Eastern'>, <D14 6.4>, <I5 540.0>, <J9 51.0>, <K22 'Drugs Only'>, <M27 1058.0>, <J10 97.0>, <L17 23.6>, <J18 3.4>, <B8 198.0>, <J34 21.7>, <C14 23.9>, <E22 'Total'>, <F29 '*'>, <E31 45.2>, <C21 ''>, <F13 23.3>, <H5 1010.0>, <C37 ''>, <L31 28.4>, <F2 ''>, <D25 52.0>, <H17 26.4>, <L29 178.0>, <G2 ''>, <J30 140.0>, <F32 17.5>, <K12 51.0>, <A21 'Trust'>, <G35 12.9>, <M4 'Total'>, <H27 214.0>, <K21 ''>, <B11 5.0>, <A33 'South Eastern (%)'>, <K16 1.6>, <A18 'Prison (%)'>, <I26 719.0>, <K9 3.0>, <F11 172.0>, <E14 10.6>, <D7 66.0>, <H22 'Drugs & Alcohol'>, <J27 559.0>, <D30 ''>, <I31 22.4>, <C27 7.0>, <H9 225.0>, <C6 483.0>, <H24 257.0>, <F10 659.0>, <A9 'Southern'>, <C13 32.3>, <C26 69.0>, <H18 0.0>, <A30 'Emergency admissions (HIS)'>, <G18 4.2>, <I32 18.0>, <E26 122.0>, <K24 649.0>, <L37 0.7>, <I36 '*'>, <E33 17.1>, <I18 0.0>, <M10 435.0>, <M16 18.6>, <I15 15.9>, <H14 14.8>, <D28 48.0>, <G16 17.3>, <E36 '-'>, <I10 71.0>, <G4 'Total'>, <M26 841.0>, <H12 41.0>, <I24 1176.0>, <A4 ''>, <J3 ''>, <I13 30.7>, <J4 'Drugs & Alcohol'>, <B17 22.3>, <G12 107.0>, <L34 17.7>, <A14 'Northern (%)'>, <L20 ''>, <H30 '*'>, <A20 ''>, <D19 0.5>, <E30 '*'>, <K17 20.0>, <A3 'Trust'>, <C7 357.0>, <A25 'Northern'>, <E1 ''>, <A15 'South Eastern (%)'>, <E16 6.3>, <J22 'Alcohol Only'>, <D2 ''>, <K19 2.7>, <J13 28.7>, <F34 22.4>, <E32 10.8>, <I14 25.6>, <C12 3.0>, <K2 ''>, <E25 77.0>, <D24 128.0>, <G32 28.0>, <I21 ''>, <H8 152.0>, <F9 676.0>, <C19 0.2>, <A29 'Prison'>, <M5 1874.0>, <H19 4.1>, <K31 31.9>, <E35 21.2>, <M37 2.6>, <B29 '-'>, <I19 1.1>, <M28 1208.0>, <B27 3.0>, <F24 425.0>, <H15 15.0>, <E28 151.0>, <C4 'Drugs Only'>, <G6 1063.0>, <G28 220.0>, <B37 '*'>, <M34 17.7>, <J8 49.0>, <M32 17.1>, <L32 6.3>, <M33 14.1>, <M15 15.3>, <M12 51.0>, <D21 ''>, <H28 249.0>, <F16 19.0>, <E29 '-'>, <F28 588.0>, <A24 'Belfast'>, <M36 3.1>, <C36 ''>, <A12 'Emergency admissions (HIS)'>, <K15 16.2>, <A10 'Western'>, <F31 17.1>, <D20 ''>, <I37 '*'>, <B12 99.0>, <L23 1356.0>, <L5 1689.0>, <F6 830.0>, <A23 'Total'>, <K20 ''>, <F12 107.0>, <D3 ''>, <J7 19.0>, <K36 0.0>, <B20 ''>, <J23 2577.0>, <G29 '*'>, <K1 ''>, <D36 ''>, <G31 28.9>, <A7 'Northern'>, <J2 ''>, <I20 ''>, <G7 717.0>, <C2 ''>, <C8 243.0>, <L36 13.1>, <J17 29.9>, <B1 ''>, <D15 10.9>, <F22 'Alcohol Only'>, <L3 ''>, <B32 9.5>, <A5 'Total'>, <I29 '*'>, <M8 287.0>, <E8 92.0>, <I3 ''>, <K11 11.0>, <L9 346.0>, <I16 13.5>, <E21 ''>, <K29 0.0>, <B25 9.0>, <B26 15.0>, <C10 224.0>, <C18 0.0>, <M23 5969.0>, <F1 ''>, <H31 24.2>, <K33 16.2>, <L19 ''>, <J12 4.0>, <A28 'Western'>, <F4 '18 and over'>, <L35 21.9>, <M3 ''>, <G3 ''>, <K28 295.0>, <H26 124.0>, <A22 ''>, <E24 322.0>, <J26 350.0>, <M21 'Overall Total'>, <K37 0.4>, <D34 8.8>, <B34 3.2>, <J19 1.2>, <H16 22.3>, <E3 ''>, <I9 73.0>, <F26 335.0>, <K23 2036.0>, <G8 554.0>, <F27 556.0>, <L26 162.0>, <A37 'Emergency admissions (HIS) (%)'>, <L15 15.2>, <D27 26.0>, <D16 18.3>, <E15 17.4>, <A16 'Southern (%)'>, <L22 'Drugs & Alcohol'>, <J32 17.2>, <L10 398.0>, <B6 288.0>, <L33 11.9>, <K7 21.0>, <E19 0.0>, <E4 'Under 18s'>, <G26 260.0>, <J31 18.0>, <E7 56.0>, <B2 ''>, <G23 1712.0>, <H2 ''>, <D33 12.9>, <I2 ''>, <B21 'Under 18 '>, <D10 200.0>, <C5 1496.0>, <E37 '*'>, <K35 14.5>, <G14 17.5>, <H34 20.2>, <L25 85.0>, <K26 329.0>, <D17 19.4>, <B18 0.3>, <K30 9.0>, <M19 2.7>, <A11 'Prison'>, <K5 185.0>, <A36 'Prison (%)'>, <E11 0.0>, <M14 16.3>, <G22 'Drugs Only'>, <E5 528.0>, <C30 ''>, <H29 '*'>, <B13 18.4>, <K6 89.0>, <C16 12.4>, <D31 43.5>, <M30 158.0>, <B28 28.0>},\n",
       " 'Table 5': {<D25 1272.0>, <C12 84.8>, <E8 72.6>, <C18 31.2>, <C1 ''>, <F30 184.0>, <B23 5467.0>, <K28 17.7>, <B18 1741.0>, <J13 ''>, <E12 89.0>, <H9 3176.0>, <A6 'Total'>, <I5 '%'>, <G21 ''>, <A18 'Statutory'>, <E9 27.4>, <A7 'Gender'>, <D3 '1st March '>, <D20 205.0>, <I14 45.5>, <F12 5518.0>, <H18 3646.0>, <G14 52.6>, <I3 ''>, <G8 68.7>, <D27 1252.0>, <K11 11.9>, <K27 14.1>, <E21 ''>, <F4 2012.0>, <G31 2.9>, <C11 15.2>, <H11 862.0>, <F7 ''>, <G13 ''>, <J16 1356.0>, <C26 ''>, <H26 888.0>, <G20 3.1>, <J20 183.0>, <C29 ''>, <G19 64.7>, <B4 2007.0>, <E16 20.9>, <A16 'Drugs & Alcohol'>, <H17 ''>, <J24 ''>, <G9 31.3>, <I21 ''>, <K31 2.6>, <C8 66.0>, <H19 4594.0>, <I24 ''>, <G11 6.7>, <J7 ''>, <F17 ''>, <I19 53.7>, <D5 'Headcount'>, <A2 ''>, <A19 'Non-statutory'>, <K4 ''>, <A13 'Treatment type'>, <D22 133.0>, <D26 1349.0>, <A5 ''>, <D18 1606.0>, <H2 ''>, <J9 1874.0>, <D21 ''>, <G6 100.0>, <I16 23.9>, <G2 ''>, <G16 21.8>, <B5 'Headcount'>, <B20 257.0>, <D6 5846.0>, <J26 1023.0>, <H6 8553.0>, <J6 5969.0>, <J15 2036.0>, <D15 1294.0>, <G23 97.6>, <F2 ''>, <C20 4.6>, <G15 25.6>, <E7 ''>, <F15 1514.0>, <B21 ''>, <E2 ''>, <F10 ''>, <I9 37.1>, <F23 5775.0>, <J3 '1st March '>, <K22 7.0>, <B29 ''>, <E30 3.5>, <G18 32.2>, <F5 'Headcount'>, <E10 ''>, <E31 3.1>, <K25 25.1>, <B15 1118.0>, <C3 ''>, <J8 4095.0>, <B16 989.0>, <E27 21.4>, <C23 97.9>, <D9 1602.0>, <A17 'Service type'>, <B26 ''>, <F20 184.0>, <D10 ''>, <J10 ''>, <C15 20.0>, <A21 'Residential Status'>, <K26 17.1>, <F31 172.0>, <K14 43.2>, <I8 62.9>, <I17 ''>, <C10 ''>, <I10 ''>, <J27 841.0>, <G22 2.4>, <J28 1058.0>, <F16 1291.0>, <H23 8101.0>, <F21 ''>, <K18 60.3>, <D24 ''>, <E23 97.7>, <F8 4066.0>, <H27 1582.0>, <A20 'Prison'>, <H13 ''>, <F28 1240.0>, <D29 797.0>, <B14 3476.0>, <E3 ''>, <I12 89.9>, <E15 22.1>, <C28 ''>, <E14 56.9>, <B12 4736.0>, <J21 ''>, <E25 21.8>, <F13 ''>, <G29 17.2>, <B17 ''>, <B28 ''>, <K29 20.2>, <G5 '%'>, <H25 2425.0>, <J19 2186.0>, <C7 ''>, <G12 93.3>, <K20 3.1>, <K3 ''>, <K23 93.0>, <J5 'Headcount'>, <A31 'Emergency admissions (HIS)'>, <J31 158.0>, <I20 3.7>, <H16 2045.0>, <F24 ''>, <F6 5916.0>, <G27 11.4>, <J29 1208.0>, <A29 'Western'>, <G4 ''>, <J18 3600.0>, <A28 'Southern'>, <F3 '1st March '>, <C30 4.6>, <C21 ''>, <B30 257.0>, <E19 69.0>, <D4 2010.0>, <J23 5552.0>, <B9 1897.0>, <B22 116.0>, <E13 ''>, <C6 100.0>, <E20 3.5>, <B27 ''>, <E26 23.1>, <D12 5202.0>, <C16 17.7>, <C13 ''>, <K8 68.6>, <J12 5256.0>, <A26 'Northern'>, <B3 '1st March '>, <H22 452.0>, <I6 100.0>, <K7 ''>, <J25 1498.0>, <I27 18.5>, <A30 'Prison'>, <B25 5185.0>, <A4 ''>, <C9 34.0>, <D16 1224.0>, <F27 675.0>, <J1 ''>, <H10 ''>, <D31 182.0>, <A10 'Age'>, <G1 ''>, <H5 'Headcount'>, <G10 ''>, <C5 '%'>, <I23 94.7>, <B8 3686.0>, <E6 100.0>, <I29 15.0>, <K9 31.4>, <C17 ''>, <E1 ''>, <K17 ''>, <D2 ''>, <D7 ''>, <H21 ''>, <D23 5713.0>, <B7 ''>, <B2 ''>, <A23 'Non-residential / Mixed'>, <K30 3.1>, <I31 1.5>, <A27 'South Eastern'>, <G28 21.0>, <B10 ''>, <F11 398.0>, <I1 ''>, <H30 313.0>, <K19 36.6>, <C14 62.3>, <I4 ''>, <H4 2014.0>, <I18 42.6>, <G7 ''>, <D17 ''>, <A9 'Female  '>, <B19 3585.0>, <H8 5377.0>, <F9 1850.0>, <G30 3.1>, <K5 '%'>, <E18 27.5>, <B11 847.0>, <K21 ''>, <D13 ''>, <H3 '1st September'>, <D14 3328.0>, <I28 22.6>, <A24 'Trust'>, <A1 'Table 5 – Comparison Table'>, <K13 ''>, <E22 2.3>, <C2 ''>, <A8 'Male'>, <K15 34.1>, <I22 5.3>, <B1 ''>, <F18 1905.0>, <F14 3111.0>, <A3 ''>, <K1 ''>, <H28 1937.0>, <E29 13.6>, <J2 ''>, <I13 ''>, <H14 3891.0>, <C25 92.9>, <H1 ''>, <K16 22.7>, <E24 ''>, <A11 'Under 18 '>, <B31 141.0>, <G3 ''>, <C19 64.2>, <A15 'Drugs Only'>, <I30 3.7>, <H15 2617.0>, <C24 ''>, <J11 713.0>, <F19 3827.0>, <I25 28.4>, <H29 1279.0>, <D30 205.0>, <A25 'Belfast'>, <I26 10.4>, <F1 ''>, <D19 4035.0>, <F26 1094.0>, <D28 789.0>, <B24 ''>, <K6 100.0>, <J30 183.0>, <H31 129.0>, <G25 26.0>, <F22 141.0>, <D1 ''>, <J17 ''>, <J22 417.0>, <C27 ''>, <C4 ''>, <F29 1015.0>, <C22 2.1>, <C31 2.5>, <K10 ''>, <G17 ''>, <H12 7691.0>, <J4 2017.0>, <A14 'Alcohol Only'>, <H24 ''>, <K2 ''>, <K12 88.1>, <G26 18.5>, <I7 ''>, <G24 ''>, <B13 ''>, <E11 11.0>, <H7 ''>, <E17 ''>, <F25 1536.0>, <I11 10.1>, <E28 13.5>, <A22 'Residential'>, <H20 313.0>, <D11 644.0>, <I2 ''>, <B6 5583.0>, <I15 30.6>, <J14 2577.0>, <A12 '18 and over'>, <D8 4244.0>, <E4 ''>, <K24 ''>, <E5 '%'>},\n",
       " 'Metadata': {<B6 '1 March 2017 (with 2007, 2010, 2012 and 2014 comparisons)'>, <B18 ''>, <A26 'Use Constraints'>, <A23 ''>, <A12 ''>, <B10 'Health and Social Care'>, <B21 'Resource Provider'>, <A5 'Abstract'>, <B7 'Snapshot'>, <A20 'Email Address'>, <B26 'No conditions apply'>, <A17 ''>, <A22 'Telephone Number'>, <A3 'Identification'>, <A24 'Constraints'>, <B20 'PHIRB@health-ni.gov.uk'>, <A9 'Classification'>, <B25 'No restriction on public access'>, <B5 'This bulletin summarises the number of people in treatment for problem drug and/or alcohol misuse and relates to a snapshot of those in treatment on 1 March 2017. '>, <A18 'Organisation'>, <B8 ''>, <A15 'Disclosure Control Methods'>, <A21 'Responsible Party Role'>, <A19 'Organisation Name'>, <B3 ''>, <A1 'Metadata'>, <A6 'Year of Data'>, <B14 'No'>, <B1 ''>, <A8 ''>, <B2 ''>, <B4 'Census of Drug and Alcohol Treatment Services in Northern Ireland: 1 March 2017 (Tables)'>, <A13 'Quality  and Validity'>, <A4 'Dataset Title'>, <B22 '028 9052 2523'>, <B23 ''>, <B13 ''>, <A11 'Keyword'>, <B24 ''>, <A7 'Reporting period'>, <B19 'Department of Health, Public Health Information & Research Branch'>, <A2 ''>, <A14 'National Statistics Data'>, <B11 'Drug Alcohol Misuse Treatment'>, <B12 ''>, <A16 'Quality Issues'>, <A10 'National Statistics Theme'>, <B15 'All data with cell sizes less than 3 has been masked to avoid the disclosure of any personal information.'>, <B16 'These figures only relate to those in treatment for drug and/or alcohol misuse from specialist services across Northern Ireland on a representative day. '>, <B9 ''>, <A25 'Limitations on Public Access'>, <B17 ''>}}"
      ]
     },
     "execution_count": 192,
     "metadata": {},
     "output_type": "execute_result"
    }
   ],
   "source": [
    "tabs = {tab.name: tab for tab in scraper.distribution(\n",
    "    title='Data from Census of Drug and Alcohol Treatment Services').as_databaker()}\n",
    "tabs.keys()\n",
    "tabs"
   ]
  },
  {
   "cell_type": "code",
   "execution_count": 193,
   "metadata": {},
   "outputs": [
    {
     "name": "stdout",
     "output_type": "stream",
     "text": [
      "\n",
      "\n",
      "\n",
      "\n",
      "\n",
      "\n",
      "\n",
      "\n"
     ]
    }
   ],
   "source": [
    "tables = []\n",
    "for tab_name, script in [\n",
    "    ('Table 1', 'Treatment Services by Age and Gender.ipynb'),\n",
    "    ('Table 2', 'Treatment Services by Service Type(Age).ipynb'),\n",
    "    ('Table 2', 'Treatment Services by Service Type(sex).ipynb'),\n",
    "    ('Table 3', 'Treatment Services by Residential status(Age).ipynb'),\n",
    "    ('Table 3', 'Treatment Services by Residential Status(sex).ipynb'),\n",
    "    ('Table 4', 'Treatment Services by Trust(Age).ipynb'),\n",
    "    ('Table 4', 'Treatment Services by Trust(sex).ipynb'),\n",
    "    ('Table 5', 'Treatment Services by Comparison table.ipynb')\n",
    "]:\n",
    "    tab = tabs[tab_name]\n",
    "    %run \"$script\"\n",
    "    tables.append(new_table)"
   ]
  },
  {
   "cell_type": "code",
   "execution_count": 194,
   "metadata": {},
   "outputs": [],
   "source": [
    "tidy = pd.concat(tables)\n",
    "#tidy.to_csv('testCompare.csv', index = False)"
   ]
  },
  {
   "cell_type": "code",
   "execution_count": 195,
   "metadata": {},
   "outputs": [],
   "source": [
    "tidy['Treatment Type'].fillna('Total', inplace = True)"
   ]
  },
  {
   "cell_type": "code",
   "execution_count": 196,
   "metadata": {},
   "outputs": [
    {
     "data": {
      "text/plain": [
       "Period                          724\n",
       "Sex                             724\n",
       "Age                             724\n",
       "Service Type                    724\n",
       "Residential Status              724\n",
       "Treatment Type                  724\n",
       "Health and Social Care Trust    724\n",
       "Measure Type                    724\n",
       "Unit                            724\n",
       "Value                           724\n",
       "dtype: int64"
      ]
     },
     "execution_count": 196,
     "metadata": {},
     "output_type": "execute_result"
    }
   ],
   "source": [
    "tidy.count()"
   ]
  },
  {
   "cell_type": "code",
   "execution_count": 197,
   "metadata": {},
   "outputs": [
    {
     "data": {
      "text/plain": [
       "array(['Alcohol Only', 'Drugs Only', 'Drugs & Alcohol', 'Total',\n",
       "       'Under 18s', '18 and over'], dtype=object)"
      ]
     },
     "execution_count": 197,
     "metadata": {},
     "output_type": "execute_result"
    }
   ],
   "source": [
    "tidy['Treatment Type'].unique()"
   ]
  },
  {
   "cell_type": "code",
   "execution_count": 198,
   "metadata": {},
   "outputs": [
    {
     "data": {
      "text/html": [
       "<div>\n",
       "<style scoped>\n",
       "    .dataframe tbody tr th:only-of-type {\n",
       "        vertical-align: middle;\n",
       "    }\n",
       "\n",
       "    .dataframe tbody tr th {\n",
       "        vertical-align: top;\n",
       "    }\n",
       "\n",
       "    .dataframe thead th {\n",
       "        text-align: right;\n",
       "    }\n",
       "</style>\n",
       "<table border=\"1\" class=\"dataframe\">\n",
       "  <thead>\n",
       "    <tr style=\"text-align: right;\">\n",
       "      <th></th>\n",
       "      <th>Period</th>\n",
       "      <th>Sex</th>\n",
       "      <th>Age</th>\n",
       "      <th>Service Type</th>\n",
       "      <th>Residential Status</th>\n",
       "      <th>Treatment Type</th>\n",
       "      <th>Health and Social Care Trust</th>\n",
       "      <th>Measure Type</th>\n",
       "      <th>Unit</th>\n",
       "      <th>Value</th>\n",
       "    </tr>\n",
       "  </thead>\n",
       "  <tbody>\n",
       "    <tr>\n",
       "      <th>0</th>\n",
       "      <td>1 March 2017</td>\n",
       "      <td>Persons</td>\n",
       "      <td>Under 18</td>\n",
       "      <td>all</td>\n",
       "      <td>all</td>\n",
       "      <td>Alcohol Only</td>\n",
       "      <td>all</td>\n",
       "      <td>Count</td>\n",
       "      <td>People</td>\n",
       "      <td>95</td>\n",
       "    </tr>\n",
       "    <tr>\n",
       "      <th>1</th>\n",
       "      <td>1 March 2017</td>\n",
       "      <td>Persons</td>\n",
       "      <td>Under 18</td>\n",
       "      <td>all</td>\n",
       "      <td>all</td>\n",
       "      <td>Drugs Only</td>\n",
       "      <td>all</td>\n",
       "      <td>Count</td>\n",
       "      <td>People</td>\n",
       "      <td>324</td>\n",
       "    </tr>\n",
       "    <tr>\n",
       "      <th>2</th>\n",
       "      <td>1 March 2017</td>\n",
       "      <td>Persons</td>\n",
       "      <td>Under 18</td>\n",
       "      <td>all</td>\n",
       "      <td>all</td>\n",
       "      <td>Drugs &amp; Alcohol</td>\n",
       "      <td>all</td>\n",
       "      <td>Count</td>\n",
       "      <td>People</td>\n",
       "      <td>294</td>\n",
       "    </tr>\n",
       "    <tr>\n",
       "      <th>3</th>\n",
       "      <td>1 March 2017</td>\n",
       "      <td>Persons</td>\n",
       "      <td>Under 18</td>\n",
       "      <td>all</td>\n",
       "      <td>all</td>\n",
       "      <td>Total</td>\n",
       "      <td>all</td>\n",
       "      <td>Count</td>\n",
       "      <td>People</td>\n",
       "      <td>713</td>\n",
       "    </tr>\n",
       "    <tr>\n",
       "      <th>4</th>\n",
       "      <td>1 March 2017</td>\n",
       "      <td>Persons</td>\n",
       "      <td>18 and over</td>\n",
       "      <td>all</td>\n",
       "      <td>all</td>\n",
       "      <td>Alcohol Only</td>\n",
       "      <td>all</td>\n",
       "      <td>Count</td>\n",
       "      <td>People</td>\n",
       "      <td>2482</td>\n",
       "    </tr>\n",
       "  </tbody>\n",
       "</table>\n",
       "</div>"
      ],
      "text/plain": [
       "         Period      Sex          Age Service Type Residential Status  \\\n",
       "0  1 March 2017  Persons    Under 18           all                all   \n",
       "1  1 March 2017  Persons    Under 18           all                all   \n",
       "2  1 March 2017  Persons    Under 18           all                all   \n",
       "3  1 March 2017  Persons    Under 18           all                all   \n",
       "4  1 March 2017  Persons  18 and over          all                all   \n",
       "\n",
       "    Treatment Type Health and Social Care Trust Measure Type    Unit Value  \n",
       "0     Alcohol Only                          all        Count  People    95  \n",
       "1       Drugs Only                          all        Count  People   324  \n",
       "2  Drugs & Alcohol                          all        Count  People   294  \n",
       "3            Total                          all        Count  People   713  \n",
       "4     Alcohol Only                          all        Count  People  2482  "
      ]
     },
     "execution_count": 198,
     "metadata": {},
     "output_type": "execute_result"
    }
   ],
   "source": [
    "tidy.head()"
   ]
  },
  {
   "cell_type": "code",
   "execution_count": 199,
   "metadata": {},
   "outputs": [],
   "source": [
    "#tidy = tidy[tidy['Treatment Type'] == 'Alcohol Only']"
   ]
  },
  {
   "cell_type": "code",
   "execution_count": 200,
   "metadata": {},
   "outputs": [
    {
     "data": {
      "text/html": [
       "<div>\n",
       "<style scoped>\n",
       "    .dataframe tbody tr th:only-of-type {\n",
       "        vertical-align: middle;\n",
       "    }\n",
       "\n",
       "    .dataframe tbody tr th {\n",
       "        vertical-align: top;\n",
       "    }\n",
       "\n",
       "    .dataframe thead th {\n",
       "        text-align: right;\n",
       "    }\n",
       "</style>\n",
       "<table border=\"1\" class=\"dataframe\">\n",
       "  <thead>\n",
       "    <tr style=\"text-align: right;\">\n",
       "      <th></th>\n",
       "      <th>Period</th>\n",
       "      <th>Sex</th>\n",
       "      <th>Age</th>\n",
       "      <th>Service Type</th>\n",
       "      <th>Residential Status</th>\n",
       "      <th>Treatment Type</th>\n",
       "      <th>Health and Social Care Trust</th>\n",
       "      <th>Measure Type</th>\n",
       "      <th>Unit</th>\n",
       "      <th>Value</th>\n",
       "    </tr>\n",
       "  </thead>\n",
       "  <tbody>\n",
       "    <tr>\n",
       "      <th>0</th>\n",
       "      <td>1 March 2017</td>\n",
       "      <td>Persons</td>\n",
       "      <td>Under 18</td>\n",
       "      <td>all</td>\n",
       "      <td>all</td>\n",
       "      <td>Alcohol Only</td>\n",
       "      <td>all</td>\n",
       "      <td>Count</td>\n",
       "      <td>People</td>\n",
       "      <td>95</td>\n",
       "    </tr>\n",
       "    <tr>\n",
       "      <th>1</th>\n",
       "      <td>1 March 2017</td>\n",
       "      <td>Persons</td>\n",
       "      <td>Under 18</td>\n",
       "      <td>all</td>\n",
       "      <td>all</td>\n",
       "      <td>Drugs Only</td>\n",
       "      <td>all</td>\n",
       "      <td>Count</td>\n",
       "      <td>People</td>\n",
       "      <td>324</td>\n",
       "    </tr>\n",
       "    <tr>\n",
       "      <th>2</th>\n",
       "      <td>1 March 2017</td>\n",
       "      <td>Persons</td>\n",
       "      <td>Under 18</td>\n",
       "      <td>all</td>\n",
       "      <td>all</td>\n",
       "      <td>Drugs &amp; Alcohol</td>\n",
       "      <td>all</td>\n",
       "      <td>Count</td>\n",
       "      <td>People</td>\n",
       "      <td>294</td>\n",
       "    </tr>\n",
       "    <tr>\n",
       "      <th>3</th>\n",
       "      <td>1 March 2017</td>\n",
       "      <td>Persons</td>\n",
       "      <td>Under 18</td>\n",
       "      <td>all</td>\n",
       "      <td>all</td>\n",
       "      <td>Total</td>\n",
       "      <td>all</td>\n",
       "      <td>Count</td>\n",
       "      <td>People</td>\n",
       "      <td>713</td>\n",
       "    </tr>\n",
       "    <tr>\n",
       "      <th>4</th>\n",
       "      <td>1 March 2017</td>\n",
       "      <td>Persons</td>\n",
       "      <td>18 and over</td>\n",
       "      <td>all</td>\n",
       "      <td>all</td>\n",
       "      <td>Alcohol Only</td>\n",
       "      <td>all</td>\n",
       "      <td>Count</td>\n",
       "      <td>People</td>\n",
       "      <td>2482</td>\n",
       "    </tr>\n",
       "  </tbody>\n",
       "</table>\n",
       "</div>"
      ],
      "text/plain": [
       "         Period      Sex          Age Service Type Residential Status  \\\n",
       "0  1 March 2017  Persons    Under 18           all                all   \n",
       "1  1 March 2017  Persons    Under 18           all                all   \n",
       "2  1 March 2017  Persons    Under 18           all                all   \n",
       "3  1 March 2017  Persons    Under 18           all                all   \n",
       "4  1 March 2017  Persons  18 and over          all                all   \n",
       "\n",
       "    Treatment Type Health and Social Care Trust Measure Type    Unit Value  \n",
       "0     Alcohol Only                          all        Count  People    95  \n",
       "1       Drugs Only                          all        Count  People   324  \n",
       "2  Drugs & Alcohol                          all        Count  People   294  \n",
       "3            Total                          all        Count  People   713  \n",
       "4     Alcohol Only                          all        Count  People  2482  "
      ]
     },
     "execution_count": 200,
     "metadata": {},
     "output_type": "execute_result"
    }
   ],
   "source": [
    "tidy.head()"
   ]
  },
  {
   "cell_type": "code",
   "execution_count": 201,
   "metadata": {},
   "outputs": [
    {
     "data": {
      "text/plain": [
       "array(['Persons', 'Male', 'Female', 'Male (%)', 'Female (%)',\n",
       "       '% of Total', '% of all Males ', '% of all Females', 'Female  ',\n",
       "       'All'], dtype=object)"
      ]
     },
     "execution_count": 201,
     "metadata": {},
     "output_type": "execute_result"
    }
   ],
   "source": [
    "tidy['Sex'].unique()\n",
    "#tidy.to_csv('testCompare.csv', index = False)"
   ]
  },
  {
   "cell_type": "code",
   "execution_count": 202,
   "metadata": {},
   "outputs": [],
   "source": [
    "tidy.drop(tidy[tidy.Sex.isin(['% of Total', '% of all Males ','% of all Females'])].index, inplace = True)"
   ]
  },
  {
   "cell_type": "code",
   "execution_count": 203,
   "metadata": {},
   "outputs": [
    {
     "data": {
      "text/plain": [
       "array(['Persons', 'Male', 'Female', 'Male (%)', 'Female (%)', 'Female  ',\n",
       "       'All'], dtype=object)"
      ]
     },
     "execution_count": 203,
     "metadata": {},
     "output_type": "execute_result"
    }
   ],
   "source": [
    "tidy['Sex'].unique()"
   ]
  },
  {
   "cell_type": "code",
   "execution_count": 204,
   "metadata": {},
   "outputs": [
    {
     "data": {
      "text/plain": [
       "array(['1 March 2017', '1st March 2007', '1st March 2010',\n",
       "       '1st March 2012', '1st September2014', '1st March 2017'],\n",
       "      dtype=object)"
      ]
     },
     "execution_count": 204,
     "metadata": {},
     "output_type": "execute_result"
    }
   ],
   "source": [
    "tidy['Period'].unique()"
   ]
  },
  {
   "cell_type": "code",
   "execution_count": 205,
   "metadata": {},
   "outputs": [],
   "source": [
    "from datetime import datetime"
   ]
  },
  {
   "cell_type": "code",
   "execution_count": 206,
   "metadata": {},
   "outputs": [],
   "source": [
    "tidy.Period = pd.to_datetime(tidy.Period).dt.strftime('%Y-%m-%d')"
   ]
  },
  {
   "cell_type": "code",
   "execution_count": 207,
   "metadata": {},
   "outputs": [],
   "source": [
    "tidy['Period'] = str('day/') + tidy['Period']"
   ]
  },
  {
   "cell_type": "code",
   "execution_count": 208,
   "metadata": {},
   "outputs": [
    {
     "data": {
      "text/plain": [
       "array(['Under 18 ', '18 and over', 'All Ages', 'All', 'Under 18'],\n",
       "      dtype=object)"
      ]
     },
     "execution_count": 208,
     "metadata": {},
     "output_type": "execute_result"
    }
   ],
   "source": [
    "tidy['Age'].unique()\n",
    "#tidy.to_csv('testCompare.csv', index = False)"
   ]
  },
  {
   "cell_type": "code",
   "execution_count": 209,
   "metadata": {},
   "outputs": [],
   "source": [
    "tidy['Age'] = tidy['Age'].map(\n",
    "    lambda x: {\n",
    "        'Under 18 ' : 'under-18', \n",
    "        '18 and over' : '18-plus',\n",
    "        'All years': 'all' ,\n",
    "        'All': 'all'\n",
    "        }.get(x, x))"
   ]
  },
  {
   "cell_type": "code",
   "execution_count": 210,
   "metadata": {},
   "outputs": [],
   "source": [
    "#tidy['Treatment Type'] = 'alcohol'\n",
    "#tidy.to_csv('testCompare.csv', index = False)"
   ]
  },
  {
   "cell_type": "code",
   "execution_count": 211,
   "metadata": {},
   "outputs": [],
   "source": [
    "def user_perc(x,y):\n",
    "    \n",
    "    if ( (str(x) == 'Statutory (%)')) | ((str(x) == 'Non-statutory (%)')) | ((str(x) == 'Prison (%)')): \n",
    "        \n",
    "        return 'Percentage'\n",
    "    else:\n",
    "        return y\n",
    "    \n",
    "tidy['Measure Type'] = tidy.apply(lambda row: user_perc(row['Service Type'], row['Measure Type']), axis = 1)\n",
    "\n"
   ]
  },
  {
   "cell_type": "code",
   "execution_count": 212,
   "metadata": {},
   "outputs": [],
   "source": [
    "def user_perc(x,y):\n",
    "    \n",
    "    if ( (str(x) == 'Residential (%)')) | ((str(x) == 'Non-residential (%)')) | ((str(x) == 'Mixed (%)')): \n",
    "        \n",
    "        return 'Percentage'\n",
    "    else:\n",
    "        return y\n",
    "    \n",
    "tidy['Measure Type'] = tidy.apply(lambda row: user_perc(row['Residential Status'], row['Measure Type']), axis = 1)\n",
    "\n"
   ]
  },
  {
   "cell_type": "code",
   "execution_count": 213,
   "metadata": {},
   "outputs": [
    {
     "data": {
      "text/plain": [
       "array(['all', 'All', 'Belfast', 'Northern', 'South Eastern', 'Southern',\n",
       "       'Western', 'Northern (%)', 'South Eastern (%)', 'Southern (%)',\n",
       "       'Western (%)', 'Emergency admissions (HIS) (%)',\n",
       "       'Emergency admissions (HIS)  (%)',\n",
       "       'Belfast + Northern + South Eastern + Southern + Western',\n",
       "       'Prison', 'Emergency admissions (HIS)'], dtype=object)"
      ]
     },
     "execution_count": 213,
     "metadata": {},
     "output_type": "execute_result"
    }
   ],
   "source": [
    "tidy['Health and Social Care Trust'].unique()"
   ]
  },
  {
   "cell_type": "code",
   "execution_count": 214,
   "metadata": {},
   "outputs": [],
   "source": [
    "def user_perc(x,y):\n",
    "    \n",
    "    if ( (str(x) == 'Belfast (%)')) | ((str(x) == 'Northern (%)')) | ((str(x) == 'South Eastern (%)')) | ((str(x) == 'Southern (%)')) | ((str(x) == 'Western (%)')) | ((str(x) == 'Emergency admissions (HIS) (%)')) : \n",
    "        \n",
    "            return 'Percentage'\n",
    "    else:\n",
    "            return y\n",
    "    \n",
    "tidy['Measure Type'] = tidy.apply(lambda row: user_perc(row['Health and Social Care Trust'], row['Measure Type']), axis = 1)"
   ]
  },
  {
   "cell_type": "code",
   "execution_count": 215,
   "metadata": {},
   "outputs": [],
   "source": [
    "def user_perc(x,y):\n",
    "    \n",
    "    if  ((str(x) == 'Emergency admissions (HIS)  (%)')) : \n",
    "        \n",
    "            return 'Percentage'\n",
    "    else:\n",
    "            return y\n",
    "    \n",
    "tidy['Measure Type'] = tidy.apply(lambda row: user_perc(row['Health and Social Care Trust'], row['Measure Type']), axis = 1)"
   ]
  },
  {
   "cell_type": "code",
   "execution_count": 216,
   "metadata": {},
   "outputs": [],
   "source": [
    "tidy['Health and Social Care Trust'] = tidy['Health and Social Care Trust'].str.rstrip(' (%)')"
   ]
  },
  {
   "cell_type": "code",
   "execution_count": 217,
   "metadata": {},
   "outputs": [],
   "source": [
    "tidy['Health and Social Care Trust'] = tidy['Health and Social Care Trust'].str.lower()"
   ]
  },
  {
   "cell_type": "code",
   "execution_count": 218,
   "metadata": {},
   "outputs": [
    {
     "data": {
      "text/plain": [
       "array(['all', 'belfast', 'northern', 'south eastern', 'southern',\n",
       "       'western', 'emergency admissions (his',\n",
       "       'belfast + northern + south eastern + southern + western',\n",
       "       'prison'], dtype=object)"
      ]
     },
     "execution_count": 218,
     "metadata": {},
     "output_type": "execute_result"
    }
   ],
   "source": [
    "tidy['Health and Social Care Trust'].unique()"
   ]
  },
  {
   "cell_type": "code",
   "execution_count": 219,
   "metadata": {},
   "outputs": [],
   "source": [
    "tidy['Health and Social Care Trust'] = tidy['Health and Social Care Trust'].map(\n",
    "    lambda x: {\n",
    "        'south eastern' : 'south-eastern', \n",
    "        'emergency admissions (his)' : 'emergency-admissions',\n",
    "        'emergency admissions (his' : 'emergency-admissions'\n",
    "        }.get(x, x))"
   ]
  },
  {
   "cell_type": "code",
   "execution_count": 220,
   "metadata": {},
   "outputs": [],
   "source": [
    "tidy['Measure Type'] = tidy['Measure Type'].map(\n",
    "    lambda x: {\n",
    "        'Headcount' : 'Count', \n",
    "        'Percentage of Headcount' : 'Percentage',\n",
    "        }.get(x, x))"
   ]
  },
  {
   "cell_type": "code",
   "execution_count": 221,
   "metadata": {},
   "outputs": [
    {
     "data": {
      "text/plain": [
       "array(['Persons', 'Male', 'Female', 'Male (%)', 'Female (%)', 'Female  ',\n",
       "       'All'], dtype=object)"
      ]
     },
     "execution_count": 221,
     "metadata": {},
     "output_type": "execute_result"
    }
   ],
   "source": [
    "tidy['Sex'].unique()"
   ]
  },
  {
   "cell_type": "code",
   "execution_count": 222,
   "metadata": {},
   "outputs": [],
   "source": [
    "def user_perc(x,y):\n",
    "    \n",
    "    if ( (str(x) == 'Male (%)')) | ((str(x) == 'Female (%)')): \n",
    "        \n",
    "        return 'Percentage'\n",
    "    else:\n",
    "        return y\n",
    "    \n",
    "tidy['Measure Type'] = tidy.apply(lambda row: user_perc(row['Sex'], row['Measure Type']), axis = 1)\n",
    "\n"
   ]
  },
  {
   "cell_type": "code",
   "execution_count": 223,
   "metadata": {},
   "outputs": [],
   "source": [
    "tidy['Sex'] = tidy['Sex'].map(\n",
    "    lambda x: {\n",
    "        'Female' : 'F', \n",
    "        'Male' : 'M',\n",
    "        'Persons' : 'T',\n",
    "        'Female  ' : 'F',\n",
    "        'Male (%)' : 'M',\n",
    "        'Female (%)': 'F'\n",
    "        }.get(x, x))"
   ]
  },
  {
   "cell_type": "code",
   "execution_count": 224,
   "metadata": {},
   "outputs": [],
   "source": [
    "tidy['Sex'] = tidy['Sex'].str.rstrip('(%)')"
   ]
  },
  {
   "cell_type": "code",
   "execution_count": 225,
   "metadata": {},
   "outputs": [
    {
     "data": {
      "text/plain": [
       "array(['all', 'Statutory', 'Non-statutory', 'Prison', 'Statutory (%)',\n",
       "       'Non-statutory (%)', 'Prison (%)', 'All'], dtype=object)"
      ]
     },
     "execution_count": 225,
     "metadata": {},
     "output_type": "execute_result"
    }
   ],
   "source": [
    "tidy['Service Type'].unique()"
   ]
  },
  {
   "cell_type": "code",
   "execution_count": 226,
   "metadata": {},
   "outputs": [],
   "source": [
    "tidy['Service Type'] = tidy['Service Type'].map(\n",
    "    lambda x: {\n",
    "        'Total' : 'all',\n",
    "        'total' : 'all'\n",
    "        }.get(x, x))"
   ]
  },
  {
   "cell_type": "code",
   "execution_count": 227,
   "metadata": {},
   "outputs": [],
   "source": [
    "tidy['Service Type'] = tidy['Service Type'].str.rstrip(' (%)')"
   ]
  },
  {
   "cell_type": "code",
   "execution_count": 228,
   "metadata": {},
   "outputs": [],
   "source": [
    "tidy['Service Type'] = tidy['Service Type'].str.lower()"
   ]
  },
  {
   "cell_type": "code",
   "execution_count": 229,
   "metadata": {},
   "outputs": [],
   "source": [
    "tidy['Residential Status'] = tidy['Residential Status'].str.rstrip(' (%)')"
   ]
  },
  {
   "cell_type": "code",
   "execution_count": 230,
   "metadata": {},
   "outputs": [],
   "source": [
    "tidy['Residential Status'] = tidy['Residential Status'].str.lower()"
   ]
  },
  {
   "cell_type": "code",
   "execution_count": 231,
   "metadata": {},
   "outputs": [],
   "source": [
    "tidy['Health and Social Care Trust'] = tidy['Health and Social Care Trust'].map(\n",
    "    lambda x: {\n",
    "        'total' : 'all' \n",
    "        }.get(x, x))"
   ]
  },
  {
   "cell_type": "code",
   "execution_count": 232,
   "metadata": {},
   "outputs": [],
   "source": [
    "tidy['Residential Status'] = tidy['Residential Status'].map(\n",
    "    lambda x: {\n",
    "        'total' : 'all' \n",
    "        }.get(x, x))"
   ]
  },
  {
   "cell_type": "code",
   "execution_count": 233,
   "metadata": {
    "scrolled": false
   },
   "outputs": [
    {
     "data": {
      "text/html": [
       "<div>\n",
       "<style scoped>\n",
       "    .dataframe tbody tr th:only-of-type {\n",
       "        vertical-align: middle;\n",
       "    }\n",
       "\n",
       "    .dataframe tbody tr th {\n",
       "        vertical-align: top;\n",
       "    }\n",
       "\n",
       "    .dataframe thead th {\n",
       "        text-align: right;\n",
       "    }\n",
       "</style>\n",
       "<table border=\"1\" class=\"dataframe\">\n",
       "  <thead>\n",
       "    <tr style=\"text-align: right;\">\n",
       "      <th></th>\n",
       "      <th>Period</th>\n",
       "      <th>Sex</th>\n",
       "      <th>Age</th>\n",
       "      <th>Service Type</th>\n",
       "      <th>Residential Status</th>\n",
       "      <th>Treatment Type</th>\n",
       "      <th>Health and Social Care Trust</th>\n",
       "      <th>Measure Type</th>\n",
       "      <th>Unit</th>\n",
       "      <th>Value</th>\n",
       "    </tr>\n",
       "  </thead>\n",
       "  <tbody>\n",
       "    <tr>\n",
       "      <th>0</th>\n",
       "      <td>day/2017-03-01</td>\n",
       "      <td>T</td>\n",
       "      <td>under-18</td>\n",
       "      <td>all</td>\n",
       "      <td>all</td>\n",
       "      <td>Alcohol Only</td>\n",
       "      <td>all</td>\n",
       "      <td>Count</td>\n",
       "      <td>People</td>\n",
       "      <td>95</td>\n",
       "    </tr>\n",
       "    <tr>\n",
       "      <th>1</th>\n",
       "      <td>day/2017-03-01</td>\n",
       "      <td>T</td>\n",
       "      <td>under-18</td>\n",
       "      <td>all</td>\n",
       "      <td>all</td>\n",
       "      <td>Drugs Only</td>\n",
       "      <td>all</td>\n",
       "      <td>Count</td>\n",
       "      <td>People</td>\n",
       "      <td>324</td>\n",
       "    </tr>\n",
       "    <tr>\n",
       "      <th>2</th>\n",
       "      <td>day/2017-03-01</td>\n",
       "      <td>T</td>\n",
       "      <td>under-18</td>\n",
       "      <td>all</td>\n",
       "      <td>all</td>\n",
       "      <td>Drugs &amp; Alcohol</td>\n",
       "      <td>all</td>\n",
       "      <td>Count</td>\n",
       "      <td>People</td>\n",
       "      <td>294</td>\n",
       "    </tr>\n",
       "    <tr>\n",
       "      <th>3</th>\n",
       "      <td>day/2017-03-01</td>\n",
       "      <td>T</td>\n",
       "      <td>under-18</td>\n",
       "      <td>all</td>\n",
       "      <td>all</td>\n",
       "      <td>Total</td>\n",
       "      <td>all</td>\n",
       "      <td>Count</td>\n",
       "      <td>People</td>\n",
       "      <td>713</td>\n",
       "    </tr>\n",
       "    <tr>\n",
       "      <th>4</th>\n",
       "      <td>day/2017-03-01</td>\n",
       "      <td>T</td>\n",
       "      <td>18-plus</td>\n",
       "      <td>all</td>\n",
       "      <td>all</td>\n",
       "      <td>Alcohol Only</td>\n",
       "      <td>all</td>\n",
       "      <td>Count</td>\n",
       "      <td>People</td>\n",
       "      <td>2482</td>\n",
       "    </tr>\n",
       "  </tbody>\n",
       "</table>\n",
       "</div>"
      ],
      "text/plain": [
       "           Period Sex       Age Service Type Residential Status  \\\n",
       "0  day/2017-03-01   T  under-18          all                all   \n",
       "1  day/2017-03-01   T  under-18          all                all   \n",
       "2  day/2017-03-01   T  under-18          all                all   \n",
       "3  day/2017-03-01   T  under-18          all                all   \n",
       "4  day/2017-03-01   T   18-plus          all                all   \n",
       "\n",
       "    Treatment Type Health and Social Care Trust Measure Type    Unit Value  \n",
       "0     Alcohol Only                          all        Count  People    95  \n",
       "1       Drugs Only                          all        Count  People   324  \n",
       "2  Drugs & Alcohol                          all        Count  People   294  \n",
       "3            Total                          all        Count  People   713  \n",
       "4     Alcohol Only                          all        Count  People  2482  "
      ]
     },
     "execution_count": 233,
     "metadata": {},
     "output_type": "execute_result"
    }
   ],
   "source": [
    "tidy.head()"
   ]
  },
  {
   "cell_type": "code",
   "execution_count": 236,
   "metadata": {},
   "outputs": [
    {
     "data": {
      "text/plain": [
       "array(['Alcohol Only', 'Drugs Only', 'Drugs & Alcohol', 'Total',\n",
       "       'Under 18s', '18 and over'], dtype=object)"
      ]
     },
     "execution_count": 236,
     "metadata": {},
     "output_type": "execute_result"
    }
   ],
   "source": [
    "from pathlib import Path\n",
    "out = Path('out')\n",
    "out.mkdir(exist_ok=True)\n",
    "tidy.to_csv(out / 'observations.csv', index = False)\n",
    "\\tidy.to_csv('testCompare.csv', index = False)\n",
    "tidy['Treatment Type'].unique()"
   ]
  },
  {
   "cell_type": "code",
   "execution_count": 235,
   "metadata": {},
   "outputs": [],
   "source": [
    "tidy[tidy['Measure Type'] != 'Percentage'].to_csv(out / 'observations-no-percentages.csv', index=False)"
   ]
  },
  {
   "cell_type": "markdown",
   "metadata": {},
   "source": [
    "There's a metadata tab in the spreadsheet with abstract and contact details. **Todo: extract these and also figure out what the license should really be.**"
   ]
  },
  {
   "cell_type": "code",
   "execution_count": 46,
   "metadata": {},
   "outputs": [
    {
     "data": {
      "text/html": [
       "<div id=\"injblock1001\">\n",
       "<style>\n",
       "table.ex, table.exkey { border: thin black solid }\n",
       "table.ex td, table.ex tr { border: none }\n",
       "table.ex td:hover { border: thin blue solid }\n",
       "table.ex td.excOBS:hover { border: thin red solid }\n",
       "table.ex td.selected { border: thick red solid }\n",
       "</style>\n",
       "\n",
       "\n",
       "<table class=\"exkey\">\n",
       "<tr><td class=\"xc0\" style=\"background-color:Aqua\">OBS</td><td class=\"xc1\" style=\"background-color:LightGreen\">Property</td><td class=\"xc2\" style=\"background-color:MistyRose\">Heading</td></tr></table>\n",
       "\n",
       "<table class=\"ex\">\n",
       "<caption style=\"text-align:center; padding:0px; caption-side:bottom\">Metadata</caption>\n",
       "<tr><td title=\"0 0\">Metadata</td><td title=\"1 0\"></td></tr>\n",
       "<tr><td title=\"0 1\"></td><td title=\"1 1\"></td></tr>\n",
       "<tr><td style=\"background-color:MistyRose\" title=\"0 2\">Identification</td><td title=\"1 2\"></td></tr>\n",
       "<tr><td style=\"background-color:LightGreen\" title=\"0 3\">Dataset Title</td><td style=\"background-color:Aqua\" title=\"1 3\">Census of Drug and Alcohol Treatment Services in Northern Ireland: 1 March 2017 (Tables)</td></tr>\n",
       "<tr><td style=\"background-color:LightGreen\" title=\"0 4\">Abstract</td><td style=\"background-color:Aqua\" title=\"1 4\">This bulletin summarises the number of people in treatment for problem drug and/or alcohol misuse and relates to a snapshot of those in treatment on 1 March 2017. </td></tr>\n",
       "<tr><td style=\"background-color:LightGreen\" title=\"0 5\">Year of Data</td><td style=\"background-color:Aqua\" title=\"1 5\">1 March 2017 (with 2007, 2010, 2012 and 2014 comparisons)</td></tr>\n",
       "<tr><td style=\"background-color:LightGreen\" title=\"0 6\">Reporting period</td><td style=\"background-color:Aqua\" title=\"1 6\">Snapshot</td></tr>\n",
       "<tr><td title=\"0 7\"></td><td title=\"1 7\"></td></tr>\n",
       "<tr><td style=\"background-color:MistyRose\" title=\"0 8\">Classification</td><td title=\"1 8\"></td></tr>\n",
       "<tr><td style=\"background-color:LightGreen\" title=\"0 9\">National Statistics Theme</td><td style=\"background-color:Aqua\" title=\"1 9\">Health and Social Care</td></tr>\n",
       "<tr><td style=\"background-color:LightGreen\" title=\"0 10\">Keyword</td><td style=\"background-color:Aqua\" title=\"1 10\">Drug Alcohol Misuse Treatment</td></tr>\n",
       "<tr><td title=\"0 11\"></td><td title=\"1 11\"></td></tr>\n",
       "<tr><td style=\"background-color:MistyRose\" title=\"0 12\">Quality  and Validity</td><td title=\"1 12\"></td></tr>\n",
       "<tr><td style=\"background-color:LightGreen\" title=\"0 13\">National Statistics Data</td><td style=\"background-color:Aqua\" title=\"1 13\">No</td></tr>\n",
       "<tr><td style=\"background-color:LightGreen\" title=\"0 14\">Disclosure Control Methods</td><td style=\"background-color:Aqua\" title=\"1 14\">All data with cell sizes less than 3 has been masked to avoid the disclosure of any personal information.</td></tr>\n",
       "<tr><td style=\"background-color:LightGreen\" title=\"0 15\">Quality Issues</td><td style=\"background-color:Aqua\" title=\"1 15\">These figures only relate to those in treatment for drug and/or alcohol misuse from specialist services across Northern Ireland on a representative day. </td></tr>\n",
       "<tr><td title=\"0 16\"></td><td title=\"1 16\"></td></tr>\n",
       "<tr><td style=\"background-color:MistyRose\" title=\"0 17\">Organisation</td><td title=\"1 17\"></td></tr>\n",
       "<tr><td style=\"background-color:LightGreen\" title=\"0 18\">Organisation Name</td><td style=\"background-color:Aqua\" title=\"1 18\">Department of Health, Public Health Information & Research Branch</td></tr>\n",
       "<tr><td style=\"background-color:LightGreen\" title=\"0 19\">Email Address</td><td style=\"background-color:Aqua\" title=\"1 19\">PHIRB@health-ni.gov.uk</td></tr>\n",
       "<tr><td style=\"background-color:LightGreen\" title=\"0 20\">Responsible Party Role</td><td style=\"background-color:Aqua\" title=\"1 20\">Resource Provider</td></tr>\n",
       "<tr><td style=\"background-color:LightGreen\" title=\"0 21\">Telephone Number</td><td style=\"background-color:Aqua\" title=\"1 21\">028 9052 2523</td></tr>\n",
       "<tr><td title=\"0 22\"></td><td title=\"1 22\"></td></tr>\n",
       "<tr><td style=\"background-color:MistyRose\" title=\"0 23\">Constraints</td><td title=\"1 23\"></td></tr>\n",
       "<tr><td style=\"background-color:LightGreen\" title=\"0 24\">Limitations on Public Access</td><td style=\"background-color:Aqua\" title=\"1 24\">No restriction on public access</td></tr>\n",
       "<tr><td style=\"background-color:LightGreen\" title=\"0 25\">Use Constraints</td><td style=\"background-color:Aqua\" title=\"1 25\">No conditions apply</td></tr>\n",
       "</table>\n",
       "\n",
       "</div>\n",
       "\n",
       "<script>\n",
       "var jslookup = {\"1 25\":[0,25,0,23],\"1 9\":[0,9,0,8],\"1 20\":[0,20,0,17],\"1 24\":[0,24,0,23],\"1 6\":[0,6,0,2],\"1 14\":[0,14,0,12],\"1 3\":[0,3,0,2],\"1 18\":[0,18,0,17],\"1 19\":[0,19,0,17],\"1 13\":[0,13,0,12],\"1 4\":[0,4,0,2],\"1 15\":[0,15,0,12],\"1 10\":[0,10,0,8],\"1 5\":[0,5,0,2],\"1 21\":[0,21,0,17]}; \n",
       "var jdividNUM = \"injblock1001\"; \n",
       "var Dclickedcell = null; \n",
       "function clickedcell() \n",
       "{ \n",
       "    Dclickedcell = this; \n",
       "    console.log(\"jjjj\", this); \n",
       "    var rgc = new RegExp('(^|\\b)' + \"selected\".split(' ').join('|') + '(\\b|$)', 'gi'); \n",
       "    Array.prototype.forEach.call(document.querySelectorAll(\"div#\"+jdividNUM+\" table.ex td.selected\"), function(el, i) { \n",
       "        if (el.classList)  el.classList.remove(\"selected\");\n",
       "        else  el.className = el.className.replace(rgc, ' ');\n",
       "    }); \n",
       "    if (this.classList)  this.classList.add(\"selected\");\n",
       "    else this.className += ' ' + \"selected\";\n",
       "\n",
       "    var dimpairs = jslookup[this.title]; \n",
       "    if (dimpairs !== undefined) {\n",
       "        for (var i = 1; i < dimpairs.length; i += 2) {\n",
       "            var row = document.querySelectorAll(\"div#\"+jdividNUM+\" table.ex tr\")[dimpairs[i]]; \n",
       "            var el = row.querySelectorAll(\"td\")[dimpairs[i-1]]; \n",
       "            if (el.classList)  el.classList.add(\"selected\");\n",
       "            else el.className += ' ' + \"selected\";\n",
       "        }\n",
       "    }\n",
       "}\n",
       "Array.prototype.forEach.call(document.querySelectorAll(\"div#\"+jdividNUM+\" table.ex td\"), function(item, i) { item.onclick=clickedcell; }); \n",
       "</script>\n"
      ],
      "text/plain": [
       "<IPython.core.display.HTML object>"
      ]
     },
     "metadata": {},
     "output_type": "display_data"
    }
   ],
   "source": [
    "md_tab = tabs['Metadata']\n",
    "md_heading = md_tab.filter('Metadata')\n",
    "md_heading.assert_one()\n",
    "properties = md_heading.fill(DOWN).is_not_whitespace()\n",
    "values = properties.fill(RIGHT).is_not_whitespace()\n",
    "headings = properties - values.fill(LEFT)\n",
    "properties = properties - headings\n",
    "cs = ConversionSegment(values, [\n",
    "    HDim(properties, \"Property\", DIRECTLY, LEFT),\n",
    "    HDim(headings, \"Heading\", CLOSEST, UP)\n",
    "], includecellxy=True)\n",
    "savepreviewhtml(cs)"
   ]
  },
  {
   "cell_type": "code",
   "execution_count": 47,
   "metadata": {},
   "outputs": [
    {
     "name": "stdout",
     "output_type": "stream",
     "text": [
      "\n"
     ]
    }
   ],
   "source": [
    "from gssutils.metadata import THEME\n",
    "\n",
    "for i, row in cs.topandas().iterrows():\n",
    "    v = md_tab.get_at(row.__x, row.__y).value.strip()\n",
    "    if row.Property == 'Abstract':\n",
    "        scraper.dataset.description = v\n",
    "    elif row.Property == 'National Statistics Theme':\n",
    "        scraper.dataset.theme = THEME[pathify(v)]\n",
    "    elif row.Property == 'Keyword':\n",
    "        scraper.dataset.keyword = map(lambda x: x.strip(), v.split(' '))\n",
    "    elif row.Property == 'Email Address':\n",
    "        scraper.dataset.contactEmail = f'mailto:{v}'"
   ]
  },
  {
   "cell_type": "code",
   "execution_count": 48,
   "metadata": {},
   "outputs": [],
   "source": [
    "scraper.dataset.family = 'health'\n",
    "scraper.dataset.license = 'http://www.nationalarchives.gov.uk/doc/open-government-licence/version/3/'\n",
    "\n",
    "with open(out / 'dataset.trig', 'wb') as metadata:\n",
    "    metadata.write(scraper.generate_trig())"
   ]
  },
  {
   "cell_type": "code",
   "execution_count": 49,
   "metadata": {},
   "outputs": [],
   "source": [
    "tidy.to_csv('testCompare.csv', index = False)"
   ]
  }
 ],
 "metadata": {
  "kernelspec": {
   "display_name": "Python 3",
   "language": "python",
   "name": "python3"
  },
  "language_info": {
   "codemirror_mode": {
    "name": "ipython",
    "version": 3
   },
   "file_extension": ".py",
   "mimetype": "text/x-python",
   "name": "python",
   "nbconvert_exporter": "python",
   "pygments_lexer": "ipython3",
   "version": "3.7.3"
  }
 },
 "nbformat": 4,
 "nbformat_minor": 2
}
